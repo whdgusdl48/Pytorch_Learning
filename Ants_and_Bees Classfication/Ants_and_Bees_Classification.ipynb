{
  "nbformat": 4,
  "nbformat_minor": 0,
  "metadata": {
    "colab": {
      "name": "Ants and Bees Classification",
      "provenance": []
    },
    "kernelspec": {
      "name": "python3",
      "display_name": "Python 3"
    },
    "accelerator": "GPU"
  },
  "cells": [
    {
      "cell_type": "code",
      "metadata": {
        "id": "Vfk_plW3onaN",
        "colab_type": "code",
        "colab": {}
      },
      "source": [
        "import torch\n",
        "from torch.autograd import Variable\n",
        "import torch.nn as nn\n",
        "import torch.nn.functional as F\n",
        "import torch.optim as optim\n",
        "from torch.utils.data import DataLoader, TensorDataset"
      ],
      "execution_count": 1,
      "outputs": []
    },
    {
      "cell_type": "code",
      "metadata": {
        "id": "4LY-_b4aq3qH",
        "colab_type": "code",
        "colab": {}
      },
      "source": [
        "import os\n",
        "\n",
        "from PIL import Image\n",
        "\n",
        "import numpy as np\n",
        "\n",
        "import pandas as pd\n",
        "\n",
        "from sklearn import datasets, model_selection"
      ],
      "execution_count": 21,
      "outputs": []
    },
    {
      "cell_type": "code",
      "metadata": {
        "id": "5jXHbFEdrCaW",
        "colab_type": "code",
        "colab": {}
      },
      "source": [
        "dirs = ['ants','bees']\n",
        "\n",
        "data = []\n",
        "label = []\n",
        "\n",
        "for i, d in enumerate(dirs):\n",
        "  files = os.listdir('./drive/My Drive/hymenoptera_data/train/' + d)\n",
        "\n",
        "  for f in files:\n",
        "    img = Image.open('./drive/My Drive/hymenoptera_data/train/' + d + '/' + f, 'r')\n",
        "\n",
        "    resize_img = img.resize((128, 128))\n",
        "    if resize_img.mode == \"RGB\":\n",
        "      r,g,b = resize_img.split()\n",
        "    else:\n",
        "      continue\n",
        "    r_resize_img = np.asarray(np.float32(r)/255.0)\n",
        "    g_resize_img = np.asarray(np.float32(g)/255.0)\n",
        "    b_resize_img = np.asarray(np.float32(b)/255.0)\n",
        "\n",
        "    rgb_resize_img = np.asarray([r_resize_img,g_resize_img,b_resize_img])\n",
        "\n",
        "    data.append(rgb_resize_img)\n",
        "\n",
        "\n",
        "    label.append(i)"
      ],
      "execution_count": 22,
      "outputs": []
    },
    {
      "cell_type": "code",
      "metadata": {
        "id": "1Sefv90PuBl9",
        "colab_type": "code",
        "colab": {
          "base_uri": "https://localhost:8080/",
          "height": 35
        },
        "outputId": "6b993ad9-1765-4d85-cdbd-3e9a1f479dcd"
      },
      "source": [
        "data = np.array(data, dtype='float32')\n",
        "label = np.array(label, dtype='int64')\n",
        "\n",
        "data.shape"
      ],
      "execution_count": 23,
      "outputs": [
        {
          "output_type": "execute_result",
          "data": {
            "text/plain": [
              "(244, 3, 128, 128)"
            ]
          },
          "metadata": {
            "tags": []
          },
          "execution_count": 23
        }
      ]
    },
    {
      "cell_type": "code",
      "metadata": {
        "id": "Pp1v9WB5u3cv",
        "colab_type": "code",
        "colab": {
          "base_uri": "https://localhost:8080/",
          "height": 53
        },
        "outputId": "6f13bd69-8624-4b4c-de34-4a5494420ade"
      },
      "source": [
        "train_x, test_x, train_y, test_y = model_selection.train_test_split(data, label, test_size = 0.1)\n",
        "\n",
        "print(len(train_x))\n",
        "print(len(test_x))"
      ],
      "execution_count": 26,
      "outputs": [
        {
          "output_type": "stream",
          "text": [
            "219\n",
            "25\n"
          ],
          "name": "stdout"
        }
      ]
    },
    {
      "cell_type": "code",
      "metadata": {
        "id": "kCYBkmAdvLDG",
        "colab_type": "code",
        "colab": {
          "base_uri": "https://localhost:8080/",
          "height": 53
        },
        "outputId": "229f7271-4749-424c-8ac5-192c03e3a734"
      },
      "source": [
        "train_x = torch.from_numpy(train_x).float()\n",
        "train_y = torch.from_numpy(train_y).long()\n",
        "\n",
        "print(train_x.shape)\n",
        "print(train_y.shape)"
      ],
      "execution_count": 27,
      "outputs": [
        {
          "output_type": "stream",
          "text": [
            "torch.Size([219, 3, 128, 128])\n",
            "torch.Size([219])\n"
          ],
          "name": "stdout"
        }
      ]
    },
    {
      "cell_type": "code",
      "metadata": {
        "id": "P_2kN6Xtv1ml",
        "colab_type": "code",
        "colab": {
          "base_uri": "https://localhost:8080/",
          "height": 431
        },
        "outputId": "b0ae445e-22aa-47f3-dbd8-3ac9b3642808"
      },
      "source": [
        "train = TensorDataset(train_x, train_y)\n",
        "\n",
        "print(train[0])\n",
        "\n",
        "train_loader = DataLoader(train, batch_size=32, shuffle=True)"
      ],
      "execution_count": 28,
      "outputs": [
        {
          "output_type": "stream",
          "text": [
            "(tensor([[[0.1608, 0.1608, 0.1608,  ..., 0.0706, 0.0745, 0.0706],\n",
            "         [0.1529, 0.1529, 0.1529,  ..., 0.0706, 0.0784, 0.0706],\n",
            "         [0.1412, 0.1451, 0.1451,  ..., 0.0745, 0.0824, 0.0745],\n",
            "         ...,\n",
            "         [0.7373, 0.7922, 0.8157,  ..., 0.5843, 0.6392, 0.6510],\n",
            "         [0.7451, 0.6784, 0.7059,  ..., 0.6275, 0.6549, 0.6588],\n",
            "         [0.5725, 0.5529, 0.5961,  ..., 0.6471, 0.6745, 0.7020]],\n",
            "\n",
            "        [[0.1804, 0.1725, 0.1725,  ..., 0.0824, 0.0824, 0.0824],\n",
            "         [0.1686, 0.1647, 0.1647,  ..., 0.0824, 0.0863, 0.0824],\n",
            "         [0.1529, 0.1529, 0.1569,  ..., 0.0902, 0.0902, 0.0863],\n",
            "         ...,\n",
            "         [0.7725, 0.8275, 0.8431,  ..., 0.6039, 0.6510, 0.6706],\n",
            "         [0.7922, 0.6902, 0.7255,  ..., 0.6471, 0.6706, 0.6706],\n",
            "         [0.5686, 0.5255, 0.5922,  ..., 0.6667, 0.6784, 0.7020]],\n",
            "\n",
            "        [[0.5569, 0.5647, 0.5765,  ..., 0.1765, 0.1725, 0.1725],\n",
            "         [0.5412, 0.5490, 0.5490,  ..., 0.1843, 0.1765, 0.1804],\n",
            "         [0.5098, 0.5216, 0.5255,  ..., 0.1882, 0.1882, 0.1961],\n",
            "         ...,\n",
            "         [0.5373, 0.4863, 0.3608,  ..., 0.2549, 0.2863, 0.2784],\n",
            "         [0.5059, 0.2392, 0.1569,  ..., 0.2863, 0.2667, 0.2588],\n",
            "         [0.0471, 0.0039, 0.0275,  ..., 0.2353, 0.2353, 0.2706]]]), tensor(1))\n"
          ],
          "name": "stdout"
        }
      ]
    },
    {
      "cell_type": "code",
      "metadata": {
        "id": "VuDOTdmYwMOb",
        "colab_type": "code",
        "colab": {}
      },
      "source": [
        "class Net(nn.Module):\n",
        "  def __init__(self):\n",
        "    super(Net, self).__init__()\n",
        "    self.conv1 = nn.Conv2d(3,10,5)\n",
        "    self.conv2 = nn.Conv2d(10,15,5)\n",
        "\n",
        "    self.fc1 = nn.Linear(15*29*29,50)\n",
        "    self.fc2 = nn.Linear(50,2)\n",
        "\n",
        "  def forward(self, x):\n",
        "    x = F.max_pool2d(F.relu(self.conv1(x)),2)\n",
        "    x = F.max_pool2d(F.relu(self.conv2(x)),2)\n",
        "    x = x.view(-1,15*29*29)\n",
        "    x = F.relu(self.fc1(x))\n",
        "    x = self.fc2(x)\n",
        "    return F.log_softmax(x)\n",
        "\n",
        "\n",
        "model = Net()"
      ],
      "execution_count": 52,
      "outputs": []
    },
    {
      "cell_type": "code",
      "metadata": {
        "id": "c0kB8EHyxiWY",
        "colab_type": "code",
        "colab": {
          "base_uri": "https://localhost:8080/",
          "height": 233
        },
        "outputId": "ad8ce3ff-5de3-4482-ad60-b2652dc7ab0b"
      },
      "source": [
        "criterion = nn.CrossEntropyLoss()\n",
        "\n",
        "optimizer = optim.Adam(model.parameters(),lr = 0.001)\n",
        "\n",
        "for epoch in range(300):\n",
        "  total_loss = 0\n",
        "\n",
        "  for train_x, train_y in train_loader:\n",
        "    train_x, train_y = Variable(train_x), Variable(train_y)\n",
        "\n",
        "    optimizer.zero_grad()\n",
        "\n",
        "    output = model(train_x)\n",
        "\n",
        "    loss = criterion(output, train_y)\n",
        "\n",
        "    loss.backward()\n",
        "\n",
        "    optimizer.step()\n",
        "  if (epoch + 1) % 30 == 0:\n",
        "    print(epoch +1, loss)"
      ],
      "execution_count": 53,
      "outputs": [
        {
          "output_type": "stream",
          "text": [
            "/usr/local/lib/python3.6/dist-packages/ipykernel_launcher.py:16: UserWarning: Implicit dimension choice for log_softmax has been deprecated. Change the call to include dim=X as an argument.\n",
            "  app.launch_new_instance()\n"
          ],
          "name": "stderr"
        },
        {
          "output_type": "stream",
          "text": [
            "30 tensor(0.0018, grad_fn=<NllLossBackward>)\n",
            "60 tensor(0.0004, grad_fn=<NllLossBackward>)\n",
            "90 tensor(0.0002, grad_fn=<NllLossBackward>)\n",
            "120 tensor(3.6154e-05, grad_fn=<NllLossBackward>)\n",
            "150 tensor(4.6404e-05, grad_fn=<NllLossBackward>)\n",
            "180 tensor(2.3258e-05, grad_fn=<NllLossBackward>)\n",
            "210 tensor(1.8689e-05, grad_fn=<NllLossBackward>)\n",
            "240 tensor(2.5779e-05, grad_fn=<NllLossBackward>)\n",
            "270 tensor(1.7139e-05, grad_fn=<NllLossBackward>)\n",
            "300 tensor(1.0932e-05, grad_fn=<NllLossBackward>)\n"
          ],
          "name": "stdout"
        }
      ]
    },
    {
      "cell_type": "code",
      "metadata": {
        "id": "ikd8XSoZzchw",
        "colab_type": "code",
        "colab": {
          "base_uri": "https://localhost:8080/",
          "height": 53
        },
        "outputId": "6ee0f32c-0e97-4edc-a2e0-5f6273cb6944"
      },
      "source": [
        "test_x = np.array(test_x, dtype='float32')\n",
        "test_y = np.array(test_y, dtype='int64')\n",
        "\n",
        "test_x = torch.from_numpy(test_x).float()\n",
        "test_y = torch.from_numpy(test_y).long()\n",
        "\n",
        "print(test_x.shape)\n",
        "print(test_y.shape)"
      ],
      "execution_count": 54,
      "outputs": [
        {
          "output_type": "stream",
          "text": [
            "torch.Size([25, 3, 128, 128])\n",
            "torch.Size([25])\n"
          ],
          "name": "stdout"
        }
      ]
    },
    {
      "cell_type": "code",
      "metadata": {
        "id": "zkEHfrzCz8w_",
        "colab_type": "code",
        "colab": {
          "base_uri": "https://localhost:8080/",
          "height": 71
        },
        "outputId": "518bab8e-3e19-4974-a37c-fe4c25560c46"
      },
      "source": [
        "test_x, test_y = Variable(test_x),Variable(test_y)\n",
        "\n",
        "result = torch.max(model(test_x).data, 1)[1]\n",
        "\n",
        "accuracy = sum(test_y.data.numpy() == result.numpy()) / len(test_y.data.numpy())\n",
        "\n",
        "accuracy"
      ],
      "execution_count": 55,
      "outputs": [
        {
          "output_type": "stream",
          "text": [
            "/usr/local/lib/python3.6/dist-packages/ipykernel_launcher.py:16: UserWarning: Implicit dimension choice for log_softmax has been deprecated. Change the call to include dim=X as an argument.\n",
            "  app.launch_new_instance()\n"
          ],
          "name": "stderr"
        },
        {
          "output_type": "execute_result",
          "data": {
            "text/plain": [
              "0.76"
            ]
          },
          "metadata": {
            "tags": []
          },
          "execution_count": 55
        }
      ]
    }
  ]
}