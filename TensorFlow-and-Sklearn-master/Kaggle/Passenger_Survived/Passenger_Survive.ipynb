{
  "nbformat": 4,
  "nbformat_minor": 0,
  "metadata": {
    "colab": {
      "name": "Passenger_Survive",
      "provenance": []
    },
    "kernelspec": {
      "name": "python3",
      "display_name": "Python 3"
    }
  },
  "cells": [
    {
      "cell_type": "code",
      "metadata": {
        "id": "sVas_nUjO2Ez",
        "colab_type": "code",
        "colab": {}
      },
      "source": [
        "import pandas as pd\n",
        "import numpy as np\n",
        "import matplotlib.pyplot as plt\n"
      ],
      "execution_count": 3,
      "outputs": []
    },
    {
      "cell_type": "code",
      "metadata": {
        "id": "dfdevemXPMbF",
        "colab_type": "code",
        "colab": {
          "base_uri": "https://localhost:8080/",
          "height": 419
        },
        "outputId": "9a8498c1-ecd4-4d29-fdb9-d2c700f34c03"
      },
      "source": [
        "data = pd.read_csv('passenger.csv')\n",
        "data"
      ],
      "execution_count": 75,
      "outputs": [
        {
          "output_type": "execute_result",
          "data": {
            "text/html": [
              "<div>\n",
              "<style scoped>\n",
              "    .dataframe tbody tr th:only-of-type {\n",
              "        vertical-align: middle;\n",
              "    }\n",
              "\n",
              "    .dataframe tbody tr th {\n",
              "        vertical-align: top;\n",
              "    }\n",
              "\n",
              "    .dataframe thead th {\n",
              "        text-align: right;\n",
              "    }\n",
              "</style>\n",
              "<table border=\"1\" class=\"dataframe\">\n",
              "  <thead>\n",
              "    <tr style=\"text-align: right;\">\n",
              "      <th></th>\n",
              "      <th>PassengerId</th>\n",
              "      <th>Country</th>\n",
              "      <th>Firstname</th>\n",
              "      <th>Lastname</th>\n",
              "      <th>Sex</th>\n",
              "      <th>Age</th>\n",
              "      <th>Category</th>\n",
              "      <th>Survived</th>\n",
              "    </tr>\n",
              "  </thead>\n",
              "  <tbody>\n",
              "    <tr>\n",
              "      <th>0</th>\n",
              "      <td>1</td>\n",
              "      <td>Sweden</td>\n",
              "      <td>ARVID KALLE</td>\n",
              "      <td>AADLI</td>\n",
              "      <td>M</td>\n",
              "      <td>62</td>\n",
              "      <td>P</td>\n",
              "      <td>0</td>\n",
              "    </tr>\n",
              "    <tr>\n",
              "      <th>1</th>\n",
              "      <td>2</td>\n",
              "      <td>Estonia</td>\n",
              "      <td>LEA</td>\n",
              "      <td>AALISTE</td>\n",
              "      <td>F</td>\n",
              "      <td>22</td>\n",
              "      <td>C</td>\n",
              "      <td>0</td>\n",
              "    </tr>\n",
              "    <tr>\n",
              "      <th>2</th>\n",
              "      <td>3</td>\n",
              "      <td>Estonia</td>\n",
              "      <td>AIRI</td>\n",
              "      <td>AAVASTE</td>\n",
              "      <td>F</td>\n",
              "      <td>21</td>\n",
              "      <td>C</td>\n",
              "      <td>0</td>\n",
              "    </tr>\n",
              "    <tr>\n",
              "      <th>3</th>\n",
              "      <td>4</td>\n",
              "      <td>Sweden</td>\n",
              "      <td>JURI</td>\n",
              "      <td>AAVIK</td>\n",
              "      <td>M</td>\n",
              "      <td>53</td>\n",
              "      <td>C</td>\n",
              "      <td>0</td>\n",
              "    </tr>\n",
              "    <tr>\n",
              "      <th>4</th>\n",
              "      <td>5</td>\n",
              "      <td>Sweden</td>\n",
              "      <td>BRITTA ELISABET</td>\n",
              "      <td>AHLSTROM</td>\n",
              "      <td>F</td>\n",
              "      <td>55</td>\n",
              "      <td>P</td>\n",
              "      <td>0</td>\n",
              "    </tr>\n",
              "    <tr>\n",
              "      <th>...</th>\n",
              "      <td>...</td>\n",
              "      <td>...</td>\n",
              "      <td>...</td>\n",
              "      <td>...</td>\n",
              "      <td>...</td>\n",
              "      <td>...</td>\n",
              "      <td>...</td>\n",
              "      <td>...</td>\n",
              "    </tr>\n",
              "    <tr>\n",
              "      <th>984</th>\n",
              "      <td>985</td>\n",
              "      <td>Sweden</td>\n",
              "      <td>ANNA INGRID BIRGITTA</td>\n",
              "      <td>OSTROM</td>\n",
              "      <td>F</td>\n",
              "      <td>60</td>\n",
              "      <td>P</td>\n",
              "      <td>0</td>\n",
              "    </tr>\n",
              "    <tr>\n",
              "      <th>985</th>\n",
              "      <td>986</td>\n",
              "      <td>Sweden</td>\n",
              "      <td>ELMAR MIKAEL</td>\n",
              "      <td>OUN</td>\n",
              "      <td>M</td>\n",
              "      <td>34</td>\n",
              "      <td>P</td>\n",
              "      <td>1</td>\n",
              "    </tr>\n",
              "    <tr>\n",
              "      <th>986</th>\n",
              "      <td>987</td>\n",
              "      <td>Sweden</td>\n",
              "      <td>ENN</td>\n",
              "      <td>QUNAPUU</td>\n",
              "      <td>M</td>\n",
              "      <td>77</td>\n",
              "      <td>P</td>\n",
              "      <td>0</td>\n",
              "    </tr>\n",
              "    <tr>\n",
              "      <th>987</th>\n",
              "      <td>988</td>\n",
              "      <td>Sweden</td>\n",
              "      <td>LY</td>\n",
              "      <td>GUNAPUU</td>\n",
              "      <td>F</td>\n",
              "      <td>87</td>\n",
              "      <td>P</td>\n",
              "      <td>0</td>\n",
              "    </tr>\n",
              "    <tr>\n",
              "      <th>988</th>\n",
              "      <td>989</td>\n",
              "      <td>Sweden</td>\n",
              "      <td>CARL</td>\n",
              "      <td>OVBERG</td>\n",
              "      <td>M</td>\n",
              "      <td>42</td>\n",
              "      <td>P</td>\n",
              "      <td>1</td>\n",
              "    </tr>\n",
              "  </tbody>\n",
              "</table>\n",
              "<p>989 rows × 8 columns</p>\n",
              "</div>"
            ],
            "text/plain": [
              "     PassengerId  Country             Firstname  ... Age Category  Survived\n",
              "0              1   Sweden           ARVID KALLE  ...  62        P         0\n",
              "1              2  Estonia                   LEA  ...  22        C         0\n",
              "2              3  Estonia                  AIRI  ...  21        C         0\n",
              "3              4   Sweden                  JURI  ...  53        C         0\n",
              "4              5   Sweden       BRITTA ELISABET  ...  55        P         0\n",
              "..           ...      ...                   ...  ...  ..      ...       ...\n",
              "984          985   Sweden  ANNA INGRID BIRGITTA  ...  60        P         0\n",
              "985          986   Sweden          ELMAR MIKAEL  ...  34        P         1\n",
              "986          987   Sweden                   ENN  ...  77        P         0\n",
              "987          988   Sweden                    LY  ...  87        P         0\n",
              "988          989   Sweden                  CARL  ...  42        P         1\n",
              "\n",
              "[989 rows x 8 columns]"
            ]
          },
          "metadata": {
            "tags": []
          },
          "execution_count": 75
        }
      ]
    },
    {
      "cell_type": "code",
      "metadata": {
        "id": "4bd3-0E_Pdtc",
        "colab_type": "code",
        "colab": {
          "base_uri": "https://localhost:8080/",
          "height": 287
        },
        "outputId": "8a701427-6a4d-472c-e841-6bde9d15e6cc"
      },
      "source": [
        "data.info()"
      ],
      "execution_count": 76,
      "outputs": [
        {
          "output_type": "stream",
          "text": [
            "<class 'pandas.core.frame.DataFrame'>\n",
            "RangeIndex: 989 entries, 0 to 988\n",
            "Data columns (total 8 columns):\n",
            " #   Column       Non-Null Count  Dtype \n",
            "---  ------       --------------  ----- \n",
            " 0   PassengerId  989 non-null    int64 \n",
            " 1   Country      989 non-null    object\n",
            " 2   Firstname    989 non-null    object\n",
            " 3   Lastname     989 non-null    object\n",
            " 4   Sex          989 non-null    object\n",
            " 5   Age          989 non-null    int64 \n",
            " 6   Category     989 non-null    object\n",
            " 7   Survived     989 non-null    int64 \n",
            "dtypes: int64(3), object(5)\n",
            "memory usage: 61.9+ KB\n"
          ],
          "name": "stdout"
        }
      ]
    },
    {
      "cell_type": "code",
      "metadata": {
        "id": "aVKX6hqLPqad",
        "colab_type": "code",
        "colab": {
          "base_uri": "https://localhost:8080/",
          "height": 323
        },
        "outputId": "efc2916a-0def-43c6-8b67-a6afae8e6b49"
      },
      "source": [
        "data['Country'].value_counts()"
      ],
      "execution_count": 77,
      "outputs": [
        {
          "output_type": "execute_result",
          "data": {
            "text/plain": [
              "Sweden           550\n",
              "Estonia          344\n",
              "Latvia            28\n",
              "Finland           16\n",
              "Russia            14\n",
              "Norway             9\n",
              "Germany            8\n",
              "Denmark            6\n",
              "Lithuania          4\n",
              "Morocco            2\n",
              "Netherlands        2\n",
              "Great Britain      2\n",
              "France             1\n",
              "Belarus            1\n",
              "Canada             1\n",
              "Nigeria            1\n",
              "Name: Country, dtype: int64"
            ]
          },
          "metadata": {
            "tags": []
          },
          "execution_count": 77
        }
      ]
    },
    {
      "cell_type": "code",
      "metadata": {
        "id": "3eOtB4E9P2Ds",
        "colab_type": "code",
        "colab": {
          "base_uri": "https://localhost:8080/",
          "height": 233
        },
        "outputId": "d1da42a5-a6c7-42b2-835b-1bb2254d8362"
      },
      "source": [
        "data['Lastname'].value_counts()"
      ],
      "execution_count": 78,
      "outputs": [
        {
          "output_type": "execute_result",
          "data": {
            "text/plain": [
              "ANDERSSON    15\n",
              "NILSSON      12\n",
              "ERIKSSON     11\n",
              "JOHANSSON     9\n",
              "KARLSSON      9\n",
              "             ..\n",
              "RONK          1\n",
              "TREU          1\n",
              "SPUHL         1\n",
              "BOIWE         1\n",
              "TUDELEPP      1\n",
              "Name: Lastname, Length: 774, dtype: int64"
            ]
          },
          "metadata": {
            "tags": []
          },
          "execution_count": 78
        }
      ]
    },
    {
      "cell_type": "code",
      "metadata": {
        "id": "MOFpBltVP7r0",
        "colab_type": "code",
        "colab": {
          "base_uri": "https://localhost:8080/",
          "height": 71
        },
        "outputId": "db3ca1e1-52f3-4fc3-8647-71ce96674a3d"
      },
      "source": [
        "data['Category'].value_counts()"
      ],
      "execution_count": 79,
      "outputs": [
        {
          "output_type": "execute_result",
          "data": {
            "text/plain": [
              "P    796\n",
              "C    193\n",
              "Name: Category, dtype: int64"
            ]
          },
          "metadata": {
            "tags": []
          },
          "execution_count": 79
        }
      ]
    },
    {
      "cell_type": "code",
      "metadata": {
        "id": "keej9tNkP_4U",
        "colab_type": "code",
        "colab": {
          "base_uri": "https://localhost:8080/",
          "height": 371
        },
        "outputId": "a1b06162-700b-49b8-cc21-cd2967a9a36e"
      },
      "source": [
        "data.hist()"
      ],
      "execution_count": 80,
      "outputs": [
        {
          "output_type": "execute_result",
          "data": {
            "text/plain": [
              "array([[<matplotlib.axes._subplots.AxesSubplot object at 0x7f0a8f638390>,\n",
              "        <matplotlib.axes._subplots.AxesSubplot object at 0x7f0a8f653b00>],\n",
              "       [<matplotlib.axes._subplots.AxesSubplot object at 0x7f0a8f601d68>,\n",
              "        <matplotlib.axes._subplots.AxesSubplot object at 0x7f0a8f5b3fd0>]],\n",
              "      dtype=object)"
            ]
          },
          "metadata": {
            "tags": []
          },
          "execution_count": 80
        },
        {
          "output_type": "display_data",
          "data": {
            "image/png": "[encoded data removed]",
            "text/plain": [
              "<Figure size 432x288 with 4 Axes>"
            ]
          },
          "metadata": {
            "tags": [],
            "needs_background": "light"
          }
        }
      ]
    },
    {
      "cell_type": "code",
      "metadata": {
        "id": "mN1FxPfuQCzk",
        "colab_type": "code",
        "colab": {
          "base_uri": "https://localhost:8080/",
          "height": 419
        },
        "outputId": "ace9032c-4aa4-4b59-c5b4-eb06344039f6"
      },
      "source": [
        "data_copy = data.copy()\n",
        "data_copy"
      ],
      "execution_count": 81,
      "outputs": [
        {
          "output_type": "execute_result",
          "data": {
            "text/html": [
              "<div>\n",
              "<style scoped>\n",
              "    .dataframe tbody tr th:only-of-type {\n",
              "        vertical-align: middle;\n",
              "    }\n",
              "\n",
              "    .dataframe tbody tr th {\n",
              "        vertical-align: top;\n",
              "    }\n",
              "\n",
              "    .dataframe thead th {\n",
              "        text-align: right;\n",
              "    }\n",
              "</style>\n",
              "<table border=\"1\" class=\"dataframe\">\n",
              "  <thead>\n",
              "    <tr style=\"text-align: right;\">\n",
              "      <th></th>\n",
              "      <th>PassengerId</th>\n",
              "      <th>Country</th>\n",
              "      <th>Firstname</th>\n",
              "      <th>Lastname</th>\n",
              "      <th>Sex</th>\n",
              "      <th>Age</th>\n",
              "      <th>Category</th>\n",
              "      <th>Survived</th>\n",
              "    </tr>\n",
              "  </thead>\n",
              "  <tbody>\n",
              "    <tr>\n",
              "      <th>0</th>\n",
              "      <td>1</td>\n",
              "      <td>Sweden</td>\n",
              "      <td>ARVID KALLE</td>\n",
              "      <td>AADLI</td>\n",
              "      <td>M</td>\n",
              "      <td>62</td>\n",
              "      <td>P</td>\n",
              "      <td>0</td>\n",
              "    </tr>\n",
              "    <tr>\n",
              "      <th>1</th>\n",
              "      <td>2</td>\n",
              "      <td>Estonia</td>\n",
              "      <td>LEA</td>\n",
              "      <td>AALISTE</td>\n",
              "      <td>F</td>\n",
              "      <td>22</td>\n",
              "      <td>C</td>\n",
              "      <td>0</td>\n",
              "    </tr>\n",
              "    <tr>\n",
              "      <th>2</th>\n",
              "      <td>3</td>\n",
              "      <td>Estonia</td>\n",
              "      <td>AIRI</td>\n",
              "      <td>AAVASTE</td>\n",
              "      <td>F</td>\n",
              "      <td>21</td>\n",
              "      <td>C</td>\n",
              "      <td>0</td>\n",
              "    </tr>\n",
              "    <tr>\n",
              "      <th>3</th>\n",
              "      <td>4</td>\n",
              "      <td>Sweden</td>\n",
              "      <td>JURI</td>\n",
              "      <td>AAVIK</td>\n",
              "      <td>M</td>\n",
              "      <td>53</td>\n",
              "      <td>C</td>\n",
              "      <td>0</td>\n",
              "    </tr>\n",
              "    <tr>\n",
              "      <th>4</th>\n",
              "      <td>5</td>\n",
              "      <td>Sweden</td>\n",
              "      <td>BRITTA ELISABET</td>\n",
              "      <td>AHLSTROM</td>\n",
              "      <td>F</td>\n",
              "      <td>55</td>\n",
              "      <td>P</td>\n",
              "      <td>0</td>\n",
              "    </tr>\n",
              "    <tr>\n",
              "      <th>...</th>\n",
              "      <td>...</td>\n",
              "      <td>...</td>\n",
              "      <td>...</td>\n",
              "      <td>...</td>\n",
              "      <td>...</td>\n",
              "      <td>...</td>\n",
              "      <td>...</td>\n",
              "      <td>...</td>\n",
              "    </tr>\n",
              "    <tr>\n",
              "      <th>984</th>\n",
              "      <td>985</td>\n",
              "      <td>Sweden</td>\n",
              "      <td>ANNA INGRID BIRGITTA</td>\n",
              "      <td>OSTROM</td>\n",
              "      <td>F</td>\n",
              "      <td>60</td>\n",
              "      <td>P</td>\n",
              "      <td>0</td>\n",
              "    </tr>\n",
              "    <tr>\n",
              "      <th>985</th>\n",
              "      <td>986</td>\n",
              "      <td>Sweden</td>\n",
              "      <td>ELMAR MIKAEL</td>\n",
              "      <td>OUN</td>\n",
              "      <td>M</td>\n",
              "      <td>34</td>\n",
              "      <td>P</td>\n",
              "      <td>1</td>\n",
              "    </tr>\n",
              "    <tr>\n",
              "      <th>986</th>\n",
              "      <td>987</td>\n",
              "      <td>Sweden</td>\n",
              "      <td>ENN</td>\n",
              "      <td>QUNAPUU</td>\n",
              "      <td>M</td>\n",
              "      <td>77</td>\n",
              "      <td>P</td>\n",
              "      <td>0</td>\n",
              "    </tr>\n",
              "    <tr>\n",
              "      <th>987</th>\n",
              "      <td>988</td>\n",
              "      <td>Sweden</td>\n",
              "      <td>LY</td>\n",
              "      <td>GUNAPUU</td>\n",
              "      <td>F</td>\n",
              "      <td>87</td>\n",
              "      <td>P</td>\n",
              "      <td>0</td>\n",
              "    </tr>\n",
              "    <tr>\n",
              "      <th>988</th>\n",
              "      <td>989</td>\n",
              "      <td>Sweden</td>\n",
              "      <td>CARL</td>\n",
              "      <td>OVBERG</td>\n",
              "      <td>M</td>\n",
              "      <td>42</td>\n",
              "      <td>P</td>\n",
              "      <td>1</td>\n",
              "    </tr>\n",
              "  </tbody>\n",
              "</table>\n",
              "<p>989 rows × 8 columns</p>\n",
              "</div>"
            ],
            "text/plain": [
              "     PassengerId  Country             Firstname  ... Age Category  Survived\n",
              "0              1   Sweden           ARVID KALLE  ...  62        P         0\n",
              "1              2  Estonia                   LEA  ...  22        C         0\n",
              "2              3  Estonia                  AIRI  ...  21        C         0\n",
              "3              4   Sweden                  JURI  ...  53        C         0\n",
              "4              5   Sweden       BRITTA ELISABET  ...  55        P         0\n",
              "..           ...      ...                   ...  ...  ..      ...       ...\n",
              "984          985   Sweden  ANNA INGRID BIRGITTA  ...  60        P         0\n",
              "985          986   Sweden          ELMAR MIKAEL  ...  34        P         1\n",
              "986          987   Sweden                   ENN  ...  77        P         0\n",
              "987          988   Sweden                    LY  ...  87        P         0\n",
              "988          989   Sweden                  CARL  ...  42        P         1\n",
              "\n",
              "[989 rows x 8 columns]"
            ]
          },
          "metadata": {
            "tags": []
          },
          "execution_count": 81
        }
      ]
    },
    {
      "cell_type": "code",
      "metadata": {
        "id": "WgaNUJRAQr59",
        "colab_type": "code",
        "colab": {}
      },
      "source": [
        "del data_copy['Lastname']"
      ],
      "execution_count": 82,
      "outputs": []
    },
    {
      "cell_type": "code",
      "metadata": {
        "id": "-H7q6gj8RN5V",
        "colab_type": "code",
        "colab": {}
      },
      "source": [
        "del data_copy['Firstname']"
      ],
      "execution_count": 83,
      "outputs": []
    },
    {
      "cell_type": "code",
      "metadata": {
        "id": "_PzGLLbtQ0bk",
        "colab_type": "code",
        "colab": {
          "base_uri": "https://localhost:8080/",
          "height": 419
        },
        "outputId": "e74136d0-c7e8-4f76-a072-402a5c0aba9d"
      },
      "source": [
        "data_copy"
      ],
      "execution_count": 84,
      "outputs": [
        {
          "output_type": "execute_result",
          "data": {
            "text/html": [
              "<div>\n",
              "<style scoped>\n",
              "    .dataframe tbody tr th:only-of-type {\n",
              "        vertical-align: middle;\n",
              "    }\n",
              "\n",
              "    .dataframe tbody tr th {\n",
              "        vertical-align: top;\n",
              "    }\n",
              "\n",
              "    .dataframe thead th {\n",
              "        text-align: right;\n",
              "    }\n",
              "</style>\n",
              "<table border=\"1\" class=\"dataframe\">\n",
              "  <thead>\n",
              "    <tr style=\"text-align: right;\">\n",
              "      <th></th>\n",
              "      <th>PassengerId</th>\n",
              "      <th>Country</th>\n",
              "      <th>Sex</th>\n",
              "      <th>Age</th>\n",
              "      <th>Category</th>\n",
              "      <th>Survived</th>\n",
              "    </tr>\n",
              "  </thead>\n",
              "  <tbody>\n",
              "    <tr>\n",
              "      <th>0</th>\n",
              "      <td>1</td>\n",
              "      <td>Sweden</td>\n",
              "      <td>M</td>\n",
              "      <td>62</td>\n",
              "      <td>P</td>\n",
              "      <td>0</td>\n",
              "    </tr>\n",
              "    <tr>\n",
              "      <th>1</th>\n",
              "      <td>2</td>\n",
              "      <td>Estonia</td>\n",
              "      <td>F</td>\n",
              "      <td>22</td>\n",
              "      <td>C</td>\n",
              "      <td>0</td>\n",
              "    </tr>\n",
              "    <tr>\n",
              "      <th>2</th>\n",
              "      <td>3</td>\n",
              "      <td>Estonia</td>\n",
              "      <td>F</td>\n",
              "      <td>21</td>\n",
              "      <td>C</td>\n",
              "      <td>0</td>\n",
              "    </tr>\n",
              "    <tr>\n",
              "      <th>3</th>\n",
              "      <td>4</td>\n",
              "      <td>Sweden</td>\n",
              "      <td>M</td>\n",
              "      <td>53</td>\n",
              "      <td>C</td>\n",
              "      <td>0</td>\n",
              "    </tr>\n",
              "    <tr>\n",
              "      <th>4</th>\n",
              "      <td>5</td>\n",
              "      <td>Sweden</td>\n",
              "      <td>F</td>\n",
              "      <td>55</td>\n",
              "      <td>P</td>\n",
              "      <td>0</td>\n",
              "    </tr>\n",
              "    <tr>\n",
              "      <th>...</th>\n",
              "      <td>...</td>\n",
              "      <td>...</td>\n",
              "      <td>...</td>\n",
              "      <td>...</td>\n",
              "      <td>...</td>\n",
              "      <td>...</td>\n",
              "    </tr>\n",
              "    <tr>\n",
              "      <th>984</th>\n",
              "      <td>985</td>\n",
              "      <td>Sweden</td>\n",
              "      <td>F</td>\n",
              "      <td>60</td>\n",
              "      <td>P</td>\n",
              "      <td>0</td>\n",
              "    </tr>\n",
              "    <tr>\n",
              "      <th>985</th>\n",
              "      <td>986</td>\n",
              "      <td>Sweden</td>\n",
              "      <td>M</td>\n",
              "      <td>34</td>\n",
              "      <td>P</td>\n",
              "      <td>1</td>\n",
              "    </tr>\n",
              "    <tr>\n",
              "      <th>986</th>\n",
              "      <td>987</td>\n",
              "      <td>Sweden</td>\n",
              "      <td>M</td>\n",
              "      <td>77</td>\n",
              "      <td>P</td>\n",
              "      <td>0</td>\n",
              "    </tr>\n",
              "    <tr>\n",
              "      <th>987</th>\n",
              "      <td>988</td>\n",
              "      <td>Sweden</td>\n",
              "      <td>F</td>\n",
              "      <td>87</td>\n",
              "      <td>P</td>\n",
              "      <td>0</td>\n",
              "    </tr>\n",
              "    <tr>\n",
              "      <th>988</th>\n",
              "      <td>989</td>\n",
              "      <td>Sweden</td>\n",
              "      <td>M</td>\n",
              "      <td>42</td>\n",
              "      <td>P</td>\n",
              "      <td>1</td>\n",
              "    </tr>\n",
              "  </tbody>\n",
              "</table>\n",
              "<p>989 rows × 6 columns</p>\n",
              "</div>"
            ],
            "text/plain": [
              "     PassengerId  Country Sex  Age Category  Survived\n",
              "0              1   Sweden   M   62        P         0\n",
              "1              2  Estonia   F   22        C         0\n",
              "2              3  Estonia   F   21        C         0\n",
              "3              4   Sweden   M   53        C         0\n",
              "4              5   Sweden   F   55        P         0\n",
              "..           ...      ...  ..  ...      ...       ...\n",
              "984          985   Sweden   F   60        P         0\n",
              "985          986   Sweden   M   34        P         1\n",
              "986          987   Sweden   M   77        P         0\n",
              "987          988   Sweden   F   87        P         0\n",
              "988          989   Sweden   M   42        P         1\n",
              "\n",
              "[989 rows x 6 columns]"
            ]
          },
          "metadata": {
            "tags": []
          },
          "execution_count": 84
        }
      ]
    },
    {
      "cell_type": "code",
      "metadata": {
        "id": "EipYoMzfQ50M",
        "colab_type": "code",
        "colab": {}
      },
      "source": [
        "data_copy['male'] = data_copy['Sex'][data_copy['Sex'] == 'M']\n",
        "data_copy['female'] = data_copy['Sex'][data_copy['Sex'] == 'F']"
      ],
      "execution_count": 85,
      "outputs": []
    },
    {
      "cell_type": "code",
      "metadata": {
        "id": "j8Ii2kAQRIkv",
        "colab_type": "code",
        "colab": {
          "base_uri": "https://localhost:8080/",
          "height": 419
        },
        "outputId": "f6824d1c-4135-462e-bb6c-8ed88aeb5c0e"
      },
      "source": [
        "data_copy"
      ],
      "execution_count": 86,
      "outputs": [
        {
          "output_type": "execute_result",
          "data": {
            "text/html": [
              "<div>\n",
              "<style scoped>\n",
              "    .dataframe tbody tr th:only-of-type {\n",
              "        vertical-align: middle;\n",
              "    }\n",
              "\n",
              "    .dataframe tbody tr th {\n",
              "        vertical-align: top;\n",
              "    }\n",
              "\n",
              "    .dataframe thead th {\n",
              "        text-align: right;\n",
              "    }\n",
              "</style>\n",
              "<table border=\"1\" class=\"dataframe\">\n",
              "  <thead>\n",
              "    <tr style=\"text-align: right;\">\n",
              "      <th></th>\n",
              "      <th>PassengerId</th>\n",
              "      <th>Country</th>\n",
              "      <th>Sex</th>\n",
              "      <th>Age</th>\n",
              "      <th>Category</th>\n",
              "      <th>Survived</th>\n",
              "      <th>male</th>\n",
              "      <th>female</th>\n",
              "    </tr>\n",
              "  </thead>\n",
              "  <tbody>\n",
              "    <tr>\n",
              "      <th>0</th>\n",
              "      <td>1</td>\n",
              "      <td>Sweden</td>\n",
              "      <td>M</td>\n",
              "      <td>62</td>\n",
              "      <td>P</td>\n",
              "      <td>0</td>\n",
              "      <td>M</td>\n",
              "      <td>NaN</td>\n",
              "    </tr>\n",
              "    <tr>\n",
              "      <th>1</th>\n",
              "      <td>2</td>\n",
              "      <td>Estonia</td>\n",
              "      <td>F</td>\n",
              "      <td>22</td>\n",
              "      <td>C</td>\n",
              "      <td>0</td>\n",
              "      <td>NaN</td>\n",
              "      <td>F</td>\n",
              "    </tr>\n",
              "    <tr>\n",
              "      <th>2</th>\n",
              "      <td>3</td>\n",
              "      <td>Estonia</td>\n",
              "      <td>F</td>\n",
              "      <td>21</td>\n",
              "      <td>C</td>\n",
              "      <td>0</td>\n",
              "      <td>NaN</td>\n",
              "      <td>F</td>\n",
              "    </tr>\n",
              "    <tr>\n",
              "      <th>3</th>\n",
              "      <td>4</td>\n",
              "      <td>Sweden</td>\n",
              "      <td>M</td>\n",
              "      <td>53</td>\n",
              "      <td>C</td>\n",
              "      <td>0</td>\n",
              "      <td>M</td>\n",
              "      <td>NaN</td>\n",
              "    </tr>\n",
              "    <tr>\n",
              "      <th>4</th>\n",
              "      <td>5</td>\n",
              "      <td>Sweden</td>\n",
              "      <td>F</td>\n",
              "      <td>55</td>\n",
              "      <td>P</td>\n",
              "      <td>0</td>\n",
              "      <td>NaN</td>\n",
              "      <td>F</td>\n",
              "    </tr>\n",
              "    <tr>\n",
              "      <th>...</th>\n",
              "      <td>...</td>\n",
              "      <td>...</td>\n",
              "      <td>...</td>\n",
              "      <td>...</td>\n",
              "      <td>...</td>\n",
              "      <td>...</td>\n",
              "      <td>...</td>\n",
              "      <td>...</td>\n",
              "    </tr>\n",
              "    <tr>\n",
              "      <th>984</th>\n",
              "      <td>985</td>\n",
              "      <td>Sweden</td>\n",
              "      <td>F</td>\n",
              "      <td>60</td>\n",
              "      <td>P</td>\n",
              "      <td>0</td>\n",
              "      <td>NaN</td>\n",
              "      <td>F</td>\n",
              "    </tr>\n",
              "    <tr>\n",
              "      <th>985</th>\n",
              "      <td>986</td>\n",
              "      <td>Sweden</td>\n",
              "      <td>M</td>\n",
              "      <td>34</td>\n",
              "      <td>P</td>\n",
              "      <td>1</td>\n",
              "      <td>M</td>\n",
              "      <td>NaN</td>\n",
              "    </tr>\n",
              "    <tr>\n",
              "      <th>986</th>\n",
              "      <td>987</td>\n",
              "      <td>Sweden</td>\n",
              "      <td>M</td>\n",
              "      <td>77</td>\n",
              "      <td>P</td>\n",
              "      <td>0</td>\n",
              "      <td>M</td>\n",
              "      <td>NaN</td>\n",
              "    </tr>\n",
              "    <tr>\n",
              "      <th>987</th>\n",
              "      <td>988</td>\n",
              "      <td>Sweden</td>\n",
              "      <td>F</td>\n",
              "      <td>87</td>\n",
              "      <td>P</td>\n",
              "      <td>0</td>\n",
              "      <td>NaN</td>\n",
              "      <td>F</td>\n",
              "    </tr>\n",
              "    <tr>\n",
              "      <th>988</th>\n",
              "      <td>989</td>\n",
              "      <td>Sweden</td>\n",
              "      <td>M</td>\n",
              "      <td>42</td>\n",
              "      <td>P</td>\n",
              "      <td>1</td>\n",
              "      <td>M</td>\n",
              "      <td>NaN</td>\n",
              "    </tr>\n",
              "  </tbody>\n",
              "</table>\n",
              "<p>989 rows × 8 columns</p>\n",
              "</div>"
            ],
            "text/plain": [
              "     PassengerId  Country Sex  Age Category  Survived male female\n",
              "0              1   Sweden   M   62        P         0    M    NaN\n",
              "1              2  Estonia   F   22        C         0  NaN      F\n",
              "2              3  Estonia   F   21        C         0  NaN      F\n",
              "3              4   Sweden   M   53        C         0    M    NaN\n",
              "4              5   Sweden   F   55        P         0  NaN      F\n",
              "..           ...      ...  ..  ...      ...       ...  ...    ...\n",
              "984          985   Sweden   F   60        P         0  NaN      F\n",
              "985          986   Sweden   M   34        P         1    M    NaN\n",
              "986          987   Sweden   M   77        P         0    M    NaN\n",
              "987          988   Sweden   F   87        P         0  NaN      F\n",
              "988          989   Sweden   M   42        P         1    M    NaN\n",
              "\n",
              "[989 rows x 8 columns]"
            ]
          },
          "metadata": {
            "tags": []
          },
          "execution_count": 86
        }
      ]
    },
    {
      "cell_type": "code",
      "metadata": {
        "id": "y-LrVBODRoQ_",
        "colab_type": "code",
        "colab": {
          "base_uri": "https://localhost:8080/",
          "height": 197
        },
        "outputId": "8ed6b982-db18-4675-ab51-d0d4ea38b1f3"
      },
      "source": [
        "for i in range(len(data_copy['male'])):\n",
        "  if data_copy['male'][i] == 'M':\n",
        "    data_copy['male'][i] = 1\n",
        "  else :\n",
        "    data_copy['male'][i] = 0"
      ],
      "execution_count": 87,
      "outputs": [
        {
          "output_type": "stream",
          "text": [
            "/usr/local/lib/python3.6/dist-packages/ipykernel_launcher.py:3: SettingWithCopyWarning: \n",
            "A value is trying to be set on a copy of a slice from a DataFrame\n",
            "\n",
            "See the caveats in the documentation: https://pandas.pydata.org/pandas-docs/stable/user_guide/indexing.html#returning-a-view-versus-a-copy\n",
            "  This is separate from the ipykernel package so we can avoid doing imports until\n",
            "/usr/local/lib/python3.6/dist-packages/ipykernel_launcher.py:5: SettingWithCopyWarning: \n",
            "A value is trying to be set on a copy of a slice from a DataFrame\n",
            "\n",
            "See the caveats in the documentation: https://pandas.pydata.org/pandas-docs/stable/user_guide/indexing.html#returning-a-view-versus-a-copy\n",
            "  \"\"\"\n"
          ],
          "name": "stderr"
        }
      ]
    },
    {
      "cell_type": "code",
      "metadata": {
        "id": "fFYZxwl3R4t2",
        "colab_type": "code",
        "colab": {
          "base_uri": "https://localhost:8080/",
          "height": 419
        },
        "outputId": "c4f201b8-e59c-4204-f510-44af7709f219"
      },
      "source": [
        "data_copy"
      ],
      "execution_count": 88,
      "outputs": [
        {
          "output_type": "execute_result",
          "data": {
            "text/html": [
              "<div>\n",
              "<style scoped>\n",
              "    .dataframe tbody tr th:only-of-type {\n",
              "        vertical-align: middle;\n",
              "    }\n",
              "\n",
              "    .dataframe tbody tr th {\n",
              "        vertical-align: top;\n",
              "    }\n",
              "\n",
              "    .dataframe thead th {\n",
              "        text-align: right;\n",
              "    }\n",
              "</style>\n",
              "<table border=\"1\" class=\"dataframe\">\n",
              "  <thead>\n",
              "    <tr style=\"text-align: right;\">\n",
              "      <th></th>\n",
              "      <th>PassengerId</th>\n",
              "      <th>Country</th>\n",
              "      <th>Sex</th>\n",
              "      <th>Age</th>\n",
              "      <th>Category</th>\n",
              "      <th>Survived</th>\n",
              "      <th>male</th>\n",
              "      <th>female</th>\n",
              "    </tr>\n",
              "  </thead>\n",
              "  <tbody>\n",
              "    <tr>\n",
              "      <th>0</th>\n",
              "      <td>1</td>\n",
              "      <td>Sweden</td>\n",
              "      <td>M</td>\n",
              "      <td>62</td>\n",
              "      <td>P</td>\n",
              "      <td>0</td>\n",
              "      <td>1</td>\n",
              "      <td>NaN</td>\n",
              "    </tr>\n",
              "    <tr>\n",
              "      <th>1</th>\n",
              "      <td>2</td>\n",
              "      <td>Estonia</td>\n",
              "      <td>F</td>\n",
              "      <td>22</td>\n",
              "      <td>C</td>\n",
              "      <td>0</td>\n",
              "      <td>0</td>\n",
              "      <td>F</td>\n",
              "    </tr>\n",
              "    <tr>\n",
              "      <th>2</th>\n",
              "      <td>3</td>\n",
              "      <td>Estonia</td>\n",
              "      <td>F</td>\n",
              "      <td>21</td>\n",
              "      <td>C</td>\n",
              "      <td>0</td>\n",
              "      <td>0</td>\n",
              "      <td>F</td>\n",
              "    </tr>\n",
              "    <tr>\n",
              "      <th>3</th>\n",
              "      <td>4</td>\n",
              "      <td>Sweden</td>\n",
              "      <td>M</td>\n",
              "      <td>53</td>\n",
              "      <td>C</td>\n",
              "      <td>0</td>\n",
              "      <td>1</td>\n",
              "      <td>NaN</td>\n",
              "    </tr>\n",
              "    <tr>\n",
              "      <th>4</th>\n",
              "      <td>5</td>\n",
              "      <td>Sweden</td>\n",
              "      <td>F</td>\n",
              "      <td>55</td>\n",
              "      <td>P</td>\n",
              "      <td>0</td>\n",
              "      <td>0</td>\n",
              "      <td>F</td>\n",
              "    </tr>\n",
              "    <tr>\n",
              "      <th>...</th>\n",
              "      <td>...</td>\n",
              "      <td>...</td>\n",
              "      <td>...</td>\n",
              "      <td>...</td>\n",
              "      <td>...</td>\n",
              "      <td>...</td>\n",
              "      <td>...</td>\n",
              "      <td>...</td>\n",
              "    </tr>\n",
              "    <tr>\n",
              "      <th>984</th>\n",
              "      <td>985</td>\n",
              "      <td>Sweden</td>\n",
              "      <td>F</td>\n",
              "      <td>60</td>\n",
              "      <td>P</td>\n",
              "      <td>0</td>\n",
              "      <td>0</td>\n",
              "      <td>F</td>\n",
              "    </tr>\n",
              "    <tr>\n",
              "      <th>985</th>\n",
              "      <td>986</td>\n",
              "      <td>Sweden</td>\n",
              "      <td>M</td>\n",
              "      <td>34</td>\n",
              "      <td>P</td>\n",
              "      <td>1</td>\n",
              "      <td>1</td>\n",
              "      <td>NaN</td>\n",
              "    </tr>\n",
              "    <tr>\n",
              "      <th>986</th>\n",
              "      <td>987</td>\n",
              "      <td>Sweden</td>\n",
              "      <td>M</td>\n",
              "      <td>77</td>\n",
              "      <td>P</td>\n",
              "      <td>0</td>\n",
              "      <td>1</td>\n",
              "      <td>NaN</td>\n",
              "    </tr>\n",
              "    <tr>\n",
              "      <th>987</th>\n",
              "      <td>988</td>\n",
              "      <td>Sweden</td>\n",
              "      <td>F</td>\n",
              "      <td>87</td>\n",
              "      <td>P</td>\n",
              "      <td>0</td>\n",
              "      <td>0</td>\n",
              "      <td>F</td>\n",
              "    </tr>\n",
              "    <tr>\n",
              "      <th>988</th>\n",
              "      <td>989</td>\n",
              "      <td>Sweden</td>\n",
              "      <td>M</td>\n",
              "      <td>42</td>\n",
              "      <td>P</td>\n",
              "      <td>1</td>\n",
              "      <td>1</td>\n",
              "      <td>NaN</td>\n",
              "    </tr>\n",
              "  </tbody>\n",
              "</table>\n",
              "<p>989 rows × 8 columns</p>\n",
              "</div>"
            ],
            "text/plain": [
              "     PassengerId  Country Sex  Age Category  Survived male female\n",
              "0              1   Sweden   M   62        P         0    1    NaN\n",
              "1              2  Estonia   F   22        C         0    0      F\n",
              "2              3  Estonia   F   21        C         0    0      F\n",
              "3              4   Sweden   M   53        C         0    1    NaN\n",
              "4              5   Sweden   F   55        P         0    0      F\n",
              "..           ...      ...  ..  ...      ...       ...  ...    ...\n",
              "984          985   Sweden   F   60        P         0    0      F\n",
              "985          986   Sweden   M   34        P         1    1    NaN\n",
              "986          987   Sweden   M   77        P         0    1    NaN\n",
              "987          988   Sweden   F   87        P         0    0      F\n",
              "988          989   Sweden   M   42        P         1    1    NaN\n",
              "\n",
              "[989 rows x 8 columns]"
            ]
          },
          "metadata": {
            "tags": []
          },
          "execution_count": 88
        }
      ]
    },
    {
      "cell_type": "code",
      "metadata": {
        "id": "XDFALf8-R7hX",
        "colab_type": "code",
        "colab": {
          "base_uri": "https://localhost:8080/",
          "height": 197
        },
        "outputId": "3cf2a456-43c2-48ab-f0b6-ffdb65ebf77f"
      },
      "source": [
        "for i in range(len(data_copy['male'])):\n",
        "  if data_copy['female'][i] == 'F':\n",
        "    data_copy['female'][i] = 1\n",
        "  else :\n",
        "    data_copy['female'][i] = 0"
      ],
      "execution_count": 89,
      "outputs": [
        {
          "output_type": "stream",
          "text": [
            "/usr/local/lib/python3.6/dist-packages/ipykernel_launcher.py:5: SettingWithCopyWarning: \n",
            "A value is trying to be set on a copy of a slice from a DataFrame\n",
            "\n",
            "See the caveats in the documentation: https://pandas.pydata.org/pandas-docs/stable/user_guide/indexing.html#returning-a-view-versus-a-copy\n",
            "  \"\"\"\n",
            "/usr/local/lib/python3.6/dist-packages/ipykernel_launcher.py:3: SettingWithCopyWarning: \n",
            "A value is trying to be set on a copy of a slice from a DataFrame\n",
            "\n",
            "See the caveats in the documentation: https://pandas.pydata.org/pandas-docs/stable/user_guide/indexing.html#returning-a-view-versus-a-copy\n",
            "  This is separate from the ipykernel package so we can avoid doing imports until\n"
          ],
          "name": "stderr"
        }
      ]
    },
    {
      "cell_type": "code",
      "metadata": {
        "id": "Nu8Vku-_R9wk",
        "colab_type": "code",
        "colab": {
          "base_uri": "https://localhost:8080/",
          "height": 419
        },
        "outputId": "2dbf4633-8457-4d4f-9cfc-3240087ae24c"
      },
      "source": [
        "data_copy"
      ],
      "execution_count": 90,
      "outputs": [
        {
          "output_type": "execute_result",
          "data": {
            "text/html": [
              "<div>\n",
              "<style scoped>\n",
              "    .dataframe tbody tr th:only-of-type {\n",
              "        vertical-align: middle;\n",
              "    }\n",
              "\n",
              "    .dataframe tbody tr th {\n",
              "        vertical-align: top;\n",
              "    }\n",
              "\n",
              "    .dataframe thead th {\n",
              "        text-align: right;\n",
              "    }\n",
              "</style>\n",
              "<table border=\"1\" class=\"dataframe\">\n",
              "  <thead>\n",
              "    <tr style=\"text-align: right;\">\n",
              "      <th></th>\n",
              "      <th>PassengerId</th>\n",
              "      <th>Country</th>\n",
              "      <th>Sex</th>\n",
              "      <th>Age</th>\n",
              "      <th>Category</th>\n",
              "      <th>Survived</th>\n",
              "      <th>male</th>\n",
              "      <th>female</th>\n",
              "    </tr>\n",
              "  </thead>\n",
              "  <tbody>\n",
              "    <tr>\n",
              "      <th>0</th>\n",
              "      <td>1</td>\n",
              "      <td>Sweden</td>\n",
              "      <td>M</td>\n",
              "      <td>62</td>\n",
              "      <td>P</td>\n",
              "      <td>0</td>\n",
              "      <td>1</td>\n",
              "      <td>0</td>\n",
              "    </tr>\n",
              "    <tr>\n",
              "      <th>1</th>\n",
              "      <td>2</td>\n",
              "      <td>Estonia</td>\n",
              "      <td>F</td>\n",
              "      <td>22</td>\n",
              "      <td>C</td>\n",
              "      <td>0</td>\n",
              "      <td>0</td>\n",
              "      <td>1</td>\n",
              "    </tr>\n",
              "    <tr>\n",
              "      <th>2</th>\n",
              "      <td>3</td>\n",
              "      <td>Estonia</td>\n",
              "      <td>F</td>\n",
              "      <td>21</td>\n",
              "      <td>C</td>\n",
              "      <td>0</td>\n",
              "      <td>0</td>\n",
              "      <td>1</td>\n",
              "    </tr>\n",
              "    <tr>\n",
              "      <th>3</th>\n",
              "      <td>4</td>\n",
              "      <td>Sweden</td>\n",
              "      <td>M</td>\n",
              "      <td>53</td>\n",
              "      <td>C</td>\n",
              "      <td>0</td>\n",
              "      <td>1</td>\n",
              "      <td>0</td>\n",
              "    </tr>\n",
              "    <tr>\n",
              "      <th>4</th>\n",
              "      <td>5</td>\n",
              "      <td>Sweden</td>\n",
              "      <td>F</td>\n",
              "      <td>55</td>\n",
              "      <td>P</td>\n",
              "      <td>0</td>\n",
              "      <td>0</td>\n",
              "      <td>1</td>\n",
              "    </tr>\n",
              "    <tr>\n",
              "      <th>...</th>\n",
              "      <td>...</td>\n",
              "      <td>...</td>\n",
              "      <td>...</td>\n",
              "      <td>...</td>\n",
              "      <td>...</td>\n",
              "      <td>...</td>\n",
              "      <td>...</td>\n",
              "      <td>...</td>\n",
              "    </tr>\n",
              "    <tr>\n",
              "      <th>984</th>\n",
              "      <td>985</td>\n",
              "      <td>Sweden</td>\n",
              "      <td>F</td>\n",
              "      <td>60</td>\n",
              "      <td>P</td>\n",
              "      <td>0</td>\n",
              "      <td>0</td>\n",
              "      <td>1</td>\n",
              "    </tr>\n",
              "    <tr>\n",
              "      <th>985</th>\n",
              "      <td>986</td>\n",
              "      <td>Sweden</td>\n",
              "      <td>M</td>\n",
              "      <td>34</td>\n",
              "      <td>P</td>\n",
              "      <td>1</td>\n",
              "      <td>1</td>\n",
              "      <td>0</td>\n",
              "    </tr>\n",
              "    <tr>\n",
              "      <th>986</th>\n",
              "      <td>987</td>\n",
              "      <td>Sweden</td>\n",
              "      <td>M</td>\n",
              "      <td>77</td>\n",
              "      <td>P</td>\n",
              "      <td>0</td>\n",
              "      <td>1</td>\n",
              "      <td>0</td>\n",
              "    </tr>\n",
              "    <tr>\n",
              "      <th>987</th>\n",
              "      <td>988</td>\n",
              "      <td>Sweden</td>\n",
              "      <td>F</td>\n",
              "      <td>87</td>\n",
              "      <td>P</td>\n",
              "      <td>0</td>\n",
              "      <td>0</td>\n",
              "      <td>1</td>\n",
              "    </tr>\n",
              "    <tr>\n",
              "      <th>988</th>\n",
              "      <td>989</td>\n",
              "      <td>Sweden</td>\n",
              "      <td>M</td>\n",
              "      <td>42</td>\n",
              "      <td>P</td>\n",
              "      <td>1</td>\n",
              "      <td>1</td>\n",
              "      <td>0</td>\n",
              "    </tr>\n",
              "  </tbody>\n",
              "</table>\n",
              "<p>989 rows × 8 columns</p>\n",
              "</div>"
            ],
            "text/plain": [
              "     PassengerId  Country Sex  Age Category  Survived male female\n",
              "0              1   Sweden   M   62        P         0    1      0\n",
              "1              2  Estonia   F   22        C         0    0      1\n",
              "2              3  Estonia   F   21        C         0    0      1\n",
              "3              4   Sweden   M   53        C         0    1      0\n",
              "4              5   Sweden   F   55        P         0    0      1\n",
              "..           ...      ...  ..  ...      ...       ...  ...    ...\n",
              "984          985   Sweden   F   60        P         0    0      1\n",
              "985          986   Sweden   M   34        P         1    1      0\n",
              "986          987   Sweden   M   77        P         0    1      0\n",
              "987          988   Sweden   F   87        P         0    0      1\n",
              "988          989   Sweden   M   42        P         1    1      0\n",
              "\n",
              "[989 rows x 8 columns]"
            ]
          },
          "metadata": {
            "tags": []
          },
          "execution_count": 90
        }
      ]
    },
    {
      "cell_type": "code",
      "metadata": {
        "id": "E85TrpgXToeU",
        "colab_type": "code",
        "colab": {}
      },
      "source": [
        "data_copy['Category_P'] = data_copy['Category'][data_copy['Category'] == 'P']\n",
        "data_copy['Category_C'] = data_copy['Category'][data_copy['Category'] == 'C']"
      ],
      "execution_count": 91,
      "outputs": []
    },
    {
      "cell_type": "code",
      "metadata": {
        "id": "FhhrbZq9T0Y8",
        "colab_type": "code",
        "colab": {
          "base_uri": "https://localhost:8080/",
          "height": 377
        },
        "outputId": "81de9e70-3d0e-435b-8ba6-0b77a0d4db38"
      },
      "source": [
        "for i in range(len(data_copy['Category_P'])):\n",
        "  if data_copy['Category_P'][i] == 'P':\n",
        "    data_copy['Category_P'][i] = 1\n",
        "  else :\n",
        "    data_copy['Category_P'][i] = 0\n",
        "  if data_copy['Category_C'][i] == 'C':\n",
        "    data_copy['Category_C'][i] = 1\n",
        "  else :\n",
        "    data_copy['Category_C'][i] = 0  "
      ],
      "execution_count": 92,
      "outputs": [
        {
          "output_type": "stream",
          "text": [
            "/usr/local/lib/python3.6/dist-packages/ipykernel_launcher.py:3: SettingWithCopyWarning: \n",
            "A value is trying to be set on a copy of a slice from a DataFrame\n",
            "\n",
            "See the caveats in the documentation: https://pandas.pydata.org/pandas-docs/stable/user_guide/indexing.html#returning-a-view-versus-a-copy\n",
            "  This is separate from the ipykernel package so we can avoid doing imports until\n",
            "/usr/local/lib/python3.6/dist-packages/ipykernel_launcher.py:9: SettingWithCopyWarning: \n",
            "A value is trying to be set on a copy of a slice from a DataFrame\n",
            "\n",
            "See the caveats in the documentation: https://pandas.pydata.org/pandas-docs/stable/user_guide/indexing.html#returning-a-view-versus-a-copy\n",
            "  if __name__ == '__main__':\n",
            "/usr/local/lib/python3.6/dist-packages/ipykernel_launcher.py:5: SettingWithCopyWarning: \n",
            "A value is trying to be set on a copy of a slice from a DataFrame\n",
            "\n",
            "See the caveats in the documentation: https://pandas.pydata.org/pandas-docs/stable/user_guide/indexing.html#returning-a-view-versus-a-copy\n",
            "  \"\"\"\n",
            "/usr/local/lib/python3.6/dist-packages/ipykernel_launcher.py:7: SettingWithCopyWarning: \n",
            "A value is trying to be set on a copy of a slice from a DataFrame\n",
            "\n",
            "See the caveats in the documentation: https://pandas.pydata.org/pandas-docs/stable/user_guide/indexing.html#returning-a-view-versus-a-copy\n",
            "  import sys\n"
          ],
          "name": "stderr"
        }
      ]
    },
    {
      "cell_type": "code",
      "metadata": {
        "id": "8bhF2r8BUKr0",
        "colab_type": "code",
        "colab": {
          "base_uri": "https://localhost:8080/",
          "height": 419
        },
        "outputId": "401379e9-248e-4964-ccdb-88c6b99f8834"
      },
      "source": [
        "data_copy"
      ],
      "execution_count": 93,
      "outputs": [
        {
          "output_type": "execute_result",
          "data": {
            "text/html": [
              "<div>\n",
              "<style scoped>\n",
              "    .dataframe tbody tr th:only-of-type {\n",
              "        vertical-align: middle;\n",
              "    }\n",
              "\n",
              "    .dataframe tbody tr th {\n",
              "        vertical-align: top;\n",
              "    }\n",
              "\n",
              "    .dataframe thead th {\n",
              "        text-align: right;\n",
              "    }\n",
              "</style>\n",
              "<table border=\"1\" class=\"dataframe\">\n",
              "  <thead>\n",
              "    <tr style=\"text-align: right;\">\n",
              "      <th></th>\n",
              "      <th>PassengerId</th>\n",
              "      <th>Country</th>\n",
              "      <th>Sex</th>\n",
              "      <th>Age</th>\n",
              "      <th>Category</th>\n",
              "      <th>Survived</th>\n",
              "      <th>male</th>\n",
              "      <th>female</th>\n",
              "      <th>Category_P</th>\n",
              "      <th>Category_C</th>\n",
              "    </tr>\n",
              "  </thead>\n",
              "  <tbody>\n",
              "    <tr>\n",
              "      <th>0</th>\n",
              "      <td>1</td>\n",
              "      <td>Sweden</td>\n",
              "      <td>M</td>\n",
              "      <td>62</td>\n",
              "      <td>P</td>\n",
              "      <td>0</td>\n",
              "      <td>1</td>\n",
              "      <td>0</td>\n",
              "      <td>1</td>\n",
              "      <td>0</td>\n",
              "    </tr>\n",
              "    <tr>\n",
              "      <th>1</th>\n",
              "      <td>2</td>\n",
              "      <td>Estonia</td>\n",
              "      <td>F</td>\n",
              "      <td>22</td>\n",
              "      <td>C</td>\n",
              "      <td>0</td>\n",
              "      <td>0</td>\n",
              "      <td>1</td>\n",
              "      <td>0</td>\n",
              "      <td>1</td>\n",
              "    </tr>\n",
              "    <tr>\n",
              "      <th>2</th>\n",
              "      <td>3</td>\n",
              "      <td>Estonia</td>\n",
              "      <td>F</td>\n",
              "      <td>21</td>\n",
              "      <td>C</td>\n",
              "      <td>0</td>\n",
              "      <td>0</td>\n",
              "      <td>1</td>\n",
              "      <td>0</td>\n",
              "      <td>1</td>\n",
              "    </tr>\n",
              "    <tr>\n",
              "      <th>3</th>\n",
              "      <td>4</td>\n",
              "      <td>Sweden</td>\n",
              "      <td>M</td>\n",
              "      <td>53</td>\n",
              "      <td>C</td>\n",
              "      <td>0</td>\n",
              "      <td>1</td>\n",
              "      <td>0</td>\n",
              "      <td>0</td>\n",
              "      <td>1</td>\n",
              "    </tr>\n",
              "    <tr>\n",
              "      <th>4</th>\n",
              "      <td>5</td>\n",
              "      <td>Sweden</td>\n",
              "      <td>F</td>\n",
              "      <td>55</td>\n",
              "      <td>P</td>\n",
              "      <td>0</td>\n",
              "      <td>0</td>\n",
              "      <td>1</td>\n",
              "      <td>1</td>\n",
              "      <td>0</td>\n",
              "    </tr>\n",
              "    <tr>\n",
              "      <th>...</th>\n",
              "      <td>...</td>\n",
              "      <td>...</td>\n",
              "      <td>...</td>\n",
              "      <td>...</td>\n",
              "      <td>...</td>\n",
              "      <td>...</td>\n",
              "      <td>...</td>\n",
              "      <td>...</td>\n",
              "      <td>...</td>\n",
              "      <td>...</td>\n",
              "    </tr>\n",
              "    <tr>\n",
              "      <th>984</th>\n",
              "      <td>985</td>\n",
              "      <td>Sweden</td>\n",
              "      <td>F</td>\n",
              "      <td>60</td>\n",
              "      <td>P</td>\n",
              "      <td>0</td>\n",
              "      <td>0</td>\n",
              "      <td>1</td>\n",
              "      <td>1</td>\n",
              "      <td>0</td>\n",
              "    </tr>\n",
              "    <tr>\n",
              "      <th>985</th>\n",
              "      <td>986</td>\n",
              "      <td>Sweden</td>\n",
              "      <td>M</td>\n",
              "      <td>34</td>\n",
              "      <td>P</td>\n",
              "      <td>1</td>\n",
              "      <td>1</td>\n",
              "      <td>0</td>\n",
              "      <td>1</td>\n",
              "      <td>0</td>\n",
              "    </tr>\n",
              "    <tr>\n",
              "      <th>986</th>\n",
              "      <td>987</td>\n",
              "      <td>Sweden</td>\n",
              "      <td>M</td>\n",
              "      <td>77</td>\n",
              "      <td>P</td>\n",
              "      <td>0</td>\n",
              "      <td>1</td>\n",
              "      <td>0</td>\n",
              "      <td>1</td>\n",
              "      <td>0</td>\n",
              "    </tr>\n",
              "    <tr>\n",
              "      <th>987</th>\n",
              "      <td>988</td>\n",
              "      <td>Sweden</td>\n",
              "      <td>F</td>\n",
              "      <td>87</td>\n",
              "      <td>P</td>\n",
              "      <td>0</td>\n",
              "      <td>0</td>\n",
              "      <td>1</td>\n",
              "      <td>1</td>\n",
              "      <td>0</td>\n",
              "    </tr>\n",
              "    <tr>\n",
              "      <th>988</th>\n",
              "      <td>989</td>\n",
              "      <td>Sweden</td>\n",
              "      <td>M</td>\n",
              "      <td>42</td>\n",
              "      <td>P</td>\n",
              "      <td>1</td>\n",
              "      <td>1</td>\n",
              "      <td>0</td>\n",
              "      <td>1</td>\n",
              "      <td>0</td>\n",
              "    </tr>\n",
              "  </tbody>\n",
              "</table>\n",
              "<p>989 rows × 10 columns</p>\n",
              "</div>"
            ],
            "text/plain": [
              "     PassengerId  Country Sex  Age  ... male  female Category_P Category_C\n",
              "0              1   Sweden   M   62  ...    1       0          1          0\n",
              "1              2  Estonia   F   22  ...    0       1          0          1\n",
              "2              3  Estonia   F   21  ...    0       1          0          1\n",
              "3              4   Sweden   M   53  ...    1       0          0          1\n",
              "4              5   Sweden   F   55  ...    0       1          1          0\n",
              "..           ...      ...  ..  ...  ...  ...     ...        ...        ...\n",
              "984          985   Sweden   F   60  ...    0       1          1          0\n",
              "985          986   Sweden   M   34  ...    1       0          1          0\n",
              "986          987   Sweden   M   77  ...    1       0          1          0\n",
              "987          988   Sweden   F   87  ...    0       1          1          0\n",
              "988          989   Sweden   M   42  ...    1       0          1          0\n",
              "\n",
              "[989 rows x 10 columns]"
            ]
          },
          "metadata": {
            "tags": []
          },
          "execution_count": 93
        }
      ]
    },
    {
      "cell_type": "code",
      "metadata": {
        "id": "1ohO-h-QUQm1",
        "colab_type": "code",
        "colab": {
          "base_uri": "https://localhost:8080/",
          "height": 143
        },
        "outputId": "c2076fe7-ced2-4de2-d6d4-e77b4b53ae98"
      },
      "source": [
        "from sklearn.preprocessing import OneHotEncoder\n",
        "\n",
        "cat_encoder = OneHotEncoder()\n",
        "data_encoder = cat_encoder.fit_transform(data_copy[['Country']])\n",
        "data_encoder.toarray()"
      ],
      "execution_count": 94,
      "outputs": [
        {
          "output_type": "execute_result",
          "data": {
            "text/plain": [
              "array([[0., 0., 0., ..., 0., 0., 1.],\n",
              "       [0., 0., 0., ..., 0., 0., 0.],\n",
              "       [0., 0., 0., ..., 0., 0., 0.],\n",
              "       ...,\n",
              "       [0., 0., 0., ..., 0., 0., 1.],\n",
              "       [0., 0., 0., ..., 0., 0., 1.],\n",
              "       [0., 0., 0., ..., 0., 0., 1.]])"
            ]
          },
          "metadata": {
            "tags": []
          },
          "execution_count": 94
        }
      ]
    },
    {
      "cell_type": "code",
      "metadata": {
        "id": "UfhlVKJfU3cH",
        "colab_type": "code",
        "colab": {}
      },
      "source": [
        "data_copy['Country'] = np.argmax(data_encoder, axis=1).reshape(-1,1)"
      ],
      "execution_count": 95,
      "outputs": []
    },
    {
      "cell_type": "code",
      "metadata": {
        "id": "mHqTbzjqVFN1",
        "colab_type": "code",
        "colab": {
          "base_uri": "https://localhost:8080/",
          "height": 419
        },
        "outputId": "7e37166c-e189-4787-940a-8b3310dcce9a"
      },
      "source": [
        "data_copy"
      ],
      "execution_count": 96,
      "outputs": [
        {
          "output_type": "execute_result",
          "data": {
            "text/html": [
              "<div>\n",
              "<style scoped>\n",
              "    .dataframe tbody tr th:only-of-type {\n",
              "        vertical-align: middle;\n",
              "    }\n",
              "\n",
              "    .dataframe tbody tr th {\n",
              "        vertical-align: top;\n",
              "    }\n",
              "\n",
              "    .dataframe thead th {\n",
              "        text-align: right;\n",
              "    }\n",
              "</style>\n",
              "<table border=\"1\" class=\"dataframe\">\n",
              "  <thead>\n",
              "    <tr style=\"text-align: right;\">\n",
              "      <th></th>\n",
              "      <th>PassengerId</th>\n",
              "      <th>Country</th>\n",
              "      <th>Sex</th>\n",
              "      <th>Age</th>\n",
              "      <th>Category</th>\n",
              "      <th>Survived</th>\n",
              "      <th>male</th>\n",
              "      <th>female</th>\n",
              "      <th>Category_P</th>\n",
              "      <th>Category_C</th>\n",
              "    </tr>\n",
              "  </thead>\n",
              "  <tbody>\n",
              "    <tr>\n",
              "      <th>0</th>\n",
              "      <td>1</td>\n",
              "      <td>15</td>\n",
              "      <td>M</td>\n",
              "      <td>62</td>\n",
              "      <td>P</td>\n",
              "      <td>0</td>\n",
              "      <td>1</td>\n",
              "      <td>0</td>\n",
              "      <td>1</td>\n",
              "      <td>0</td>\n",
              "    </tr>\n",
              "    <tr>\n",
              "      <th>1</th>\n",
              "      <td>2</td>\n",
              "      <td>3</td>\n",
              "      <td>F</td>\n",
              "      <td>22</td>\n",
              "      <td>C</td>\n",
              "      <td>0</td>\n",
              "      <td>0</td>\n",
              "      <td>1</td>\n",
              "      <td>0</td>\n",
              "      <td>1</td>\n",
              "    </tr>\n",
              "    <tr>\n",
              "      <th>2</th>\n",
              "      <td>3</td>\n",
              "      <td>3</td>\n",
              "      <td>F</td>\n",
              "      <td>21</td>\n",
              "      <td>C</td>\n",
              "      <td>0</td>\n",
              "      <td>0</td>\n",
              "      <td>1</td>\n",
              "      <td>0</td>\n",
              "      <td>1</td>\n",
              "    </tr>\n",
              "    <tr>\n",
              "      <th>3</th>\n",
              "      <td>4</td>\n",
              "      <td>15</td>\n",
              "      <td>M</td>\n",
              "      <td>53</td>\n",
              "      <td>C</td>\n",
              "      <td>0</td>\n",
              "      <td>1</td>\n",
              "      <td>0</td>\n",
              "      <td>0</td>\n",
              "      <td>1</td>\n",
              "    </tr>\n",
              "    <tr>\n",
              "      <th>4</th>\n",
              "      <td>5</td>\n",
              "      <td>15</td>\n",
              "      <td>F</td>\n",
              "      <td>55</td>\n",
              "      <td>P</td>\n",
              "      <td>0</td>\n",
              "      <td>0</td>\n",
              "      <td>1</td>\n",
              "      <td>1</td>\n",
              "      <td>0</td>\n",
              "    </tr>\n",
              "    <tr>\n",
              "      <th>...</th>\n",
              "      <td>...</td>\n",
              "      <td>...</td>\n",
              "      <td>...</td>\n",
              "      <td>...</td>\n",
              "      <td>...</td>\n",
              "      <td>...</td>\n",
              "      <td>...</td>\n",
              "      <td>...</td>\n",
              "      <td>...</td>\n",
              "      <td>...</td>\n",
              "    </tr>\n",
              "    <tr>\n",
              "      <th>984</th>\n",
              "      <td>985</td>\n",
              "      <td>15</td>\n",
              "      <td>F</td>\n",
              "      <td>60</td>\n",
              "      <td>P</td>\n",
              "      <td>0</td>\n",
              "      <td>0</td>\n",
              "      <td>1</td>\n",
              "      <td>1</td>\n",
              "      <td>0</td>\n",
              "    </tr>\n",
              "    <tr>\n",
              "      <th>985</th>\n",
              "      <td>986</td>\n",
              "      <td>15</td>\n",
              "      <td>M</td>\n",
              "      <td>34</td>\n",
              "      <td>P</td>\n",
              "      <td>1</td>\n",
              "      <td>1</td>\n",
              "      <td>0</td>\n",
              "      <td>1</td>\n",
              "      <td>0</td>\n",
              "    </tr>\n",
              "    <tr>\n",
              "      <th>986</th>\n",
              "      <td>987</td>\n",
              "      <td>15</td>\n",
              "      <td>M</td>\n",
              "      <td>77</td>\n",
              "      <td>P</td>\n",
              "      <td>0</td>\n",
              "      <td>1</td>\n",
              "      <td>0</td>\n",
              "      <td>1</td>\n",
              "      <td>0</td>\n",
              "    </tr>\n",
              "    <tr>\n",
              "      <th>987</th>\n",
              "      <td>988</td>\n",
              "      <td>15</td>\n",
              "      <td>F</td>\n",
              "      <td>87</td>\n",
              "      <td>P</td>\n",
              "      <td>0</td>\n",
              "      <td>0</td>\n",
              "      <td>1</td>\n",
              "      <td>1</td>\n",
              "      <td>0</td>\n",
              "    </tr>\n",
              "    <tr>\n",
              "      <th>988</th>\n",
              "      <td>989</td>\n",
              "      <td>15</td>\n",
              "      <td>M</td>\n",
              "      <td>42</td>\n",
              "      <td>P</td>\n",
              "      <td>1</td>\n",
              "      <td>1</td>\n",
              "      <td>0</td>\n",
              "      <td>1</td>\n",
              "      <td>0</td>\n",
              "    </tr>\n",
              "  </tbody>\n",
              "</table>\n",
              "<p>989 rows × 10 columns</p>\n",
              "</div>"
            ],
            "text/plain": [
              "     PassengerId  Country Sex  Age  ... male  female Category_P Category_C\n",
              "0              1       15   M   62  ...    1       0          1          0\n",
              "1              2        3   F   22  ...    0       1          0          1\n",
              "2              3        3   F   21  ...    0       1          0          1\n",
              "3              4       15   M   53  ...    1       0          0          1\n",
              "4              5       15   F   55  ...    0       1          1          0\n",
              "..           ...      ...  ..  ...  ...  ...     ...        ...        ...\n",
              "984          985       15   F   60  ...    0       1          1          0\n",
              "985          986       15   M   34  ...    1       0          1          0\n",
              "986          987       15   M   77  ...    1       0          1          0\n",
              "987          988       15   F   87  ...    0       1          1          0\n",
              "988          989       15   M   42  ...    1       0          1          0\n",
              "\n",
              "[989 rows x 10 columns]"
            ]
          },
          "metadata": {
            "tags": []
          },
          "execution_count": 96
        }
      ]
    },
    {
      "cell_type": "code",
      "metadata": {
        "id": "6ateXLA0VIdt",
        "colab_type": "code",
        "colab": {}
      },
      "source": [
        "del data_copy['Sex']\n",
        "del data_copy['Category']"
      ],
      "execution_count": 97,
      "outputs": []
    },
    {
      "cell_type": "code",
      "metadata": {
        "id": "jAH6gOzyVShF",
        "colab_type": "code",
        "colab": {
          "base_uri": "https://localhost:8080/",
          "height": 287
        },
        "outputId": "f6133d5c-fc07-4472-bf4e-183da834327f"
      },
      "source": [
        "data_copy.info()"
      ],
      "execution_count": 98,
      "outputs": [
        {
          "output_type": "stream",
          "text": [
            "<class 'pandas.core.frame.DataFrame'>\n",
            "RangeIndex: 989 entries, 0 to 988\n",
            "Data columns (total 8 columns):\n",
            " #   Column       Non-Null Count  Dtype \n",
            "---  ------       --------------  ----- \n",
            " 0   PassengerId  989 non-null    int64 \n",
            " 1   Country      989 non-null    int64 \n",
            " 2   Age          989 non-null    int64 \n",
            " 3   Survived     989 non-null    int64 \n",
            " 4   male         989 non-null    object\n",
            " 5   female       989 non-null    object\n",
            " 6   Category_P   989 non-null    object\n",
            " 7   Category_C   989 non-null    object\n",
            "dtypes: int64(4), object(4)\n",
            "memory usage: 61.9+ KB\n"
          ],
          "name": "stdout"
        }
      ]
    },
    {
      "cell_type": "code",
      "metadata": {
        "id": "KG1M8VOwVWFF",
        "colab_type": "code",
        "colab": {}
      },
      "source": [
        "data_copy['male'] = data_copy['male'].astype(np.int64)\n",
        "data_copy['female'] = data_copy['female'].astype(np.int64)\n",
        "data_copy['Category_P'] = data_copy['Category_P'].astype(np.int64)\n",
        "data_copy['Category_C'] = data_copy['Category_C'].astype(np.int64)"
      ],
      "execution_count": 99,
      "outputs": []
    },
    {
      "cell_type": "code",
      "metadata": {
        "id": "f21B1a4UWMKF",
        "colab_type": "code",
        "colab": {}
      },
      "source": [
        "data_copy = data_copy.astype(float)"
      ],
      "execution_count": 100,
      "outputs": []
    },
    {
      "cell_type": "code",
      "metadata": {
        "id": "9Fr8l2D1VND9",
        "colab_type": "code",
        "colab": {
          "base_uri": "https://localhost:8080/",
          "height": 297
        },
        "outputId": "52962c88-c075-4601-e610-c4c138929022"
      },
      "source": [
        "data_corr = data_copy.corr()\n",
        "data_corr"
      ],
      "execution_count": 101,
      "outputs": [
        {
          "output_type": "execute_result",
          "data": {
            "text/html": [
              "<div>\n",
              "<style scoped>\n",
              "    .dataframe tbody tr th:only-of-type {\n",
              "        vertical-align: middle;\n",
              "    }\n",
              "\n",
              "    .dataframe tbody tr th {\n",
              "        vertical-align: top;\n",
              "    }\n",
              "\n",
              "    .dataframe thead th {\n",
              "        text-align: right;\n",
              "    }\n",
              "</style>\n",
              "<table border=\"1\" class=\"dataframe\">\n",
              "  <thead>\n",
              "    <tr style=\"text-align: right;\">\n",
              "      <th></th>\n",
              "      <th>PassengerId</th>\n",
              "      <th>Country</th>\n",
              "      <th>Age</th>\n",
              "      <th>Survived</th>\n",
              "      <th>male</th>\n",
              "      <th>female</th>\n",
              "      <th>Category_P</th>\n",
              "      <th>Category_C</th>\n",
              "    </tr>\n",
              "  </thead>\n",
              "  <tbody>\n",
              "    <tr>\n",
              "      <th>PassengerId</th>\n",
              "      <td>1.000000</td>\n",
              "      <td>-0.130930</td>\n",
              "      <td>-0.073684</td>\n",
              "      <td>0.036620</td>\n",
              "      <td>0.064499</td>\n",
              "      <td>-0.064499</td>\n",
              "      <td>-0.108356</td>\n",
              "      <td>0.108356</td>\n",
              "    </tr>\n",
              "    <tr>\n",
              "      <th>Country</th>\n",
              "      <td>-0.130930</td>\n",
              "      <td>1.000000</td>\n",
              "      <td>0.510668</td>\n",
              "      <td>-0.143153</td>\n",
              "      <td>-0.079219</td>\n",
              "      <td>0.079219</td>\n",
              "      <td>0.501571</td>\n",
              "      <td>-0.501571</td>\n",
              "    </tr>\n",
              "    <tr>\n",
              "      <th>Age</th>\n",
              "      <td>-0.073684</td>\n",
              "      <td>0.510668</td>\n",
              "      <td>1.000000</td>\n",
              "      <td>-0.245832</td>\n",
              "      <td>-0.053819</td>\n",
              "      <td>0.053819</td>\n",
              "      <td>0.325096</td>\n",
              "      <td>-0.325096</td>\n",
              "    </tr>\n",
              "    <tr>\n",
              "      <th>Survived</th>\n",
              "      <td>0.036620</td>\n",
              "      <td>-0.143153</td>\n",
              "      <td>-0.245832</td>\n",
              "      <td>1.000000</td>\n",
              "      <td>0.236082</td>\n",
              "      <td>-0.236082</td>\n",
              "      <td>-0.090583</td>\n",
              "      <td>0.090583</td>\n",
              "    </tr>\n",
              "    <tr>\n",
              "      <th>male</th>\n",
              "      <td>0.064499</td>\n",
              "      <td>-0.079219</td>\n",
              "      <td>-0.053819</td>\n",
              "      <td>0.236082</td>\n",
              "      <td>1.000000</td>\n",
              "      <td>-1.000000</td>\n",
              "      <td>0.072258</td>\n",
              "      <td>-0.072258</td>\n",
              "    </tr>\n",
              "    <tr>\n",
              "      <th>female</th>\n",
              "      <td>-0.064499</td>\n",
              "      <td>0.079219</td>\n",
              "      <td>0.053819</td>\n",
              "      <td>-0.236082</td>\n",
              "      <td>-1.000000</td>\n",
              "      <td>1.000000</td>\n",
              "      <td>-0.072258</td>\n",
              "      <td>0.072258</td>\n",
              "    </tr>\n",
              "    <tr>\n",
              "      <th>Category_P</th>\n",
              "      <td>-0.108356</td>\n",
              "      <td>0.501571</td>\n",
              "      <td>0.325096</td>\n",
              "      <td>-0.090583</td>\n",
              "      <td>0.072258</td>\n",
              "      <td>-0.072258</td>\n",
              "      <td>1.000000</td>\n",
              "      <td>-1.000000</td>\n",
              "    </tr>\n",
              "    <tr>\n",
              "      <th>Category_C</th>\n",
              "      <td>0.108356</td>\n",
              "      <td>-0.501571</td>\n",
              "      <td>-0.325096</td>\n",
              "      <td>0.090583</td>\n",
              "      <td>-0.072258</td>\n",
              "      <td>0.072258</td>\n",
              "      <td>-1.000000</td>\n",
              "      <td>1.000000</td>\n",
              "    </tr>\n",
              "  </tbody>\n",
              "</table>\n",
              "</div>"
            ],
            "text/plain": [
              "             PassengerId   Country       Age  ...    female  Category_P  Category_C\n",
              "PassengerId     1.000000 -0.130930 -0.073684  ... -0.064499   -0.108356    0.108356\n",
              "Country        -0.130930  1.000000  0.510668  ...  0.079219    0.501571   -0.501571\n",
              "Age            -0.073684  0.510668  1.000000  ...  0.053819    0.325096   -0.325096\n",
              "Survived        0.036620 -0.143153 -0.245832  ... -0.236082   -0.090583    0.090583\n",
              "male            0.064499 -0.079219 -0.053819  ... -1.000000    0.072258   -0.072258\n",
              "female         -0.064499  0.079219  0.053819  ...  1.000000   -0.072258    0.072258\n",
              "Category_P     -0.108356  0.501571  0.325096  ... -0.072258    1.000000   -1.000000\n",
              "Category_C      0.108356 -0.501571 -0.325096  ...  0.072258   -1.000000    1.000000\n",
              "\n",
              "[8 rows x 8 columns]"
            ]
          },
          "metadata": {
            "tags": []
          },
          "execution_count": 101
        }
      ]
    },
    {
      "cell_type": "code",
      "metadata": {
        "id": "Otmy5YfGV6KA",
        "colab_type": "code",
        "colab": {
          "base_uri": "https://localhost:8080/",
          "height": 179
        },
        "outputId": "0a58f50c-48fa-4ec9-b339-88b06fe7fac5"
      },
      "source": [
        "data_copy.isnull().sum()"
      ],
      "execution_count": 53,
      "outputs": [
        {
          "output_type": "execute_result",
          "data": {
            "text/plain": [
              "PassengerId    0\n",
              "Country        0\n",
              "Age            0\n",
              "Survived       0\n",
              "male           0\n",
              "female         0\n",
              "Category_P     0\n",
              "Category_C     0\n",
              "dtype: int64"
            ]
          },
          "metadata": {
            "tags": []
          },
          "execution_count": 53
        }
      ]
    },
    {
      "cell_type": "code",
      "metadata": {
        "id": "tq2BENpwXM6F",
        "colab_type": "code",
        "colab": {
          "base_uri": "https://localhost:8080/",
          "height": 1000
        },
        "outputId": "5197c5a6-e1fb-415d-fbeb-e50929568395"
      },
      "source": [
        "from pandas.plotting import scatter_matrix\n",
        "\n",
        "scatter_matrix(data_copy, figsize= (10,12))"
      ],
      "execution_count": 104,
      "outputs": [
        {
          "output_type": "execute_result",
          "data": {
            "text/plain": [
              "array([[<matplotlib.axes._subplots.AxesSubplot object at 0x7f0a8f4f6390>,\n",
              "        <matplotlib.axes._subplots.AxesSubplot object at 0x7f0a8f46f978>,\n",
              "        <matplotlib.axes._subplots.AxesSubplot object at 0x7f0a8f417be0>,\n",
              "        <matplotlib.axes._subplots.AxesSubplot object at 0x7f0a8f446e48>,\n",
              "        <matplotlib.axes._subplots.AxesSubplot object at 0x7f0a8f4000f0>,\n",
              "        <matplotlib.axes._subplots.AxesSubplot object at 0x7f0a8f769ac8>,\n",
              "        <matplotlib.axes._subplots.AxesSubplot object at 0x7f0a8f52a978>,\n",
              "        <matplotlib.axes._subplots.AxesSubplot object at 0x7f0a8f4a0cf8>],\n",
              "       [<matplotlib.axes._subplots.AxesSubplot object at 0x7f0a8f4a0978>,\n",
              "        <matplotlib.axes._subplots.AxesSubplot object at 0x7f0a8f381588>,\n",
              "        <matplotlib.axes._subplots.AxesSubplot object at 0x7f0a8f3347f0>,\n",
              "        <matplotlib.axes._subplots.AxesSubplot object at 0x7f0a8f2e7a58>,\n",
              "        <matplotlib.axes._subplots.AxesSubplot object at 0x7f0a8f29ccc0>,\n",
              "        <matplotlib.axes._subplots.AxesSubplot object at 0x7f0a8f2d2f28>,\n",
              "        <matplotlib.axes._subplots.AxesSubplot object at 0x7f0a8f2921d0>,\n",
              "        <matplotlib.axes._subplots.AxesSubplot object at 0x7f0a8f245438>],\n",
              "       [<matplotlib.axes._subplots.AxesSubplot object at 0x7f0a8f1fa6a0>,\n",
              "        <matplotlib.axes._subplots.AxesSubplot object at 0x7f0a8f1ae908>,\n",
              "        <matplotlib.axes._subplots.AxesSubplot object at 0x7f0a8f160b70>,\n",
              "        <matplotlib.axes._subplots.AxesSubplot object at 0x7f0a8f195dd8>,\n",
              "        <matplotlib.axes._subplots.AxesSubplot object at 0x7f0a8f0d7080>,\n",
              "        <matplotlib.axes._subplots.AxesSubplot object at 0x7f0a8f10b2e8>,\n",
              "        <matplotlib.axes._subplots.AxesSubplot object at 0x7f0a8f0bd550>,\n",
              "        <matplotlib.axes._subplots.AxesSubplot object at 0x7f0a8f0717b8>],\n",
              "       [<matplotlib.axes._subplots.AxesSubplot object at 0x7f0a8f024a20>,\n",
              "        <matplotlib.axes._subplots.AxesSubplot object at 0x7f0a8efd9c88>,\n",
              "        <matplotlib.axes._subplots.AxesSubplot object at 0x7f0a8f00eef0>,\n",
              "        <matplotlib.axes._subplots.AxesSubplot object at 0x7f0a8efce198>,\n",
              "        <matplotlib.axes._subplots.AxesSubplot object at 0x7f0a8ef80400>,\n",
              "        <matplotlib.axes._subplots.AxesSubplot object at 0x7f0a8ef35668>,\n",
              "        <matplotlib.axes._subplots.AxesSubplot object at 0x7f0a8eeea8d0>,\n",
              "        <matplotlib.axes._subplots.AxesSubplot object at 0x7f0a8ee9cb38>],\n",
              "       [<matplotlib.axes._subplots.AxesSubplot object at 0x7f0a8eed2da0>,\n",
              "        <matplotlib.axes._subplots.AxesSubplot object at 0x7f0a8ee88fd0>,\n",
              "        <matplotlib.axes._subplots.AxesSubplot object at 0x7f0a8ee490f0>,\n",
              "        <matplotlib.axes._subplots.AxesSubplot object at 0x7f0a8edf8470>,\n",
              "        <matplotlib.axes._subplots.AxesSubplot object at 0x7f0a8edac7f0>,\n",
              "        <matplotlib.axes._subplots.AxesSubplot object at 0x7f0a8ed5db70>,\n",
              "        <matplotlib.axes._subplots.AxesSubplot object at 0x7f0a8ed8fef0>,\n",
              "        <matplotlib.axes._subplots.AxesSubplot object at 0x7f0a8ed4e2b0>],\n",
              "       [<matplotlib.axes._subplots.AxesSubplot object at 0x7f0a8ecfe630>,\n",
              "        <matplotlib.axes._subplots.AxesSubplot object at 0x7f0a8ecb29b0>,\n",
              "        <matplotlib.axes._subplots.AxesSubplot object at 0x7f0a8ec64d30>,\n",
              "        <matplotlib.axes._subplots.AxesSubplot object at 0x7f0a8ec230f0>,\n",
              "        <matplotlib.axes._subplots.AxesSubplot object at 0x7f0a8ec55470>,\n",
              "        <matplotlib.axes._subplots.AxesSubplot object at 0x7f0a8ec067f0>,\n",
              "        <matplotlib.axes._subplots.AxesSubplot object at 0x7f0a8ebbab70>,\n",
              "        <matplotlib.axes._subplots.AxesSubplot object at 0x7f0a8eb6def0>],\n",
              "       [<matplotlib.axes._subplots.AxesSubplot object at 0x7f0a8eb2b2b0>,\n",
              "        <matplotlib.axes._subplots.AxesSubplot object at 0x7f0a8eadb630>,\n",
              "        <matplotlib.axes._subplots.AxesSubplot object at 0x7f0a8eb109b0>,\n",
              "        <matplotlib.axes._subplots.AxesSubplot object at 0x7f0a8eac0d30>,\n",
              "        <matplotlib.axes._subplots.AxesSubplot object at 0x7f0a8ea7f0f0>,\n",
              "        <matplotlib.axes._subplots.AxesSubplot object at 0x7f0a8ea32470>,\n",
              "        <matplotlib.axes._subplots.AxesSubplot object at 0x7f0a8e9e37f0>,\n",
              "        <matplotlib.axes._subplots.AxesSubplot object at 0x7f0a8ea15b70>],\n",
              "       [<matplotlib.axes._subplots.AxesSubplot object at 0x7f0a8e9c9ef0>,\n",
              "        <matplotlib.axes._subplots.AxesSubplot object at 0x7f0a8e9862b0>,\n",
              "        <matplotlib.axes._subplots.AxesSubplot object at 0x7f0a8e938630>,\n",
              "        <matplotlib.axes._subplots.AxesSubplot object at 0x7f0a8e8e99b0>,\n",
              "        <matplotlib.axes._subplots.AxesSubplot object at 0x7f0a8e89ed30>,\n",
              "        <matplotlib.axes._subplots.AxesSubplot object at 0x7f0a8f7a4588>,\n",
              "        <matplotlib.axes._subplots.AxesSubplot object at 0x7f0a8f2f68d0>,\n",
              "        <matplotlib.axes._subplots.AxesSubplot object at 0x7f0a8f1bf240>]],\n",
              "      dtype=object)"
            ]
          },
          "metadata": {
            "tags": []
          },
          "execution_count": 104
        },
        {
          "output_type": "display_data",
          "data": {
            "image/png": "[encoded data removed]",
            "text/plain": [
              "<Figure size 720x864 with 64 Axes>"
            ]
          },
          "metadata": {
            "tags": [],
            "needs_background": "light"
          }
        }
      ]
    },
    {
      "cell_type": "code",
      "metadata": {
        "id": "8X3_kY6eXfCx",
        "colab_type": "code",
        "colab": {}
      },
      "source": [
        "from sklearn.model_selection import train_test_split\n",
        "\n",
        "train_set, test_set = train_test_split(data_copy, test_size = 0.2)\n",
        "\n",
        "train_y = train_set['Survived']\n",
        "del train_set['Survived']\n",
        "\n",
        "test_y = test_set['Survived']\n",
        "del test_set['Survived']"
      ],
      "execution_count": 106,
      "outputs": []
    },
    {
      "cell_type": "code",
      "metadata": {
        "id": "1BEp6BqyYJxW",
        "colab_type": "code",
        "colab": {
          "base_uri": "https://localhost:8080/",
          "height": 53
        },
        "outputId": "34dca33e-6a35-4eb5-f6ab-3cfb92e90b7c"
      },
      "source": [
        "from sklearn.linear_model import LogisticRegression\n",
        "\n",
        "clf = LogisticRegression(random_state=0).fit(train_set,train_y)\n",
        "some_data = train_set.iloc[6:10]\n",
        "some_labels = train_y.iloc[6:10]\n",
        "print(\"예측:\", clf.predict(some_data))\n",
        "print(\"레이블:\", list(some_labels))"
      ],
      "execution_count": 107,
      "outputs": [
        {
          "output_type": "stream",
          "text": [
            "예측: [0. 0. 0. 0.]\n",
            "레이블: [0.0, 0.0, 0.0, 0.0]\n"
          ],
          "name": "stdout"
        }
      ]
    },
    {
      "cell_type": "code",
      "metadata": {
        "id": "xVZwNMFIYPRm",
        "colab_type": "code",
        "colab": {
          "base_uri": "https://localhost:8080/",
          "height": 125
        },
        "outputId": "f2937eb8-023b-47c3-ce47-53412fb2504d"
      },
      "source": [
        "from sklearn.tree import DecisionTreeClassifier\n",
        "\n",
        "tree_clf = DecisionTreeClassifier(max_depth = 5)\n",
        "\n",
        "tree_clf.fit(train_set,train_y)"
      ],
      "execution_count": 110,
      "outputs": [
        {
          "output_type": "execute_result",
          "data": {
            "text/plain": [
              "DecisionTreeClassifier(ccp_alpha=0.0, class_weight=None, criterion='gini',\n",
              "                       max_depth=5, max_features=None, max_leaf_nodes=None,\n",
              "                       min_impurity_decrease=0.0, min_impurity_split=None,\n",
              "                       min_samples_leaf=1, min_samples_split=2,\n",
              "                       min_weight_fraction_leaf=0.0, presort='deprecated',\n",
              "                       random_state=None, splitter='best')"
            ]
          },
          "metadata": {
            "tags": []
          },
          "execution_count": 110
        }
      ]
    },
    {
      "cell_type": "code",
      "metadata": {
        "id": "Im-RFUb6YRNu",
        "colab_type": "code",
        "colab": {
          "base_uri": "https://localhost:8080/",
          "height": 53
        },
        "outputId": "00ea3434-26ca-4be0-bbd1-64628657fdd9"
      },
      "source": [
        "some_data = train_set.iloc[6:10]\n",
        "some_labels = train_y.iloc[6:10]\n",
        "print(\"예측:\", tree_clf.predict(some_data))\n",
        "print(\"레이블:\", list(some_labels))"
      ],
      "execution_count": 111,
      "outputs": [
        {
          "output_type": "stream",
          "text": [
            "예측: [0. 0. 0. 0.]\n",
            "레이블: [0.0, 0.0, 0.0, 0.0]\n"
          ],
          "name": "stdout"
        }
      ]
    },
    {
      "cell_type": "code",
      "metadata": {
        "id": "dBFN00sRYTJC",
        "colab_type": "code",
        "colab": {
          "base_uri": "https://localhost:8080/",
          "height": 71
        },
        "outputId": "31a737a3-954a-4531-dee9-f69f0fa089f7"
      },
      "source": [
        "from sklearn.neighbors import KNeighborsClassifier\n",
        "knn = KNeighborsClassifier(n_neighbors=100)\n",
        "knn.fit(train_set, train_y)"
      ],
      "execution_count": 112,
      "outputs": [
        {
          "output_type": "execute_result",
          "data": {
            "text/plain": [
              "KNeighborsClassifier(algorithm='auto', leaf_size=30, metric='minkowski',\n",
              "                     metric_params=None, n_jobs=None, n_neighbors=100, p=2,\n",
              "                     weights='uniform')"
            ]
          },
          "metadata": {
            "tags": []
          },
          "execution_count": 112
        }
      ]
    },
    {
      "cell_type": "code",
      "metadata": {
        "id": "26jhBOMgYbFW",
        "colab_type": "code",
        "colab": {
          "base_uri": "https://localhost:8080/",
          "height": 53
        },
        "outputId": "dc95e19e-1ee0-4883-afd7-e1f5874dc882"
      },
      "source": [
        "some_data = train_set.iloc[6:10]\n",
        "some_labels = train_y.iloc[6:10]\n",
        "print(\"예측:\", knn.predict(some_data))\n",
        "print(\"레이블:\", list(some_labels))"
      ],
      "execution_count": 113,
      "outputs": [
        {
          "output_type": "stream",
          "text": [
            "예측: [0. 0. 0. 0.]\n",
            "레이블: [0.0, 0.0, 0.0, 0.0]\n"
          ],
          "name": "stdout"
        }
      ]
    },
    {
      "cell_type": "code",
      "metadata": {
        "id": "PvSLX4W7YcoN",
        "colab_type": "code",
        "colab": {
          "base_uri": "https://localhost:8080/",
          "height": 35
        },
        "outputId": "c3d9609a-4976-49c8-b970-9c4521b4d194"
      },
      "source": [
        "from sklearn.metrics import mean_squared_error\n",
        "predictions = tree_clf.predict(train_set)\n",
        "tree_mse = mean_squared_error(train_y, predictions)\n",
        "tree_rmse = np.sqrt(tree_mse)\n",
        "tree_rmse"
      ],
      "execution_count": 114,
      "outputs": [
        {
          "output_type": "execute_result",
          "data": {
            "text/plain": [
              "0.3608530418682061"
            ]
          },
          "metadata": {
            "tags": []
          },
          "execution_count": 114
        }
      ]
    },
    {
      "cell_type": "code",
      "metadata": {
        "id": "FpitM_hvYfVl",
        "colab_type": "code",
        "colab": {
          "base_uri": "https://localhost:8080/",
          "height": 35
        },
        "outputId": "638014d9-e27a-44de-db4e-03fa12d99b6c"
      },
      "source": [
        "predictions = clf.predict(train_set)\n",
        "tree_mse = mean_squared_error(train_y, predictions)\n",
        "tree_rmse = np.sqrt(tree_mse)\n",
        "tree_rmse"
      ],
      "execution_count": 115,
      "outputs": [
        {
          "output_type": "execute_result",
          "data": {
            "text/plain": [
              "0.38949544333569136"
            ]
          },
          "metadata": {
            "tags": []
          },
          "execution_count": 115
        }
      ]
    },
    {
      "cell_type": "code",
      "metadata": {
        "id": "jZ__hCffYhEF",
        "colab_type": "code",
        "colab": {
          "base_uri": "https://localhost:8080/",
          "height": 35
        },
        "outputId": "953728a0-12d9-4c1f-c71f-bc16df3c66a9"
      },
      "source": [
        "predictions = knn.predict(train_set)\n",
        "knn_mse = mean_squared_error(train_y, predictions)\n",
        "knn_rmse = np.sqrt(knn_mse)\n",
        "knn_rmse"
      ],
      "execution_count": 116,
      "outputs": [
        {
          "output_type": "execute_result",
          "data": {
            "text/plain": [
              "0.3762883473534389"
            ]
          },
          "metadata": {
            "tags": []
          },
          "execution_count": 116
        }
      ]
    },
    {
      "cell_type": "code",
      "metadata": {
        "id": "1HBXEOvOa-gA",
        "colab_type": "code",
        "colab": {
          "base_uri": "https://localhost:8080/",
          "height": 89
        },
        "outputId": "0e9ef190-d0a3-4bd9-dfd1-7032857f8e8b"
      },
      "source": [
        "from sklearn.model_selection import cross_val_score\n",
        "\n",
        "scores = cross_val_score(tree_clf, train_set, train_y,\n",
        "                         scoring=\"neg_mean_squared_error\", cv=10)\n",
        "tree_rmse_scores = np.sqrt(-scores)\n",
        "def display_scores(scores):\n",
        "    print(\"점수:\", scores)\n",
        "    print(\"평균:\", scores.mean())\n",
        "    print(\"표준 편차:\", scores.std())\n",
        "\n",
        "display_scores(tree_rmse_scores)"
      ],
      "execution_count": 117,
      "outputs": [
        {
          "output_type": "stream",
          "text": [
            "점수: [0.37080992 0.40565621 0.43574467 0.37314944 0.37314944 0.43574467\n",
            " 0.37314944 0.38974188 0.40565621 0.40565621]\n",
            "평균: 0.3968458108412881\n",
            "표준 편차: 0.023815958642787734\n"
          ],
          "name": "stdout"
        }
      ]
    },
    {
      "cell_type": "code",
      "metadata": {
        "id": "Sdu3eEEIbA6J",
        "colab_type": "code",
        "colab": {
          "base_uri": "https://localhost:8080/",
          "height": 89
        },
        "outputId": "fbc16b4f-d5d9-4c4a-d117-ab29ad3dbb89"
      },
      "source": [
        "\n",
        "scores = cross_val_score(clf, train_set, train_y,\n",
        "                         scoring=\"neg_mean_squared_error\", cv=10)\n",
        "tree_rmse_scores = np.sqrt(-scores)\n",
        "display_scores(tree_rmse_scores)"
      ],
      "execution_count": 118,
      "outputs": [
        {
          "output_type": "stream",
          "text": [
            "점수: [0.41833001 0.37314944 0.37314944 0.37314944 0.38974188 0.42096935\n",
            " 0.38974188 0.38974188 0.37314944 0.37314944]\n",
            "평균: 0.38742722149950437\n",
            "표준 편차: 0.017650508384669587\n"
          ],
          "name": "stdout"
        }
      ]
    },
    {
      "cell_type": "code",
      "metadata": {
        "id": "NTJNvckxbCsO",
        "colab_type": "code",
        "colab": {
          "base_uri": "https://localhost:8080/",
          "height": 89
        },
        "outputId": "f995fdae-645d-4b5a-91e7-2d10f29172ea"
      },
      "source": [
        "scores = cross_val_score(knn, train_set, train_y,\n",
        "                         scoring=\"neg_mean_squared_error\", cv=10)\n",
        "tree_rmse_scores = np.sqrt(-scores)\n",
        "display_scores(tree_rmse_scores)"
      ],
      "execution_count": 119,
      "outputs": [
        {
          "output_type": "stream",
          "text": [
            "점수: [0.38729833 0.37314944 0.37314944 0.37314944 0.37314944 0.37314944\n",
            " 0.37314944 0.37314944 0.37314944 0.38974188]\n",
            "평균: 0.3762235754929857\n",
            "표준 편차: 0.00617249741080149\n"
          ],
          "name": "stdout"
        }
      ]
    },
    {
      "cell_type": "code",
      "metadata": {
        "id": "viTaoKflbE73",
        "colab_type": "code",
        "colab": {
          "base_uri": "https://localhost:8080/",
          "height": 161
        },
        "outputId": "5a485f3f-0faf-4b30-e4a0-e8f64671dd4b"
      },
      "source": [
        "from sklearn.ensemble import RandomForestClassifier\n",
        "\n",
        "forest_clf = RandomForestClassifier(n_estimators=5, random_state=42)\n",
        "forest_clf.fit(train_set, train_y)"
      ],
      "execution_count": 120,
      "outputs": [
        {
          "output_type": "execute_result",
          "data": {
            "text/plain": [
              "RandomForestClassifier(bootstrap=True, ccp_alpha=0.0, class_weight=None,\n",
              "                       criterion='gini', max_depth=None, max_features='auto',\n",
              "                       max_leaf_nodes=None, max_samples=None,\n",
              "                       min_impurity_decrease=0.0, min_impurity_split=None,\n",
              "                       min_samples_leaf=1, min_samples_split=2,\n",
              "                       min_weight_fraction_leaf=0.0, n_estimators=5,\n",
              "                       n_jobs=None, oob_score=False, random_state=42, verbose=0,\n",
              "                       warm_start=False)"
            ]
          },
          "metadata": {
            "tags": []
          },
          "execution_count": 120
        }
      ]
    },
    {
      "cell_type": "code",
      "metadata": {
        "id": "RqIUMG6DbHFm",
        "colab_type": "code",
        "colab": {
          "base_uri": "https://localhost:8080/",
          "height": 53
        },
        "outputId": "90e7021e-a518-4efe-ed3a-0101b9b44363"
      },
      "source": [
        "some_data = train_set.iloc[6:10]\n",
        "some_labels = train_y.iloc[6:10]\n",
        "print(\"예측:\", forest_clf.predict(some_data))\n",
        "print(\"레이블:\", list(some_labels))"
      ],
      "execution_count": 121,
      "outputs": [
        {
          "output_type": "stream",
          "text": [
            "예측: [0. 0. 0. 0.]\n",
            "레이블: [0.0, 0.0, 0.0, 0.0]\n"
          ],
          "name": "stdout"
        }
      ]
    },
    {
      "cell_type": "code",
      "metadata": {
        "id": "b40-cZypbImF",
        "colab_type": "code",
        "colab": {
          "base_uri": "https://localhost:8080/",
          "height": 89
        },
        "outputId": "147bf4ac-923a-464e-e8d0-c253a29b568c"
      },
      "source": [
        "scores = cross_val_score(forest_clf, train_set, train_y,\n",
        "                         scoring=\"neg_mean_squared_error\", cv=10)\n",
        "tree_rmse_scores = np.sqrt(-scores)\n",
        "display_scores(tree_rmse_scores)"
      ],
      "execution_count": 122,
      "outputs": [
        {
          "output_type": "stream",
          "text": [
            "점수: [0.46097722 0.50315461 0.43574467 0.42096935 0.38974188 0.40565621\n",
            " 0.40565621 0.47733437 0.47733437 0.42096935]\n",
            "평균: 0.43975382354022763\n",
            "표준 편차: 0.03583707857425987\n"
          ],
          "name": "stdout"
        }
      ]
    },
    {
      "cell_type": "code",
      "metadata": {
        "id": "UwzItcX9bKTX",
        "colab_type": "code",
        "colab": {
          "base_uri": "https://localhost:8080/",
          "height": 161
        },
        "outputId": "dd6515eb-cfc6-43ad-f5b4-d78d1f664b51"
      },
      "source": [
        "print(\"결정트리 훈련 세트의 정확도:\",tree_clf.score(train_set,train_y))\n",
        "print(\"랜덤포레스트 훈련 세트의 정확도:\",forest_clf.score(train_set,train_y))\n",
        "print('Kneighbor 훈련 세트의 정확도 : ', knn.score(train_set,train_y))\n",
        "print('로지스틱 훈련 세트의 정확도 : ', clf.score(train_set,train_y))\n",
        "\n",
        "print(\"결정트리 테스트 세트의 정확도:\",tree_clf.score(test_set,test_y))\n",
        "print(\"랜덤포레스트 테스트 세트의 정확도:\",forest_clf.score(test_set,test_y))\n",
        "print('Kneighbor 테스트 세트의 정확도 : ', knn.score(test_set,test_y))\n",
        "print(\"로지스틱 테스트 세트의 정확도:\",clf.score(test_set,test_y))"
      ],
      "execution_count": 123,
      "outputs": [
        {
          "output_type": "stream",
          "text": [
            "결정트리 훈련 세트의 정확도: 0.8697850821744627\n",
            "랜덤포레스트 훈련 세트의 정확도: 0.9785082174462706\n",
            "Kneighbor 훈련 세트의 정확도 :  0.8584070796460177\n",
            "로지스틱 훈련 세트의 정확도 :  0.8482932996207333\n",
            "결정트리 테스트 세트의 정확도: 0.8737373737373737\n",
            "랜덤포레스트 테스트 세트의 정확도: 0.8535353535353535\n",
            "Kneighbor 테스트 세트의 정확도 :  0.8737373737373737\n",
            "로지스틱 테스트 세트의 정확도: 0.8686868686868687\n"
          ],
          "name": "stdout"
        }
      ]
    }
  ]
}