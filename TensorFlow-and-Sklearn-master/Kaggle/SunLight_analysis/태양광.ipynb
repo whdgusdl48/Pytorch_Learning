{
  "nbformat": 4,
  "nbformat_minor": 0,
  "metadata": {
    "colab": {
      "name": "태양광.ipynb",
      "provenance": [],
      "collapsed_sections": []
    },
    "kernelspec": {
      "name": "python3",
      "display_name": "Python 3"
    }
  },
  "cells": [
    {
      "cell_type": "code",
      "metadata": {
        "id": "4WpXt5sqLNVk",
        "colab_type": "code",
        "colab": {}
      },
      "source": [
        "import warnings\n",
        "warnings.filterwarnings('ignore')\n",
        "\n",
        "import numpy as np \n",
        "import pandas as pd \n",
        "import seaborn as sns #시각화를 위한 라이브러리\n",
        "import matplotlib.pyplot as plt\n",
        "import calendar \n",
        "from datetime import datetime"
      ],
      "execution_count": null,
      "outputs": []
    },
    {
      "cell_type": "code",
      "metadata": {
        "id": "2iGDLIwTL50h",
        "colab_type": "code",
        "colab": {
          "base_uri": "https://localhost:8080/",
          "height": 419
        },
        "outputId": "f72aa8d5-5f40-4b90-a700-fd7f592d3fa3"
      },
      "source": [
        "data1 = pd.read_excel('PV_generation1_24h_test.xlsx')\n",
        "#1번째 데이터 불러오기\n",
        "data1 = pd.DataFrame(data1)\n",
        "#데이터 프레임화 시키기\n",
        "data1\n",
        "#정은아 여기보면 데이터가 어떻게 나와있는지 보여주는 거야."
      ],
      "execution_count": null,
      "outputs": [
        {
          "output_type": "execute_result",
          "data": {
            "text/html": [
              "<div>\n",
              "<style scoped>\n",
              "    .dataframe tbody tr th:only-of-type {\n",
              "        vertical-align: middle;\n",
              "    }\n",
              "\n",
              "    .dataframe tbody tr th {\n",
              "        vertical-align: top;\n",
              "    }\n",
              "\n",
              "    .dataframe thead th {\n",
              "        text-align: right;\n",
              "    }\n",
              "</style>\n",
              "<table border=\"1\" class=\"dataframe\">\n",
              "  <thead>\n",
              "    <tr style=\"text-align: right;\">\n",
              "      <th></th>\n",
              "      <th>LocalTime</th>\n",
              "      <th>Power(MW)</th>\n",
              "    </tr>\n",
              "  </thead>\n",
              "  <tbody>\n",
              "    <tr>\n",
              "      <th>0</th>\n",
              "      <td>2001-01-06 00:00:00</td>\n",
              "      <td>0.0</td>\n",
              "    </tr>\n",
              "    <tr>\n",
              "      <th>1</th>\n",
              "      <td>2001-01-06 00:05:00</td>\n",
              "      <td>0.0</td>\n",
              "    </tr>\n",
              "    <tr>\n",
              "      <th>2</th>\n",
              "      <td>2001-01-06 00:10:00</td>\n",
              "      <td>0.0</td>\n",
              "    </tr>\n",
              "    <tr>\n",
              "      <th>3</th>\n",
              "      <td>2001-01-06 00:15:00</td>\n",
              "      <td>0.0</td>\n",
              "    </tr>\n",
              "    <tr>\n",
              "      <th>4</th>\n",
              "      <td>2001-01-06 00:20:00</td>\n",
              "      <td>0.0</td>\n",
              "    </tr>\n",
              "    <tr>\n",
              "      <th>...</th>\n",
              "      <td>...</td>\n",
              "      <td>...</td>\n",
              "    </tr>\n",
              "    <tr>\n",
              "      <th>283</th>\n",
              "      <td>2001-01-06 23:35:00</td>\n",
              "      <td>0.0</td>\n",
              "    </tr>\n",
              "    <tr>\n",
              "      <th>284</th>\n",
              "      <td>2001-01-06 23:40:00</td>\n",
              "      <td>0.0</td>\n",
              "    </tr>\n",
              "    <tr>\n",
              "      <th>285</th>\n",
              "      <td>2001-01-06 23:45:00</td>\n",
              "      <td>0.0</td>\n",
              "    </tr>\n",
              "    <tr>\n",
              "      <th>286</th>\n",
              "      <td>2001-01-06 23:50:00</td>\n",
              "      <td>0.0</td>\n",
              "    </tr>\n",
              "    <tr>\n",
              "      <th>287</th>\n",
              "      <td>2001-01-06 23:55:00</td>\n",
              "      <td>0.0</td>\n",
              "    </tr>\n",
              "  </tbody>\n",
              "</table>\n",
              "<p>288 rows × 2 columns</p>\n",
              "</div>"
            ],
            "text/plain": [
              "              LocalTime  Power(MW)\n",
              "0   2001-01-06 00:00:00        0.0\n",
              "1   2001-01-06 00:05:00        0.0\n",
              "2   2001-01-06 00:10:00        0.0\n",
              "3   2001-01-06 00:15:00        0.0\n",
              "4   2001-01-06 00:20:00        0.0\n",
              "..                  ...        ...\n",
              "283 2001-01-06 23:35:00        0.0\n",
              "284 2001-01-06 23:40:00        0.0\n",
              "285 2001-01-06 23:45:00        0.0\n",
              "286 2001-01-06 23:50:00        0.0\n",
              "287 2001-01-06 23:55:00        0.0\n",
              "\n",
              "[288 rows x 2 columns]"
            ]
          },
          "metadata": {
            "tags": []
          },
          "execution_count": 181
        }
      ]
    },
    {
      "cell_type": "code",
      "metadata": {
        "id": "3YWlQ3ZgMYT5",
        "colab_type": "code",
        "colab": {
          "base_uri": "https://localhost:8080/",
          "height": 71
        },
        "outputId": "952d1f1d-9c58-4f04-f0b7-37b213e0fb6b"
      },
      "source": [
        "data1.isnull().sum()\n",
        "#여기는 데이터 결측값을 파악하는데 지금 보면 데이터가 10개가 비어있다는 뜻이야."
      ],
      "execution_count": null,
      "outputs": [
        {
          "output_type": "execute_result",
          "data": {
            "text/plain": [
              "LocalTime     0\n",
              "Power(MW)    10\n",
              "dtype: int64"
            ]
          },
          "metadata": {
            "tags": []
          },
          "execution_count": 182
        }
      ]
    },
    {
      "cell_type": "code",
      "metadata": {
        "id": "oECJDHxSOIZI",
        "colab_type": "code",
        "colab": {
          "base_uri": "https://localhost:8080/",
          "height": 419
        },
        "outputId": "a2815ac7-d9b9-4e3d-e665-03acd35e542b"
      },
      "source": [
        "data2 = pd.read_excel('PV_generation2_24h_test.xlsx')\n",
        "#첫번쨰랑 동일하게\n",
        "data2 = pd.DataFrame(data2)\n",
        "data2"
      ],
      "execution_count": null,
      "outputs": [
        {
          "output_type": "execute_result",
          "data": {
            "text/html": [
              "<div>\n",
              "<style scoped>\n",
              "    .dataframe tbody tr th:only-of-type {\n",
              "        vertical-align: middle;\n",
              "    }\n",
              "\n",
              "    .dataframe tbody tr th {\n",
              "        vertical-align: top;\n",
              "    }\n",
              "\n",
              "    .dataframe thead th {\n",
              "        text-align: right;\n",
              "    }\n",
              "</style>\n",
              "<table border=\"1\" class=\"dataframe\">\n",
              "  <thead>\n",
              "    <tr style=\"text-align: right;\">\n",
              "      <th></th>\n",
              "      <th>LocalTime</th>\n",
              "      <th>Power(MW)</th>\n",
              "    </tr>\n",
              "  </thead>\n",
              "  <tbody>\n",
              "    <tr>\n",
              "      <th>0</th>\n",
              "      <td>2001-01-06 00:00:00</td>\n",
              "      <td>0.0</td>\n",
              "    </tr>\n",
              "    <tr>\n",
              "      <th>1</th>\n",
              "      <td>2001-01-06 00:05:00</td>\n",
              "      <td>0.0</td>\n",
              "    </tr>\n",
              "    <tr>\n",
              "      <th>2</th>\n",
              "      <td>2001-01-06 00:10:00</td>\n",
              "      <td>0.0</td>\n",
              "    </tr>\n",
              "    <tr>\n",
              "      <th>3</th>\n",
              "      <td>2001-01-06 00:15:00</td>\n",
              "      <td>0.0</td>\n",
              "    </tr>\n",
              "    <tr>\n",
              "      <th>4</th>\n",
              "      <td>2001-01-06 00:20:00</td>\n",
              "      <td>0.0</td>\n",
              "    </tr>\n",
              "    <tr>\n",
              "      <th>...</th>\n",
              "      <td>...</td>\n",
              "      <td>...</td>\n",
              "    </tr>\n",
              "    <tr>\n",
              "      <th>283</th>\n",
              "      <td>2001-01-06 23:35:00</td>\n",
              "      <td>0.0</td>\n",
              "    </tr>\n",
              "    <tr>\n",
              "      <th>284</th>\n",
              "      <td>2001-01-06 23:40:00</td>\n",
              "      <td>0.0</td>\n",
              "    </tr>\n",
              "    <tr>\n",
              "      <th>285</th>\n",
              "      <td>2001-01-06 23:45:00</td>\n",
              "      <td>0.0</td>\n",
              "    </tr>\n",
              "    <tr>\n",
              "      <th>286</th>\n",
              "      <td>2001-01-06 23:50:00</td>\n",
              "      <td>0.0</td>\n",
              "    </tr>\n",
              "    <tr>\n",
              "      <th>287</th>\n",
              "      <td>2001-01-06 23:55:00</td>\n",
              "      <td>0.0</td>\n",
              "    </tr>\n",
              "  </tbody>\n",
              "</table>\n",
              "<p>288 rows × 2 columns</p>\n",
              "</div>"
            ],
            "text/plain": [
              "              LocalTime  Power(MW)\n",
              "0   2001-01-06 00:00:00        0.0\n",
              "1   2001-01-06 00:05:00        0.0\n",
              "2   2001-01-06 00:10:00        0.0\n",
              "3   2001-01-06 00:15:00        0.0\n",
              "4   2001-01-06 00:20:00        0.0\n",
              "..                  ...        ...\n",
              "283 2001-01-06 23:35:00        0.0\n",
              "284 2001-01-06 23:40:00        0.0\n",
              "285 2001-01-06 23:45:00        0.0\n",
              "286 2001-01-06 23:50:00        0.0\n",
              "287 2001-01-06 23:55:00        0.0\n",
              "\n",
              "[288 rows x 2 columns]"
            ]
          },
          "metadata": {
            "tags": []
          },
          "execution_count": 183
        }
      ]
    },
    {
      "cell_type": "code",
      "metadata": {
        "id": "mY_5WbPYOni4",
        "colab_type": "code",
        "colab": {
          "base_uri": "https://localhost:8080/",
          "height": 419
        },
        "outputId": "b91f8b71-7216-421e-8639-e75dd33ca880"
      },
      "source": [
        "data3 = pd.read_excel('PV_generation3_24h_test.xlsx')\n",
        "data3 = pd.DataFrame(data3)\n",
        "data3"
      ],
      "execution_count": null,
      "outputs": [
        {
          "output_type": "execute_result",
          "data": {
            "text/html": [
              "<div>\n",
              "<style scoped>\n",
              "    .dataframe tbody tr th:only-of-type {\n",
              "        vertical-align: middle;\n",
              "    }\n",
              "\n",
              "    .dataframe tbody tr th {\n",
              "        vertical-align: top;\n",
              "    }\n",
              "\n",
              "    .dataframe thead th {\n",
              "        text-align: right;\n",
              "    }\n",
              "</style>\n",
              "<table border=\"1\" class=\"dataframe\">\n",
              "  <thead>\n",
              "    <tr style=\"text-align: right;\">\n",
              "      <th></th>\n",
              "      <th>LocalTime</th>\n",
              "      <th>Power(MW)</th>\n",
              "    </tr>\n",
              "  </thead>\n",
              "  <tbody>\n",
              "    <tr>\n",
              "      <th>0</th>\n",
              "      <td>2001-01-06 00:00:00</td>\n",
              "      <td>0.0</td>\n",
              "    </tr>\n",
              "    <tr>\n",
              "      <th>1</th>\n",
              "      <td>2001-01-06 00:05:00</td>\n",
              "      <td>0.0</td>\n",
              "    </tr>\n",
              "    <tr>\n",
              "      <th>2</th>\n",
              "      <td>2001-01-06 00:10:00</td>\n",
              "      <td>0.0</td>\n",
              "    </tr>\n",
              "    <tr>\n",
              "      <th>3</th>\n",
              "      <td>2001-01-06 00:15:00</td>\n",
              "      <td>0.0</td>\n",
              "    </tr>\n",
              "    <tr>\n",
              "      <th>4</th>\n",
              "      <td>2001-01-06 00:20:00</td>\n",
              "      <td>0.0</td>\n",
              "    </tr>\n",
              "    <tr>\n",
              "      <th>...</th>\n",
              "      <td>...</td>\n",
              "      <td>...</td>\n",
              "    </tr>\n",
              "    <tr>\n",
              "      <th>283</th>\n",
              "      <td>2001-01-06 23:35:00</td>\n",
              "      <td>0.0</td>\n",
              "    </tr>\n",
              "    <tr>\n",
              "      <th>284</th>\n",
              "      <td>2001-01-06 23:40:00</td>\n",
              "      <td>0.0</td>\n",
              "    </tr>\n",
              "    <tr>\n",
              "      <th>285</th>\n",
              "      <td>2001-01-06 23:45:00</td>\n",
              "      <td>0.0</td>\n",
              "    </tr>\n",
              "    <tr>\n",
              "      <th>286</th>\n",
              "      <td>2001-01-06 23:50:00</td>\n",
              "      <td>0.0</td>\n",
              "    </tr>\n",
              "    <tr>\n",
              "      <th>287</th>\n",
              "      <td>2001-01-06 23:55:00</td>\n",
              "      <td>0.0</td>\n",
              "    </tr>\n",
              "  </tbody>\n",
              "</table>\n",
              "<p>288 rows × 2 columns</p>\n",
              "</div>"
            ],
            "text/plain": [
              "              LocalTime  Power(MW)\n",
              "0   2001-01-06 00:00:00        0.0\n",
              "1   2001-01-06 00:05:00        0.0\n",
              "2   2001-01-06 00:10:00        0.0\n",
              "3   2001-01-06 00:15:00        0.0\n",
              "4   2001-01-06 00:20:00        0.0\n",
              "..                  ...        ...\n",
              "283 2001-01-06 23:35:00        0.0\n",
              "284 2001-01-06 23:40:00        0.0\n",
              "285 2001-01-06 23:45:00        0.0\n",
              "286 2001-01-06 23:50:00        0.0\n",
              "287 2001-01-06 23:55:00        0.0\n",
              "\n",
              "[288 rows x 2 columns]"
            ]
          },
          "metadata": {
            "tags": []
          },
          "execution_count": 184
        }
      ]
    },
    {
      "cell_type": "code",
      "metadata": {
        "id": "-dpk03VaPWLn",
        "colab_type": "code",
        "colab": {
          "base_uri": "https://localhost:8080/",
          "height": 419
        },
        "outputId": "12a2c805-d1a3-4846-dc54-1a48ae3e9579"
      },
      "source": [
        "data4 = pd.read_excel('PV_generation4_24h_test.xlsx')\n",
        "data4 = pd.DataFrame(data4)\n",
        "data4"
      ],
      "execution_count": null,
      "outputs": [
        {
          "output_type": "execute_result",
          "data": {
            "text/html": [
              "<div>\n",
              "<style scoped>\n",
              "    .dataframe tbody tr th:only-of-type {\n",
              "        vertical-align: middle;\n",
              "    }\n",
              "\n",
              "    .dataframe tbody tr th {\n",
              "        vertical-align: top;\n",
              "    }\n",
              "\n",
              "    .dataframe thead th {\n",
              "        text-align: right;\n",
              "    }\n",
              "</style>\n",
              "<table border=\"1\" class=\"dataframe\">\n",
              "  <thead>\n",
              "    <tr style=\"text-align: right;\">\n",
              "      <th></th>\n",
              "      <th>LocalTime</th>\n",
              "      <th>Power(MW)</th>\n",
              "    </tr>\n",
              "  </thead>\n",
              "  <tbody>\n",
              "    <tr>\n",
              "      <th>0</th>\n",
              "      <td>2001-01-06 00:00:00</td>\n",
              "      <td>0.0</td>\n",
              "    </tr>\n",
              "    <tr>\n",
              "      <th>1</th>\n",
              "      <td>2001-01-06 00:05:00</td>\n",
              "      <td>0.0</td>\n",
              "    </tr>\n",
              "    <tr>\n",
              "      <th>2</th>\n",
              "      <td>2001-01-06 00:10:00</td>\n",
              "      <td>0.0</td>\n",
              "    </tr>\n",
              "    <tr>\n",
              "      <th>3</th>\n",
              "      <td>2001-01-06 00:15:00</td>\n",
              "      <td>0.0</td>\n",
              "    </tr>\n",
              "    <tr>\n",
              "      <th>4</th>\n",
              "      <td>2001-01-06 00:20:00</td>\n",
              "      <td>0.0</td>\n",
              "    </tr>\n",
              "    <tr>\n",
              "      <th>...</th>\n",
              "      <td>...</td>\n",
              "      <td>...</td>\n",
              "    </tr>\n",
              "    <tr>\n",
              "      <th>283</th>\n",
              "      <td>2001-01-06 23:35:00</td>\n",
              "      <td>0.0</td>\n",
              "    </tr>\n",
              "    <tr>\n",
              "      <th>284</th>\n",
              "      <td>2001-01-06 23:40:00</td>\n",
              "      <td>0.0</td>\n",
              "    </tr>\n",
              "    <tr>\n",
              "      <th>285</th>\n",
              "      <td>2001-01-06 23:45:00</td>\n",
              "      <td>0.0</td>\n",
              "    </tr>\n",
              "    <tr>\n",
              "      <th>286</th>\n",
              "      <td>2001-01-06 23:50:00</td>\n",
              "      <td>0.0</td>\n",
              "    </tr>\n",
              "    <tr>\n",
              "      <th>287</th>\n",
              "      <td>2001-01-06 23:55:00</td>\n",
              "      <td>0.0</td>\n",
              "    </tr>\n",
              "  </tbody>\n",
              "</table>\n",
              "<p>288 rows × 2 columns</p>\n",
              "</div>"
            ],
            "text/plain": [
              "              LocalTime  Power(MW)\n",
              "0   2001-01-06 00:00:00        0.0\n",
              "1   2001-01-06 00:05:00        0.0\n",
              "2   2001-01-06 00:10:00        0.0\n",
              "3   2001-01-06 00:15:00        0.0\n",
              "4   2001-01-06 00:20:00        0.0\n",
              "..                  ...        ...\n",
              "283 2001-01-06 23:35:00        0.0\n",
              "284 2001-01-06 23:40:00        0.0\n",
              "285 2001-01-06 23:45:00        0.0\n",
              "286 2001-01-06 23:50:00        0.0\n",
              "287 2001-01-06 23:55:00        0.0\n",
              "\n",
              "[288 rows x 2 columns]"
            ]
          },
          "metadata": {
            "tags": []
          },
          "execution_count": 185
        }
      ]
    },
    {
      "cell_type": "code",
      "metadata": {
        "id": "bUdDK-twPY6H",
        "colab_type": "code",
        "colab": {
          "base_uri": "https://localhost:8080/",
          "height": 419
        },
        "outputId": "d6021fd9-9cc8-4313-d240-4d199ae77845"
      },
      "source": [
        "data5 = pd.read_excel('PV_generation5_24h_test.xlsx')\n",
        "data5 = pd.DataFrame(data5)\n",
        "data5"
      ],
      "execution_count": null,
      "outputs": [
        {
          "output_type": "execute_result",
          "data": {
            "text/html": [
              "<div>\n",
              "<style scoped>\n",
              "    .dataframe tbody tr th:only-of-type {\n",
              "        vertical-align: middle;\n",
              "    }\n",
              "\n",
              "    .dataframe tbody tr th {\n",
              "        vertical-align: top;\n",
              "    }\n",
              "\n",
              "    .dataframe thead th {\n",
              "        text-align: right;\n",
              "    }\n",
              "</style>\n",
              "<table border=\"1\" class=\"dataframe\">\n",
              "  <thead>\n",
              "    <tr style=\"text-align: right;\">\n",
              "      <th></th>\n",
              "      <th>LocalTime</th>\n",
              "      <th>Power(MW)</th>\n",
              "    </tr>\n",
              "  </thead>\n",
              "  <tbody>\n",
              "    <tr>\n",
              "      <th>0</th>\n",
              "      <td>2001-01-06 00:00:00</td>\n",
              "      <td>0.0</td>\n",
              "    </tr>\n",
              "    <tr>\n",
              "      <th>1</th>\n",
              "      <td>2001-01-06 00:05:00</td>\n",
              "      <td>0.0</td>\n",
              "    </tr>\n",
              "    <tr>\n",
              "      <th>2</th>\n",
              "      <td>2001-01-06 00:10:00</td>\n",
              "      <td>0.0</td>\n",
              "    </tr>\n",
              "    <tr>\n",
              "      <th>3</th>\n",
              "      <td>2001-01-06 00:15:00</td>\n",
              "      <td>0.0</td>\n",
              "    </tr>\n",
              "    <tr>\n",
              "      <th>4</th>\n",
              "      <td>2001-01-06 00:20:00</td>\n",
              "      <td>0.0</td>\n",
              "    </tr>\n",
              "    <tr>\n",
              "      <th>...</th>\n",
              "      <td>...</td>\n",
              "      <td>...</td>\n",
              "    </tr>\n",
              "    <tr>\n",
              "      <th>283</th>\n",
              "      <td>2001-01-06 23:35:00</td>\n",
              "      <td>0.0</td>\n",
              "    </tr>\n",
              "    <tr>\n",
              "      <th>284</th>\n",
              "      <td>2001-01-06 23:40:00</td>\n",
              "      <td>0.0</td>\n",
              "    </tr>\n",
              "    <tr>\n",
              "      <th>285</th>\n",
              "      <td>2001-01-06 23:45:00</td>\n",
              "      <td>0.0</td>\n",
              "    </tr>\n",
              "    <tr>\n",
              "      <th>286</th>\n",
              "      <td>2001-01-06 23:50:00</td>\n",
              "      <td>0.0</td>\n",
              "    </tr>\n",
              "    <tr>\n",
              "      <th>287</th>\n",
              "      <td>2001-01-06 23:55:00</td>\n",
              "      <td>0.0</td>\n",
              "    </tr>\n",
              "  </tbody>\n",
              "</table>\n",
              "<p>288 rows × 2 columns</p>\n",
              "</div>"
            ],
            "text/plain": [
              "              LocalTime  Power(MW)\n",
              "0   2001-01-06 00:00:00        0.0\n",
              "1   2001-01-06 00:05:00        0.0\n",
              "2   2001-01-06 00:10:00        0.0\n",
              "3   2001-01-06 00:15:00        0.0\n",
              "4   2001-01-06 00:20:00        0.0\n",
              "..                  ...        ...\n",
              "283 2001-01-06 23:35:00        0.0\n",
              "284 2001-01-06 23:40:00        0.0\n",
              "285 2001-01-06 23:45:00        0.0\n",
              "286 2001-01-06 23:50:00        0.0\n",
              "287 2001-01-06 23:55:00        0.0\n",
              "\n",
              "[288 rows x 2 columns]"
            ]
          },
          "metadata": {
            "tags": []
          },
          "execution_count": 186
        }
      ]
    },
    {
      "cell_type": "code",
      "metadata": {
        "id": "iQRhBZcdPxxx",
        "colab_type": "code",
        "colab": {
          "base_uri": "https://localhost:8080/",
          "height": 287
        },
        "outputId": "9ae556f1-d184-44d5-dffe-3990420861be"
      },
      "source": [
        "print(data1.isnull().sum())\n",
        "print(data2.isnull().sum())\n",
        "print(data3.isnull().sum())\n",
        "print(data4.isnull().sum())\n",
        "print(data5.isnull().sum())\n",
        "# 각 데이터가 보니 10개씩 모자르대"
      ],
      "execution_count": null,
      "outputs": [
        {
          "output_type": "stream",
          "text": [
            "LocalTime     0\n",
            "Power(MW)    10\n",
            "dtype: int64\n",
            "LocalTime     0\n",
            "Power(MW)    10\n",
            "dtype: int64\n",
            "LocalTime     0\n",
            "Power(MW)    10\n",
            "dtype: int64\n",
            "LocalTime     0\n",
            "Power(MW)    10\n",
            "dtype: int64\n",
            "LocalTime     0\n",
            "Power(MW)    10\n",
            "dtype: int64\n"
          ],
          "name": "stdout"
        }
      ]
    },
    {
      "cell_type": "code",
      "metadata": {
        "id": "FtEc8HfBQRgi",
        "colab_type": "code",
        "colab": {
          "base_uri": "https://localhost:8080/",
          "height": 53
        },
        "outputId": "1067ddb8-af74-4b55-f189-7aef0a1f2492"
      },
      "source": [
        "data_1 = data1[\"Power(MW)\"]\n",
        "data_1_null = np.where(data_1.isnull())\n",
        "ind = []\n",
        "for(int i = 0; i< data_1.length;i++){\n",
        "    if(data_1[i] == nan){\n",
        "        ind.append(i)\n",
        "    }\n",
        "}\n",
        "\n",
        "new_data_1 = np.array(data_1)\n",
        "print(data_1_null)\n",
        "for i in range(len(data_1_null)):\n",
        "  a = new_data_1[data_1_null[i]-1]\n",
        "  b = new_data_1[data_1_null[i]+1]\n",
        "  print(interpolation(a,b))\n",
        "  data1[\"Power(MW)\"][data_1_null[i]] = interpolation(a,b)\n",
        "#보간법을 통해서 이제 데이터를 채워넣는건데 연속으로 데이터가 빈값이 없어서 빈값 기준 전값과 다음값을 통해서 선형보간 시킨거야."
      ],
      "execution_count": null,
      "outputs": [
        {
          "output_type": "stream",
          "text": [
            "(array([106, 111, 118, 122, 129, 144, 151, 158, 167, 172]),)\n",
            "[36.55 46.45 55.55 58.8  62.1  64.15 63.5  61.35 55.3  52.15]\n"
          ],
          "name": "stdout"
        }
      ]
    },
    {
      "cell_type": "code",
      "metadata": {
        "id": "s9nxkUhtVYsv",
        "colab_type": "code",
        "colab": {
          "base_uri": "https://localhost:8080/",
          "height": 71
        },
        "outputId": "81d13fe0-777d-4689-8324-274d8e8eead3"
      },
      "source": [
        "data_2 = data2[\"Power(MW)\"]\n",
        "data_2_null = np.where(data_2.isnull())\n",
        "new_data_2 = np.array(data_2)\n",
        "for i in range(len(data_2_null)):\n",
        "  a = new_data_2[data_2_null[i]-1]\n",
        "  b = new_data_2[data_2_null[i]+1]\n",
        "  data2[\"Power(MW)\"][data_2_null[i]] = interpolation(a,b)\n",
        "data2.isnull().sum()"
      ],
      "execution_count": null,
      "outputs": [
        {
          "output_type": "execute_result",
          "data": {
            "text/plain": [
              "LocalTime    0\n",
              "Power(MW)    0\n",
              "dtype: int64"
            ]
          },
          "metadata": {
            "tags": []
          },
          "execution_count": 189
        }
      ]
    },
    {
      "cell_type": "code",
      "metadata": {
        "id": "uRBgycCTVkPG",
        "colab_type": "code",
        "colab": {
          "base_uri": "https://localhost:8080/",
          "height": 71
        },
        "outputId": "0ca6f119-5224-40a5-946c-5d552215e7d6"
      },
      "source": [
        "data_3 = data3[\"Power(MW)\"]\n",
        "data_3_null = np.where(data_3.isnull())\n",
        "new_data_3 = np.array(data_3)\n",
        "for i in range(len(data_3_null)):\n",
        "  a = new_data_3[data_3_null[i]-1]\n",
        "  b = new_data_3[data_3_null[i]+1]\n",
        "  data3[\"Power(MW)\"][data_3_null[i]] = interpolation(a,b)\n",
        "data3.isnull().sum()"
      ],
      "execution_count": null,
      "outputs": [
        {
          "output_type": "execute_result",
          "data": {
            "text/plain": [
              "LocalTime    0\n",
              "Power(MW)    0\n",
              "dtype: int64"
            ]
          },
          "metadata": {
            "tags": []
          },
          "execution_count": 190
        }
      ]
    },
    {
      "cell_type": "code",
      "metadata": {
        "id": "EIlpmqAXVlL-",
        "colab_type": "code",
        "colab": {
          "base_uri": "https://localhost:8080/",
          "height": 71
        },
        "outputId": "2fcb82dd-7da6-47b6-fa41-bdec7ed2f487"
      },
      "source": [
        "data_4 = data4[\"Power(MW)\"]\n",
        "data_4_null = np.where(data_4.isnull())\n",
        "new_data_4 = np.array(data_4)\n",
        "for i in range(len(data_4_null)):\n",
        "  a = new_data_4[data_4_null[i]-1]\n",
        "  b = new_data_4[data_4_null[i]+1]\n",
        "  data4[\"Power(MW)\"][data_4_null[i]] = interpolation(a,b)\n",
        "data4.isnull().sum()"
      ],
      "execution_count": null,
      "outputs": [
        {
          "output_type": "execute_result",
          "data": {
            "text/plain": [
              "LocalTime    0\n",
              "Power(MW)    0\n",
              "dtype: int64"
            ]
          },
          "metadata": {
            "tags": []
          },
          "execution_count": 191
        }
      ]
    },
    {
      "cell_type": "code",
      "metadata": {
        "id": "yRimUfWWVlcn",
        "colab_type": "code",
        "colab": {
          "base_uri": "https://localhost:8080/",
          "height": 71
        },
        "outputId": "9db58080-f6c3-405f-fe62-e04289f390c1"
      },
      "source": [
        "data_5 = data5[\"Power(MW)\"]\n",
        "data_5_null = np.where(data_5.isnull())\n",
        "new_data_5 = np.array(data_5)\n",
        "for i in range(len(data_5_null)):\n",
        "  a = new_data_5[data_5_null[i]-1]\n",
        "  b = new_data_5[data_5_null[i]+1]\n",
        "  data5[\"Power(MW)\"][data_5_null[i]] = interpolation(a,b)\n",
        "data5.isnull().sum()"
      ],
      "execution_count": null,
      "outputs": [
        {
          "output_type": "execute_result",
          "data": {
            "text/plain": [
              "LocalTime    0\n",
              "Power(MW)    0\n",
              "dtype: int64"
            ]
          },
          "metadata": {
            "tags": []
          },
          "execution_count": 192
        }
      ]
    },
    {
      "cell_type": "code",
      "metadata": {
        "id": "OMSlXnlcVHRx",
        "colab_type": "code",
        "colab": {}
      },
      "source": [
        "def interpolation(a,b):\n",
        "  return (a + b) / 2"
      ],
      "execution_count": null,
      "outputs": []
    },
    {
      "cell_type": "code",
      "metadata": {
        "id": "VUL961BNZOAQ",
        "colab_type": "code",
        "colab": {
          "base_uri": "https://localhost:8080/",
          "height": 1000
        },
        "outputId": "5a4bd806-86cd-419f-d564-140da5e97858"
      },
      "source": [
        "\n",
        "a = np.arange(len(data1[\"Power(MW)\"]))\n",
        "plt.plot(a,data1[\"Power(MW)\"])\n",
        "plt.show()\n",
        "plt.plot(a,data2[\"Power(MW)\"])\n",
        "plt.show()\n",
        "plt.plot(a,data3[\"Power(MW)\"])\n",
        "plt.show()\n",
        "plt.plot(a,data4[\"Power(MW)\"])\n",
        "plt.show()\n",
        "plt.plot(a,data5[\"Power(MW)\"])\n",
        "plt.show()\n",
        "#데이터 시각화해볼려고 작성한코드야."
      ],
      "execution_count": null,
      "outputs": [
        {
          "output_type": "display_data",
          "data": {
            "image/png": "[encoded data removed]",
            "text/plain": [
              "<Figure size 432x288 with 1 Axes>"
            ]
          },
          "metadata": {
            "tags": [],
            "needs_background": "light"
          }
        },
        {
          "output_type": "display_data",
          "data": {
            "image/png": "[encoded data removed]",
            "text/plain": [
              "<Figure size 432x288 with 1 Axes>"
            ]
          },
          "metadata": {
            "tags": [],
            "needs_background": "light"
          }
        },
        {
          "output_type": "display_data",
          "data": {
            "image/png": "[encoded data removed]",
            "text/plain": [
              "<Figure size 432x288 with 1 Axes>"
            ]
          },
          "metadata": {
            "tags": [],
            "needs_background": "light"
          }
        },
        {
          "output_type": "display_data",
          "data": {
            "image/png": "[encoded data removed]",
            "text/plain": [
              "<Figure size 432x288 with 1 Axes>"
            ]
          },
          "metadata": {
            "tags": [],
            "needs_background": "light"
          }
        },
        {
          "output_type": "display_data",
          "data": {
            "image/png": "[encoded data removed]",
            "text/plain": [
              "<Figure size 432x288 with 1 Axes>"
            ]
          },
          "metadata": {
            "tags": [],
            "needs_background": "light"
          }
        }
      ]
    },
    {
      "cell_type": "code",
      "metadata": {
        "id": "gXvj289IdJMB",
        "colab_type": "code",
        "colab": {
          "base_uri": "https://localhost:8080/",
          "height": 143
        },
        "outputId": "4d41f35a-0a46-49d6-f524-35b04f22b21d"
      },
      "source": [
        "data1[\"Power(MW)2\"] = data2[\"Power(MW)\"]\n",
        "data1[\"Power(MW)3\"] = data3[\"Power(MW)\"]\n",
        "data1[\"Power(MW)4\"] = data4[\"Power(MW)\"]\n",
        "data1[\"Power(MW)5\"] = data5[\"Power(MW)\"]\n",
        "data_mat = np.array(data1)\n",
        "data_mat = data_mat[:,1:]\n",
        "data_mat"
      ],
      "execution_count": null,
      "outputs": [
        {
          "output_type": "execute_result",
          "data": {
            "text/plain": [
              "array([[0.0, 0.0, 0.0, 0.0, 0.0],\n",
              "       [0.0, 0.0, 0.0, 0.0, 0.0],\n",
              "       [0.0, 0.0, 0.0, 0.0, 0.0],\n",
              "       ...,\n",
              "       [0.0, 0.0, 0.0, 0.0, 0.0],\n",
              "       [0.0, 0.0, 0.0, 0.0, 0.0],\n",
              "       [0.0, 0.0, 0.0, 0.0, 0.0]], dtype=object)"
            ]
          },
          "metadata": {
            "tags": []
          },
          "execution_count": 195
        }
      ]
    },
    {
      "cell_type": "code",
      "metadata": {
        "id": "rFbpcrwTebH4",
        "colab_type": "code",
        "colab": {}
      },
      "source": [
        "def mean(data,x):\n",
        "    sum = 0\n",
        "    for i in range(x):\n",
        "        sum += data[i]\n",
        "    sum = sum / x\n",
        "    return sum\n",
        "#평균을 구하는 공식이야.    "
      ],
      "execution_count": null,
      "outputs": []
    },
    {
      "cell_type": "code",
      "metadata": {
        "id": "ZHfy-B_1ebwd",
        "colab_type": "code",
        "colab": {
          "base_uri": "https://localhost:8080/",
          "height": 35
        },
        "outputId": "2c50f9df-3df0-4e7d-f085-5ee51ca724f7"
      },
      "source": [
        "data1_mean = mean(data_mat[:,0],len(data_mat[:,0]))\n",
        "data1_mean"
      ],
      "execution_count": null,
      "outputs": [
        {
          "output_type": "execute_result",
          "data": {
            "text/plain": [
              "18.02395833333333"
            ]
          },
          "metadata": {
            "tags": []
          },
          "execution_count": 161
        }
      ]
    },
    {
      "cell_type": "code",
      "metadata": {
        "id": "Oo5YS2Y4eoX-",
        "colab_type": "code",
        "colab": {
          "base_uri": "https://localhost:8080/",
          "height": 35
        },
        "outputId": "ed302160-0f2f-4976-8fbb-703bb4cdebc3"
      },
      "source": [
        "data2_mean = mean(data_mat[:,1],len(data_mat[:,1]))\n",
        "data2_mean"
      ],
      "execution_count": null,
      "outputs": [
        {
          "output_type": "execute_result",
          "data": {
            "text/plain": [
              "21.199131944444435"
            ]
          },
          "metadata": {
            "tags": []
          },
          "execution_count": 162
        }
      ]
    },
    {
      "cell_type": "code",
      "metadata": {
        "id": "MesyABjmeslX",
        "colab_type": "code",
        "colab": {
          "base_uri": "https://localhost:8080/",
          "height": 35
        },
        "outputId": "7bd61056-c0d7-466e-e6aa-833ee79b11db"
      },
      "source": [
        "data3_mean = mean(data_mat[:,2],len(data_mat[:,2]))\n",
        "data3_mean"
      ],
      "execution_count": null,
      "outputs": [
        {
          "output_type": "execute_result",
          "data": {
            "text/plain": [
              "15.461111111111109"
            ]
          },
          "metadata": {
            "tags": []
          },
          "execution_count": 163
        }
      ]
    },
    {
      "cell_type": "code",
      "metadata": {
        "id": "ltaxpHHyess2",
        "colab_type": "code",
        "colab": {
          "base_uri": "https://localhost:8080/",
          "height": 35
        },
        "outputId": "c70b2d8d-b5f7-4493-f08d-fbec17e4e74e"
      },
      "source": [
        "data4_mean = mean(data_mat[:,3],len(data_mat[:,3]))\n",
        "data4_mean"
      ],
      "execution_count": null,
      "outputs": [
        {
          "output_type": "execute_result",
          "data": {
            "text/plain": [
              "4.12361111111111"
            ]
          },
          "metadata": {
            "tags": []
          },
          "execution_count": 166
        }
      ]
    },
    {
      "cell_type": "code",
      "metadata": {
        "id": "ayaGVOHneszW",
        "colab_type": "code",
        "colab": {
          "base_uri": "https://localhost:8080/",
          "height": 35
        },
        "outputId": "9abab309-c06c-4348-8dee-e1cc38f99240"
      },
      "source": [
        "data5_mean = mean(data_mat[:,4],len(data_mat[:,4]))\n",
        "data5_mean\n",
        "#이렇게 각 평균을 구해준 다음에!!"
      ],
      "execution_count": null,
      "outputs": [
        {
          "output_type": "execute_result",
          "data": {
            "text/plain": [
              "3.897048611111111"
            ]
          },
          "metadata": {
            "tags": []
          },
          "execution_count": 165
        }
      ]
    },
    {
      "cell_type": "code",
      "metadata": {
        "id": "090CREDRe_EH",
        "colab_type": "code",
        "colab": {}
      },
      "source": [
        "def cov(x, y):\n",
        "    xbar, ybar = mean(x,len(x)), mean(y,len(y))\n",
        "    return ((x - xbar)*(y - ybar)).sum() / (len(data_mat) - 1)\n",
        "def cov_matrix(data):\n",
        "    col = data.shape[1]\n",
        "    matrix = []\n",
        "    for i in range(col):\n",
        "        for j in range(col):\n",
        "            matrix.append(cov(data[:,i], data[:,j]))\n",
        "    return matrix\n"
      ],
      "execution_count": null,
      "outputs": []
    },
    {
      "cell_type": "code",
      "metadata": {
        "id": "rnKIgFVIfAhe",
        "colab_type": "code",
        "colab": {
          "base_uri": "https://localhost:8080/",
          "height": 197
        },
        "outputId": "d0433ebd-64d5-453c-bcab-fab91666ca03"
      },
      "source": [
        "cor = cov_matrix(data_mat)\n",
        "cor = np.array(cor).reshape(5, 5)\n",
        "cor"
      ],
      "execution_count": null,
      "outputs": [
        {
          "output_type": "execute_result",
          "data": {
            "text/plain": [
              "array([[ 640.51567835,  797.09749474,  509.85481127,  152.99765534,\n",
              "         146.80801521],\n",
              "       [ 797.09749474, 1078.28178496,  610.05761421,  198.54826099,\n",
              "         189.50656537],\n",
              "       [ 509.85481127,  610.05761421,  565.58196671,  109.02242838,\n",
              "         107.57103465],\n",
              "       [ 152.99765534,  198.54826099,  109.02242838,   39.2481688 ,\n",
              "          37.15341488],\n",
              "       [ 146.80801521,  189.50656537,  107.57103465,   37.15341488,\n",
              "          36.58686408]])"
            ]
          },
          "metadata": {
            "tags": []
          },
          "execution_count": 198
        }
      ]
    },
    {
      "cell_type": "code",
      "metadata": {
        "id": "HM_j8XFSjumv",
        "colab_type": "code",
        "colab": {
          "base_uri": "https://localhost:8080/",
          "height": 107
        },
        "outputId": "c96d08a7-27e9-44cc-e918-f05776c1df86"
      },
      "source": [
        "corr = np.corrcoef(cor)\n",
        "corr"
      ],
      "execution_count": null,
      "outputs": [
        {
          "output_type": "execute_result",
          "data": {
            "text/plain": [
              "array([[1.        , 0.99554606, 0.951957  , 0.99397707, 0.99602688],\n",
              "       [0.99554606, 1.        , 0.92582729, 0.99877139, 0.99920979],\n",
              "       [0.951957  , 0.92582729, 1.        , 0.91364925, 0.92203133],\n",
              "       [0.99397707, 0.99877139, 0.91364925, 1.        , 0.99975023],\n",
              "       [0.99602688, 0.99920979, 0.92203133, 0.99975023, 1.        ]])"
            ]
          },
          "metadata": {
            "tags": []
          },
          "execution_count": 214
        }
      ]
    },
    {
      "cell_type": "markdown",
      "metadata": {
        "id": "-966M-qQj1UP",
        "colab_type": "text"
      },
      "source": [
        ""
      ]
    },
    {
      "cell_type": "code",
      "metadata": {
        "id": "vbTfvwm4jd0C",
        "colab_type": "code",
        "colab": {
          "base_uri": "https://localhost:8080/",
          "height": 53
        },
        "outputId": "46681b37-dfc1-440f-eb7c-5406ea6993a6"
      },
      "source": [
        "from numpy import linalg as LA\n",
        "w, v = LA.eig(cor)\n",
        "\n",
        "print(w)\n",
        "\n",
        "#고유벡터와 고유값 구하는 라이브러리야/"
      ],
      "execution_count": null,
      "outputs": [
        {
          "output_type": "stream",
          "text": [
            "[2.16635246e+03 1.64898852e+02 2.59207539e+01 2.44109306e+00\n",
            " 6.01300468e-01]\n"
          ],
          "name": "stdout"
        }
      ]
    }
  ]
}