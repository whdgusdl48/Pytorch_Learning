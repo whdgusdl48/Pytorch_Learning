{
  "nbformat": 4,
  "nbformat_minor": 0,
  "metadata": {
    "colab": {
      "name": "zoo_classification",
      "provenance": []
    },
    "kernelspec": {
      "name": "python3",
      "display_name": "Python 3"
    }
  },
  "cells": [
    {
      "cell_type": "code",
      "metadata": {
        "id": "2oga62--vuIT",
        "colab_type": "code",
        "colab": {
          "base_uri": "https://localhost:8080/",
          "height": 419
        },
        "outputId": "67aee94b-8711-4c99-83c7-e6b47a63eb94"
      },
      "source": [
        "import pandas as pd\n",
        "import numpy as np\n",
        "import matplotlib.pyplot as plt\n",
        "\n",
        "data = pd.read_csv('zoo.csv')\n",
        "data"
      ],
      "execution_count": 1,
      "outputs": [
        {
          "output_type": "execute_result",
          "data": {
            "text/html": [
              "<div>\n",
              "<style scoped>\n",
              "    .dataframe tbody tr th:only-of-type {\n",
              "        vertical-align: middle;\n",
              "    }\n",
              "\n",
              "    .dataframe tbody tr th {\n",
              "        vertical-align: top;\n",
              "    }\n",
              "\n",
              "    .dataframe thead th {\n",
              "        text-align: right;\n",
              "    }\n",
              "</style>\n",
              "<table border=\"1\" class=\"dataframe\">\n",
              "  <thead>\n",
              "    <tr style=\"text-align: right;\">\n",
              "      <th></th>\n",
              "      <th>animal_name</th>\n",
              "      <th>hair</th>\n",
              "      <th>feathers</th>\n",
              "      <th>eggs</th>\n",
              "      <th>milk</th>\n",
              "      <th>airborne</th>\n",
              "      <th>aquatic</th>\n",
              "      <th>predator</th>\n",
              "      <th>toothed</th>\n",
              "      <th>backbone</th>\n",
              "      <th>breathes</th>\n",
              "      <th>venomous</th>\n",
              "      <th>fins</th>\n",
              "      <th>legs</th>\n",
              "      <th>tail</th>\n",
              "      <th>domestic</th>\n",
              "      <th>catsize</th>\n",
              "      <th>class_type</th>\n",
              "    </tr>\n",
              "  </thead>\n",
              "  <tbody>\n",
              "    <tr>\n",
              "      <th>0</th>\n",
              "      <td>aardvark</td>\n",
              "      <td>1</td>\n",
              "      <td>0</td>\n",
              "      <td>0</td>\n",
              "      <td>1</td>\n",
              "      <td>0</td>\n",
              "      <td>0</td>\n",
              "      <td>1</td>\n",
              "      <td>1</td>\n",
              "      <td>1</td>\n",
              "      <td>1</td>\n",
              "      <td>0</td>\n",
              "      <td>0</td>\n",
              "      <td>4</td>\n",
              "      <td>0</td>\n",
              "      <td>0</td>\n",
              "      <td>1</td>\n",
              "      <td>1</td>\n",
              "    </tr>\n",
              "    <tr>\n",
              "      <th>1</th>\n",
              "      <td>antelope</td>\n",
              "      <td>1</td>\n",
              "      <td>0</td>\n",
              "      <td>0</td>\n",
              "      <td>1</td>\n",
              "      <td>0</td>\n",
              "      <td>0</td>\n",
              "      <td>0</td>\n",
              "      <td>1</td>\n",
              "      <td>1</td>\n",
              "      <td>1</td>\n",
              "      <td>0</td>\n",
              "      <td>0</td>\n",
              "      <td>4</td>\n",
              "      <td>1</td>\n",
              "      <td>0</td>\n",
              "      <td>1</td>\n",
              "      <td>1</td>\n",
              "    </tr>\n",
              "    <tr>\n",
              "      <th>2</th>\n",
              "      <td>bass</td>\n",
              "      <td>0</td>\n",
              "      <td>0</td>\n",
              "      <td>1</td>\n",
              "      <td>0</td>\n",
              "      <td>0</td>\n",
              "      <td>1</td>\n",
              "      <td>1</td>\n",
              "      <td>1</td>\n",
              "      <td>1</td>\n",
              "      <td>0</td>\n",
              "      <td>0</td>\n",
              "      <td>1</td>\n",
              "      <td>0</td>\n",
              "      <td>1</td>\n",
              "      <td>0</td>\n",
              "      <td>0</td>\n",
              "      <td>4</td>\n",
              "    </tr>\n",
              "    <tr>\n",
              "      <th>3</th>\n",
              "      <td>bear</td>\n",
              "      <td>1</td>\n",
              "      <td>0</td>\n",
              "      <td>0</td>\n",
              "      <td>1</td>\n",
              "      <td>0</td>\n",
              "      <td>0</td>\n",
              "      <td>1</td>\n",
              "      <td>1</td>\n",
              "      <td>1</td>\n",
              "      <td>1</td>\n",
              "      <td>0</td>\n",
              "      <td>0</td>\n",
              "      <td>4</td>\n",
              "      <td>0</td>\n",
              "      <td>0</td>\n",
              "      <td>1</td>\n",
              "      <td>1</td>\n",
              "    </tr>\n",
              "    <tr>\n",
              "      <th>4</th>\n",
              "      <td>boar</td>\n",
              "      <td>1</td>\n",
              "      <td>0</td>\n",
              "      <td>0</td>\n",
              "      <td>1</td>\n",
              "      <td>0</td>\n",
              "      <td>0</td>\n",
              "      <td>1</td>\n",
              "      <td>1</td>\n",
              "      <td>1</td>\n",
              "      <td>1</td>\n",
              "      <td>0</td>\n",
              "      <td>0</td>\n",
              "      <td>4</td>\n",
              "      <td>1</td>\n",
              "      <td>0</td>\n",
              "      <td>1</td>\n",
              "      <td>1</td>\n",
              "    </tr>\n",
              "    <tr>\n",
              "      <th>...</th>\n",
              "      <td>...</td>\n",
              "      <td>...</td>\n",
              "      <td>...</td>\n",
              "      <td>...</td>\n",
              "      <td>...</td>\n",
              "      <td>...</td>\n",
              "      <td>...</td>\n",
              "      <td>...</td>\n",
              "      <td>...</td>\n",
              "      <td>...</td>\n",
              "      <td>...</td>\n",
              "      <td>...</td>\n",
              "      <td>...</td>\n",
              "      <td>...</td>\n",
              "      <td>...</td>\n",
              "      <td>...</td>\n",
              "      <td>...</td>\n",
              "      <td>...</td>\n",
              "    </tr>\n",
              "    <tr>\n",
              "      <th>96</th>\n",
              "      <td>wallaby</td>\n",
              "      <td>1</td>\n",
              "      <td>0</td>\n",
              "      <td>0</td>\n",
              "      <td>1</td>\n",
              "      <td>0</td>\n",
              "      <td>0</td>\n",
              "      <td>0</td>\n",
              "      <td>1</td>\n",
              "      <td>1</td>\n",
              "      <td>1</td>\n",
              "      <td>0</td>\n",
              "      <td>0</td>\n",
              "      <td>2</td>\n",
              "      <td>1</td>\n",
              "      <td>0</td>\n",
              "      <td>1</td>\n",
              "      <td>1</td>\n",
              "    </tr>\n",
              "    <tr>\n",
              "      <th>97</th>\n",
              "      <td>wasp</td>\n",
              "      <td>1</td>\n",
              "      <td>0</td>\n",
              "      <td>1</td>\n",
              "      <td>0</td>\n",
              "      <td>1</td>\n",
              "      <td>0</td>\n",
              "      <td>0</td>\n",
              "      <td>0</td>\n",
              "      <td>0</td>\n",
              "      <td>1</td>\n",
              "      <td>1</td>\n",
              "      <td>0</td>\n",
              "      <td>6</td>\n",
              "      <td>0</td>\n",
              "      <td>0</td>\n",
              "      <td>0</td>\n",
              "      <td>6</td>\n",
              "    </tr>\n",
              "    <tr>\n",
              "      <th>98</th>\n",
              "      <td>wolf</td>\n",
              "      <td>1</td>\n",
              "      <td>0</td>\n",
              "      <td>0</td>\n",
              "      <td>1</td>\n",
              "      <td>0</td>\n",
              "      <td>0</td>\n",
              "      <td>1</td>\n",
              "      <td>1</td>\n",
              "      <td>1</td>\n",
              "      <td>1</td>\n",
              "      <td>0</td>\n",
              "      <td>0</td>\n",
              "      <td>4</td>\n",
              "      <td>1</td>\n",
              "      <td>0</td>\n",
              "      <td>1</td>\n",
              "      <td>1</td>\n",
              "    </tr>\n",
              "    <tr>\n",
              "      <th>99</th>\n",
              "      <td>worm</td>\n",
              "      <td>0</td>\n",
              "      <td>0</td>\n",
              "      <td>1</td>\n",
              "      <td>0</td>\n",
              "      <td>0</td>\n",
              "      <td>0</td>\n",
              "      <td>0</td>\n",
              "      <td>0</td>\n",
              "      <td>0</td>\n",
              "      <td>1</td>\n",
              "      <td>0</td>\n",
              "      <td>0</td>\n",
              "      <td>0</td>\n",
              "      <td>0</td>\n",
              "      <td>0</td>\n",
              "      <td>0</td>\n",
              "      <td>7</td>\n",
              "    </tr>\n",
              "    <tr>\n",
              "      <th>100</th>\n",
              "      <td>wren</td>\n",
              "      <td>0</td>\n",
              "      <td>1</td>\n",
              "      <td>1</td>\n",
              "      <td>0</td>\n",
              "      <td>1</td>\n",
              "      <td>0</td>\n",
              "      <td>0</td>\n",
              "      <td>0</td>\n",
              "      <td>1</td>\n",
              "      <td>1</td>\n",
              "      <td>0</td>\n",
              "      <td>0</td>\n",
              "      <td>2</td>\n",
              "      <td>1</td>\n",
              "      <td>0</td>\n",
              "      <td>0</td>\n",
              "      <td>2</td>\n",
              "    </tr>\n",
              "  </tbody>\n",
              "</table>\n",
              "<p>101 rows × 18 columns</p>\n",
              "</div>"
            ],
            "text/plain": [
              "    animal_name  hair  feathers  eggs  ...  tail  domestic  catsize  class_type\n",
              "0      aardvark     1         0     0  ...     0         0        1           1\n",
              "1      antelope     1         0     0  ...     1         0        1           1\n",
              "2          bass     0         0     1  ...     1         0        0           4\n",
              "3          bear     1         0     0  ...     0         0        1           1\n",
              "4          boar     1         0     0  ...     1         0        1           1\n",
              "..          ...   ...       ...   ...  ...   ...       ...      ...         ...\n",
              "96      wallaby     1         0     0  ...     1         0        1           1\n",
              "97         wasp     1         0     1  ...     0         0        0           6\n",
              "98         wolf     1         0     0  ...     1         0        1           1\n",
              "99         worm     0         0     1  ...     0         0        0           7\n",
              "100        wren     0         1     1  ...     1         0        0           2\n",
              "\n",
              "[101 rows x 18 columns]"
            ]
          },
          "metadata": {
            "tags": []
          },
          "execution_count": 1
        }
      ]
    },
    {
      "cell_type": "code",
      "metadata": {
        "id": "tslz9OZHvxBj",
        "colab_type": "code",
        "colab": {
          "base_uri": "https://localhost:8080/",
          "height": 467
        },
        "outputId": "1c5df00c-733e-4b2f-ff9d-209cba645b7e"
      },
      "source": [
        "data.info()"
      ],
      "execution_count": 2,
      "outputs": [
        {
          "output_type": "stream",
          "text": [
            "<class 'pandas.core.frame.DataFrame'>\n",
            "RangeIndex: 101 entries, 0 to 100\n",
            "Data columns (total 18 columns):\n",
            " #   Column       Non-Null Count  Dtype \n",
            "---  ------       --------------  ----- \n",
            " 0   animal_name  101 non-null    object\n",
            " 1   hair         101 non-null    int64 \n",
            " 2   feathers     101 non-null    int64 \n",
            " 3   eggs         101 non-null    int64 \n",
            " 4   milk         101 non-null    int64 \n",
            " 5   airborne     101 non-null    int64 \n",
            " 6   aquatic      101 non-null    int64 \n",
            " 7   predator     101 non-null    int64 \n",
            " 8   toothed      101 non-null    int64 \n",
            " 9   backbone     101 non-null    int64 \n",
            " 10  breathes     101 non-null    int64 \n",
            " 11  venomous     101 non-null    int64 \n",
            " 12  fins         101 non-null    int64 \n",
            " 13  legs         101 non-null    int64 \n",
            " 14  tail         101 non-null    int64 \n",
            " 15  domestic     101 non-null    int64 \n",
            " 16  catsize      101 non-null    int64 \n",
            " 17  class_type   101 non-null    int64 \n",
            "dtypes: int64(17), object(1)\n",
            "memory usage: 14.3+ KB\n"
          ],
          "name": "stdout"
        }
      ]
    },
    {
      "cell_type": "code",
      "metadata": {
        "id": "kCvkDVQNwBtU",
        "colab_type": "code",
        "colab": {
          "base_uri": "https://localhost:8080/",
          "height": 359
        },
        "outputId": "b26ca158-960d-44db-b7c9-c95ad24aac0f"
      },
      "source": [
        "data.isnull().sum()"
      ],
      "execution_count": 3,
      "outputs": [
        {
          "output_type": "execute_result",
          "data": {
            "text/plain": [
              "animal_name    0\n",
              "hair           0\n",
              "feathers       0\n",
              "eggs           0\n",
              "milk           0\n",
              "airborne       0\n",
              "aquatic        0\n",
              "predator       0\n",
              "toothed        0\n",
              "backbone       0\n",
              "breathes       0\n",
              "venomous       0\n",
              "fins           0\n",
              "legs           0\n",
              "tail           0\n",
              "domestic       0\n",
              "catsize        0\n",
              "class_type     0\n",
              "dtype: int64"
            ]
          },
          "metadata": {
            "tags": []
          },
          "execution_count": 3
        }
      ]
    },
    {
      "cell_type": "code",
      "metadata": {
        "id": "IRetLSWawD9a",
        "colab_type": "code",
        "colab": {
          "base_uri": "https://localhost:8080/",
          "height": 985
        },
        "outputId": "4dbd1e32-6c22-4001-809e-3f8dcc9da525"
      },
      "source": [
        "data.hist(figsize=(12,10))"
      ],
      "execution_count": 4,
      "outputs": [
        {
          "output_type": "execute_result",
          "data": {
            "text/plain": [
              "array([[<matplotlib.axes._subplots.AxesSubplot object at 0x7f990174c390>,\n",
              "        <matplotlib.axes._subplots.AxesSubplot object at 0x7f99016f6dd8>,\n",
              "        <matplotlib.axes._subplots.AxesSubplot object at 0x7f99016aefd0>,\n",
              "        <matplotlib.axes._subplots.AxesSubplot object at 0x7f990166b2b0>],\n",
              "       [<matplotlib.axes._subplots.AxesSubplot object at 0x7f9901621518>,\n",
              "        <matplotlib.axes._subplots.AxesSubplot object at 0x7f99015d1780>,\n",
              "        <matplotlib.axes._subplots.AxesSubplot object at 0x7f99015879e8>,\n",
              "        <matplotlib.axes._subplots.AxesSubplot object at 0x7f99015b9c18>],\n",
              "       [<matplotlib.axes._subplots.AxesSubplot object at 0x7f99015b9c88>,\n",
              "        <matplotlib.axes._subplots.AxesSubplot object at 0x7f990152d160>,\n",
              "        <matplotlib.axes._subplots.AxesSubplot object at 0x7f99014e03c8>,\n",
              "        <matplotlib.axes._subplots.AxesSubplot object at 0x7f9901492630>],\n",
              "       [<matplotlib.axes._subplots.AxesSubplot object at 0x7f9901445898>,\n",
              "        <matplotlib.axes._subplots.AxesSubplot object at 0x7f990147ab00>,\n",
              "        <matplotlib.axes._subplots.AxesSubplot object at 0x7f990142fd68>,\n",
              "        <matplotlib.axes._subplots.AxesSubplot object at 0x7f99013e2fd0>],\n",
              "       [<matplotlib.axes._subplots.AxesSubplot object at 0x7f99013a1278>,\n",
              "        <matplotlib.axes._subplots.AxesSubplot object at 0x7f99013544e0>,\n",
              "        <matplotlib.axes._subplots.AxesSubplot object at 0x7f9901305748>,\n",
              "        <matplotlib.axes._subplots.AxesSubplot object at 0x7f990133b9b0>]],\n",
              "      dtype=object)"
            ]
          },
          "metadata": {
            "tags": []
          },
          "execution_count": 4
        },
        {
          "output_type": "display_data",
          "data": {
            "image/png": "[encoded data removed]",
            "text/plain": [
              "<Figure size 864x720 with 20 Axes>"
            ]
          },
          "metadata": {
            "tags": [],
            "needs_background": "light"
          }
        }
      ]
    },
    {
      "cell_type": "code",
      "metadata": {
        "id": "zWBOu1aPwLSS",
        "colab_type": "code",
        "colab": {
          "base_uri": "https://localhost:8080/",
          "height": 576
        },
        "outputId": "67440fa0-f340-4bcf-a93f-03a0a4708aea"
      },
      "source": [
        "data_corr = data.corr()\n",
        "data_corr"
      ],
      "execution_count": 6,
      "outputs": [
        {
          "output_type": "execute_result",
          "data": {
            "text/html": [
              "<div>\n",
              "<style scoped>\n",
              "    .dataframe tbody tr th:only-of-type {\n",
              "        vertical-align: middle;\n",
              "    }\n",
              "\n",
              "    .dataframe tbody tr th {\n",
              "        vertical-align: top;\n",
              "    }\n",
              "\n",
              "    .dataframe thead th {\n",
              "        text-align: right;\n",
              "    }\n",
              "</style>\n",
              "<table border=\"1\" class=\"dataframe\">\n",
              "  <thead>\n",
              "    <tr style=\"text-align: right;\">\n",
              "      <th></th>\n",
              "      <th>hair</th>\n",
              "      <th>feathers</th>\n",
              "      <th>eggs</th>\n",
              "      <th>milk</th>\n",
              "      <th>airborne</th>\n",
              "      <th>aquatic</th>\n",
              "      <th>predator</th>\n",
              "      <th>toothed</th>\n",
              "      <th>backbone</th>\n",
              "      <th>breathes</th>\n",
              "      <th>venomous</th>\n",
              "      <th>fins</th>\n",
              "      <th>legs</th>\n",
              "      <th>tail</th>\n",
              "      <th>domestic</th>\n",
              "      <th>catsize</th>\n",
              "      <th>class_type</th>\n",
              "    </tr>\n",
              "  </thead>\n",
              "  <tbody>\n",
              "    <tr>\n",
              "      <th>hair</th>\n",
              "      <td>1.000000</td>\n",
              "      <td>-0.427851</td>\n",
              "      <td>-0.817382</td>\n",
              "      <td>0.878503</td>\n",
              "      <td>-0.198431</td>\n",
              "      <td>-0.473554</td>\n",
              "      <td>-0.154769</td>\n",
              "      <td>0.492531</td>\n",
              "      <td>0.191681</td>\n",
              "      <td>0.441149</td>\n",
              "      <td>-0.104245</td>\n",
              "      <td>-0.280313</td>\n",
              "      <td>0.394009</td>\n",
              "      <td>0.048973</td>\n",
              "      <td>0.207208</td>\n",
              "      <td>0.455020</td>\n",
              "      <td>-0.562384</td>\n",
              "    </tr>\n",
              "    <tr>\n",
              "      <th>feathers</th>\n",
              "      <td>-0.427851</td>\n",
              "      <td>1.000000</td>\n",
              "      <td>0.419248</td>\n",
              "      <td>-0.410761</td>\n",
              "      <td>0.656553</td>\n",
              "      <td>-0.058552</td>\n",
              "      <td>-0.104430</td>\n",
              "      <td>-0.613631</td>\n",
              "      <td>0.231403</td>\n",
              "      <td>0.254588</td>\n",
              "      <td>-0.145739</td>\n",
              "      <td>-0.223541</td>\n",
              "      <td>-0.206686</td>\n",
              "      <td>0.292569</td>\n",
              "      <td>0.031586</td>\n",
              "      <td>-0.135934</td>\n",
              "      <td>-0.197520</td>\n",
              "    </tr>\n",
              "    <tr>\n",
              "      <th>eggs</th>\n",
              "      <td>-0.817382</td>\n",
              "      <td>0.419248</td>\n",
              "      <td>1.000000</td>\n",
              "      <td>-0.938848</td>\n",
              "      <td>0.376646</td>\n",
              "      <td>0.376244</td>\n",
              "      <td>0.011605</td>\n",
              "      <td>-0.642150</td>\n",
              "      <td>-0.340420</td>\n",
              "      <td>-0.382777</td>\n",
              "      <td>0.098689</td>\n",
              "      <td>0.164796</td>\n",
              "      <td>-0.224918</td>\n",
              "      <td>-0.221090</td>\n",
              "      <td>-0.155610</td>\n",
              "      <td>-0.514650</td>\n",
              "      <td>0.661825</td>\n",
              "    </tr>\n",
              "    <tr>\n",
              "      <th>milk</th>\n",
              "      <td>0.878503</td>\n",
              "      <td>-0.410761</td>\n",
              "      <td>-0.938848</td>\n",
              "      <td>1.000000</td>\n",
              "      <td>-0.366765</td>\n",
              "      <td>-0.362613</td>\n",
              "      <td>-0.029721</td>\n",
              "      <td>0.628168</td>\n",
              "      <td>0.384958</td>\n",
              "      <td>0.423527</td>\n",
              "      <td>-0.242449</td>\n",
              "      <td>-0.156328</td>\n",
              "      <td>0.214196</td>\n",
              "      <td>0.210026</td>\n",
              "      <td>0.163928</td>\n",
              "      <td>0.574906</td>\n",
              "      <td>-0.723683</td>\n",
              "    </tr>\n",
              "    <tr>\n",
              "      <th>airborne</th>\n",
              "      <td>-0.198431</td>\n",
              "      <td>0.656553</td>\n",
              "      <td>0.376646</td>\n",
              "      <td>-0.366765</td>\n",
              "      <td>1.000000</td>\n",
              "      <td>-0.172638</td>\n",
              "      <td>-0.295181</td>\n",
              "      <td>-0.594311</td>\n",
              "      <td>-0.104718</td>\n",
              "      <td>0.286039</td>\n",
              "      <td>0.008528</td>\n",
              "      <td>-0.251157</td>\n",
              "      <td>0.043712</td>\n",
              "      <td>0.009482</td>\n",
              "      <td>0.063274</td>\n",
              "      <td>-0.349768</td>\n",
              "      <td>0.022677</td>\n",
              "    </tr>\n",
              "    <tr>\n",
              "      <th>aquatic</th>\n",
              "      <td>-0.473554</td>\n",
              "      <td>-0.058552</td>\n",
              "      <td>0.376244</td>\n",
              "      <td>-0.362613</td>\n",
              "      <td>-0.172638</td>\n",
              "      <td>1.000000</td>\n",
              "      <td>0.375978</td>\n",
              "      <td>0.053150</td>\n",
              "      <td>0.022463</td>\n",
              "      <td>-0.637506</td>\n",
              "      <td>0.087915</td>\n",
              "      <td>0.604492</td>\n",
              "      <td>-0.360638</td>\n",
              "      <td>-0.034642</td>\n",
              "      <td>-0.224308</td>\n",
              "      <td>-0.111866</td>\n",
              "      <td>0.326639</td>\n",
              "    </tr>\n",
              "    <tr>\n",
              "      <th>predator</th>\n",
              "      <td>-0.154769</td>\n",
              "      <td>-0.104430</td>\n",
              "      <td>0.011605</td>\n",
              "      <td>-0.029721</td>\n",
              "      <td>-0.295181</td>\n",
              "      <td>0.375978</td>\n",
              "      <td>1.000000</td>\n",
              "      <td>0.129452</td>\n",
              "      <td>0.051022</td>\n",
              "      <td>-0.262931</td>\n",
              "      <td>0.115391</td>\n",
              "      <td>0.190302</td>\n",
              "      <td>-0.099723</td>\n",
              "      <td>0.018947</td>\n",
              "      <td>-0.309794</td>\n",
              "      <td>0.144790</td>\n",
              "      <td>0.061179</td>\n",
              "    </tr>\n",
              "    <tr>\n",
              "      <th>toothed</th>\n",
              "      <td>0.492531</td>\n",
              "      <td>-0.613631</td>\n",
              "      <td>-0.642150</td>\n",
              "      <td>0.628168</td>\n",
              "      <td>-0.594311</td>\n",
              "      <td>0.053150</td>\n",
              "      <td>0.129452</td>\n",
              "      <td>1.000000</td>\n",
              "      <td>0.575085</td>\n",
              "      <td>-0.065690</td>\n",
              "      <td>-0.062344</td>\n",
              "      <td>0.364292</td>\n",
              "      <td>-0.193476</td>\n",
              "      <td>0.310368</td>\n",
              "      <td>0.069430</td>\n",
              "      <td>0.344010</td>\n",
              "      <td>-0.471527</td>\n",
              "    </tr>\n",
              "    <tr>\n",
              "      <th>backbone</th>\n",
              "      <td>0.191681</td>\n",
              "      <td>0.231403</td>\n",
              "      <td>-0.340420</td>\n",
              "      <td>0.384958</td>\n",
              "      <td>-0.104718</td>\n",
              "      <td>0.022463</td>\n",
              "      <td>0.051022</td>\n",
              "      <td>0.575085</td>\n",
              "      <td>1.000000</td>\n",
              "      <td>0.207666</td>\n",
              "      <td>-0.246611</td>\n",
              "      <td>0.209499</td>\n",
              "      <td>-0.432856</td>\n",
              "      <td>0.731762</td>\n",
              "      <td>0.101733</td>\n",
              "      <td>0.356976</td>\n",
              "      <td>-0.828845</td>\n",
              "    </tr>\n",
              "    <tr>\n",
              "      <th>breathes</th>\n",
              "      <td>0.441149</td>\n",
              "      <td>0.254588</td>\n",
              "      <td>-0.382777</td>\n",
              "      <td>0.423527</td>\n",
              "      <td>0.286039</td>\n",
              "      <td>-0.637506</td>\n",
              "      <td>-0.262931</td>\n",
              "      <td>-0.065690</td>\n",
              "      <td>0.207666</td>\n",
              "      <td>1.000000</td>\n",
              "      <td>-0.120752</td>\n",
              "      <td>-0.617219</td>\n",
              "      <td>0.369868</td>\n",
              "      <td>0.088952</td>\n",
              "      <td>0.124068</td>\n",
              "      <td>0.204125</td>\n",
              "      <td>-0.519308</td>\n",
              "    </tr>\n",
              "    <tr>\n",
              "      <th>venomous</th>\n",
              "      <td>-0.104245</td>\n",
              "      <td>-0.145739</td>\n",
              "      <td>0.098689</td>\n",
              "      <td>-0.242449</td>\n",
              "      <td>0.008528</td>\n",
              "      <td>0.087915</td>\n",
              "      <td>0.115391</td>\n",
              "      <td>-0.062344</td>\n",
              "      <td>-0.246611</td>\n",
              "      <td>-0.120752</td>\n",
              "      <td>1.000000</td>\n",
              "      <td>-0.033956</td>\n",
              "      <td>0.022964</td>\n",
              "      <td>-0.162724</td>\n",
              "      <td>-0.003252</td>\n",
              "      <td>-0.183748</td>\n",
              "      <td>0.321476</td>\n",
              "    </tr>\n",
              "    <tr>\n",
              "      <th>fins</th>\n",
              "      <td>-0.280313</td>\n",
              "      <td>-0.223541</td>\n",
              "      <td>0.164796</td>\n",
              "      <td>-0.156328</td>\n",
              "      <td>-0.251157</td>\n",
              "      <td>0.604492</td>\n",
              "      <td>0.190302</td>\n",
              "      <td>0.364292</td>\n",
              "      <td>0.209499</td>\n",
              "      <td>-0.617219</td>\n",
              "      <td>-0.033956</td>\n",
              "      <td>1.000000</td>\n",
              "      <td>-0.605652</td>\n",
              "      <td>0.204349</td>\n",
              "      <td>-0.093887</td>\n",
              "      <td>0.031705</td>\n",
              "      <td>0.099430</td>\n",
              "    </tr>\n",
              "    <tr>\n",
              "      <th>legs</th>\n",
              "      <td>0.394009</td>\n",
              "      <td>-0.206686</td>\n",
              "      <td>-0.224918</td>\n",
              "      <td>0.214196</td>\n",
              "      <td>0.043712</td>\n",
              "      <td>-0.360638</td>\n",
              "      <td>-0.099723</td>\n",
              "      <td>-0.193476</td>\n",
              "      <td>-0.432856</td>\n",
              "      <td>0.369868</td>\n",
              "      <td>0.022964</td>\n",
              "      <td>-0.605652</td>\n",
              "      <td>1.000000</td>\n",
              "      <td>-0.348295</td>\n",
              "      <td>0.073931</td>\n",
              "      <td>0.068791</td>\n",
              "      <td>0.131693</td>\n",
              "    </tr>\n",
              "    <tr>\n",
              "      <th>tail</th>\n",
              "      <td>0.048973</td>\n",
              "      <td>0.292569</td>\n",
              "      <td>-0.221090</td>\n",
              "      <td>0.210026</td>\n",
              "      <td>0.009482</td>\n",
              "      <td>-0.034642</td>\n",
              "      <td>0.018947</td>\n",
              "      <td>0.310368</td>\n",
              "      <td>0.731762</td>\n",
              "      <td>0.088952</td>\n",
              "      <td>-0.162724</td>\n",
              "      <td>0.204349</td>\n",
              "      <td>-0.348295</td>\n",
              "      <td>1.000000</td>\n",
              "      <td>0.023434</td>\n",
              "      <td>0.243277</td>\n",
              "      <td>-0.631830</td>\n",
              "    </tr>\n",
              "    <tr>\n",
              "      <th>domestic</th>\n",
              "      <td>0.207208</td>\n",
              "      <td>0.031586</td>\n",
              "      <td>-0.155610</td>\n",
              "      <td>0.163928</td>\n",
              "      <td>0.063274</td>\n",
              "      <td>-0.224308</td>\n",
              "      <td>-0.309794</td>\n",
              "      <td>0.069430</td>\n",
              "      <td>0.101733</td>\n",
              "      <td>0.124068</td>\n",
              "      <td>-0.003252</td>\n",
              "      <td>-0.093887</td>\n",
              "      <td>0.073931</td>\n",
              "      <td>0.023434</td>\n",
              "      <td>1.000000</td>\n",
              "      <td>0.020073</td>\n",
              "      <td>-0.181043</td>\n",
              "    </tr>\n",
              "    <tr>\n",
              "      <th>catsize</th>\n",
              "      <td>0.455020</td>\n",
              "      <td>-0.135934</td>\n",
              "      <td>-0.514650</td>\n",
              "      <td>0.574906</td>\n",
              "      <td>-0.349768</td>\n",
              "      <td>-0.111866</td>\n",
              "      <td>0.144790</td>\n",
              "      <td>0.344010</td>\n",
              "      <td>0.356976</td>\n",
              "      <td>0.204125</td>\n",
              "      <td>-0.183748</td>\n",
              "      <td>0.031705</td>\n",
              "      <td>0.068791</td>\n",
              "      <td>0.243277</td>\n",
              "      <td>0.020073</td>\n",
              "      <td>1.000000</td>\n",
              "      <td>-0.521030</td>\n",
              "    </tr>\n",
              "    <tr>\n",
              "      <th>class_type</th>\n",
              "      <td>-0.562384</td>\n",
              "      <td>-0.197520</td>\n",
              "      <td>0.661825</td>\n",
              "      <td>-0.723683</td>\n",
              "      <td>0.022677</td>\n",
              "      <td>0.326639</td>\n",
              "      <td>0.061179</td>\n",
              "      <td>-0.471527</td>\n",
              "      <td>-0.828845</td>\n",
              "      <td>-0.519308</td>\n",
              "      <td>0.321476</td>\n",
              "      <td>0.099430</td>\n",
              "      <td>0.131693</td>\n",
              "      <td>-0.631830</td>\n",
              "      <td>-0.181043</td>\n",
              "      <td>-0.521030</td>\n",
              "      <td>1.000000</td>\n",
              "    </tr>\n",
              "  </tbody>\n",
              "</table>\n",
              "</div>"
            ],
            "text/plain": [
              "                hair  feathers      eggs  ...  domestic   catsize  class_type\n",
              "hair        1.000000 -0.427851 -0.817382  ...  0.207208  0.455020   -0.562384\n",
              "feathers   -0.427851  1.000000  0.419248  ...  0.031586 -0.135934   -0.197520\n",
              "eggs       -0.817382  0.419248  1.000000  ... -0.155610 -0.514650    0.661825\n",
              "milk        0.878503 -0.410761 -0.938848  ...  0.163928  0.574906   -0.723683\n",
              "airborne   -0.198431  0.656553  0.376646  ...  0.063274 -0.349768    0.022677\n",
              "aquatic    -0.473554 -0.058552  0.376244  ... -0.224308 -0.111866    0.326639\n",
              "predator   -0.154769 -0.104430  0.011605  ... -0.309794  0.144790    0.061179\n",
              "toothed     0.492531 -0.613631 -0.642150  ...  0.069430  0.344010   -0.471527\n",
              "backbone    0.191681  0.231403 -0.340420  ...  0.101733  0.356976   -0.828845\n",
              "breathes    0.441149  0.254588 -0.382777  ...  0.124068  0.204125   -0.519308\n",
              "venomous   -0.104245 -0.145739  0.098689  ... -0.003252 -0.183748    0.321476\n",
              "fins       -0.280313 -0.223541  0.164796  ... -0.093887  0.031705    0.099430\n",
              "legs        0.394009 -0.206686 -0.224918  ...  0.073931  0.068791    0.131693\n",
              "tail        0.048973  0.292569 -0.221090  ...  0.023434  0.243277   -0.631830\n",
              "domestic    0.207208  0.031586 -0.155610  ...  1.000000  0.020073   -0.181043\n",
              "catsize     0.455020 -0.135934 -0.514650  ...  0.020073  1.000000   -0.521030\n",
              "class_type -0.562384 -0.197520  0.661825  ... -0.181043 -0.521030    1.000000\n",
              "\n",
              "[17 rows x 17 columns]"
            ]
          },
          "metadata": {
            "tags": []
          },
          "execution_count": 6
        }
      ]
    },
    {
      "cell_type": "code",
      "metadata": {
        "id": "zkuaeLwnwOqq",
        "colab_type": "code",
        "colab": {
          "base_uri": "https://localhost:8080/",
          "height": 341
        },
        "outputId": "6a0d3eab-3677-430f-ea0e-714f4da3ae2e"
      },
      "source": [
        "data_corr['class_type'].sort_values()"
      ],
      "execution_count": 7,
      "outputs": [
        {
          "output_type": "execute_result",
          "data": {
            "text/plain": [
              "backbone     -0.828845\n",
              "milk         -0.723683\n",
              "tail         -0.631830\n",
              "hair         -0.562384\n",
              "catsize      -0.521030\n",
              "breathes     -0.519308\n",
              "toothed      -0.471527\n",
              "feathers     -0.197520\n",
              "domestic     -0.181043\n",
              "airborne      0.022677\n",
              "predator      0.061179\n",
              "fins          0.099430\n",
              "legs          0.131693\n",
              "venomous      0.321476\n",
              "aquatic       0.326639\n",
              "eggs          0.661825\n",
              "class_type    1.000000\n",
              "Name: class_type, dtype: float64"
            ]
          },
          "metadata": {
            "tags": []
          },
          "execution_count": 7
        }
      ]
    },
    {
      "cell_type": "code",
      "metadata": {
        "id": "XLeBGdFuwU0i",
        "colab_type": "code",
        "colab": {
          "base_uri": "https://localhost:8080/",
          "height": 720
        },
        "outputId": "75be3902-51ea-493e-99e9-788af082e24c"
      },
      "source": [
        "from pandas.plotting import scatter_matrix\n",
        "\n",
        "attribute = ['backbone','milk','tail','hair','catsize','breathes','toothed','venomous','aquatic','eggs','class_type']\n",
        "\n",
        "scatter = scatter_matrix(data[attribute],figsize=(12,12))"
      ],
      "execution_count": 9,
      "outputs": [
        {
          "output_type": "display_data",
          "data": {
            "image/png": "[encoded data removed]",
            "text/plain": [
              "<Figure size 864x864 with 121 Axes>"
            ]
          },
          "metadata": {
            "tags": [],
            "needs_background": "light"
          }
        }
      ]
    },
    {
      "cell_type": "code",
      "metadata": {
        "id": "jcF9QuiLxTlC",
        "colab_type": "code",
        "colab": {}
      },
      "source": [
        "data_copy = data.copy()\n",
        "\n",
        "del data_copy['feathers']\n",
        "del data_copy['domestic']\n",
        "del data_copy['airborne']\n",
        "del data_copy['predator']\n",
        "del data_copy['fins']\n",
        "del data_copy['legs']\n",
        "del data_copy['animal_name']"
      ],
      "execution_count": 17,
      "outputs": []
    },
    {
      "cell_type": "code",
      "metadata": {
        "id": "-CM5sA62xJac",
        "colab_type": "code",
        "colab": {}
      },
      "source": [
        "from sklearn.model_selection import train_test_split\n",
        "\n",
        "train_set, test_set = train_test_split(data_copy, test_size = 0.3)\n",
        "\n",
        "train_y = train_set['class_type']\n",
        "test_y = test_set['class_type']\n",
        "\n",
        "del train_set['class_type']\n",
        "del test_set['class_type']"
      ],
      "execution_count": 18,
      "outputs": []
    },
    {
      "cell_type": "code",
      "metadata": {
        "id": "LYDcgfcixyWF",
        "colab_type": "code",
        "colab": {
          "base_uri": "https://localhost:8080/",
          "height": 419
        },
        "outputId": "c75664c7-e6bc-44a3-f528-7c187d755ecd"
      },
      "source": [
        "train_set"
      ],
      "execution_count": 19,
      "outputs": [
        {
          "output_type": "execute_result",
          "data": {
            "text/html": [
              "<div>\n",
              "<style scoped>\n",
              "    .dataframe tbody tr th:only-of-type {\n",
              "        vertical-align: middle;\n",
              "    }\n",
              "\n",
              "    .dataframe tbody tr th {\n",
              "        vertical-align: top;\n",
              "    }\n",
              "\n",
              "    .dataframe thead th {\n",
              "        text-align: right;\n",
              "    }\n",
              "</style>\n",
              "<table border=\"1\" class=\"dataframe\">\n",
              "  <thead>\n",
              "    <tr style=\"text-align: right;\">\n",
              "      <th></th>\n",
              "      <th>hair</th>\n",
              "      <th>eggs</th>\n",
              "      <th>milk</th>\n",
              "      <th>aquatic</th>\n",
              "      <th>toothed</th>\n",
              "      <th>backbone</th>\n",
              "      <th>breathes</th>\n",
              "      <th>venomous</th>\n",
              "      <th>tail</th>\n",
              "      <th>catsize</th>\n",
              "    </tr>\n",
              "  </thead>\n",
              "  <tbody>\n",
              "    <tr>\n",
              "      <th>77</th>\n",
              "      <td>0</td>\n",
              "      <td>1</td>\n",
              "      <td>0</td>\n",
              "      <td>1</td>\n",
              "      <td>0</td>\n",
              "      <td>0</td>\n",
              "      <td>0</td>\n",
              "      <td>1</td>\n",
              "      <td>0</td>\n",
              "      <td>0</td>\n",
              "    </tr>\n",
              "    <tr>\n",
              "      <th>32</th>\n",
              "      <td>1</td>\n",
              "      <td>0</td>\n",
              "      <td>1</td>\n",
              "      <td>0</td>\n",
              "      <td>1</td>\n",
              "      <td>1</td>\n",
              "      <td>1</td>\n",
              "      <td>0</td>\n",
              "      <td>0</td>\n",
              "      <td>1</td>\n",
              "    </tr>\n",
              "    <tr>\n",
              "      <th>34</th>\n",
              "      <td>0</td>\n",
              "      <td>1</td>\n",
              "      <td>0</td>\n",
              "      <td>1</td>\n",
              "      <td>1</td>\n",
              "      <td>1</td>\n",
              "      <td>0</td>\n",
              "      <td>0</td>\n",
              "      <td>1</td>\n",
              "      <td>0</td>\n",
              "    </tr>\n",
              "    <tr>\n",
              "      <th>71</th>\n",
              "      <td>0</td>\n",
              "      <td>1</td>\n",
              "      <td>0</td>\n",
              "      <td>0</td>\n",
              "      <td>0</td>\n",
              "      <td>1</td>\n",
              "      <td>1</td>\n",
              "      <td>0</td>\n",
              "      <td>1</td>\n",
              "      <td>1</td>\n",
              "    </tr>\n",
              "    <tr>\n",
              "      <th>86</th>\n",
              "      <td>0</td>\n",
              "      <td>1</td>\n",
              "      <td>0</td>\n",
              "      <td>1</td>\n",
              "      <td>1</td>\n",
              "      <td>1</td>\n",
              "      <td>0</td>\n",
              "      <td>1</td>\n",
              "      <td>1</td>\n",
              "      <td>1</td>\n",
              "    </tr>\n",
              "    <tr>\n",
              "      <th>...</th>\n",
              "      <td>...</td>\n",
              "      <td>...</td>\n",
              "      <td>...</td>\n",
              "      <td>...</td>\n",
              "      <td>...</td>\n",
              "      <td>...</td>\n",
              "      <td>...</td>\n",
              "      <td>...</td>\n",
              "      <td>...</td>\n",
              "      <td>...</td>\n",
              "    </tr>\n",
              "    <tr>\n",
              "      <th>73</th>\n",
              "      <td>0</td>\n",
              "      <td>1</td>\n",
              "      <td>0</td>\n",
              "      <td>1</td>\n",
              "      <td>1</td>\n",
              "      <td>1</td>\n",
              "      <td>0</td>\n",
              "      <td>0</td>\n",
              "      <td>1</td>\n",
              "      <td>0</td>\n",
              "    </tr>\n",
              "    <tr>\n",
              "      <th>14</th>\n",
              "      <td>0</td>\n",
              "      <td>1</td>\n",
              "      <td>0</td>\n",
              "      <td>1</td>\n",
              "      <td>0</td>\n",
              "      <td>0</td>\n",
              "      <td>0</td>\n",
              "      <td>0</td>\n",
              "      <td>0</td>\n",
              "      <td>0</td>\n",
              "    </tr>\n",
              "    <tr>\n",
              "      <th>28</th>\n",
              "      <td>1</td>\n",
              "      <td>0</td>\n",
              "      <td>1</td>\n",
              "      <td>0</td>\n",
              "      <td>1</td>\n",
              "      <td>1</td>\n",
              "      <td>1</td>\n",
              "      <td>0</td>\n",
              "      <td>1</td>\n",
              "      <td>1</td>\n",
              "    </tr>\n",
              "    <tr>\n",
              "      <th>7</th>\n",
              "      <td>0</td>\n",
              "      <td>1</td>\n",
              "      <td>0</td>\n",
              "      <td>1</td>\n",
              "      <td>1</td>\n",
              "      <td>1</td>\n",
              "      <td>0</td>\n",
              "      <td>0</td>\n",
              "      <td>1</td>\n",
              "      <td>0</td>\n",
              "    </tr>\n",
              "    <tr>\n",
              "      <th>13</th>\n",
              "      <td>0</td>\n",
              "      <td>1</td>\n",
              "      <td>0</td>\n",
              "      <td>0</td>\n",
              "      <td>0</td>\n",
              "      <td>0</td>\n",
              "      <td>0</td>\n",
              "      <td>0</td>\n",
              "      <td>0</td>\n",
              "      <td>0</td>\n",
              "    </tr>\n",
              "  </tbody>\n",
              "</table>\n",
              "<p>70 rows × 10 columns</p>\n",
              "</div>"
            ],
            "text/plain": [
              "    hair  eggs  milk  aquatic  ...  breathes  venomous  tail  catsize\n",
              "77     0     1     0        1  ...         0         1     0        0\n",
              "32     1     0     1        0  ...         1         0     0        1\n",
              "34     0     1     0        1  ...         0         0     1        0\n",
              "71     0     1     0        0  ...         1         0     1        1\n",
              "86     0     1     0        1  ...         0         1     1        1\n",
              "..   ...   ...   ...      ...  ...       ...       ...   ...      ...\n",
              "73     0     1     0        1  ...         0         0     1        0\n",
              "14     0     1     0        1  ...         0         0     0        0\n",
              "28     1     0     1        0  ...         1         0     1        1\n",
              "7      0     1     0        1  ...         0         0     1        0\n",
              "13     0     1     0        0  ...         0         0     0        0\n",
              "\n",
              "[70 rows x 10 columns]"
            ]
          },
          "metadata": {
            "tags": []
          },
          "execution_count": 19
        }
      ]
    },
    {
      "cell_type": "code",
      "metadata": {
        "id": "Gwk-TZ5_xz2b",
        "colab_type": "code",
        "colab": {
          "base_uri": "https://localhost:8080/",
          "height": 125
        },
        "outputId": "b28594ac-114f-4a7b-fd51-dd53b145c6fe"
      },
      "source": [
        "from sklearn.tree import DecisionTreeClassifier\n",
        "\n",
        "tree_clf = DecisionTreeClassifier(max_depth = 9)\n",
        "\n",
        "tree_clf.fit(train_set,train_y)"
      ],
      "execution_count": 22,
      "outputs": [
        {
          "output_type": "execute_result",
          "data": {
            "text/plain": [
              "DecisionTreeClassifier(ccp_alpha=0.0, class_weight=None, criterion='gini',\n",
              "                       max_depth=9, max_features=None, max_leaf_nodes=None,\n",
              "                       min_impurity_decrease=0.0, min_impurity_split=None,\n",
              "                       min_samples_leaf=1, min_samples_split=2,\n",
              "                       min_weight_fraction_leaf=0.0, presort='deprecated',\n",
              "                       random_state=None, splitter='best')"
            ]
          },
          "metadata": {
            "tags": []
          },
          "execution_count": 22
        }
      ]
    },
    {
      "cell_type": "code",
      "metadata": {
        "id": "bL618dKnzg1y",
        "colab_type": "code",
        "colab": {
          "base_uri": "https://localhost:8080/",
          "height": 53
        },
        "outputId": "418f0620-07f1-4f1c-a276-c5f6fc89b36a"
      },
      "source": [
        "some_data = train_set.iloc[6:10]\n",
        "some_labels = train_y.iloc[6:10]\n",
        "print(\"예측:\", tree_clf.predict(some_data))\n",
        "print(\"레이블:\", list(some_labels))"
      ],
      "execution_count": 25,
      "outputs": [
        {
          "output_type": "stream",
          "text": [
            "예측: [2 2 3 1]\n",
            "레이블: [2, 2, 3, 1]\n"
          ],
          "name": "stdout"
        }
      ]
    },
    {
      "cell_type": "code",
      "metadata": {
        "id": "ZqDwCUUmzUVs",
        "colab_type": "code",
        "colab": {
          "base_uri": "https://localhost:8080/",
          "height": 71
        },
        "outputId": "7f0f844c-061c-4a41-a8da-6b8ae701bc73"
      },
      "source": [
        "from sklearn.neighbors import KNeighborsClassifier\n",
        "knn = KNeighborsClassifier(n_neighbors=7)\n",
        "knn.fit(train_set, train_y)"
      ],
      "execution_count": 23,
      "outputs": [
        {
          "output_type": "execute_result",
          "data": {
            "text/plain": [
              "KNeighborsClassifier(algorithm='auto', leaf_size=30, metric='minkowski',\n",
              "                     metric_params=None, n_jobs=None, n_neighbors=7, p=2,\n",
              "                     weights='uniform')"
            ]
          },
          "metadata": {
            "tags": []
          },
          "execution_count": 23
        }
      ]
    },
    {
      "cell_type": "code",
      "metadata": {
        "id": "pZpf6A3Wze9K",
        "colab_type": "code",
        "colab": {
          "base_uri": "https://localhost:8080/",
          "height": 53
        },
        "outputId": "159686ce-2da9-424f-d484-c6b028f2a9e0"
      },
      "source": [
        "some_data = train_set.iloc[6:10]\n",
        "some_labels = train_y.iloc[6:10]\n",
        "print(\"예측:\", knn.predict(some_data))\n",
        "print(\"레이블:\", list(some_labels))"
      ],
      "execution_count": 24,
      "outputs": [
        {
          "output_type": "stream",
          "text": [
            "예측: [2 2 2 1]\n",
            "레이블: [2, 2, 3, 1]\n"
          ],
          "name": "stdout"
        }
      ]
    },
    {
      "cell_type": "code",
      "metadata": {
        "id": "Rkqjn0R0zkIy",
        "colab_type": "code",
        "colab": {
          "base_uri": "https://localhost:8080/",
          "height": 35
        },
        "outputId": "65f09663-1d80-4b34-9af6-28fce0efb006"
      },
      "source": [
        "from sklearn.metrics import mean_squared_error\n",
        "predictions = tree_clf.predict(train_set)\n",
        "tree_mse = mean_squared_error(train_y, predictions)\n",
        "tree_rmse = np.sqrt(tree_mse)\n",
        "tree_rmse"
      ],
      "execution_count": 29,
      "outputs": [
        {
          "output_type": "execute_result",
          "data": {
            "text/plain": [
              "0.20701966780270625"
            ]
          },
          "metadata": {
            "tags": []
          },
          "execution_count": 29
        }
      ]
    },
    {
      "cell_type": "code",
      "metadata": {
        "id": "cIcyjKcbzsCL",
        "colab_type": "code",
        "colab": {
          "base_uri": "https://localhost:8080/",
          "height": 35
        },
        "outputId": "4aaefc99-9a5c-4b31-a1c9-b09dc2704216"
      },
      "source": [
        "predictions = knn.predict(train_set)\n",
        "knn_mse = mean_squared_error(train_y, predictions)\n",
        "knn_rmse = np.sqrt(knn_mse)\n",
        "knn_rmse"
      ],
      "execution_count": 30,
      "outputs": [
        {
          "output_type": "execute_result",
          "data": {
            "text/plain": [
              "0.35856858280031806"
            ]
          },
          "metadata": {
            "tags": []
          },
          "execution_count": 30
        }
      ]
    },
    {
      "cell_type": "code",
      "metadata": {
        "id": "15X2ZtUkzxgy",
        "colab_type": "code",
        "colab": {
          "base_uri": "https://localhost:8080/",
          "height": 125
        },
        "outputId": "2d9acf45-3005-4e7d-fe35-2a281d31abbe"
      },
      "source": [
        "from sklearn.model_selection import cross_val_score\n",
        "\n",
        "scores = cross_val_score(tree_clf, train_set, train_y,\n",
        "                         scoring=\"neg_mean_squared_error\", cv=10)\n",
        "tree_rmse_scores = np.sqrt(-scores)\n",
        "def display_scores(scores):\n",
        "    print(\"점수:\", scores)\n",
        "    print(\"평균:\", scores.mean())\n",
        "    print(\"표준 편차:\", scores.std())\n",
        "\n",
        "display_scores(tree_rmse_scores)"
      ],
      "execution_count": 31,
      "outputs": [
        {
          "output_type": "stream",
          "text": [
            "점수: [0.         0.         0.53452248 0.37796447 0.         0.\n",
            " 0.         0.         0.         0.37796447]\n",
            "평균: 0.1290451429843303\n",
            "표준 편차: 0.2012217886189537\n"
          ],
          "name": "stdout"
        },
        {
          "output_type": "stream",
          "text": [
            "/usr/local/lib/python3.6/dist-packages/sklearn/model_selection/_split.py:667: UserWarning: The least populated class in y has only 2 members, which is less than n_splits=10.\n",
            "  % (min_groups, self.n_splits)), UserWarning)\n"
          ],
          "name": "stderr"
        }
      ]
    },
    {
      "cell_type": "code",
      "metadata": {
        "id": "NLCYbtCOz5yc",
        "colab_type": "code",
        "colab": {
          "base_uri": "https://localhost:8080/",
          "height": 125
        },
        "outputId": "8a874ddc-a195-41b5-a21b-bf84c5bd577d"
      },
      "source": [
        "scores = cross_val_score(knn, train_set, train_y,\n",
        "                         scoring=\"neg_mean_squared_error\", cv=10)\n",
        "tree_rmse_scores = np.sqrt(-scores)\n",
        "\n",
        "display_scores(tree_rmse_scores)"
      ],
      "execution_count": 32,
      "outputs": [
        {
          "output_type": "stream",
          "text": [
            "점수: [0.37796447 0.37796447 0.53452248 0.37796447 0.         0.\n",
            " 0.         0.         0.53452248 1.19522861]\n",
            "평균: 0.33981669960117733\n",
            "표준 편차: 0.35690580484114587\n"
          ],
          "name": "stdout"
        },
        {
          "output_type": "stream",
          "text": [
            "/usr/local/lib/python3.6/dist-packages/sklearn/model_selection/_split.py:667: UserWarning: The least populated class in y has only 2 members, which is less than n_splits=10.\n",
            "  % (min_groups, self.n_splits)), UserWarning)\n"
          ],
          "name": "stderr"
        }
      ]
    },
    {
      "cell_type": "code",
      "metadata": {
        "id": "87pEWmmr1a3L",
        "colab_type": "code",
        "colab": {
          "base_uri": "https://localhost:8080/",
          "height": 161
        },
        "outputId": "77378a00-dcd1-4eea-9c16-2e78d03a684f"
      },
      "source": [
        "from sklearn.ensemble import RandomForestClassifier\n",
        "\n",
        "forest_clf = RandomForestClassifier(n_estimators=5, random_state=42)\n",
        "forest_clf.fit(train_set, train_y)"
      ],
      "execution_count": 34,
      "outputs": [
        {
          "output_type": "execute_result",
          "data": {
            "text/plain": [
              "RandomForestClassifier(bootstrap=True, ccp_alpha=0.0, class_weight=None,\n",
              "                       criterion='gini', max_depth=None, max_features='auto',\n",
              "                       max_leaf_nodes=None, max_samples=None,\n",
              "                       min_impurity_decrease=0.0, min_impurity_split=None,\n",
              "                       min_samples_leaf=1, min_samples_split=2,\n",
              "                       min_weight_fraction_leaf=0.0, n_estimators=5,\n",
              "                       n_jobs=None, oob_score=False, random_state=42, verbose=0,\n",
              "                       warm_start=False)"
            ]
          },
          "metadata": {
            "tags": []
          },
          "execution_count": 34
        }
      ]
    },
    {
      "cell_type": "code",
      "metadata": {
        "id": "lnF2wLek1tA7",
        "colab_type": "code",
        "colab": {
          "base_uri": "https://localhost:8080/",
          "height": 53
        },
        "outputId": "78615ec6-c79f-4207-b187-492c295f7f7d"
      },
      "source": [
        "some_data = train_set.iloc[6:10]\n",
        "some_labels = train_y.iloc[6:10]\n",
        "print(\"예측:\", forest_clf.predict(some_data))\n",
        "print(\"레이블:\", list(some_labels))"
      ],
      "execution_count": 35,
      "outputs": [
        {
          "output_type": "stream",
          "text": [
            "예측: [2 2 3 1]\n",
            "레이블: [2, 2, 3, 1]\n"
          ],
          "name": "stdout"
        }
      ]
    },
    {
      "cell_type": "code",
      "metadata": {
        "id": "9LgIl-fw1vyK",
        "colab_type": "code",
        "colab": {
          "base_uri": "https://localhost:8080/",
          "height": 125
        },
        "outputId": "fe5595fc-67ca-4f0e-f91a-5a031f8b11cc"
      },
      "source": [
        "scores = cross_val_score(forest_clf, train_set, train_y,\n",
        "                         scoring=\"neg_mean_squared_error\", cv=10)\n",
        "tree_rmse_scores = np.sqrt(-scores)\n",
        "display_scores(tree_rmse_scores)"
      ],
      "execution_count": 36,
      "outputs": [
        {
          "output_type": "stream",
          "text": [
            "점수: [0.         0.         0.84515425 0.37796447 0.37796447 0.\n",
            " 0.         0.         0.         1.19522861]\n",
            "평균: 0.2796311810081365\n",
            "표준 편차: 0.4057875619891986\n"
          ],
          "name": "stdout"
        },
        {
          "output_type": "stream",
          "text": [
            "/usr/local/lib/python3.6/dist-packages/sklearn/model_selection/_split.py:667: UserWarning: The least populated class in y has only 2 members, which is less than n_splits=10.\n",
            "  % (min_groups, self.n_splits)), UserWarning)\n"
          ],
          "name": "stderr"
        }
      ]
    },
    {
      "cell_type": "code",
      "metadata": {
        "id": "rbPjRQZu10Di",
        "colab_type": "code",
        "colab": {
          "base_uri": "https://localhost:8080/",
          "height": 125
        },
        "outputId": "1210fa03-7865-4446-854d-92b71947353b"
      },
      "source": [
        "print(\"결정트리 훈련 세트의 정확도:\",tree_clf.score(train_set,train_y))\n",
        "print(\"랜덤포레스트 훈련 세트의 정확도:\",forest_clf.score(train_set,train_y))\n",
        "print('Kneighbor 훈련 세트의 정확도 : ', knn.score(train_set,train_y))\n",
        "\n",
        "\n",
        "print(\"결정트리 테스트 세트의 정확도:\",tree_clf.score(test_set,test_y))\n",
        "print(\"랜덤포레스트 테스트 세트의 정확도:\",forest_clf.score(test_set,test_y))\n",
        "print('Kneighbor 테스트 세트의 정확도 : ', knn.score(test_set,test_y))"
      ],
      "execution_count": 37,
      "outputs": [
        {
          "output_type": "stream",
          "text": [
            "결정트리 훈련 세트의 정확도: 0.9571428571428572\n",
            "랜덤포레스트 훈련 세트의 정확도: 0.9428571428571428\n",
            "Kneighbor 훈련 세트의 정확도 :  0.8714285714285714\n",
            "결정트리 테스트 세트의 정확도: 0.967741935483871\n",
            "랜덤포레스트 테스트 세트의 정확도: 0.9354838709677419\n",
            "Kneighbor 테스트 세트의 정확도 :  0.9032258064516129\n"
          ],
          "name": "stdout"
        }
      ]
    }
  ]
}