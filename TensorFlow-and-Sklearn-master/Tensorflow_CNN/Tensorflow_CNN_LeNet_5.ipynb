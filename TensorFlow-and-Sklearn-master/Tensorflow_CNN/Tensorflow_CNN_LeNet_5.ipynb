{
  "nbformat": 4,
  "nbformat_minor": 0,
  "metadata": {
    "colab": {
      "name": "Tensorflow_CNN_LeNet-5",
      "provenance": []
    },
    "kernelspec": {
      "name": "python3",
      "display_name": "Python 3"
    },
    "accelerator": "GPU"
  },
  "cells": [
    {
      "cell_type": "code",
      "metadata": {
        "id": "XC4lB08jZaRk",
        "colab_type": "code",
        "colab": {}
      },
      "source": [
        "import sys\n",
        "assert sys.version_info >= (3, 5)\n",
        "\n",
        "# Scikit-Learn ≥0.20 is required\n",
        "import sklearn\n",
        "assert sklearn.__version__ >= \"0.20\"\n",
        "\n",
        "try:\n",
        "    # %tensorflow_version only exists in Colab.\n",
        "    %tensorflow_version 2.x\n",
        "    IS_COLAB = True\n",
        "except Exception:\n",
        "    IS_COLAB = False\n",
        "\n",
        "# TensorFlow ≥2.0 is required\n",
        "import tensorflow as tf\n",
        "from tensorflow import keras\n",
        "assert tf.__version__ >= \"2.0\"\n",
        "\n",
        "if not tf.config.list_physical_devices('GPU'):\n",
        "    print(\"No GPU was detected. CNNs can be very slow without a GPU.\")\n",
        "    if IS_COLAB:\n",
        "        print(\"Go to Runtime > Change runtime and select a GPU hardware accelerator.\")\n",
        "\n",
        "# Common imports\n",
        "import numpy as np\n",
        "import os\n",
        "\n",
        "# to make this notebook's output stable across runs\n",
        "np.random.seed(42)\n",
        "tf.random.set_seed(42)\n",
        "\n",
        "# To plot pretty figures\n",
        "%matplotlib inline\n",
        "import matplotlib as mpl\n",
        "import matplotlib.pyplot as plt\n",
        "mpl.rc('axes', labelsize=14)\n",
        "mpl.rc('xtick', labelsize=12)\n",
        "mpl.rc('ytick', labelsize=12)\n",
        "\n",
        "# Where to save the figures\n",
        "PROJECT_ROOT_DIR = \".\"\n",
        "CHAPTER_ID = \"cnn\"\n",
        "IMAGES_PATH = os.path.join(PROJECT_ROOT_DIR, \"images\", CHAPTER_ID)\n",
        "os.makedirs(IMAGES_PATH, exist_ok=True)\n",
        "\n",
        "def save_fig(fig_id, tight_layout=True, fig_extension=\"png\", resolution=300):\n",
        "    path = os.path.join(IMAGES_PATH, fig_id + \".\" + fig_extension)\n",
        "    print(\"Saving figure\", fig_id)\n",
        "    if tight_layout:\n",
        "        plt.tight_layout()\n",
        "    plt.savefig(path, format=fig_extension, dpi=resolution)\n",
        "\n",
        "\n",
        "# GPU로 실행할 것!!"
      ],
      "execution_count": 1,
      "outputs": []
    },
    {
      "cell_type": "code",
      "metadata": {
        "id": "oLIT-gNWZsYW",
        "colab_type": "code",
        "colab": {}
      },
      "source": [
        "def plot_image(image):\n",
        "    plt.imshow(image, cmap=\"gray\", interpolation=\"nearest\")\n",
        "    plt.axis(\"off\")\n",
        "\n",
        "# 이미지 보여주는 함수\n",
        "\n",
        "def plot_color_image(image):\n",
        "    plt.imshow(image, interpolation=\"nearest\")\n",
        "    plt.axis(\"off\")\n",
        "\n",
        "# 보간법을 통해서 이미지를 보여준다.     "
      ],
      "execution_count": 5,
      "outputs": []
    },
    {
      "cell_type": "code",
      "metadata": {
        "id": "fhqdyOZ-KHpR",
        "colab_type": "code",
        "colab": {}
      },
      "source": [
        "(X_train_full, y_train_full), (X_test, y_test) = keras.datasets.fashion_mnist.load_data()\n",
        "X_train, X_valid = X_train_full[:-5000], X_train_full[-5000:]\n",
        "y_train, y_valid = y_train_full[:-5000], y_train_full[-5000:]\n",
        "X_mean = X_train.mean(axis=0, keepdims=True)\n",
        "X_std = X_train.std(axis=0, keepdims=True) + 1e-7\n",
        "X_train = (X_train - X_mean) / X_std\n",
        "X_valid = (X_valid - X_mean) / X_std\n",
        "X_test = (X_test - X_mean) / X_std\n",
        "\n",
        "X_train = X_train[..., np.newaxis]\n",
        "X_valid = X_valid[..., np.newaxis]\n",
        "X_test = X_test[..., np.newaxis]"
      ],
      "execution_count": 22,
      "outputs": []
    },
    {
      "cell_type": "code",
      "metadata": {
        "id": "F4fabUhjKPEx",
        "colab_type": "code",
        "colab": {}
      },
      "source": [
        "from functools import partial\n",
        "\n",
        "DefaultConv2D = partial(keras.layers.Conv2D,\n",
        "                        kernel_size=3, activation='relu', padding=\"SAME\")\n",
        "\n",
        "model_LeNet5 = keras.models.Sequential([\n",
        "    DefaultConv2D(filters=6, kernel_size=5, input_shape=[28, 28, 1]),\n",
        "    keras.layers.AveragePooling2D(pool_size=2, strides=2),\n",
        "    DefaultConv2D(filters=16, kernel_size=5),\n",
        "    keras.layers.AveragePooling2D(pool_size=2, strides=2),\n",
        "    DefaultConv2D(filters=120),\n",
        "    keras.layers.Flatten(),\n",
        "    keras.layers.Dense(units=84, activation='relu'),\n",
        "    keras.layers.Dropout(0.5),\n",
        "    keras.layers.Dense(units=10, activation='softmax'),\n",
        "])"
      ],
      "execution_count": 8,
      "outputs": []
    },
    {
      "cell_type": "code",
      "metadata": {
        "id": "m8nCjZB2mqgp",
        "colab_type": "code",
        "colab": {}
      },
      "source": [
        "from functools import partial\n",
        "\n",
        "DefaultConv2D = partial(keras.layers.Conv2D,\n",
        "                        kernel_size=3, activation='tanh', padding=\"SAME\")\n",
        "\n",
        "model_LeNet5_tanh = keras.models.Sequential([\n",
        "    DefaultConv2D(filters=6, kernel_size=5, input_shape=[28, 28, 1]),\n",
        "    keras.layers.AveragePooling2D(pool_size=2, strides=2),\n",
        "    DefaultConv2D(filters=16, kernel_size=5),\n",
        "    keras.layers.AveragePooling2D(pool_size=2, strides=2),\n",
        "    DefaultConv2D(filters=120),\n",
        "    keras.layers.Flatten(),\n",
        "    keras.layers.Dense(units=84, activation='tanh'),\n",
        "    keras.layers.Dropout(0.5),\n",
        "    keras.layers.Dense(units=10, activation='softmax'),\n",
        "])"
      ],
      "execution_count": 23,
      "outputs": []
    },
    {
      "cell_type": "code",
      "metadata": {
        "id": "wspGY9HIKpqp",
        "colab_type": "code",
        "colab": {
          "base_uri": "https://localhost:8080/",
          "height": 415
        },
        "outputId": "e1bc3f17-bd5a-4b49-d953-8177c65c3f46"
      },
      "source": [
        "model_LeNet5.compile(loss=\"sparse_categorical_crossentropy\", optimizer=\"nadam\", metrics=[\"accuracy\"])\n",
        "history = model_LeNet5.fit(X_train, y_train, epochs=10, validation_data=(X_valid, y_valid))\n",
        "score = model_LeNet5.evaluate(X_test, y_test)\n",
        "X_new = X_test[:10] # pretend we have new images\n",
        "y_pred = model_LeNet5.predict(X_new)"
      ],
      "execution_count": 24,
      "outputs": [
        {
          "output_type": "stream",
          "text": [
            "Epoch 1/10\n",
            "1719/1719 [==============================] - 8s 4ms/step - loss: 0.1796 - accuracy: 0.9319 - val_loss: 0.3007 - val_accuracy: 0.9054\n",
            "Epoch 2/10\n",
            "1719/1719 [==============================] - 7s 4ms/step - loss: 0.1682 - accuracy: 0.9365 - val_loss: 0.3056 - val_accuracy: 0.9058\n",
            "Epoch 3/10\n",
            "1719/1719 [==============================] - 7s 4ms/step - loss: 0.1554 - accuracy: 0.9417 - val_loss: 0.3105 - val_accuracy: 0.9102\n",
            "Epoch 4/10\n",
            "1719/1719 [==============================] - 7s 4ms/step - loss: 0.1438 - accuracy: 0.9440 - val_loss: 0.2946 - val_accuracy: 0.9088\n",
            "Epoch 5/10\n",
            "1719/1719 [==============================] - 7s 4ms/step - loss: 0.1370 - accuracy: 0.9479 - val_loss: 0.2898 - val_accuracy: 0.9126\n",
            "Epoch 6/10\n",
            "1719/1719 [==============================] - 7s 4ms/step - loss: 0.1323 - accuracy: 0.9501 - val_loss: 0.3640 - val_accuracy: 0.9048\n",
            "Epoch 7/10\n",
            "1719/1719 [==============================] - 8s 4ms/step - loss: 0.1254 - accuracy: 0.9523 - val_loss: 0.3400 - val_accuracy: 0.9150\n",
            "Epoch 8/10\n",
            "1719/1719 [==============================] - 8s 4ms/step - loss: 0.1171 - accuracy: 0.9562 - val_loss: 0.3634 - val_accuracy: 0.9090\n",
            "Epoch 9/10\n",
            "1719/1719 [==============================] - 7s 4ms/step - loss: 0.1129 - accuracy: 0.9559 - val_loss: 0.3674 - val_accuracy: 0.9102\n",
            "Epoch 10/10\n",
            "1719/1719 [==============================] - 7s 4ms/step - loss: 0.1136 - accuracy: 0.9567 - val_loss: 0.3878 - val_accuracy: 0.9092\n",
            "313/313 [==============================] - 1s 2ms/step - loss: 0.4028 - accuracy: 0.9076\n"
          ],
          "name": "stdout"
        }
      ]
    },
    {
      "cell_type": "code",
      "metadata": {
        "id": "6z3X7Eb4mtTo",
        "colab_type": "code",
        "colab": {
          "base_uri": "https://localhost:8080/",
          "height": 415
        },
        "outputId": "5ac5266a-a325-4ad0-e79f-2786565bf914"
      },
      "source": [
        "model_LeNet5_tanh.compile(loss=\"sparse_categorical_crossentropy\", optimizer=\"nadam\", metrics=[\"accuracy\"])\n",
        "history = model_LeNet5_tanh.fit(X_train, y_train, epochs=10, validation_data=(X_valid, y_valid))\n",
        "score = model_LeNet5_tanh.evaluate(X_test, y_test)\n",
        "X_new = X_test[:10] # pretend we have new images\n",
        "y_pred = model_LeNet5_tanh.predict(X_new)"
      ],
      "execution_count": 25,
      "outputs": [
        {
          "output_type": "stream",
          "text": [
            "Epoch 1/10\n",
            "1719/1719 [==============================] - 7s 4ms/step - loss: 0.5582 - accuracy: 0.8011 - val_loss: 0.3460 - val_accuracy: 0.8742\n",
            "Epoch 2/10\n",
            "1719/1719 [==============================] - 7s 4ms/step - loss: 0.3746 - accuracy: 0.8683 - val_loss: 0.2936 - val_accuracy: 0.8898\n",
            "Epoch 3/10\n",
            "1719/1719 [==============================] - 7s 4ms/step - loss: 0.3256 - accuracy: 0.8836 - val_loss: 0.2714 - val_accuracy: 0.9018\n",
            "Epoch 4/10\n",
            "1719/1719 [==============================] - 7s 4ms/step - loss: 0.2902 - accuracy: 0.8956 - val_loss: 0.2606 - val_accuracy: 0.9046\n",
            "Epoch 5/10\n",
            "1719/1719 [==============================] - 7s 4ms/step - loss: 0.2660 - accuracy: 0.9023 - val_loss: 0.2429 - val_accuracy: 0.9096\n",
            "Epoch 6/10\n",
            "1719/1719 [==============================] - 7s 4ms/step - loss: 0.2468 - accuracy: 0.9111 - val_loss: 0.2541 - val_accuracy: 0.9084\n",
            "Epoch 7/10\n",
            "1719/1719 [==============================] - 7s 4ms/step - loss: 0.2297 - accuracy: 0.9152 - val_loss: 0.2496 - val_accuracy: 0.9092\n",
            "Epoch 8/10\n",
            "1719/1719 [==============================] - 7s 4ms/step - loss: 0.2099 - accuracy: 0.9208 - val_loss: 0.2600 - val_accuracy: 0.9100\n",
            "Epoch 9/10\n",
            "1719/1719 [==============================] - 7s 4ms/step - loss: 0.1999 - accuracy: 0.9257 - val_loss: 0.2528 - val_accuracy: 0.9118\n",
            "Epoch 10/10\n",
            "1719/1719 [==============================] - 7s 4ms/step - loss: 0.1880 - accuracy: 0.9305 - val_loss: 0.2596 - val_accuracy: 0.9122\n",
            "313/313 [==============================] - 1s 2ms/step - loss: 0.2632 - accuracy: 0.9110\n"
          ],
          "name": "stdout"
        }
      ]
    }
  ]
}