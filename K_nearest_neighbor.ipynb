{
 "cells": [
  {
   "cell_type": "code",
   "execution_count": 37,
   "metadata": {},
   "outputs": [],
   "source": [
    "import numpy as np\n",
    "\n",
    "train_data = np.loadtxt('./iris.csv',delimiter=',',dtype=np.float32)"
   ]
  },
  {
   "cell_type": "code",
   "execution_count": 38,
   "metadata": {},
   "outputs": [],
   "source": [
    "np.random.seed(1)\n",
    "np.random.shuffle(train_data)"
   ]
  },
  {
   "cell_type": "code",
   "execution_count": 39,
   "metadata": {},
   "outputs": [],
   "source": [
    "X_train = train_data[:,:4]\n",
    "y_train = train_data[:,4]"
   ]
  },
  {
   "cell_type": "code",
   "execution_count": 40,
   "metadata": {},
   "outputs": [
    {
     "name": "stdout",
     "output_type": "stream",
     "text": [
      "[5.8 4.  1.2 0.2]\n"
     ]
    }
   ],
   "source": [
    "print(X_train[0])"
   ]
  },
  {
   "cell_type": "code",
   "execution_count": 41,
   "metadata": {},
   "outputs": [],
   "source": [
    "def distance(p1,p2):\n",
    "  return np.sqrt(np.sum((p1 - p2) ** 2))"
   ]
  },
  {
   "cell_type": "code",
   "execution_count": 42,
   "metadata": {},
   "outputs": [],
   "source": [
    "def k_nearest_neighbor(train_points,points,labels,k):\n",
    "  distance2 = np.zeros(len(points))\n",
    "\n",
    "  for i in range(len(points)):\n",
    "    distance2[i] = distance(points[i],train_points)\n",
    "\n",
    "  k_nearest = np.argsort(distance2)[:k]\n",
    "  result = np.zeros(k)\n",
    "    \n",
    "  for i in range(k):\n",
    "      result[i] = labels[k_nearest[i]]\n",
    "        \n",
    "  return result"
   ]
  },
  {
   "cell_type": "code",
   "execution_count": 43,
   "metadata": {},
   "outputs": [
    {
     "name": "stdout",
     "output_type": "stream",
     "text": [
      "[3. 3. 3. 3. 3.]\n"
     ]
    }
   ],
   "source": [
    "test = k_nearest_neighbor(X_train[45], X_train[:149], y_train,5)\n",
    "print(test)"
   ]
  },
  {
   "cell_type": "code",
   "execution_count": 44,
   "metadata": {},
   "outputs": [],
   "source": [
    "def k_cross_validation(k,train,labels):\n",
    "  length = int(len(train) / k)\n",
    "  cross_data = []\n",
    "  cross_labels = []\n",
    "  k_accuracy = []\n",
    "  for i in range(k):\n",
    "    cross_data.append(train[i*length : (i+1)*length + 1])\n",
    "    cross_labels.append(labels[i*length : (i+1)*length + 1])\n",
    "  cross_data = np.array(cross_data)\n",
    "  cross_labels = np.array(cross_labels)\n",
    "\n",
    "  for i in range(k):\n",
    "    accuracy = 0\n",
    "    for j in range(length):\n",
    "      test_data = cross_data[i][j]\n",
    "      train_data = []\n",
    "      label_data = []\n",
    "      for k in range(length):\n",
    "        if j != k:\n",
    "          train_data.append(cross_data[i][k])\n",
    "          label_data.append(cross_labels[i][k])\n",
    "      train_data = np.array(train_data)\n",
    "      predict = k_nearest_neighbor(test_data,train_data,label_data,1)\n",
    "      if predict[0] == cross_labels[i][j]:\n",
    "        accuracy += 1\n",
    "    accuracy = (accuracy / length) * 100\n",
    "    k_accuracy.append(accuracy)\n",
    "\n",
    "  k_accuracy = np.array(k_accuracy)\n",
    "\n",
    "  return k_accuracy  \n"
   ]
  },
  {
   "cell_type": "code",
   "execution_count": 45,
   "metadata": {},
   "outputs": [],
   "source": [
    "result = k_cross_validation(5,X_train,y_train)"
   ]
  },
  {
   "cell_type": "code",
   "execution_count": 46,
   "metadata": {},
   "outputs": [
    {
     "name": "stdout",
     "output_type": "stream",
     "text": [
      "0 번째 정확도 :  97.0\n",
      "1 번째 정확도 :  97.0\n",
      "2 번째 정확도 :  93.0\n",
      "3 번째 정확도 :  97.0\n",
      "4 번째 정확도 :  90.0\n",
      "정확성 평균 :  94.8\n"
     ]
    }
   ],
   "source": [
    "for i in range(len(result)):\n",
    "    result[i] = round(result[i])\n",
    "    print(i,'번째 정확도 : ',result[i])\n",
    "\n",
    "print('정확성 평균 : ',result.mean())    "
   ]
  },
  {
   "cell_type": "code",
   "execution_count": null,
   "metadata": {},
   "outputs": [],
   "source": []
  },
  {
   "cell_type": "code",
   "execution_count": null,
   "metadata": {},
   "outputs": [],
   "source": []
  }
 ],
 "metadata": {
  "kernelspec": {
   "display_name": "Python 3",
   "language": "python",
   "name": "python3"
  },
  "language_info": {
   "codemirror_mode": {
    "name": "ipython",
    "version": 3
   },
   "file_extension": ".py",
   "mimetype": "text/x-python",
   "name": "python",
   "nbconvert_exporter": "python",
   "pygments_lexer": "ipython3",
   "version": "3.7.3"
  }
 },
 "nbformat": 4,
 "nbformat_minor": 2
}
