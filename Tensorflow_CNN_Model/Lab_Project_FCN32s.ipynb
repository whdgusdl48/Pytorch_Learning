{
  "nbformat": 4,
  "nbformat_minor": 0,
  "metadata": {
    "colab": {
      "name": "Lab Project",
      "provenance": [],
      "collapsed_sections": []
    },
    "kernelspec": {
      "name": "python3",
      "display_name": "Python 3"
    },
    "accelerator": "GPU"
  },
  "cells": [
    {
      "cell_type": "code",
      "metadata": {
        "id": "eZHny1HjeVwX",
        "colab_type": "code",
        "colab": {}
      },
      "source": [
        "import numpy as np\n",
        "import os\n",
        "import tensorflow as tf\n",
        "import matplotlib.pyplot as plt\n",
        "import cv2"
      ],
      "execution_count": 2,
      "outputs": []
    },
    {
      "cell_type": "code",
      "metadata": {
        "id": "ZrE22whjd-aI",
        "colab_type": "code",
        "colab": {
          "base_uri": "https://localhost:8080/",
          "height": 35
        },
        "outputId": "6f7daf83-3f55-45a9-88a3-f69e08e4b650"
      },
      "source": [
        "tf.__version__\n",
        "\n",
        "#텐서플로우 버전 2.3.0"
      ],
      "execution_count": 3,
      "outputs": [
        {
          "output_type": "execute_result",
          "data": {
            "application/vnd.google.colaboratory.intrinsic+json": {
              "type": "string"
            },
            "text/plain": [
              "'2.3.0'"
            ]
          },
          "metadata": {
            "tags": []
          },
          "execution_count": 3
        }
      ]
    },
    {
      "cell_type": "code",
      "metadata": {
        "id": "pXPnIDB9e4a7",
        "colab_type": "code",
        "colab": {}
      },
      "source": [
        "device = tf.device('/gpu:0')\n",
        "# 디바이스 gpu 0버전"
      ],
      "execution_count": 4,
      "outputs": []
    },
    {
      "cell_type": "code",
      "metadata": {
        "id": "MyR3AV5zbauP",
        "colab_type": "code",
        "colab": {
          "base_uri": "https://localhost:8080/",
          "height": 35
        },
        "outputId": "c6009f17-d395-4591-99cf-1f87252f5319"
      },
      "source": [
        "from google.colab import drive\n",
        "drive.mount('/content/drive')"
      ],
      "execution_count": 5,
      "outputs": [
        {
          "output_type": "stream",
          "text": [
            "Drive already mounted at /content/drive; to attempt to forcibly remount, call drive.mount(\"/content/drive\", force_remount=True).\n"
          ],
          "name": "stdout"
        }
      ]
    },
    {
      "cell_type": "code",
      "metadata": {
        "id": "4_0EYcvSbdaZ",
        "colab_type": "code",
        "colab": {}
      },
      "source": [
        "!ln -s \"/content/drive/My Drive/00.data\" \"/content\""
      ],
      "execution_count": 6,
      "outputs": []
    },
    {
      "cell_type": "code",
      "metadata": {
        "id": "vgF5Yd8kfoTV",
        "colab_type": "code",
        "colab": {}
      },
      "source": [
        "train_path = './00.data/train/'\n",
        "test_path = './00.data/test/'\n",
        "\n",
        "#코랩기준 테스트 경로와 훈련 경로"
      ],
      "execution_count": 7,
      "outputs": []
    },
    {
      "cell_type": "code",
      "metadata": {
        "id": "80CUFsV_HGVg",
        "colab_type": "code",
        "colab": {
          "base_uri": "https://localhost:8080/",
          "height": 89
        },
        "outputId": "f5a8345d-3abc-44e9-f582-eef8d7e4c3fd"
      },
      "source": [
        "from tensorflow.keras.preprocessing.image import ImageDataGenerator\n",
        "\n",
        "\n",
        "x_train_datagen = ImageDataGenerator(\n",
        "                rotation_range=0.2,\n",
        "                rescale= 1./255.,\n",
        "                zoom_range=0.2,\n",
        "                horizontal_flip=True,)\n",
        "y_train_datagen = ImageDataGenerator(\n",
        "                rotation_range=0.2,\n",
        "                rescale= 1./255.,\n",
        "                shear_range=0.05,\n",
        "                zoom_range=0.2,\n",
        "                horizontal_flip=True,)\n",
        "#\n",
        "x_train_generator = x_train_datagen.flow_from_directory(\n",
        "        train_path,\n",
        "        classes = ['img'],\n",
        "        class_mode = None,\n",
        "        target_size = (128,128),\n",
        "        batch_size = 32,\n",
        "        seed = 1)\n",
        "#\n",
        "y_train_generator = y_train_datagen.flow_from_directory(\n",
        "        train_path,\n",
        "        classes = ['mask'],\n",
        "        class_mode = None,\n",
        "        target_size = (128,128),\n",
        "        batch_size = 32,\n",
        "        seed = 1)\n",
        "\n",
        "trainSet_generator = zip(x_train_generator,y_train_generator)"
      ],
      "execution_count": 8,
      "outputs": [
        {
          "output_type": "stream",
          "text": [
            "Found 2520 images belonging to 1 classes.\n",
            "Found 2520 images belonging to 1 classes.\n"
          ],
          "name": "stdout"
        },
        {
          "output_type": "stream",
          "text": [
            "/usr/local/lib/python3.6/dist-packages/keras_preprocessing/image/utils.py:179: UserWarning: Using \".tiff\" files with multiple bands will cause distortion. Please verify your output.\n",
            "  warnings.warn('Using \".tiff\" files with multiple bands '\n"
          ],
          "name": "stderr"
        }
      ]
    },
    {
      "cell_type": "markdown",
      "metadata": {
        "id": "GgPQ8QX5lOWR",
        "colab_type": "text"
      },
      "source": [
        ""
      ]
    },
    {
      "cell_type": "code",
      "metadata": {
        "id": "-sL3dr__PJHv",
        "colab_type": "code",
        "colab": {}
      },
      "source": [
        "from tensorflow.keras.layers import *\n",
        "from tensorflow.keras.models import Sequential, Model\n",
        "\n",
        "#first_block\n",
        "def FCN32s(weight = None,input_shape = (128,128,3),initial_filter = 8):\n",
        "    inputs = Input(input_shape)\n",
        "    conv1 = Conv2D(initial_filter , (3,3), activation = 'relu', padding = 'same', kernel_initializer = 'he_normal')(inputs)\n",
        "    conv1_1 = Conv2D(initial_filter , (3,3), activation = 'relu', padding = 'same', kernel_initializer = 'he_normal')(conv1)\n",
        "    conv1_2 = Dropout(0.5)(conv1_1)\n",
        "    pool1 = MaxPool2D(pool_size = (2,2))(conv1_2)\n",
        "    \n",
        "    conv2 = Conv2D(initial_filter * 2, (3,3), activation = 'relu', padding = 'same', kernel_initializer = 'he_normal')(pool1)\n",
        "    conv2_1 = Conv2D(initial_filter * 2, (3,3), activation = 'relu', padding = 'same', kernel_initializer = 'he_normal')(conv2)\n",
        "    conv2_2 = Dropout(0.5)(conv2_1)\n",
        "    pool2 = MaxPool2D(pool_size = (2,2))(conv2_2)\n",
        "\n",
        "    conv3 = Conv2D(initial_filter * 4, (3,3), activation = 'relu', padding = 'same', kernel_initializer = 'he_normal')(pool2)\n",
        "    conv3_1 = Conv2D(initial_filter * 4, (3,3), activation = 'relu', padding = 'same', kernel_initializer = 'he_normal')(conv3)\n",
        "    conv3_2 = Dropout(0.5)(conv3_1)\n",
        "    pool3 = MaxPool2D(pool_size = (2,2))(conv3_2)\n",
        "\n",
        "    conv4 = Conv2D(initial_filter * 8, (3,3), activation = 'relu', padding = 'same', kernel_initializer = 'he_normal')(pool3)\n",
        "    conv4_1 = Conv2D(initial_filter * 8, (3,3), activation = 'relu', padding = 'same', kernel_initializer = 'he_normal')(conv4)\n",
        "    conv4_2 = Dropout(0.5)(conv4_1)\n",
        "    pool4 = MaxPool2D(pool_size = (2,2))(conv4_2)\n",
        "\n",
        "    conv5 = Conv2D(initial_filter * 16, (3,3), activation = 'relu', padding = 'same', kernel_initializer='he_normal')(pool4)\n",
        "    conv5_1 = Conv2D(initial_filter * 16, (3,3), activation = 'relu', padding = 'same', kernel_initializer='he_normal')(conv5)\n",
        "    pool5 = MaxPool2D(pool_size = (2,2))(conv5_1)\n",
        "\n",
        "    conv6 = Conv2D(initial_filter * 32, (3,3), activation = 'relu', padding = 'same', kernel_initializer='he_normal')(pool5)\n",
        "    conv7 = Conv2D(initial_filter * 32, (3,3), activation = 'relu', padding = 'same', kernel_initializer='he_normal')(conv6)\n",
        "    up = UpSampling2D(size=(32,32))(conv7)\n",
        "\n",
        "    out = Conv2D(1, (1,1))(up)\n",
        "\n",
        "    model = Model(inputs, out)\n",
        "    model.compile(optimizer = 'Adam', loss = 'binary_crossentropy', metrics = ['accuracy'])\n",
        "    if weight:\n",
        "        model.load_weights(weight)\n",
        "\n",
        "\n",
        "    return model"
      ],
      "execution_count": 1,
      "outputs": []
    },
    {
      "cell_type": "code",
      "metadata": {
        "id": "ViSc1F6dkAaJ",
        "colab_type": "code",
        "colab": {}
      },
      "source": [
        "\n",
        "model = FCN32s()"
      ],
      "execution_count": 9,
      "outputs": []
    },
    {
      "cell_type": "code",
      "metadata": {
        "id": "qUL_FVVTPKEH",
        "colab_type": "code",
        "colab": {
          "base_uri": "https://localhost:8080/",
          "height": 1000
        },
        "outputId": "f857f063-a3ce-4931-d67a-948ac5f6b583"
      },
      "source": [
        "model.summary()"
      ],
      "execution_count": 10,
      "outputs": [
        {
          "output_type": "stream",
          "text": [
            "Model: \"functional_1\"\n",
            "_________________________________________________________________\n",
            "Layer (type)                 Output Shape              Param #   \n",
            "=================================================================\n",
            "input_1 (InputLayer)         [(None, 128, 128, 3)]     0         \n",
            "_________________________________________________________________\n",
            "conv2d (Conv2D)              (None, 128, 128, 8)       224       \n",
            "_________________________________________________________________\n",
            "conv2d_1 (Conv2D)            (None, 128, 128, 8)       584       \n",
            "_________________________________________________________________\n",
            "dropout (Dropout)            (None, 128, 128, 8)       0         \n",
            "_________________________________________________________________\n",
            "max_pooling2d (MaxPooling2D) (None, 64, 64, 8)         0         \n",
            "_________________________________________________________________\n",
            "conv2d_2 (Conv2D)            (None, 64, 64, 16)        1168      \n",
            "_________________________________________________________________\n",
            "conv2d_3 (Conv2D)            (None, 64, 64, 16)        2320      \n",
            "_________________________________________________________________\n",
            "dropout_1 (Dropout)          (None, 64, 64, 16)        0         \n",
            "_________________________________________________________________\n",
            "max_pooling2d_1 (MaxPooling2 (None, 32, 32, 16)        0         \n",
            "_________________________________________________________________\n",
            "conv2d_4 (Conv2D)            (None, 32, 32, 32)        4640      \n",
            "_________________________________________________________________\n",
            "conv2d_5 (Conv2D)            (None, 32, 32, 32)        9248      \n",
            "_________________________________________________________________\n",
            "dropout_2 (Dropout)          (None, 32, 32, 32)        0         \n",
            "_________________________________________________________________\n",
            "max_pooling2d_2 (MaxPooling2 (None, 16, 16, 32)        0         \n",
            "_________________________________________________________________\n",
            "conv2d_6 (Conv2D)            (None, 16, 16, 64)        18496     \n",
            "_________________________________________________________________\n",
            "conv2d_7 (Conv2D)            (None, 16, 16, 64)        36928     \n",
            "_________________________________________________________________\n",
            "dropout_3 (Dropout)          (None, 16, 16, 64)        0         \n",
            "_________________________________________________________________\n",
            "max_pooling2d_3 (MaxPooling2 (None, 8, 8, 64)          0         \n",
            "_________________________________________________________________\n",
            "conv2d_8 (Conv2D)            (None, 8, 8, 128)         73856     \n",
            "_________________________________________________________________\n",
            "conv2d_9 (Conv2D)            (None, 8, 8, 128)         147584    \n",
            "_________________________________________________________________\n",
            "max_pooling2d_4 (MaxPooling2 (None, 4, 4, 128)         0         \n",
            "_________________________________________________________________\n",
            "conv2d_10 (Conv2D)           (None, 4, 4, 256)         295168    \n",
            "_________________________________________________________________\n",
            "conv2d_11 (Conv2D)           (None, 4, 4, 256)         590080    \n",
            "_________________________________________________________________\n",
            "up_sampling2d (UpSampling2D) (None, 128, 128, 256)     0         \n",
            "_________________________________________________________________\n",
            "conv2d_12 (Conv2D)           (None, 128, 128, 1)       257       \n",
            "=================================================================\n",
            "Total params: 1,180,553\n",
            "Trainable params: 1,180,553\n",
            "Non-trainable params: 0\n",
            "_________________________________________________________________\n"
          ],
          "name": "stdout"
        }
      ]
    },
    {
      "cell_type": "code",
      "metadata": {
        "id": "VzrEvMSUPnqw",
        "colab_type": "code",
        "colab": {
          "base_uri": "https://localhost:8080/",
          "height": 107
        },
        "outputId": "a5b3173a-9b7e-4ba8-e146-308c167a74b6"
      },
      "source": [
        "import math\n",
        "history = model.fit_generator(trainSet_generator,100,epochs = 5)"
      ],
      "execution_count": null,
      "outputs": [
        {
          "output_type": "stream",
          "text": [
            "WARNING:tensorflow:From <ipython-input-11-a4aa862a1f04>:2: Model.fit_generator (from tensorflow.python.keras.engine.training) is deprecated and will be removed in a future version.\n",
            "Instructions for updating:\n",
            "Please use Model.fit, which supports generators.\n",
            "Epoch 1/5\n",
            "  7/100 [=>............................] - ETA: 47:09 - loss: 3.4994 - accuracy: 0.7500"
          ],
          "name": "stdout"
        }
      ]
    },
    {
      "cell_type": "code",
      "metadata": {
        "id": "_6pXDhjjbwJc",
        "colab_type": "code",
        "colab": {}
      },
      "source": [
        ""
      ],
      "execution_count": null,
      "outputs": []
    }
  ]
}