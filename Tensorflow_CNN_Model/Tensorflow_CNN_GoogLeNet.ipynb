{
  "nbformat": 4,
  "nbformat_minor": 0,
  "metadata": {
    "colab": {
      "name": "Tensorflow_CNN_GoogLeNet",
      "provenance": []
    },
    "kernelspec": {
      "name": "python3",
      "display_name": "Python 3"
    },
    "accelerator": "GPU"
  },
  "cells": [
    {
      "cell_type": "code",
      "metadata": {
        "id": "XC4lB08jZaRk",
        "colab_type": "code",
        "colab": {}
      },
      "source": [
        "from keras import layers\n",
        "from keras.datasets import mnist\n",
        "from keras.models import Sequential, Model\n",
        "from keras.optimizers import Adam\n",
        "from keras.models import load_model\n",
        "import numpy as np\n",
        "import matplotlib.pyplot as plt\n",
        "%matplotlib inline"
      ],
      "execution_count": 6,
      "outputs": []
    },
    {
      "cell_type": "code",
      "metadata": {
        "id": "oLIT-gNWZsYW",
        "colab_type": "code",
        "colab": {}
      },
      "source": [
        "def plot_image(image):\n",
        "    plt.imshow(image, cmap=\"gray\", interpolation=\"nearest\")\n",
        "    plt.axis(\"off\")\n",
        "\n",
        "# 이미지 보여주는 함수\n",
        "\n",
        "def plot_color_image(image):\n",
        "    plt.imshow(image, interpolation=\"nearest\")\n",
        "    plt.axis(\"off\")\n",
        "\n",
        "# 보간법을 통해서 이미지를 보여준다.     "
      ],
      "execution_count": 2,
      "outputs": []
    },
    {
      "cell_type": "code",
      "metadata": {
        "id": "fhqdyOZ-KHpR",
        "colab_type": "code",
        "colab": {}
      },
      "source": [
        "img_shape = (224, 224, 3)\n",
        "\n",
        "input_ = layers.Input(shape=img_shape)\n",
        "x = layers.Conv2D(64, 7, strides=2, padding='same')(input_)\n",
        "x = layers.MaxPooling2D(pool_size=(3, 3), strides=2, padding='same')(x)\n",
        "x = layers.BatchNormalization()(x)\n",
        "x = layers.Conv2D(64, 1, strides=1)(x)\n",
        "x = layers.Conv2D(192, 3, strides=1, padding='same')(x)\n",
        "x = layers.BatchNormalization()(x)\n",
        "x = layers.MaxPooling2D(pool_size=(3, 3), strides=2, padding='same')(x)\n",
        "x = inception_module(x, o_1=64, r_3=64, o_3=128, r_5=16, o_5=32, pool=32)\n",
        "x = inception_module(x, o_1=128, r_3=128, o_3=192, r_5=32, o_5=96, pool=64)\n",
        "x = layers.MaxPooling2D(pool_size=(3, 3), strides=2, padding='same')(x)\n",
        "x = inception_module(x, o_1=192, r_3=96, o_3=208, r_5=16, o_5=48, pool=64)\n",
        "x = inception_module(x, o_1=160, r_3=112, o_3=224, r_5=24, o_5=64, pool=64)\n",
        "x = inception_module(x, o_1=128, r_3=128, o_3=256, r_5=24, o_5=64, pool=64)\n",
        "x = inception_module(x, o_1=112, r_3=144, o_3=288, r_5=32, o_5=64, pool=64)\n",
        "x = inception_module(x, o_1=256, r_3=160, o_3=320, r_5=32, o_5=128, pool=128)\n",
        "x = layers.MaxPooling2D(pool_size=(3, 3), strides=2, padding='same')(x)\n",
        "x = inception_module(x, o_1=256, r_3=160, o_3=320, r_5=32, o_5=128, pool=128)\n",
        "x = inception_module(x, o_1=384, r_3=192, o_3=384, r_5=48, o_5=128, pool=128)\n",
        "x = layers.AveragePooling2D(pool_size=(7, 7), strides=1)(x)\n",
        "x = layers.Dropout(0.4)(x)\n",
        "x = layers.Dense(1000)(x)\n",
        "output = layers.Activation('softmax')(x)\n",
        "\n",
        "googlenet = Model(input_, output)"
      ],
      "execution_count": 7,
      "outputs": []
    },
    {
      "cell_type": "code",
      "metadata": {
        "id": "FDD6ozw694Mo",
        "colab_type": "code",
        "colab": {
          "base_uri": "https://localhost:8080/",
          "height": 35
        },
        "outputId": "4297df82-f0f5-4527-c584-ac32a2008ae8"
      },
      "source": [
        "print(\"전체 파라미터 수 : {}\".format(sum([arr.flatten().shape[0] for arr in googlenet.get_weights()])))"
      ],
      "execution_count": 8,
      "outputs": [
        {
          "output_type": "stream",
          "text": [
            "전체 파라미터 수 : 6956536\n"
          ],
          "name": "stdout"
        }
      ]
    },
    {
      "cell_type": "code",
      "metadata": {
        "id": "bN8x0je79bvw",
        "colab_type": "code",
        "colab": {}
      },
      "source": [
        "def inception_module(x, o_1=64, r_3=64, o_3=128, r_5=16, o_5=32, pool=32):\n",
        "\n",
        "    x_1 = keras.layers.Conv2D(o_1, 1, padding='same')(x)\n",
        "    \n",
        "    x_2 = keras.layers.Conv2D(r_3, 1, padding='same')(x)\n",
        "    x_2 = keras.layers.Conv2D(o_3, 3, padding='same')(x_2)\n",
        "    \n",
        "    x_3 = keras.layers.Conv2D(r_5, 1, padding='same')(x)\n",
        "    x_3 = keras.layers.Conv2D(o_5, 5, padding='same')(x_3)\n",
        "    \n",
        "    x_4 = keras.layers.MaxPooling2D(pool_size=(3, 3), strides=1, padding='same')(x)\n",
        "    x_4 = keras.layers.Conv2D(pool, 1, padding='same')(x_4)\n",
        "    \n",
        "    return keras.layers.concatenate([x_1, x_2, x_3, x_4])"
      ],
      "execution_count": 5,
      "outputs": []
    }
  ]
}