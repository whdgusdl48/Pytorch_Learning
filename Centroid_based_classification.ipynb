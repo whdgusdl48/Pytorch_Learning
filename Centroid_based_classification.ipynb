{
  "nbformat": 4,
  "nbformat_minor": 0,
  "metadata": {
    "colab": {
      "name": "Centroid_based_classification",
      "provenance": []
    },
    "kernelspec": {
      "name": "python3",
      "display_name": "Python 3"
    }
  },
  "cells": [
    {
      "cell_type": "code",
      "metadata": {
        "id": "ptXrjPxVXjdV",
        "colab_type": "code",
        "colab": {}
      },
      "source": [
        "import numpy as np\n",
        "import pandas as pd\n",
        "\n",
        "train_data = np.loadtxt('./iris_train.csv',delimiter=',',dtype=np.float32)"
      ],
      "execution_count": 1,
      "outputs": []
    },
    {
      "cell_type": "code",
      "metadata": {
        "id": "KkdlURyqYA_J",
        "colab_type": "code",
        "colab": {}
      },
      "source": [
        "test_data = np.loadtxt('./iris_test.csv',delimiter=',',dtype=np.float32)"
      ],
      "execution_count": 2,
      "outputs": []
    },
    {
      "cell_type": "code",
      "metadata": {
        "id": "je0uOBydYRHP",
        "colab_type": "code",
        "colab": {}
      },
      "source": [
        "X_train = train_data[:,:4]\n",
        "y_train = train_data[:,4]"
      ],
      "execution_count": 3,
      "outputs": []
    },
    {
      "cell_type": "code",
      "metadata": {
        "id": "AeC9IgZYYU2w",
        "colab_type": "code",
        "colab": {
          "base_uri": "https://localhost:8080/",
          "height": 35
        },
        "outputId": "a69ce501-f7df-47f4-8198-6fcec9cfa05b"
      },
      "source": [
        "X_train.shape\n",
        "# feature"
      ],
      "execution_count": 4,
      "outputs": [
        {
          "output_type": "execute_result",
          "data": {
            "text/plain": [
              "(120, 4)"
            ]
          },
          "metadata": {
            "tags": []
          },
          "execution_count": 4
        }
      ]
    },
    {
      "cell_type": "code",
      "metadata": {
        "id": "NG-iO7EJZIgU",
        "colab_type": "code",
        "colab": {
          "base_uri": "https://localhost:8080/",
          "height": 35
        },
        "outputId": "8b9f73fc-5b82-4ad9-9d51-00813f191e65"
      },
      "source": [
        "y_train.shape\n",
        "# target"
      ],
      "execution_count": 5,
      "outputs": [
        {
          "output_type": "execute_result",
          "data": {
            "text/plain": [
              "(120,)"
            ]
          },
          "metadata": {
            "tags": []
          },
          "execution_count": 5
        }
      ]
    },
    {
      "cell_type": "code",
      "metadata": {
        "id": "zWgFcQjraBXB",
        "colab_type": "code",
        "colab": {}
      },
      "source": [
        "def distance(p1,p2):\n",
        "  return np.sqrt(np.sum((p1 - p2) ** 2))"
      ],
      "execution_count": 6,
      "outputs": []
    },
    {
      "cell_type": "code",
      "metadata": {
        "id": "edhIeekVaxFJ",
        "colab_type": "code",
        "colab": {
          "base_uri": "https://localhost:8080/",
          "height": 109
        },
        "outputId": "c54dd893-5bba-4551-82cc-972d87cb8d24"
      },
      "source": [
        "# target의 class 개수 와 클래스에 해당하는 값 파악\n",
        "def class_count(X,y):\n",
        "  value = set(y)\n",
        "  value = list(value)\n",
        "  counting = []\n",
        "  for i in range(len(value)):\n",
        "    counting.append({'class':i+1,\"data\" : []})\n",
        "  counting = np.array(counting)  \n",
        "  for i in range(len(y)):\n",
        "    for j in range(len(value)):\n",
        "      if y[i] == value[j]:\n",
        "        counting[j]['data'].append(X[i])\n",
        "  return counting"
      ],
      "execution_count": 7,
      "outputs": [
        {
          "output_type": "execute_result",
          "data": {
            "text/plain": [
              "array([{'class': 1, 'data': [array([5.1, 3.5, 1.4, 0.2], dtype=float32), array([4.9, 3. , 1.4, 0.2], dtype=float32), array([4.7, 3.2, 1.3, 0.2], dtype=float32), array([4.6, 3.1, 1.5, 0.2], dtype=float32), array([5. , 3.6, 1.4, 0.2], dtype=float32), array([5.4, 3.9, 1.7, 0.4], dtype=float32), array([4.6, 3.4, 1.4, 0.3], dtype=float32), array([5. , 3.4, 1.5, 0.2], dtype=float32), array([4.4, 2.9, 1.4, 0.2], dtype=float32), array([4.9, 3.1, 1.5, 0.1], dtype=float32), array([5.4, 3.7, 1.5, 0.2], dtype=float32), array([4.8, 3.4, 1.6, 0.2], dtype=float32), array([4.8, 3. , 1.4, 0.1], dtype=float32), array([4.3, 3. , 1.1, 0.1], dtype=float32), array([5.8, 4. , 1.2, 0.2], dtype=float32), array([5.7, 4.4, 1.5, 0.4], dtype=float32), array([5.4, 3.9, 1.3, 0.4], dtype=float32), array([5.1, 3.5, 1.4, 0.3], dtype=float32), array([5.7, 3.8, 1.7, 0.3], dtype=float32), array([5.1, 3.8, 1.5, 0.3], dtype=float32), array([5.4, 3.4, 1.7, 0.2], dtype=float32), array([5.1, 3.7, 1.5, 0.4], dtype=float32), array([4.6, 3.6, 1. , 0.2], dtype=float32), array([5.1, 3.3, 1.7, 0.5], dtype=float32), array([4.8, 3.4, 1.9, 0.2], dtype=float32), array([5. , 3. , 1.6, 0.2], dtype=float32), array([5. , 3.4, 1.6, 0.4], dtype=float32), array([5.2, 3.5, 1.5, 0.2], dtype=float32), array([5.2, 3.4, 1.4, 0.2], dtype=float32), array([4.7, 3.2, 1.6, 0.2], dtype=float32), array([4.8, 3.1, 1.6, 0.2], dtype=float32), array([5.4, 3.4, 1.5, 0.4], dtype=float32), array([5.2, 4.1, 1.5, 0.1], dtype=float32), array([5.5, 4.2, 1.4, 0.2], dtype=float32), array([4.9, 3.1, 1.5, 0.1], dtype=float32), array([5. , 3.2, 1.2, 0.2], dtype=float32), array([5.5, 3.5, 1.3, 0.2], dtype=float32), array([4.9, 3.1, 1.5, 0.1], dtype=float32), array([4.4, 3. , 1.3, 0.2], dtype=float32), array([5.1, 3.4, 1.5, 0.2], dtype=float32)]},\n",
              "       {'class': 2, 'data': [array([7. , 3.2, 4.7, 1.4], dtype=float32), array([6.4, 3.2, 4.5, 1.5], dtype=float32), array([6.9, 3.1, 4.9, 1.5], dtype=float32), array([5.5, 2.3, 4. , 1.3], dtype=float32), array([6.5, 2.8, 4.6, 1.5], dtype=float32), array([5.7, 2.8, 4.5, 1.3], dtype=float32), array([6.3, 3.3, 4.7, 1.6], dtype=float32), array([4.9, 2.4, 3.3, 1. ], dtype=float32), array([6.6, 2.9, 4.6, 1.3], dtype=float32), array([5.2, 2.7, 3.9, 1.4], dtype=float32), array([5. , 2. , 3.5, 1. ], dtype=float32), array([5.9, 3. , 4.2, 1.5], dtype=float32), array([6. , 2.2, 4. , 1. ], dtype=float32), array([6.1, 2.9, 4.7, 1.4], dtype=float32), array([5.6, 2.9, 3.6, 1.3], dtype=float32), array([6.7, 3.1, 4.4, 1.4], dtype=float32), array([5.6, 3. , 4.5, 1.5], dtype=float32), array([5.8, 2.7, 4.1, 1. ], dtype=float32), array([6.2, 2.2, 4.5, 1.5], dtype=float32), array([5.6, 2.5, 3.9, 1.1], dtype=float32), array([5.9, 3.2, 4.8, 1.8], dtype=float32), array([6.1, 2.8, 4. , 1.3], dtype=float32), array([6.3, 2.5, 4.9, 1.5], dtype=float32), array([6.1, 2.8, 4.7, 1.2], dtype=float32), array([6.4, 2.9, 4.3, 1.3], dtype=float32), array([6.6, 3. , 4.4, 1.4], dtype=float32), array([6.8, 2.8, 4.8, 1.4], dtype=float32), array([6.7, 3. , 5. , 1.7], dtype=float32), array([6. , 2.9, 4.5, 1.5], dtype=float32), array([5.7, 2.6, 3.5, 1. ], dtype=float32), array([5.5, 2.4, 3.8, 1.1], dtype=float32), array([5.5, 2.4, 3.7, 1. ], dtype=float32), array([5.8, 2.7, 3.9, 1.2], dtype=float32), array([6. , 2.7, 5.1, 1.6], dtype=float32), array([5.4, 3. , 4.5, 1.5], dtype=float32), array([6. , 3.4, 4.5, 1.6], dtype=float32), array([6.7, 3.1, 4.7, 1.5], dtype=float32), array([6.3, 2.3, 4.4, 1.3], dtype=float32), array([5.6, 3. , 4.1, 1.3], dtype=float32), array([5.5, 2.5, 4. , 1.3], dtype=float32)]},\n",
              "       {'class': 3, 'data': [array([6.3, 3.3, 6. , 2.5], dtype=float32), array([5.8, 2.7, 5.1, 1.9], dtype=float32), array([7.1, 3. , 5.9, 2.1], dtype=float32), array([6.3, 2.9, 5.6, 1.8], dtype=float32), array([6.5, 3. , 5.8, 2.2], dtype=float32), array([7.6, 3. , 6.6, 2.1], dtype=float32), array([4.9, 2.5, 4.5, 1.7], dtype=float32), array([7.3, 2.9, 6.3, 1.8], dtype=float32), array([6.7, 2.5, 5.8, 1.8], dtype=float32), array([7.2, 3.6, 6.1, 2.5], dtype=float32), array([6.5, 3.2, 5.1, 2. ], dtype=float32), array([6.4, 2.7, 5.3, 1.9], dtype=float32), array([6.8, 3. , 5.5, 2.1], dtype=float32), array([5.7, 2.5, 5. , 2. ], dtype=float32), array([5.8, 2.8, 5.1, 2.4], dtype=float32), array([6.4, 3.2, 5.3, 2.3], dtype=float32), array([6.5, 3. , 5.5, 1.8], dtype=float32), array([7.7, 3.8, 6.7, 2.2], dtype=float32), array([7.7, 2.6, 6.9, 2.3], dtype=float32), array([6. , 2.2, 5. , 1.5], dtype=float32), array([6.9, 3.2, 5.7, 2.3], dtype=float32), array([5.6, 2.8, 4.9, 2. ], dtype=float32), array([7.7, 2.8, 6.7, 2. ], dtype=float32), array([6.3, 2.7, 4.9, 1.8], dtype=float32), array([6.7, 3.3, 5.7, 2.1], dtype=float32), array([7.2, 3.2, 6. , 1.8], dtype=float32), array([6.2, 2.8, 4.8, 1.8], dtype=float32), array([6.1, 3. , 4.9, 1.8], dtype=float32), array([6.4, 2.8, 5.6, 2.1], dtype=float32), array([7.2, 3. , 5.8, 1.6], dtype=float32), array([7.4, 2.8, 6.1, 1.9], dtype=float32), array([7.9, 3.8, 6.4, 2. ], dtype=float32), array([6.4, 2.8, 5.6, 2.2], dtype=float32), array([6.3, 2.8, 5.1, 1.5], dtype=float32), array([6.1, 2.6, 5.6, 1.4], dtype=float32), array([7.7, 3. , 6.1, 2.3], dtype=float32), array([6.3, 3.4, 5.6, 2.4], dtype=float32), array([6.4, 3.1, 5.5, 1.8], dtype=float32), array([6. , 3. , 4.8, 1.8], dtype=float32), array([6.9, 3.1, 5.4, 2.1], dtype=float32)]}],\n",
              "      dtype=object)"
            ]
          },
          "metadata": {
            "tags": []
          },
          "execution_count": 7
        }
      ]
    },
    {
      "cell_type": "markdown",
      "metadata": {
        "id": "9AMy4EWyc8rJ",
        "colab_type": "text"
      },
      "source": [
        ""
      ]
    },
    {
      "cell_type": "code",
      "metadata": {
        "id": "peJX34hdcKPA",
        "colab_type": "code",
        "colab": {
          "base_uri": "https://localhost:8080/",
          "height": 35
        },
        "outputId": "5268f973-28f9-4af2-9cc7-f865cd5da470"
      },
      "source": [
        "def centroid_based_classifier(X_train,y_train,test_data):\n",
        "  data = class_count(X_train,y_train)\n",
        "  mean_vectors = np.zeros(len(data))\n",
        "  real_mean = []\n",
        "  for i in range(len(data)):\n",
        "    mean_data = np.array(data[i]['data'])\n",
        "    mean_data2 = []\n",
        "    for j in range(mean_data.shape[1]):\n",
        "      mean_data2.append(mean_data[:,j].mean())\n",
        "    real_mean.append(mean_data2) \n",
        "  real_mean = np.array(real_mean)\n",
        "\n",
        "  distance_result=np.zeros((len(data),))\n",
        "\n",
        "  for i in range(len(data)):\n",
        "      distance_result[i] = distance(real_mean[i],test_data)\n",
        "  \n",
        "  find_class = np.argsort(distance_result)\n",
        "  return find_class[0] + 1\n"
      ],
      "execution_count": 8,
      "outputs": [
        {
          "output_type": "stream",
          "text": [
            "0.9666666666666667\n"
          ],
          "name": "stdout"
        }
      ]
    },
    {
      "cell_type": "code",
      "metadata": {
        "id": "wWrsk25TpCjh",
        "colab_type": "code",
        "colab": {}
      },
      "source": [
        "def predict(X_test,X_train,y_train):\n",
        "  predict = []\n",
        "  for i in range(len(y_test)):\n",
        "    predict_value = centroid_based_classifier(X_train,y_train,X_test[i])\n",
        "    predict.append(predict_value)\n",
        "  \n",
        "  predict = np.array(predict)\n",
        "  return predict"
      ],
      "execution_count": 16,
      "outputs": []
    },
    {
      "cell_type": "code",
      "metadata": {
        "id": "yxHSbiiEpFD5",
        "colab_type": "code",
        "colab": {}
      },
      "source": [
        "def accuracy(prediction, correct):\n",
        "  count = 0\n",
        "  for i in range(len(prediction)):\n",
        "    if int(prediction[i]) == int(correct[i]) :\n",
        "      count += 1\n",
        "\n",
        "  return count / len(prediction) \n"
      ],
      "execution_count": 17,
      "outputs": []
    },
    {
      "cell_type": "code",
      "metadata": {
        "id": "PVi2kcwdpEHE",
        "colab_type": "code",
        "colab": {
          "base_uri": "https://localhost:8080/",
          "height": 35
        },
        "outputId": "5ae749fd-1fc3-4c3d-8173-bd92c2cae8af"
      },
      "source": [
        "X_test = test_data[:,:4]\n",
        "y_test = test_data[:,4]\n",
        "\n",
        "predict = predict(X_test,X_train,y_train)\n",
        "print(accuracy(predict,y_test))"
      ],
      "execution_count": 18,
      "outputs": [
        {
          "output_type": "stream",
          "text": [
            "0.9666666666666667\n"
          ],
          "name": "stdout"
        }
      ]
    }
  ]
}