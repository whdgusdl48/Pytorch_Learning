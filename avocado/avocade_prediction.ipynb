{
  "nbformat": 4,
  "nbformat_minor": 0,
  "metadata": {
    "colab": {
      "name": "avocade_prediction",
      "provenance": []
    },
    "kernelspec": {
      "name": "python3",
      "display_name": "Python 3"
    }
  },
  "cells": [
    {
      "cell_type": "code",
      "metadata": {
        "id": "LrSgS6POq7I-",
        "colab_type": "code",
        "colab": {
          "base_uri": "https://localhost:8080/",
          "height": 419
        },
        "outputId": "ef6ae1bb-7ab6-4ebb-d537-34d3740184f8"
      },
      "source": [
        "import pandas as pd\n",
        "import numpy as np\n",
        "import matplotlib.pyplot as plt\n",
        "\n",
        "data = pd.read_csv('avocado.csv')\n",
        "data"
      ],
      "execution_count": 23,
      "outputs": [
        {
          "output_type": "execute_result",
          "data": {
            "text/html": [
              "<div>\n",
              "<style scoped>\n",
              "    .dataframe tbody tr th:only-of-type {\n",
              "        vertical-align: middle;\n",
              "    }\n",
              "\n",
              "    .dataframe tbody tr th {\n",
              "        vertical-align: top;\n",
              "    }\n",
              "\n",
              "    .dataframe thead th {\n",
              "        text-align: right;\n",
              "    }\n",
              "</style>\n",
              "<table border=\"1\" class=\"dataframe\">\n",
              "  <thead>\n",
              "    <tr style=\"text-align: right;\">\n",
              "      <th></th>\n",
              "      <th>Unnamed: 0</th>\n",
              "      <th>Date</th>\n",
              "      <th>AveragePrice</th>\n",
              "      <th>Total Volume</th>\n",
              "      <th>4046</th>\n",
              "      <th>4225</th>\n",
              "      <th>4770</th>\n",
              "      <th>Total Bags</th>\n",
              "      <th>Small Bags</th>\n",
              "      <th>Large Bags</th>\n",
              "      <th>XLarge Bags</th>\n",
              "      <th>type</th>\n",
              "      <th>year</th>\n",
              "      <th>region</th>\n",
              "    </tr>\n",
              "  </thead>\n",
              "  <tbody>\n",
              "    <tr>\n",
              "      <th>0</th>\n",
              "      <td>0</td>\n",
              "      <td>2015-12-27</td>\n",
              "      <td>1.33</td>\n",
              "      <td>64236.62</td>\n",
              "      <td>1036.74</td>\n",
              "      <td>54454.85</td>\n",
              "      <td>48.16</td>\n",
              "      <td>8696.87</td>\n",
              "      <td>8603.62</td>\n",
              "      <td>93.25</td>\n",
              "      <td>0.0</td>\n",
              "      <td>conventional</td>\n",
              "      <td>2015</td>\n",
              "      <td>Albany</td>\n",
              "    </tr>\n",
              "    <tr>\n",
              "      <th>1</th>\n",
              "      <td>1</td>\n",
              "      <td>2015-12-20</td>\n",
              "      <td>1.35</td>\n",
              "      <td>54876.98</td>\n",
              "      <td>674.28</td>\n",
              "      <td>44638.81</td>\n",
              "      <td>58.33</td>\n",
              "      <td>9505.56</td>\n",
              "      <td>9408.07</td>\n",
              "      <td>97.49</td>\n",
              "      <td>0.0</td>\n",
              "      <td>conventional</td>\n",
              "      <td>2015</td>\n",
              "      <td>Albany</td>\n",
              "    </tr>\n",
              "    <tr>\n",
              "      <th>2</th>\n",
              "      <td>2</td>\n",
              "      <td>2015-12-13</td>\n",
              "      <td>0.93</td>\n",
              "      <td>118220.22</td>\n",
              "      <td>794.70</td>\n",
              "      <td>109149.67</td>\n",
              "      <td>130.50</td>\n",
              "      <td>8145.35</td>\n",
              "      <td>8042.21</td>\n",
              "      <td>103.14</td>\n",
              "      <td>0.0</td>\n",
              "      <td>conventional</td>\n",
              "      <td>2015</td>\n",
              "      <td>Albany</td>\n",
              "    </tr>\n",
              "    <tr>\n",
              "      <th>3</th>\n",
              "      <td>3</td>\n",
              "      <td>2015-12-06</td>\n",
              "      <td>1.08</td>\n",
              "      <td>78992.15</td>\n",
              "      <td>1132.00</td>\n",
              "      <td>71976.41</td>\n",
              "      <td>72.58</td>\n",
              "      <td>5811.16</td>\n",
              "      <td>5677.40</td>\n",
              "      <td>133.76</td>\n",
              "      <td>0.0</td>\n",
              "      <td>conventional</td>\n",
              "      <td>2015</td>\n",
              "      <td>Albany</td>\n",
              "    </tr>\n",
              "    <tr>\n",
              "      <th>4</th>\n",
              "      <td>4</td>\n",
              "      <td>2015-11-29</td>\n",
              "      <td>1.28</td>\n",
              "      <td>51039.60</td>\n",
              "      <td>941.48</td>\n",
              "      <td>43838.39</td>\n",
              "      <td>75.78</td>\n",
              "      <td>6183.95</td>\n",
              "      <td>5986.26</td>\n",
              "      <td>197.69</td>\n",
              "      <td>0.0</td>\n",
              "      <td>conventional</td>\n",
              "      <td>2015</td>\n",
              "      <td>Albany</td>\n",
              "    </tr>\n",
              "    <tr>\n",
              "      <th>...</th>\n",
              "      <td>...</td>\n",
              "      <td>...</td>\n",
              "      <td>...</td>\n",
              "      <td>...</td>\n",
              "      <td>...</td>\n",
              "      <td>...</td>\n",
              "      <td>...</td>\n",
              "      <td>...</td>\n",
              "      <td>...</td>\n",
              "      <td>...</td>\n",
              "      <td>...</td>\n",
              "      <td>...</td>\n",
              "      <td>...</td>\n",
              "      <td>...</td>\n",
              "    </tr>\n",
              "    <tr>\n",
              "      <th>18244</th>\n",
              "      <td>7</td>\n",
              "      <td>2018-02-04</td>\n",
              "      <td>1.63</td>\n",
              "      <td>17074.83</td>\n",
              "      <td>2046.96</td>\n",
              "      <td>1529.20</td>\n",
              "      <td>0.00</td>\n",
              "      <td>13498.67</td>\n",
              "      <td>13066.82</td>\n",
              "      <td>431.85</td>\n",
              "      <td>0.0</td>\n",
              "      <td>organic</td>\n",
              "      <td>2018</td>\n",
              "      <td>WestTexNewMexico</td>\n",
              "    </tr>\n",
              "    <tr>\n",
              "      <th>18245</th>\n",
              "      <td>8</td>\n",
              "      <td>2018-01-28</td>\n",
              "      <td>1.71</td>\n",
              "      <td>13888.04</td>\n",
              "      <td>1191.70</td>\n",
              "      <td>3431.50</td>\n",
              "      <td>0.00</td>\n",
              "      <td>9264.84</td>\n",
              "      <td>8940.04</td>\n",
              "      <td>324.80</td>\n",
              "      <td>0.0</td>\n",
              "      <td>organic</td>\n",
              "      <td>2018</td>\n",
              "      <td>WestTexNewMexico</td>\n",
              "    </tr>\n",
              "    <tr>\n",
              "      <th>18246</th>\n",
              "      <td>9</td>\n",
              "      <td>2018-01-21</td>\n",
              "      <td>1.87</td>\n",
              "      <td>13766.76</td>\n",
              "      <td>1191.92</td>\n",
              "      <td>2452.79</td>\n",
              "      <td>727.94</td>\n",
              "      <td>9394.11</td>\n",
              "      <td>9351.80</td>\n",
              "      <td>42.31</td>\n",
              "      <td>0.0</td>\n",
              "      <td>organic</td>\n",
              "      <td>2018</td>\n",
              "      <td>WestTexNewMexico</td>\n",
              "    </tr>\n",
              "    <tr>\n",
              "      <th>18247</th>\n",
              "      <td>10</td>\n",
              "      <td>2018-01-14</td>\n",
              "      <td>1.93</td>\n",
              "      <td>16205.22</td>\n",
              "      <td>1527.63</td>\n",
              "      <td>2981.04</td>\n",
              "      <td>727.01</td>\n",
              "      <td>10969.54</td>\n",
              "      <td>10919.54</td>\n",
              "      <td>50.00</td>\n",
              "      <td>0.0</td>\n",
              "      <td>organic</td>\n",
              "      <td>2018</td>\n",
              "      <td>WestTexNewMexico</td>\n",
              "    </tr>\n",
              "    <tr>\n",
              "      <th>18248</th>\n",
              "      <td>11</td>\n",
              "      <td>2018-01-07</td>\n",
              "      <td>1.62</td>\n",
              "      <td>17489.58</td>\n",
              "      <td>2894.77</td>\n",
              "      <td>2356.13</td>\n",
              "      <td>224.53</td>\n",
              "      <td>12014.15</td>\n",
              "      <td>11988.14</td>\n",
              "      <td>26.01</td>\n",
              "      <td>0.0</td>\n",
              "      <td>organic</td>\n",
              "      <td>2018</td>\n",
              "      <td>WestTexNewMexico</td>\n",
              "    </tr>\n",
              "  </tbody>\n",
              "</table>\n",
              "<p>18249 rows × 14 columns</p>\n",
              "</div>"
            ],
            "text/plain": [
              "       Unnamed: 0        Date  ...  year            region\n",
              "0               0  2015-12-27  ...  2015            Albany\n",
              "1               1  2015-12-20  ...  2015            Albany\n",
              "2               2  2015-12-13  ...  2015            Albany\n",
              "3               3  2015-12-06  ...  2015            Albany\n",
              "4               4  2015-11-29  ...  2015            Albany\n",
              "...           ...         ...  ...   ...               ...\n",
              "18244           7  2018-02-04  ...  2018  WestTexNewMexico\n",
              "18245           8  2018-01-28  ...  2018  WestTexNewMexico\n",
              "18246           9  2018-01-21  ...  2018  WestTexNewMexico\n",
              "18247          10  2018-01-14  ...  2018  WestTexNewMexico\n",
              "18248          11  2018-01-07  ...  2018  WestTexNewMexico\n",
              "\n",
              "[18249 rows x 14 columns]"
            ]
          },
          "metadata": {
            "tags": []
          },
          "execution_count": 23
        }
      ]
    },
    {
      "cell_type": "code",
      "metadata": {
        "id": "oFAwdVHtrV0x",
        "colab_type": "code",
        "colab": {
          "base_uri": "https://localhost:8080/",
          "height": 1000
        },
        "outputId": "1c425a54-6cb2-439c-c3f0-d446edceb95d"
      },
      "source": [
        "data2['region'].value_counts()"
      ],
      "execution_count": 73,
      "outputs": [
        {
          "output_type": "execute_result",
          "data": {
            "text/plain": [
              "PhoenixTucson          286\n",
              "NorthernNewEngland     280\n",
              "Roanoke                279\n",
              "Seattle                278\n",
              "SouthCentral           278\n",
              "RaleighGreensboro      277\n",
              "BaltimoreWashington    277\n",
              "Midsouth               276\n",
              "California             276\n",
              "WestTexNewMexico       276\n",
              "Albany                 275\n",
              "Pittsburgh             275\n",
              "Indianapolis           275\n",
              "Southeast              274\n",
              "LasVegas               273\n",
              "West                   273\n",
              "CincinnatiDayton       273\n",
              "Columbus               273\n",
              "Denver                 273\n",
              "Detroit                272\n",
              "NewYork                272\n",
              "TotalUS                271\n",
              "Boston                 271\n",
              "SouthCarolina          271\n",
              "StLouis                271\n",
              "Houston                271\n",
              "Jacksonville           270\n",
              "Louisville             270\n",
              "MiamiFtLauderdale      270\n",
              "DallasFtWorth          270\n",
              "GreatLakes             269\n",
              "HartfordSpringfield    269\n",
              "Orlando                269\n",
              "RichmondNorfolk        269\n",
              "Syracuse               268\n",
              "LosAngeles             268\n",
              "Nashville              268\n",
              "SanFrancisco           268\n",
              "GrandRapids            267\n",
              "HarrisburgScranton     267\n",
              "Chicago                266\n",
              "Boise                  266\n",
              "Sacramento             266\n",
              "Tampa                  266\n",
              "NewOrleansMobile       265\n",
              "Atlanta                265\n",
              "Philadelphia           265\n",
              "BuffaloRochester       265\n",
              "Portland               264\n",
              "Northeast              263\n",
              "Charlotte              262\n",
              "Spokane                261\n",
              "SanDiego               259\n",
              "Plains                 258\n",
              "Name: region, dtype: int64"
            ]
          },
          "metadata": {
            "tags": []
          },
          "execution_count": 73
        }
      ]
    },
    {
      "cell_type": "code",
      "metadata": {
        "id": "OmWk2IHkray4",
        "colab_type": "code",
        "colab": {
          "base_uri": "https://localhost:8080/",
          "height": 395
        },
        "outputId": "66755fbe-fc79-4538-c614-5d90be22183f"
      },
      "source": [
        "data2.info()"
      ],
      "execution_count": 74,
      "outputs": [
        {
          "output_type": "stream",
          "text": [
            "<class 'pandas.core.frame.DataFrame'>\n",
            "Int64Index: 14599 entries, 16391 to 15795\n",
            "Data columns (total 14 columns):\n",
            " #   Column        Non-Null Count  Dtype  \n",
            "---  ------        --------------  -----  \n",
            " 0   Unnamed: 0    14599 non-null  int64  \n",
            " 1   Date          14599 non-null  object \n",
            " 2   AveragePrice  14599 non-null  float64\n",
            " 3   Total Volume  14599 non-null  float64\n",
            " 4   4046          14599 non-null  float64\n",
            " 5   4225          14599 non-null  float64\n",
            " 6   4770          14599 non-null  float64\n",
            " 7   Total Bags    14599 non-null  float64\n",
            " 8   Small Bags    14599 non-null  float64\n",
            " 9   Large Bags    14599 non-null  float64\n",
            " 10  XLarge Bags   14599 non-null  float64\n",
            " 11  type          14599 non-null  object \n",
            " 12  year          14599 non-null  int64  \n",
            " 13  region        14599 non-null  object \n",
            "dtypes: float64(9), int64(2), object(3)\n",
            "memory usage: 1.7+ MB\n"
          ],
          "name": "stdout"
        }
      ]
    },
    {
      "cell_type": "code",
      "metadata": {
        "id": "Dy3fIvaDrxuX",
        "colab_type": "code",
        "colab": {
          "base_uri": "https://localhost:8080/",
          "height": 1000
        },
        "outputId": "2263b255-a27b-4d23-89b3-e801c6e8088e"
      },
      "source": [
        "data2.hist(figsize=(15,20))"
      ],
      "execution_count": 75,
      "outputs": [
        {
          "output_type": "execute_result",
          "data": {
            "text/plain": [
              "array([[<matplotlib.axes._subplots.AxesSubplot object at 0x7f27f7fab6a0>,\n",
              "        <matplotlib.axes._subplots.AxesSubplot object at 0x7f27f7f629b0>,\n",
              "        <matplotlib.axes._subplots.AxesSubplot object at 0x7f27f7f92c18>],\n",
              "       [<matplotlib.axes._subplots.AxesSubplot object at 0x7f27f7f47e80>,\n",
              "        <matplotlib.axes._subplots.AxesSubplot object at 0x7f27f7f05128>,\n",
              "        <matplotlib.axes._subplots.AxesSubplot object at 0x7f27f7ebc390>],\n",
              "       [<matplotlib.axes._subplots.AxesSubplot object at 0x7f27f7e6d5f8>,\n",
              "        <matplotlib.axes._subplots.AxesSubplot object at 0x7f27f7e22828>,\n",
              "        <matplotlib.axes._subplots.AxesSubplot object at 0x7f27f7e22898>],\n",
              "       [<matplotlib.axes._subplots.AxesSubplot object at 0x7f27f7e09d30>,\n",
              "        <matplotlib.axes._subplots.AxesSubplot object at 0x7f27f7dbff98>,\n",
              "        <matplotlib.axes._subplots.AxesSubplot object at 0x7f27f7d80240>]],\n",
              "      dtype=object)"
            ]
          },
          "metadata": {
            "tags": []
          },
          "execution_count": 75
        },
        {
          "output_type": "display_data",
          "data": {
            "image/png": "[encoded data removed]",
            "text/plain": [
              "<Figure size 1080x1440 with 12 Axes>"
            ]
          },
          "metadata": {
            "tags": [],
            "needs_background": "light"
          }
        }
      ]
    },
    {
      "cell_type": "code",
      "metadata": {
        "id": "0a_lWYbysI73",
        "colab_type": "code",
        "colab": {}
      },
      "source": [
        "from sklearn.model_selection import train_test_split\n",
        "\n",
        "train_set, test_set = train_test_split(data, test_size= 0.2, random_state = 42)"
      ],
      "execution_count": 76,
      "outputs": []
    },
    {
      "cell_type": "code",
      "metadata": {
        "id": "xtUV_O7esMaf",
        "colab_type": "code",
        "colab": {
          "base_uri": "https://localhost:8080/",
          "height": 297
        },
        "outputId": "625aa0e6-e03d-4fb3-b667-e2b1f9027e63"
      },
      "source": [
        "data2.plot(kind=\"scatter\",x='year',y='AveragePrice')"
      ],
      "execution_count": 78,
      "outputs": [
        {
          "output_type": "execute_result",
          "data": {
            "text/plain": [
              "<matplotlib.axes._subplots.AxesSubplot at 0x7f27f7a385f8>"
            ]
          },
          "metadata": {
            "tags": []
          },
          "execution_count": 78
        },
        {
          "output_type": "display_data",
          "data": {
            "image/png": "[encoded data removed]",
            "text/plain": [
              "<Figure size 432x288 with 1 Axes>"
            ]
          },
          "metadata": {
            "tags": [],
            "needs_background": "light"
          }
        }
      ]
    },
    {
      "cell_type": "code",
      "metadata": {
        "id": "lSxL9AsosgMm",
        "colab_type": "code",
        "colab": {
          "base_uri": "https://localhost:8080/",
          "height": 297
        },
        "outputId": "29d1251c-446b-4014-98ef-cc501477e8d6"
      },
      "source": [
        "data2.plot(kind=\"scatter\",x='Total Volume',y='AveragePrice',alpha=0.1)"
      ],
      "execution_count": 79,
      "outputs": [
        {
          "output_type": "execute_result",
          "data": {
            "text/plain": [
              "<matplotlib.axes._subplots.AxesSubplot at 0x7f27f7991860>"
            ]
          },
          "metadata": {
            "tags": []
          },
          "execution_count": 79
        },
        {
          "output_type": "display_data",
          "data": {
            "image/png": "[encoded data removed]",
            "text/plain": [
              "<Figure size 432x288 with 1 Axes>"
            ]
          },
          "metadata": {
            "tags": [],
            "needs_background": "light"
          }
        }
      ]
    },
    {
      "cell_type": "code",
      "metadata": {
        "id": "THKxRXgFt92f",
        "colab_type": "code",
        "colab": {
          "base_uri": "https://localhost:8080/",
          "height": 297
        },
        "outputId": "5b499040-1963-4a36-fd8f-eb1b2e58e3bf"
      },
      "source": [
        "data2.plot(kind=\"scatter\",x='4046',y='AveragePrice',alpha=0.1)"
      ],
      "execution_count": 80,
      "outputs": [
        {
          "output_type": "execute_result",
          "data": {
            "text/plain": [
              "<matplotlib.axes._subplots.AxesSubplot at 0x7f27f78f15c0>"
            ]
          },
          "metadata": {
            "tags": []
          },
          "execution_count": 80
        },
        {
          "output_type": "display_data",
          "data": {
            "image/png": "[encoded data removed]",
            "text/plain": [
              "<Figure size 432x288 with 1 Axes>"
            ]
          },
          "metadata": {
            "tags": [],
            "needs_background": "light"
          }
        }
      ]
    },
    {
      "cell_type": "code",
      "metadata": {
        "id": "IVsdTvejuBNP",
        "colab_type": "code",
        "colab": {
          "base_uri": "https://localhost:8080/",
          "height": 297
        },
        "outputId": "34d14ed6-4582-4815-c81c-8a7866af0c6f"
      },
      "source": [
        "data2.plot(kind=\"scatter\",x='Total Bags',y='AveragePrice',alpha=0.1)"
      ],
      "execution_count": 81,
      "outputs": [
        {
          "output_type": "execute_result",
          "data": {
            "text/plain": [
              "<matplotlib.axes._subplots.AxesSubplot at 0x7f27f785be80>"
            ]
          },
          "metadata": {
            "tags": []
          },
          "execution_count": 81
        },
        {
          "output_type": "display_data",
          "data": {
            "image/png": "[encoded data removed]",
            "text/plain": [
              "<Figure size 432x288 with 1 Axes>"
            ]
          },
          "metadata": {
            "tags": [],
            "needs_background": "light"
          }
        }
      ]
    },
    {
      "cell_type": "code",
      "metadata": {
        "id": "qx3KI8uEstgX",
        "colab_type": "code",
        "colab": {
          "base_uri": "https://localhost:8080/",
          "height": 390
        },
        "outputId": "def86e3d-283e-4fd3-9523-e7bb4f558a1e"
      },
      "source": [
        "corr = data2.corr()\n",
        "corr"
      ],
      "execution_count": 82,
      "outputs": [
        {
          "output_type": "execute_result",
          "data": {
            "text/html": [
              "<div>\n",
              "<style scoped>\n",
              "    .dataframe tbody tr th:only-of-type {\n",
              "        vertical-align: middle;\n",
              "    }\n",
              "\n",
              "    .dataframe tbody tr th {\n",
              "        vertical-align: top;\n",
              "    }\n",
              "\n",
              "    .dataframe thead th {\n",
              "        text-align: right;\n",
              "    }\n",
              "</style>\n",
              "<table border=\"1\" class=\"dataframe\">\n",
              "  <thead>\n",
              "    <tr style=\"text-align: right;\">\n",
              "      <th></th>\n",
              "      <th>Unnamed: 0</th>\n",
              "      <th>AveragePrice</th>\n",
              "      <th>Total Volume</th>\n",
              "      <th>4046</th>\n",
              "      <th>4225</th>\n",
              "      <th>4770</th>\n",
              "      <th>Total Bags</th>\n",
              "      <th>Small Bags</th>\n",
              "      <th>Large Bags</th>\n",
              "      <th>XLarge Bags</th>\n",
              "      <th>year</th>\n",
              "    </tr>\n",
              "  </thead>\n",
              "  <tbody>\n",
              "    <tr>\n",
              "      <th>Unnamed: 0</th>\n",
              "      <td>1.000000</td>\n",
              "      <td>-0.124156</td>\n",
              "      <td>0.011285</td>\n",
              "      <td>0.014890</td>\n",
              "      <td>0.016683</td>\n",
              "      <td>0.038565</td>\n",
              "      <td>-0.004327</td>\n",
              "      <td>-0.001975</td>\n",
              "      <td>-0.010606</td>\n",
              "      <td>-0.011003</td>\n",
              "      <td>-0.176927</td>\n",
              "    </tr>\n",
              "    <tr>\n",
              "      <th>AveragePrice</th>\n",
              "      <td>-0.124156</td>\n",
              "      <td>1.000000</td>\n",
              "      <td>-0.194869</td>\n",
              "      <td>-0.211984</td>\n",
              "      <td>-0.173784</td>\n",
              "      <td>-0.180006</td>\n",
              "      <td>-0.178697</td>\n",
              "      <td>-0.176604</td>\n",
              "      <td>-0.173638</td>\n",
              "      <td>-0.118634</td>\n",
              "      <td>0.091883</td>\n",
              "    </tr>\n",
              "    <tr>\n",
              "      <th>Total Volume</th>\n",
              "      <td>0.011285</td>\n",
              "      <td>-0.194869</td>\n",
              "      <td>1.000000</td>\n",
              "      <td>0.976845</td>\n",
              "      <td>0.974054</td>\n",
              "      <td>0.869199</td>\n",
              "      <td>0.964046</td>\n",
              "      <td>0.968059</td>\n",
              "      <td>0.882444</td>\n",
              "      <td>0.745878</td>\n",
              "      <td>0.013000</td>\n",
              "    </tr>\n",
              "    <tr>\n",
              "      <th>4046</th>\n",
              "      <td>0.014890</td>\n",
              "      <td>-0.211984</td>\n",
              "      <td>0.976845</td>\n",
              "      <td>1.000000</td>\n",
              "      <td>0.922989</td>\n",
              "      <td>0.827669</td>\n",
              "      <td>0.920515</td>\n",
              "      <td>0.925355</td>\n",
              "      <td>0.840607</td>\n",
              "      <td>0.697542</td>\n",
              "      <td>-0.000756</td>\n",
              "    </tr>\n",
              "    <tr>\n",
              "      <th>4225</th>\n",
              "      <td>0.016683</td>\n",
              "      <td>-0.173784</td>\n",
              "      <td>0.974054</td>\n",
              "      <td>0.922989</td>\n",
              "      <td>1.000000</td>\n",
              "      <td>0.884501</td>\n",
              "      <td>0.908151</td>\n",
              "      <td>0.918258</td>\n",
              "      <td>0.812866</td>\n",
              "      <td>0.691372</td>\n",
              "      <td>-0.013627</td>\n",
              "    </tr>\n",
              "    <tr>\n",
              "      <th>4770</th>\n",
              "      <td>0.038565</td>\n",
              "      <td>-0.180006</td>\n",
              "      <td>0.869199</td>\n",
              "      <td>0.827669</td>\n",
              "      <td>0.884501</td>\n",
              "      <td>1.000000</td>\n",
              "      <td>0.791453</td>\n",
              "      <td>0.801168</td>\n",
              "      <td>0.699274</td>\n",
              "      <td>0.689607</td>\n",
              "      <td>-0.039562</td>\n",
              "    </tr>\n",
              "    <tr>\n",
              "      <th>Total Bags</th>\n",
              "      <td>-0.004327</td>\n",
              "      <td>-0.178697</td>\n",
              "      <td>0.964046</td>\n",
              "      <td>0.920515</td>\n",
              "      <td>0.908151</td>\n",
              "      <td>0.791453</td>\n",
              "      <td>1.000000</td>\n",
              "      <td>0.994332</td>\n",
              "      <td>0.943484</td>\n",
              "      <td>0.797861</td>\n",
              "      <td>0.067988</td>\n",
              "    </tr>\n",
              "    <tr>\n",
              "      <th>Small Bags</th>\n",
              "      <td>-0.001975</td>\n",
              "      <td>-0.176604</td>\n",
              "      <td>0.968059</td>\n",
              "      <td>0.925355</td>\n",
              "      <td>0.918258</td>\n",
              "      <td>0.801168</td>\n",
              "      <td>0.994332</td>\n",
              "      <td>1.000000</td>\n",
              "      <td>0.903210</td>\n",
              "      <td>0.800809</td>\n",
              "      <td>0.060207</td>\n",
              "    </tr>\n",
              "    <tr>\n",
              "      <th>Large Bags</th>\n",
              "      <td>-0.010606</td>\n",
              "      <td>-0.173638</td>\n",
              "      <td>0.882444</td>\n",
              "      <td>0.840607</td>\n",
              "      <td>0.812866</td>\n",
              "      <td>0.699274</td>\n",
              "      <td>0.943484</td>\n",
              "      <td>0.903210</td>\n",
              "      <td>1.000000</td>\n",
              "      <td>0.703410</td>\n",
              "      <td>0.084963</td>\n",
              "    </tr>\n",
              "    <tr>\n",
              "      <th>XLarge Bags</th>\n",
              "      <td>-0.011003</td>\n",
              "      <td>-0.118634</td>\n",
              "      <td>0.745878</td>\n",
              "      <td>0.697542</td>\n",
              "      <td>0.691372</td>\n",
              "      <td>0.689607</td>\n",
              "      <td>0.797861</td>\n",
              "      <td>0.800809</td>\n",
              "      <td>0.703410</td>\n",
              "      <td>1.000000</td>\n",
              "      <td>0.077101</td>\n",
              "    </tr>\n",
              "    <tr>\n",
              "      <th>year</th>\n",
              "      <td>-0.176927</td>\n",
              "      <td>0.091883</td>\n",
              "      <td>0.013000</td>\n",
              "      <td>-0.000756</td>\n",
              "      <td>-0.013627</td>\n",
              "      <td>-0.039562</td>\n",
              "      <td>0.067988</td>\n",
              "      <td>0.060207</td>\n",
              "      <td>0.084963</td>\n",
              "      <td>0.077101</td>\n",
              "      <td>1.000000</td>\n",
              "    </tr>\n",
              "  </tbody>\n",
              "</table>\n",
              "</div>"
            ],
            "text/plain": [
              "              Unnamed: 0  AveragePrice  ...  XLarge Bags      year\n",
              "Unnamed: 0      1.000000     -0.124156  ...    -0.011003 -0.176927\n",
              "AveragePrice   -0.124156      1.000000  ...    -0.118634  0.091883\n",
              "Total Volume    0.011285     -0.194869  ...     0.745878  0.013000\n",
              "4046            0.014890     -0.211984  ...     0.697542 -0.000756\n",
              "4225            0.016683     -0.173784  ...     0.691372 -0.013627\n",
              "4770            0.038565     -0.180006  ...     0.689607 -0.039562\n",
              "Total Bags     -0.004327     -0.178697  ...     0.797861  0.067988\n",
              "Small Bags     -0.001975     -0.176604  ...     0.800809  0.060207\n",
              "Large Bags     -0.010606     -0.173638  ...     0.703410  0.084963\n",
              "XLarge Bags    -0.011003     -0.118634  ...     1.000000  0.077101\n",
              "year           -0.176927      0.091883  ...     0.077101  1.000000\n",
              "\n",
              "[11 rows x 11 columns]"
            ]
          },
          "metadata": {
            "tags": []
          },
          "execution_count": 82
        }
      ]
    },
    {
      "cell_type": "code",
      "metadata": {
        "id": "yY-RGWLis64Q",
        "colab_type": "code",
        "colab": {
          "base_uri": "https://localhost:8080/",
          "height": 233
        },
        "outputId": "0d6d8349-3353-4efe-ec80-316c2db4407a"
      },
      "source": [
        "corr['AveragePrice'].sort_values()"
      ],
      "execution_count": 83,
      "outputs": [
        {
          "output_type": "execute_result",
          "data": {
            "text/plain": [
              "4046           -0.211984\n",
              "Total Volume   -0.194869\n",
              "4770           -0.180006\n",
              "Total Bags     -0.178697\n",
              "Small Bags     -0.176604\n",
              "4225           -0.173784\n",
              "Large Bags     -0.173638\n",
              "Unnamed: 0     -0.124156\n",
              "XLarge Bags    -0.118634\n",
              "year            0.091883\n",
              "AveragePrice    1.000000\n",
              "Name: AveragePrice, dtype: float64"
            ]
          },
          "metadata": {
            "tags": []
          },
          "execution_count": 83
        }
      ]
    },
    {
      "cell_type": "code",
      "metadata": {
        "id": "p69bZMJTtNVw",
        "colab_type": "code",
        "colab": {}
      },
      "source": [
        "data2['Date'] = pd.to_datetime(data2['Date'], format='%Y-%m-%d', errors='raise')"
      ],
      "execution_count": 84,
      "outputs": []
    },
    {
      "cell_type": "code",
      "metadata": {
        "id": "FXMHKBkXttdy",
        "colab_type": "code",
        "colab": {}
      },
      "source": [
        "data2['year'] = data2['Date'].dt.year\n",
        "data2['month'] = data2['Date'].dt.month\n",
        "data2['day'] = data2['Date'].dt.day\n",
        "del data2['Date']"
      ],
      "execution_count": 85,
      "outputs": []
    },
    {
      "cell_type": "code",
      "metadata": {
        "id": "t4bBj-IEt5ln",
        "colab_type": "code",
        "colab": {
          "base_uri": "https://localhost:8080/",
          "height": 419
        },
        "outputId": "5661b5ea-d189-451d-f95d-6285c458a95f"
      },
      "source": [
        "data2"
      ],
      "execution_count": 86,
      "outputs": [
        {
          "output_type": "execute_result",
          "data": {
            "text/html": [
              "<div>\n",
              "<style scoped>\n",
              "    .dataframe tbody tr th:only-of-type {\n",
              "        vertical-align: middle;\n",
              "    }\n",
              "\n",
              "    .dataframe tbody tr th {\n",
              "        vertical-align: top;\n",
              "    }\n",
              "\n",
              "    .dataframe thead th {\n",
              "        text-align: right;\n",
              "    }\n",
              "</style>\n",
              "<table border=\"1\" class=\"dataframe\">\n",
              "  <thead>\n",
              "    <tr style=\"text-align: right;\">\n",
              "      <th></th>\n",
              "      <th>Unnamed: 0</th>\n",
              "      <th>AveragePrice</th>\n",
              "      <th>Total Volume</th>\n",
              "      <th>4046</th>\n",
              "      <th>4225</th>\n",
              "      <th>4770</th>\n",
              "      <th>Total Bags</th>\n",
              "      <th>Small Bags</th>\n",
              "      <th>Large Bags</th>\n",
              "      <th>XLarge Bags</th>\n",
              "      <th>type</th>\n",
              "      <th>year</th>\n",
              "      <th>region</th>\n",
              "      <th>month</th>\n",
              "      <th>day</th>\n",
              "    </tr>\n",
              "  </thead>\n",
              "  <tbody>\n",
              "    <tr>\n",
              "      <th>16391</th>\n",
              "      <td>7</td>\n",
              "      <td>1.88</td>\n",
              "      <td>5376.58</td>\n",
              "      <td>147.41</td>\n",
              "      <td>871.40</td>\n",
              "      <td>0.00</td>\n",
              "      <td>4357.77</td>\n",
              "      <td>4351.10</td>\n",
              "      <td>6.67</td>\n",
              "      <td>0.00</td>\n",
              "      <td>organic</td>\n",
              "      <td>2017</td>\n",
              "      <td>Orlando</td>\n",
              "      <td>11</td>\n",
              "      <td>12</td>\n",
              "    </tr>\n",
              "    <tr>\n",
              "      <th>4990</th>\n",
              "      <td>50</td>\n",
              "      <td>0.81</td>\n",
              "      <td>578610.94</td>\n",
              "      <td>155537.61</td>\n",
              "      <td>153030.46</td>\n",
              "      <td>21523.37</td>\n",
              "      <td>248519.50</td>\n",
              "      <td>144796.06</td>\n",
              "      <td>103723.44</td>\n",
              "      <td>0.00</td>\n",
              "      <td>conventional</td>\n",
              "      <td>2016</td>\n",
              "      <td>SanDiego</td>\n",
              "      <td>1</td>\n",
              "      <td>10</td>\n",
              "    </tr>\n",
              "    <tr>\n",
              "      <th>13653</th>\n",
              "      <td>4</td>\n",
              "      <td>2.01</td>\n",
              "      <td>6470.08</td>\n",
              "      <td>2026.07</td>\n",
              "      <td>2529.20</td>\n",
              "      <td>0.00</td>\n",
              "      <td>1914.81</td>\n",
              "      <td>1848.75</td>\n",
              "      <td>66.06</td>\n",
              "      <td>0.00</td>\n",
              "      <td>organic</td>\n",
              "      <td>2016</td>\n",
              "      <td>PhoenixTucson</td>\n",
              "      <td>11</td>\n",
              "      <td>27</td>\n",
              "    </tr>\n",
              "    <tr>\n",
              "      <th>2074</th>\n",
              "      <td>46</td>\n",
              "      <td>1.02</td>\n",
              "      <td>145648.40</td>\n",
              "      <td>78195.76</td>\n",
              "      <td>38763.75</td>\n",
              "      <td>134.25</td>\n",
              "      <td>28554.64</td>\n",
              "      <td>25981.67</td>\n",
              "      <td>2572.97</td>\n",
              "      <td>0.00</td>\n",
              "      <td>conventional</td>\n",
              "      <td>2015</td>\n",
              "      <td>Roanoke</td>\n",
              "      <td>2</td>\n",
              "      <td>8</td>\n",
              "    </tr>\n",
              "    <tr>\n",
              "      <th>12377</th>\n",
              "      <td>28</td>\n",
              "      <td>1.53</td>\n",
              "      <td>40535.05</td>\n",
              "      <td>162.25</td>\n",
              "      <td>38677.24</td>\n",
              "      <td>0.00</td>\n",
              "      <td>1695.56</td>\n",
              "      <td>1695.56</td>\n",
              "      <td>0.00</td>\n",
              "      <td>0.00</td>\n",
              "      <td>organic</td>\n",
              "      <td>2016</td>\n",
              "      <td>Chicago</td>\n",
              "      <td>6</td>\n",
              "      <td>12</td>\n",
              "    </tr>\n",
              "    <tr>\n",
              "      <th>...</th>\n",
              "      <td>...</td>\n",
              "      <td>...</td>\n",
              "      <td>...</td>\n",
              "      <td>...</td>\n",
              "      <td>...</td>\n",
              "      <td>...</td>\n",
              "      <td>...</td>\n",
              "      <td>...</td>\n",
              "      <td>...</td>\n",
              "      <td>...</td>\n",
              "      <td>...</td>\n",
              "      <td>...</td>\n",
              "      <td>...</td>\n",
              "      <td>...</td>\n",
              "      <td>...</td>\n",
              "    </tr>\n",
              "    <tr>\n",
              "      <th>11284</th>\n",
              "      <td>26</td>\n",
              "      <td>1.55</td>\n",
              "      <td>12946.65</td>\n",
              "      <td>2398.15</td>\n",
              "      <td>10206.13</td>\n",
              "      <td>0.00</td>\n",
              "      <td>342.37</td>\n",
              "      <td>342.37</td>\n",
              "      <td>0.00</td>\n",
              "      <td>0.00</td>\n",
              "      <td>organic</td>\n",
              "      <td>2015</td>\n",
              "      <td>SanDiego</td>\n",
              "      <td>6</td>\n",
              "      <td>28</td>\n",
              "    </tr>\n",
              "    <tr>\n",
              "      <th>11964</th>\n",
              "      <td>31</td>\n",
              "      <td>1.55</td>\n",
              "      <td>1193.06</td>\n",
              "      <td>26.72</td>\n",
              "      <td>346.19</td>\n",
              "      <td>0.00</td>\n",
              "      <td>820.15</td>\n",
              "      <td>820.15</td>\n",
              "      <td>0.00</td>\n",
              "      <td>0.00</td>\n",
              "      <td>organic</td>\n",
              "      <td>2016</td>\n",
              "      <td>Albany</td>\n",
              "      <td>5</td>\n",
              "      <td>22</td>\n",
              "    </tr>\n",
              "    <tr>\n",
              "      <th>5390</th>\n",
              "      <td>34</td>\n",
              "      <td>1.31</td>\n",
              "      <td>83407.69</td>\n",
              "      <td>992.24</td>\n",
              "      <td>54950.48</td>\n",
              "      <td>769.07</td>\n",
              "      <td>26695.90</td>\n",
              "      <td>26695.90</td>\n",
              "      <td>0.00</td>\n",
              "      <td>0.00</td>\n",
              "      <td>conventional</td>\n",
              "      <td>2016</td>\n",
              "      <td>Syracuse</td>\n",
              "      <td>5</td>\n",
              "      <td>1</td>\n",
              "    </tr>\n",
              "    <tr>\n",
              "      <th>860</th>\n",
              "      <td>28</td>\n",
              "      <td>1.13</td>\n",
              "      <td>277578.88</td>\n",
              "      <td>42766.16</td>\n",
              "      <td>140403.76</td>\n",
              "      <td>2028.31</td>\n",
              "      <td>92380.65</td>\n",
              "      <td>87952.58</td>\n",
              "      <td>2821.41</td>\n",
              "      <td>1606.66</td>\n",
              "      <td>conventional</td>\n",
              "      <td>2015</td>\n",
              "      <td>HarrisburgScranton</td>\n",
              "      <td>6</td>\n",
              "      <td>14</td>\n",
              "    </tr>\n",
              "    <tr>\n",
              "      <th>15795</th>\n",
              "      <td>47</td>\n",
              "      <td>1.35</td>\n",
              "      <td>3551.43</td>\n",
              "      <td>568.01</td>\n",
              "      <td>1410.33</td>\n",
              "      <td>0.00</td>\n",
              "      <td>1573.09</td>\n",
              "      <td>959.37</td>\n",
              "      <td>613.72</td>\n",
              "      <td>0.00</td>\n",
              "      <td>organic</td>\n",
              "      <td>2017</td>\n",
              "      <td>Indianapolis</td>\n",
              "      <td>2</td>\n",
              "      <td>5</td>\n",
              "    </tr>\n",
              "  </tbody>\n",
              "</table>\n",
              "<p>14599 rows × 15 columns</p>\n",
              "</div>"
            ],
            "text/plain": [
              "       Unnamed: 0  AveragePrice  Total Volume  ...              region  month  day\n",
              "16391           7          1.88       5376.58  ...             Orlando     11   12\n",
              "4990           50          0.81     578610.94  ...            SanDiego      1   10\n",
              "13653           4          2.01       6470.08  ...       PhoenixTucson     11   27\n",
              "2074           46          1.02     145648.40  ...             Roanoke      2    8\n",
              "12377          28          1.53      40535.05  ...             Chicago      6   12\n",
              "...           ...           ...           ...  ...                 ...    ...  ...\n",
              "11284          26          1.55      12946.65  ...            SanDiego      6   28\n",
              "11964          31          1.55       1193.06  ...              Albany      5   22\n",
              "5390           34          1.31      83407.69  ...            Syracuse      5    1\n",
              "860            28          1.13     277578.88  ...  HarrisburgScranton      6   14\n",
              "15795          47          1.35       3551.43  ...        Indianapolis      2    5\n",
              "\n",
              "[14599 rows x 15 columns]"
            ]
          },
          "metadata": {
            "tags": []
          },
          "execution_count": 86
        }
      ]
    },
    {
      "cell_type": "code",
      "metadata": {
        "id": "43hzorMEuIfQ",
        "colab_type": "code",
        "colab": {
          "base_uri": "https://localhost:8080/",
          "height": 452
        },
        "outputId": "8849efd8-aba7-4467-cfd8-a830a1f3ab27"
      },
      "source": [
        "corr = data2.corr()\n",
        "corr"
      ],
      "execution_count": 87,
      "outputs": [
        {
          "output_type": "execute_result",
          "data": {
            "text/html": [
              "<div>\n",
              "<style scoped>\n",
              "    .dataframe tbody tr th:only-of-type {\n",
              "        vertical-align: middle;\n",
              "    }\n",
              "\n",
              "    .dataframe tbody tr th {\n",
              "        vertical-align: top;\n",
              "    }\n",
              "\n",
              "    .dataframe thead th {\n",
              "        text-align: right;\n",
              "    }\n",
              "</style>\n",
              "<table border=\"1\" class=\"dataframe\">\n",
              "  <thead>\n",
              "    <tr style=\"text-align: right;\">\n",
              "      <th></th>\n",
              "      <th>Unnamed: 0</th>\n",
              "      <th>AveragePrice</th>\n",
              "      <th>Total Volume</th>\n",
              "      <th>4046</th>\n",
              "      <th>4225</th>\n",
              "      <th>4770</th>\n",
              "      <th>Total Bags</th>\n",
              "      <th>Small Bags</th>\n",
              "      <th>Large Bags</th>\n",
              "      <th>XLarge Bags</th>\n",
              "      <th>year</th>\n",
              "      <th>month</th>\n",
              "      <th>day</th>\n",
              "    </tr>\n",
              "  </thead>\n",
              "  <tbody>\n",
              "    <tr>\n",
              "      <th>Unnamed: 0</th>\n",
              "      <td>1.000000</td>\n",
              "      <td>-0.124156</td>\n",
              "      <td>0.011285</td>\n",
              "      <td>0.014890</td>\n",
              "      <td>0.016683</td>\n",
              "      <td>0.038565</td>\n",
              "      <td>-0.004327</td>\n",
              "      <td>-0.001975</td>\n",
              "      <td>-0.010606</td>\n",
              "      <td>-0.011003</td>\n",
              "      <td>-0.176927</td>\n",
              "      <td>-0.776122</td>\n",
              "      <td>-0.086640</td>\n",
              "    </tr>\n",
              "    <tr>\n",
              "      <th>AveragePrice</th>\n",
              "      <td>-0.124156</td>\n",
              "      <td>1.000000</td>\n",
              "      <td>-0.194869</td>\n",
              "      <td>-0.211984</td>\n",
              "      <td>-0.173784</td>\n",
              "      <td>-0.180006</td>\n",
              "      <td>-0.178697</td>\n",
              "      <td>-0.176604</td>\n",
              "      <td>-0.173638</td>\n",
              "      <td>-0.118634</td>\n",
              "      <td>0.091883</td>\n",
              "      <td>0.154642</td>\n",
              "      <td>0.020324</td>\n",
              "    </tr>\n",
              "    <tr>\n",
              "      <th>Total Volume</th>\n",
              "      <td>0.011285</td>\n",
              "      <td>-0.194869</td>\n",
              "      <td>1.000000</td>\n",
              "      <td>0.976845</td>\n",
              "      <td>0.974054</td>\n",
              "      <td>0.869199</td>\n",
              "      <td>0.964046</td>\n",
              "      <td>0.968059</td>\n",
              "      <td>0.882444</td>\n",
              "      <td>0.745878</td>\n",
              "      <td>0.013000</td>\n",
              "      <td>-0.018509</td>\n",
              "      <td>-0.004341</td>\n",
              "    </tr>\n",
              "    <tr>\n",
              "      <th>4046</th>\n",
              "      <td>0.014890</td>\n",
              "      <td>-0.211984</td>\n",
              "      <td>0.976845</td>\n",
              "      <td>1.000000</td>\n",
              "      <td>0.922989</td>\n",
              "      <td>0.827669</td>\n",
              "      <td>0.920515</td>\n",
              "      <td>0.925355</td>\n",
              "      <td>0.840607</td>\n",
              "      <td>0.697542</td>\n",
              "      <td>-0.000756</td>\n",
              "      <td>-0.020165</td>\n",
              "      <td>-0.004430</td>\n",
              "    </tr>\n",
              "    <tr>\n",
              "      <th>4225</th>\n",
              "      <td>0.016683</td>\n",
              "      <td>-0.173784</td>\n",
              "      <td>0.974054</td>\n",
              "      <td>0.922989</td>\n",
              "      <td>1.000000</td>\n",
              "      <td>0.884501</td>\n",
              "      <td>0.908151</td>\n",
              "      <td>0.918258</td>\n",
              "      <td>0.812866</td>\n",
              "      <td>0.691372</td>\n",
              "      <td>-0.013627</td>\n",
              "      <td>-0.015592</td>\n",
              "      <td>-0.007776</td>\n",
              "    </tr>\n",
              "    <tr>\n",
              "      <th>4770</th>\n",
              "      <td>0.038565</td>\n",
              "      <td>-0.180006</td>\n",
              "      <td>0.869199</td>\n",
              "      <td>0.827669</td>\n",
              "      <td>0.884501</td>\n",
              "      <td>1.000000</td>\n",
              "      <td>0.791453</td>\n",
              "      <td>0.801168</td>\n",
              "      <td>0.699274</td>\n",
              "      <td>0.689607</td>\n",
              "      <td>-0.039562</td>\n",
              "      <td>-0.029556</td>\n",
              "      <td>-0.005898</td>\n",
              "    </tr>\n",
              "    <tr>\n",
              "      <th>Total Bags</th>\n",
              "      <td>-0.004327</td>\n",
              "      <td>-0.178697</td>\n",
              "      <td>0.964046</td>\n",
              "      <td>0.920515</td>\n",
              "      <td>0.908151</td>\n",
              "      <td>0.791453</td>\n",
              "      <td>1.000000</td>\n",
              "      <td>0.994332</td>\n",
              "      <td>0.943484</td>\n",
              "      <td>0.797861</td>\n",
              "      <td>0.067988</td>\n",
              "      <td>-0.016677</td>\n",
              "      <td>0.000682</td>\n",
              "    </tr>\n",
              "    <tr>\n",
              "      <th>Small Bags</th>\n",
              "      <td>-0.001975</td>\n",
              "      <td>-0.176604</td>\n",
              "      <td>0.968059</td>\n",
              "      <td>0.925355</td>\n",
              "      <td>0.918258</td>\n",
              "      <td>0.801168</td>\n",
              "      <td>0.994332</td>\n",
              "      <td>1.000000</td>\n",
              "      <td>0.903210</td>\n",
              "      <td>0.800809</td>\n",
              "      <td>0.060207</td>\n",
              "      <td>-0.016913</td>\n",
              "      <td>0.001967</td>\n",
              "    </tr>\n",
              "    <tr>\n",
              "      <th>Large Bags</th>\n",
              "      <td>-0.010606</td>\n",
              "      <td>-0.173638</td>\n",
              "      <td>0.882444</td>\n",
              "      <td>0.840607</td>\n",
              "      <td>0.812866</td>\n",
              "      <td>0.699274</td>\n",
              "      <td>0.943484</td>\n",
              "      <td>0.903210</td>\n",
              "      <td>1.000000</td>\n",
              "      <td>0.703410</td>\n",
              "      <td>0.084963</td>\n",
              "      <td>-0.014952</td>\n",
              "      <td>-0.003633</td>\n",
              "    </tr>\n",
              "    <tr>\n",
              "      <th>XLarge Bags</th>\n",
              "      <td>-0.011003</td>\n",
              "      <td>-0.118634</td>\n",
              "      <td>0.745878</td>\n",
              "      <td>0.697542</td>\n",
              "      <td>0.691372</td>\n",
              "      <td>0.689607</td>\n",
              "      <td>0.797861</td>\n",
              "      <td>0.800809</td>\n",
              "      <td>0.703410</td>\n",
              "      <td>1.000000</td>\n",
              "      <td>0.077101</td>\n",
              "      <td>-0.010297</td>\n",
              "      <td>0.005421</td>\n",
              "    </tr>\n",
              "    <tr>\n",
              "      <th>year</th>\n",
              "      <td>-0.176927</td>\n",
              "      <td>0.091883</td>\n",
              "      <td>0.013000</td>\n",
              "      <td>-0.000756</td>\n",
              "      <td>-0.013627</td>\n",
              "      <td>-0.039562</td>\n",
              "      <td>0.067988</td>\n",
              "      <td>0.060207</td>\n",
              "      <td>0.084963</td>\n",
              "      <td>0.077101</td>\n",
              "      <td>1.000000</td>\n",
              "      <td>-0.173958</td>\n",
              "      <td>0.007617</td>\n",
              "    </tr>\n",
              "    <tr>\n",
              "      <th>month</th>\n",
              "      <td>-0.776122</td>\n",
              "      <td>0.154642</td>\n",
              "      <td>-0.018509</td>\n",
              "      <td>-0.020165</td>\n",
              "      <td>-0.015592</td>\n",
              "      <td>-0.029556</td>\n",
              "      <td>-0.016677</td>\n",
              "      <td>-0.016913</td>\n",
              "      <td>-0.014952</td>\n",
              "      <td>-0.010297</td>\n",
              "      <td>-0.173958</td>\n",
              "      <td>1.000000</td>\n",
              "      <td>0.008980</td>\n",
              "    </tr>\n",
              "    <tr>\n",
              "      <th>day</th>\n",
              "      <td>-0.086640</td>\n",
              "      <td>0.020324</td>\n",
              "      <td>-0.004341</td>\n",
              "      <td>-0.004430</td>\n",
              "      <td>-0.007776</td>\n",
              "      <td>-0.005898</td>\n",
              "      <td>0.000682</td>\n",
              "      <td>0.001967</td>\n",
              "      <td>-0.003633</td>\n",
              "      <td>0.005421</td>\n",
              "      <td>0.007617</td>\n",
              "      <td>0.008980</td>\n",
              "      <td>1.000000</td>\n",
              "    </tr>\n",
              "  </tbody>\n",
              "</table>\n",
              "</div>"
            ],
            "text/plain": [
              "              Unnamed: 0  AveragePrice  ...     month       day\n",
              "Unnamed: 0      1.000000     -0.124156  ... -0.776122 -0.086640\n",
              "AveragePrice   -0.124156      1.000000  ...  0.154642  0.020324\n",
              "Total Volume    0.011285     -0.194869  ... -0.018509 -0.004341\n",
              "4046            0.014890     -0.211984  ... -0.020165 -0.004430\n",
              "4225            0.016683     -0.173784  ... -0.015592 -0.007776\n",
              "4770            0.038565     -0.180006  ... -0.029556 -0.005898\n",
              "Total Bags     -0.004327     -0.178697  ... -0.016677  0.000682\n",
              "Small Bags     -0.001975     -0.176604  ... -0.016913  0.001967\n",
              "Large Bags     -0.010606     -0.173638  ... -0.014952 -0.003633\n",
              "XLarge Bags    -0.011003     -0.118634  ... -0.010297  0.005421\n",
              "year           -0.176927      0.091883  ... -0.173958  0.007617\n",
              "month          -0.776122      0.154642  ...  1.000000  0.008980\n",
              "day            -0.086640      0.020324  ...  0.008980  1.000000\n",
              "\n",
              "[13 rows x 13 columns]"
            ]
          },
          "metadata": {
            "tags": []
          },
          "execution_count": 87
        }
      ]
    },
    {
      "cell_type": "code",
      "metadata": {
        "id": "s5RzKwaduJY3",
        "colab_type": "code",
        "colab": {
          "base_uri": "https://localhost:8080/",
          "height": 269
        },
        "outputId": "64848984-5374-4838-b3bd-b2cd11d2b7c3"
      },
      "source": [
        "corr['AveragePrice'].sort_values()"
      ],
      "execution_count": 88,
      "outputs": [
        {
          "output_type": "execute_result",
          "data": {
            "text/plain": [
              "4046           -0.211984\n",
              "Total Volume   -0.194869\n",
              "4770           -0.180006\n",
              "Total Bags     -0.178697\n",
              "Small Bags     -0.176604\n",
              "4225           -0.173784\n",
              "Large Bags     -0.173638\n",
              "Unnamed: 0     -0.124156\n",
              "XLarge Bags    -0.118634\n",
              "day             0.020324\n",
              "year            0.091883\n",
              "month           0.154642\n",
              "AveragePrice    1.000000\n",
              "Name: AveragePrice, dtype: float64"
            ]
          },
          "metadata": {
            "tags": []
          },
          "execution_count": 88
        }
      ]
    },
    {
      "cell_type": "code",
      "metadata": {
        "id": "ecScS7WBuNG3",
        "colab_type": "code",
        "colab": {
          "base_uri": "https://localhost:8080/",
          "height": 53
        },
        "outputId": "d86d30d3-0f6d-477e-edf2-768f4c0f1819"
      },
      "source": [
        "from sklearn.preprocessing import OneHotEncoder\n",
        "\n",
        "cat_encoder = OneHotEncoder()\n",
        "data_region = cat_encoder.fit_transform(data2[['region']])\n",
        "data_region"
      ],
      "execution_count": 89,
      "outputs": [
        {
          "output_type": "execute_result",
          "data": {
            "text/plain": [
              "<14599x54 sparse matrix of type '<class 'numpy.float64'>'\n",
              "\twith 14599 stored elements in Compressed Sparse Row format>"
            ]
          },
          "metadata": {
            "tags": []
          },
          "execution_count": 89
        }
      ]
    },
    {
      "cell_type": "code",
      "metadata": {
        "id": "jMgG0fWFucWJ",
        "colab_type": "code",
        "colab": {
          "base_uri": "https://localhost:8080/",
          "height": 143
        },
        "outputId": "9484e558-7075-4c08-fe6a-45f4654dfb61"
      },
      "source": [
        "data_region.toarray()"
      ],
      "execution_count": 90,
      "outputs": [
        {
          "output_type": "execute_result",
          "data": {
            "text/plain": [
              "array([[0., 0., 0., ..., 0., 0., 0.],\n",
              "       [0., 0., 0., ..., 0., 0., 0.],\n",
              "       [0., 0., 0., ..., 0., 0., 0.],\n",
              "       ...,\n",
              "       [0., 0., 0., ..., 0., 0., 0.],\n",
              "       [0., 0., 0., ..., 0., 0., 0.],\n",
              "       [0., 0., 0., ..., 0., 0., 0.]])"
            ]
          },
          "metadata": {
            "tags": []
          },
          "execution_count": 90
        }
      ]
    },
    {
      "cell_type": "code",
      "metadata": {
        "id": "flzmGE1awPLi",
        "colab_type": "code",
        "colab": {}
      },
      "source": [
        "data_num = data2.drop(\"region\",axis=1)\n",
        "data_num = data_num.drop(\"type\",axis=1)"
      ],
      "execution_count": 91,
      "outputs": []
    },
    {
      "cell_type": "code",
      "metadata": {
        "id": "ntwS51TkwAxu",
        "colab_type": "code",
        "colab": {
          "base_uri": "https://localhost:8080/",
          "height": 251
        },
        "outputId": "4f3f7965-d274-40d8-bc10-ae7cf01f14c6"
      },
      "source": [
        "num_attribute = list(data_num)\n",
        "num_attribute"
      ],
      "execution_count": 92,
      "outputs": [
        {
          "output_type": "execute_result",
          "data": {
            "text/plain": [
              "['Unnamed: 0',\n",
              " 'AveragePrice',\n",
              " 'Total Volume',\n",
              " '4046',\n",
              " '4225',\n",
              " '4770',\n",
              " 'Total Bags',\n",
              " 'Small Bags',\n",
              " 'Large Bags',\n",
              " 'XLarge Bags',\n",
              " 'year',\n",
              " 'month',\n",
              " 'day']"
            ]
          },
          "metadata": {
            "tags": []
          },
          "execution_count": 92
        }
      ]
    },
    {
      "cell_type": "code",
      "metadata": {
        "id": "kaMLGWCYwtdA",
        "colab_type": "code",
        "colab": {
          "base_uri": "https://localhost:8080/",
          "height": 419
        },
        "outputId": "78367fee-3bcb-4648-e46b-e73c55b66b9d"
      },
      "source": [
        "data_num"
      ],
      "execution_count": 93,
      "outputs": [
        {
          "output_type": "execute_result",
          "data": {
            "text/html": [
              "<div>\n",
              "<style scoped>\n",
              "    .dataframe tbody tr th:only-of-type {\n",
              "        vertical-align: middle;\n",
              "    }\n",
              "\n",
              "    .dataframe tbody tr th {\n",
              "        vertical-align: top;\n",
              "    }\n",
              "\n",
              "    .dataframe thead th {\n",
              "        text-align: right;\n",
              "    }\n",
              "</style>\n",
              "<table border=\"1\" class=\"dataframe\">\n",
              "  <thead>\n",
              "    <tr style=\"text-align: right;\">\n",
              "      <th></th>\n",
              "      <th>Unnamed: 0</th>\n",
              "      <th>AveragePrice</th>\n",
              "      <th>Total Volume</th>\n",
              "      <th>4046</th>\n",
              "      <th>4225</th>\n",
              "      <th>4770</th>\n",
              "      <th>Total Bags</th>\n",
              "      <th>Small Bags</th>\n",
              "      <th>Large Bags</th>\n",
              "      <th>XLarge Bags</th>\n",
              "      <th>year</th>\n",
              "      <th>month</th>\n",
              "      <th>day</th>\n",
              "    </tr>\n",
              "  </thead>\n",
              "  <tbody>\n",
              "    <tr>\n",
              "      <th>16391</th>\n",
              "      <td>7</td>\n",
              "      <td>1.88</td>\n",
              "      <td>5376.58</td>\n",
              "      <td>147.41</td>\n",
              "      <td>871.40</td>\n",
              "      <td>0.00</td>\n",
              "      <td>4357.77</td>\n",
              "      <td>4351.10</td>\n",
              "      <td>6.67</td>\n",
              "      <td>0.00</td>\n",
              "      <td>2017</td>\n",
              "      <td>11</td>\n",
              "      <td>12</td>\n",
              "    </tr>\n",
              "    <tr>\n",
              "      <th>4990</th>\n",
              "      <td>50</td>\n",
              "      <td>0.81</td>\n",
              "      <td>578610.94</td>\n",
              "      <td>155537.61</td>\n",
              "      <td>153030.46</td>\n",
              "      <td>21523.37</td>\n",
              "      <td>248519.50</td>\n",
              "      <td>144796.06</td>\n",
              "      <td>103723.44</td>\n",
              "      <td>0.00</td>\n",
              "      <td>2016</td>\n",
              "      <td>1</td>\n",
              "      <td>10</td>\n",
              "    </tr>\n",
              "    <tr>\n",
              "      <th>13653</th>\n",
              "      <td>4</td>\n",
              "      <td>2.01</td>\n",
              "      <td>6470.08</td>\n",
              "      <td>2026.07</td>\n",
              "      <td>2529.20</td>\n",
              "      <td>0.00</td>\n",
              "      <td>1914.81</td>\n",
              "      <td>1848.75</td>\n",
              "      <td>66.06</td>\n",
              "      <td>0.00</td>\n",
              "      <td>2016</td>\n",
              "      <td>11</td>\n",
              "      <td>27</td>\n",
              "    </tr>\n",
              "    <tr>\n",
              "      <th>2074</th>\n",
              "      <td>46</td>\n",
              "      <td>1.02</td>\n",
              "      <td>145648.40</td>\n",
              "      <td>78195.76</td>\n",
              "      <td>38763.75</td>\n",
              "      <td>134.25</td>\n",
              "      <td>28554.64</td>\n",
              "      <td>25981.67</td>\n",
              "      <td>2572.97</td>\n",
              "      <td>0.00</td>\n",
              "      <td>2015</td>\n",
              "      <td>2</td>\n",
              "      <td>8</td>\n",
              "    </tr>\n",
              "    <tr>\n",
              "      <th>12377</th>\n",
              "      <td>28</td>\n",
              "      <td>1.53</td>\n",
              "      <td>40535.05</td>\n",
              "      <td>162.25</td>\n",
              "      <td>38677.24</td>\n",
              "      <td>0.00</td>\n",
              "      <td>1695.56</td>\n",
              "      <td>1695.56</td>\n",
              "      <td>0.00</td>\n",
              "      <td>0.00</td>\n",
              "      <td>2016</td>\n",
              "      <td>6</td>\n",
              "      <td>12</td>\n",
              "    </tr>\n",
              "    <tr>\n",
              "      <th>...</th>\n",
              "      <td>...</td>\n",
              "      <td>...</td>\n",
              "      <td>...</td>\n",
              "      <td>...</td>\n",
              "      <td>...</td>\n",
              "      <td>...</td>\n",
              "      <td>...</td>\n",
              "      <td>...</td>\n",
              "      <td>...</td>\n",
              "      <td>...</td>\n",
              "      <td>...</td>\n",
              "      <td>...</td>\n",
              "      <td>...</td>\n",
              "    </tr>\n",
              "    <tr>\n",
              "      <th>11284</th>\n",
              "      <td>26</td>\n",
              "      <td>1.55</td>\n",
              "      <td>12946.65</td>\n",
              "      <td>2398.15</td>\n",
              "      <td>10206.13</td>\n",
              "      <td>0.00</td>\n",
              "      <td>342.37</td>\n",
              "      <td>342.37</td>\n",
              "      <td>0.00</td>\n",
              "      <td>0.00</td>\n",
              "      <td>2015</td>\n",
              "      <td>6</td>\n",
              "      <td>28</td>\n",
              "    </tr>\n",
              "    <tr>\n",
              "      <th>11964</th>\n",
              "      <td>31</td>\n",
              "      <td>1.55</td>\n",
              "      <td>1193.06</td>\n",
              "      <td>26.72</td>\n",
              "      <td>346.19</td>\n",
              "      <td>0.00</td>\n",
              "      <td>820.15</td>\n",
              "      <td>820.15</td>\n",
              "      <td>0.00</td>\n",
              "      <td>0.00</td>\n",
              "      <td>2016</td>\n",
              "      <td>5</td>\n",
              "      <td>22</td>\n",
              "    </tr>\n",
              "    <tr>\n",
              "      <th>5390</th>\n",
              "      <td>34</td>\n",
              "      <td>1.31</td>\n",
              "      <td>83407.69</td>\n",
              "      <td>992.24</td>\n",
              "      <td>54950.48</td>\n",
              "      <td>769.07</td>\n",
              "      <td>26695.90</td>\n",
              "      <td>26695.90</td>\n",
              "      <td>0.00</td>\n",
              "      <td>0.00</td>\n",
              "      <td>2016</td>\n",
              "      <td>5</td>\n",
              "      <td>1</td>\n",
              "    </tr>\n",
              "    <tr>\n",
              "      <th>860</th>\n",
              "      <td>28</td>\n",
              "      <td>1.13</td>\n",
              "      <td>277578.88</td>\n",
              "      <td>42766.16</td>\n",
              "      <td>140403.76</td>\n",
              "      <td>2028.31</td>\n",
              "      <td>92380.65</td>\n",
              "      <td>87952.58</td>\n",
              "      <td>2821.41</td>\n",
              "      <td>1606.66</td>\n",
              "      <td>2015</td>\n",
              "      <td>6</td>\n",
              "      <td>14</td>\n",
              "    </tr>\n",
              "    <tr>\n",
              "      <th>15795</th>\n",
              "      <td>47</td>\n",
              "      <td>1.35</td>\n",
              "      <td>3551.43</td>\n",
              "      <td>568.01</td>\n",
              "      <td>1410.33</td>\n",
              "      <td>0.00</td>\n",
              "      <td>1573.09</td>\n",
              "      <td>959.37</td>\n",
              "      <td>613.72</td>\n",
              "      <td>0.00</td>\n",
              "      <td>2017</td>\n",
              "      <td>2</td>\n",
              "      <td>5</td>\n",
              "    </tr>\n",
              "  </tbody>\n",
              "</table>\n",
              "<p>14599 rows × 13 columns</p>\n",
              "</div>"
            ],
            "text/plain": [
              "       Unnamed: 0  AveragePrice  Total Volume  ...  year  month  day\n",
              "16391           7          1.88       5376.58  ...  2017     11   12\n",
              "4990           50          0.81     578610.94  ...  2016      1   10\n",
              "13653           4          2.01       6470.08  ...  2016     11   27\n",
              "2074           46          1.02     145648.40  ...  2015      2    8\n",
              "12377          28          1.53      40535.05  ...  2016      6   12\n",
              "...           ...           ...           ...  ...   ...    ...  ...\n",
              "11284          26          1.55      12946.65  ...  2015      6   28\n",
              "11964          31          1.55       1193.06  ...  2016      5   22\n",
              "5390           34          1.31      83407.69  ...  2016      5    1\n",
              "860            28          1.13     277578.88  ...  2015      6   14\n",
              "15795          47          1.35       3551.43  ...  2017      2    5\n",
              "\n",
              "[14599 rows x 13 columns]"
            ]
          },
          "metadata": {
            "tags": []
          },
          "execution_count": 93
        }
      ]
    },
    {
      "cell_type": "code",
      "metadata": {
        "id": "UuYVNaPRwhe6",
        "colab_type": "code",
        "colab": {}
      },
      "source": [
        "from sklearn.pipeline import Pipeline\n",
        "from sklearn.preprocessing import StandardScaler\n",
        "\n",
        "num_pipeline = Pipeline([\n",
        "        ('std_scaler', StandardScaler()),\n",
        "    ])\n",
        "\n",
        "data_num_tr = num_pipeline.fit_transform(data_num)"
      ],
      "execution_count": 94,
      "outputs": []
    },
    {
      "cell_type": "code",
      "metadata": {
        "id": "ee9oJXzzvA4a",
        "colab_type": "code",
        "colab": {
          "base_uri": "https://localhost:8080/",
          "height": 53
        },
        "outputId": "2accdcea-041e-4ef0-e58b-ba6a91f9f7d3"
      },
      "source": [
        "from sklearn.compose import ColumnTransformer\n",
        "# 첫번째 변수는 수치화가 된 컬럼이고 두번 째 변수는 텍스트형태로 진행되어있으니 원핫인코딩을 진행합니다.\n",
        "num_attribs = list(data_num)\n",
        "cat_attribs = [\"region\",'type']\n",
        "\n",
        "full_pipeline = ColumnTransformer([\n",
        "        (\"num\", num_pipeline, num_attribs),\n",
        "        (\"cat\", OneHotEncoder(), cat_attribs),\n",
        "    ])\n",
        "\n",
        "housing_prepared = full_pipeline.fit_transform(data2)\n",
        "housing_prepared"
      ],
      "execution_count": 95,
      "outputs": [
        {
          "output_type": "execute_result",
          "data": {
            "text/plain": [
              "<14599x69 sparse matrix of type '<class 'numpy.float64'>'\n",
              "\twith 218985 stored elements in Compressed Sparse Row format>"
            ]
          },
          "metadata": {
            "tags": []
          },
          "execution_count": 95
        }
      ]
    },
    {
      "cell_type": "code",
      "metadata": {
        "id": "TBwWfCbyyqzC",
        "colab_type": "code",
        "colab": {
          "base_uri": "https://localhost:8080/",
          "height": 53
        },
        "outputId": "a34bc8fa-e389-423f-b6f8-4f4ba8640da8"
      },
      "source": [
        "housing_prepared"
      ],
      "execution_count": 96,
      "outputs": [
        {
          "output_type": "execute_result",
          "data": {
            "text/plain": [
              "<14599x69 sparse matrix of type '<class 'numpy.float64'>'\n",
              "\twith 218985 stored elements in Compressed Sparse Row format>"
            ]
          },
          "metadata": {
            "tags": []
          },
          "execution_count": 96
        }
      ]
    },
    {
      "cell_type": "code",
      "metadata": {
        "id": "WdL97Fqsyz65",
        "colab_type": "code",
        "colab": {}
      },
      "source": [
        "data_labels = train_set['AveragePrice'].copy()"
      ],
      "execution_count": 97,
      "outputs": []
    },
    {
      "cell_type": "code",
      "metadata": {
        "id": "ME2VRh6VxgL0",
        "colab_type": "code",
        "colab": {
          "base_uri": "https://localhost:8080/",
          "height": 419
        },
        "outputId": "d56ac81a-365f-4c5a-95c4-1fed82acc68b"
      },
      "source": [
        "data2 = train_set.copy()\n",
        "data2"
      ],
      "execution_count": 72,
      "outputs": [
        {
          "output_type": "execute_result",
          "data": {
            "text/html": [
              "<div>\n",
              "<style scoped>\n",
              "    .dataframe tbody tr th:only-of-type {\n",
              "        vertical-align: middle;\n",
              "    }\n",
              "\n",
              "    .dataframe tbody tr th {\n",
              "        vertical-align: top;\n",
              "    }\n",
              "\n",
              "    .dataframe thead th {\n",
              "        text-align: right;\n",
              "    }\n",
              "</style>\n",
              "<table border=\"1\" class=\"dataframe\">\n",
              "  <thead>\n",
              "    <tr style=\"text-align: right;\">\n",
              "      <th></th>\n",
              "      <th>Unnamed: 0</th>\n",
              "      <th>Date</th>\n",
              "      <th>AveragePrice</th>\n",
              "      <th>Total Volume</th>\n",
              "      <th>4046</th>\n",
              "      <th>4225</th>\n",
              "      <th>4770</th>\n",
              "      <th>Total Bags</th>\n",
              "      <th>Small Bags</th>\n",
              "      <th>Large Bags</th>\n",
              "      <th>XLarge Bags</th>\n",
              "      <th>type</th>\n",
              "      <th>year</th>\n",
              "      <th>region</th>\n",
              "    </tr>\n",
              "  </thead>\n",
              "  <tbody>\n",
              "    <tr>\n",
              "      <th>16391</th>\n",
              "      <td>7</td>\n",
              "      <td>2017-11-12</td>\n",
              "      <td>1.88</td>\n",
              "      <td>5376.58</td>\n",
              "      <td>147.41</td>\n",
              "      <td>871.40</td>\n",
              "      <td>0.00</td>\n",
              "      <td>4357.77</td>\n",
              "      <td>4351.10</td>\n",
              "      <td>6.67</td>\n",
              "      <td>0.00</td>\n",
              "      <td>organic</td>\n",
              "      <td>2017</td>\n",
              "      <td>Orlando</td>\n",
              "    </tr>\n",
              "    <tr>\n",
              "      <th>4990</th>\n",
              "      <td>50</td>\n",
              "      <td>2016-01-10</td>\n",
              "      <td>0.81</td>\n",
              "      <td>578610.94</td>\n",
              "      <td>155537.61</td>\n",
              "      <td>153030.46</td>\n",
              "      <td>21523.37</td>\n",
              "      <td>248519.50</td>\n",
              "      <td>144796.06</td>\n",
              "      <td>103723.44</td>\n",
              "      <td>0.00</td>\n",
              "      <td>conventional</td>\n",
              "      <td>2016</td>\n",
              "      <td>SanDiego</td>\n",
              "    </tr>\n",
              "    <tr>\n",
              "      <th>13653</th>\n",
              "      <td>4</td>\n",
              "      <td>2016-11-27</td>\n",
              "      <td>2.01</td>\n",
              "      <td>6470.08</td>\n",
              "      <td>2026.07</td>\n",
              "      <td>2529.20</td>\n",
              "      <td>0.00</td>\n",
              "      <td>1914.81</td>\n",
              "      <td>1848.75</td>\n",
              "      <td>66.06</td>\n",
              "      <td>0.00</td>\n",
              "      <td>organic</td>\n",
              "      <td>2016</td>\n",
              "      <td>PhoenixTucson</td>\n",
              "    </tr>\n",
              "    <tr>\n",
              "      <th>2074</th>\n",
              "      <td>46</td>\n",
              "      <td>2015-02-08</td>\n",
              "      <td>1.02</td>\n",
              "      <td>145648.40</td>\n",
              "      <td>78195.76</td>\n",
              "      <td>38763.75</td>\n",
              "      <td>134.25</td>\n",
              "      <td>28554.64</td>\n",
              "      <td>25981.67</td>\n",
              "      <td>2572.97</td>\n",
              "      <td>0.00</td>\n",
              "      <td>conventional</td>\n",
              "      <td>2015</td>\n",
              "      <td>Roanoke</td>\n",
              "    </tr>\n",
              "    <tr>\n",
              "      <th>12377</th>\n",
              "      <td>28</td>\n",
              "      <td>2016-06-12</td>\n",
              "      <td>1.53</td>\n",
              "      <td>40535.05</td>\n",
              "      <td>162.25</td>\n",
              "      <td>38677.24</td>\n",
              "      <td>0.00</td>\n",
              "      <td>1695.56</td>\n",
              "      <td>1695.56</td>\n",
              "      <td>0.00</td>\n",
              "      <td>0.00</td>\n",
              "      <td>organic</td>\n",
              "      <td>2016</td>\n",
              "      <td>Chicago</td>\n",
              "    </tr>\n",
              "    <tr>\n",
              "      <th>...</th>\n",
              "      <td>...</td>\n",
              "      <td>...</td>\n",
              "      <td>...</td>\n",
              "      <td>...</td>\n",
              "      <td>...</td>\n",
              "      <td>...</td>\n",
              "      <td>...</td>\n",
              "      <td>...</td>\n",
              "      <td>...</td>\n",
              "      <td>...</td>\n",
              "      <td>...</td>\n",
              "      <td>...</td>\n",
              "      <td>...</td>\n",
              "      <td>...</td>\n",
              "    </tr>\n",
              "    <tr>\n",
              "      <th>11284</th>\n",
              "      <td>26</td>\n",
              "      <td>2015-06-28</td>\n",
              "      <td>1.55</td>\n",
              "      <td>12946.65</td>\n",
              "      <td>2398.15</td>\n",
              "      <td>10206.13</td>\n",
              "      <td>0.00</td>\n",
              "      <td>342.37</td>\n",
              "      <td>342.37</td>\n",
              "      <td>0.00</td>\n",
              "      <td>0.00</td>\n",
              "      <td>organic</td>\n",
              "      <td>2015</td>\n",
              "      <td>SanDiego</td>\n",
              "    </tr>\n",
              "    <tr>\n",
              "      <th>11964</th>\n",
              "      <td>31</td>\n",
              "      <td>2016-05-22</td>\n",
              "      <td>1.55</td>\n",
              "      <td>1193.06</td>\n",
              "      <td>26.72</td>\n",
              "      <td>346.19</td>\n",
              "      <td>0.00</td>\n",
              "      <td>820.15</td>\n",
              "      <td>820.15</td>\n",
              "      <td>0.00</td>\n",
              "      <td>0.00</td>\n",
              "      <td>organic</td>\n",
              "      <td>2016</td>\n",
              "      <td>Albany</td>\n",
              "    </tr>\n",
              "    <tr>\n",
              "      <th>5390</th>\n",
              "      <td>34</td>\n",
              "      <td>2016-05-01</td>\n",
              "      <td>1.31</td>\n",
              "      <td>83407.69</td>\n",
              "      <td>992.24</td>\n",
              "      <td>54950.48</td>\n",
              "      <td>769.07</td>\n",
              "      <td>26695.90</td>\n",
              "      <td>26695.90</td>\n",
              "      <td>0.00</td>\n",
              "      <td>0.00</td>\n",
              "      <td>conventional</td>\n",
              "      <td>2016</td>\n",
              "      <td>Syracuse</td>\n",
              "    </tr>\n",
              "    <tr>\n",
              "      <th>860</th>\n",
              "      <td>28</td>\n",
              "      <td>2015-06-14</td>\n",
              "      <td>1.13</td>\n",
              "      <td>277578.88</td>\n",
              "      <td>42766.16</td>\n",
              "      <td>140403.76</td>\n",
              "      <td>2028.31</td>\n",
              "      <td>92380.65</td>\n",
              "      <td>87952.58</td>\n",
              "      <td>2821.41</td>\n",
              "      <td>1606.66</td>\n",
              "      <td>conventional</td>\n",
              "      <td>2015</td>\n",
              "      <td>HarrisburgScranton</td>\n",
              "    </tr>\n",
              "    <tr>\n",
              "      <th>15795</th>\n",
              "      <td>47</td>\n",
              "      <td>2017-02-05</td>\n",
              "      <td>1.35</td>\n",
              "      <td>3551.43</td>\n",
              "      <td>568.01</td>\n",
              "      <td>1410.33</td>\n",
              "      <td>0.00</td>\n",
              "      <td>1573.09</td>\n",
              "      <td>959.37</td>\n",
              "      <td>613.72</td>\n",
              "      <td>0.00</td>\n",
              "      <td>organic</td>\n",
              "      <td>2017</td>\n",
              "      <td>Indianapolis</td>\n",
              "    </tr>\n",
              "  </tbody>\n",
              "</table>\n",
              "<p>14599 rows × 14 columns</p>\n",
              "</div>"
            ],
            "text/plain": [
              "       Unnamed: 0        Date  ...  year              region\n",
              "16391           7  2017-11-12  ...  2017             Orlando\n",
              "4990           50  2016-01-10  ...  2016            SanDiego\n",
              "13653           4  2016-11-27  ...  2016       PhoenixTucson\n",
              "2074           46  2015-02-08  ...  2015             Roanoke\n",
              "12377          28  2016-06-12  ...  2016             Chicago\n",
              "...           ...         ...  ...   ...                 ...\n",
              "11284          26  2015-06-28  ...  2015            SanDiego\n",
              "11964          31  2016-05-22  ...  2016              Albany\n",
              "5390           34  2016-05-01  ...  2016            Syracuse\n",
              "860            28  2015-06-14  ...  2015  HarrisburgScranton\n",
              "15795          47  2017-02-05  ...  2017        Indianapolis\n",
              "\n",
              "[14599 rows x 14 columns]"
            ]
          },
          "metadata": {
            "tags": []
          },
          "execution_count": 72
        }
      ]
    },
    {
      "cell_type": "code",
      "metadata": {
        "id": "E2kpOTqCy9wY",
        "colab_type": "code",
        "colab": {
          "base_uri": "https://localhost:8080/",
          "height": 35
        },
        "outputId": "e732f5b3-eea8-4a9f-fb4c-e292f6147724"
      },
      "source": [
        "\n",
        "from sklearn.linear_model import LinearRegression\n",
        "lin_reg = LinearRegression()\n",
        "lin_reg.fit(housing_prepared, data_labels)\n",
        "print(lin_reg.score(housing_prepared,data_labels))"
      ],
      "execution_count": 108,
      "outputs": [
        {
          "output_type": "stream",
          "text": [
            "0.9999999999999989\n"
          ],
          "name": "stdout"
        }
      ]
    },
    {
      "cell_type": "code",
      "metadata": {
        "id": "tUuHpBTdy_5Y",
        "colab_type": "code",
        "colab": {
          "base_uri": "https://localhost:8080/",
          "height": 35
        },
        "outputId": "7b66a220-91c3-4989-c709-75096b33a182"
      },
      "source": [
        "some_data = data2.iloc[:5]\n",
        "some_labels = data_labels.iloc[:5]\n",
        "some_data_prepared = full_pipeline.transform(some_data)\n",
        "\n",
        "print(\"예측:\", lin_reg.predict(some_data_prepared))"
      ],
      "execution_count": 103,
      "outputs": [
        {
          "output_type": "stream",
          "text": [
            "예측: [1.88       0.81       2.00999999 1.02       1.53000001]\n"
          ],
          "name": "stdout"
        }
      ]
    },
    {
      "cell_type": "code",
      "metadata": {
        "id": "2zzZNcHdzIEC",
        "colab_type": "code",
        "colab": {
          "base_uri": "https://localhost:8080/",
          "height": 35
        },
        "outputId": "bba87df7-9a11-433c-8d35-14a41919d7e9"
      },
      "source": [
        "print(\"레이블:\", list(some_labels))\n"
      ],
      "execution_count": 104,
      "outputs": [
        {
          "output_type": "stream",
          "text": [
            "레이블: [1.88, 0.81, 2.01, 1.02, 1.53]\n"
          ],
          "name": "stdout"
        }
      ]
    },
    {
      "cell_type": "code",
      "metadata": {
        "id": "eOpRjTMmzXT5",
        "colab_type": "code",
        "colab": {
          "base_uri": "https://localhost:8080/",
          "height": 35
        },
        "outputId": "83f18375-3100-4794-a58e-608e3a592544"
      },
      "source": [
        "from sklearn.metrics import mean_squared_error\n",
        "\n",
        "housing_predictions = lin_reg.predict(housing_prepared)\n",
        "lin_mse = mean_squared_error(data_labels, housing_predictions)\n",
        "lin_rmse = np.sqrt(lin_mse)\n",
        "lin_rmse"
      ],
      "execution_count": 105,
      "outputs": [
        {
          "output_type": "execute_result",
          "data": {
            "text/plain": [
              "1.3849717107020106e-08"
            ]
          },
          "metadata": {
            "tags": []
          },
          "execution_count": 105
        }
      ]
    },
    {
      "cell_type": "code",
      "metadata": {
        "id": "pEHO9UaRzegp",
        "colab_type": "code",
        "colab": {
          "base_uri": "https://localhost:8080/",
          "height": 35
        },
        "outputId": "b520414e-e7cf-4487-d7dc-55645e68a524"
      },
      "source": [
        "from sklearn.tree import DecisionTreeRegressor\n",
        "\n",
        "tree_reg = DecisionTreeRegressor(random_state=42)\n",
        "tree_reg.fit(housing_prepared, data_labels)\n",
        "\n",
        "housing_predictions = tree_reg.predict(housing_prepared)\n",
        "tree_mse = mean_squared_error(data_labels, housing_predictions)\n",
        "tree_rmse = np.sqrt(tree_mse)\n",
        "tree_rmse\n",
        "#결정트리로 알아보도록합니다."
      ],
      "execution_count": 106,
      "outputs": [
        {
          "output_type": "execute_result",
          "data": {
            "text/plain": [
              "2.085227831491496e-15"
            ]
          },
          "metadata": {
            "tags": []
          },
          "execution_count": 106
        }
      ]
    },
    {
      "cell_type": "code",
      "metadata": {
        "id": "gpMEChdNzqEK",
        "colab_type": "code",
        "colab": {
          "base_uri": "https://localhost:8080/",
          "height": 35
        },
        "outputId": "cd81249d-7c3f-4385-9beb-95d7dd8c2e81"
      },
      "source": [
        "some_data = data2.iloc[:5]\n",
        "some_labels = data_labels.iloc[:5]\n",
        "some_data_prepared = full_pipeline.transform(some_data)\n",
        "\n",
        "print(\"예측:\", lin_reg.predict(some_data_prepared))"
      ],
      "execution_count": 107,
      "outputs": [
        {
          "output_type": "stream",
          "text": [
            "예측: [1.88       0.81       2.00999999 1.02       1.53000001]\n"
          ],
          "name": "stdout"
        }
      ]
    },
    {
      "cell_type": "code",
      "metadata": {
        "id": "2WuI98z80AH-",
        "colab_type": "code",
        "colab": {}
      },
      "source": [
        ""
      ],
      "execution_count": null,
      "outputs": []
    }
  ]
}