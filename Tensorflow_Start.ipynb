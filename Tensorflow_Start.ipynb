{
  "nbformat": 4,
  "nbformat_minor": 0,
  "metadata": {
    "colab": {
      "name": "Tensorflow_Start",
      "provenance": [],
      "collapsed_sections": []
    },
    "kernelspec": {
      "name": "python3",
      "display_name": "Python 3"
    }
  },
  "cells": [
    {
      "cell_type": "code",
      "metadata": {
        "id": "L4hZ0IL6bZ40",
        "colab_type": "code",
        "colab": {
          "base_uri": "https://localhost:8080/",
          "height": 35
        },
        "outputId": "8f1a49c7-a677-4475-bc60-f6aaf278a9d9"
      },
      "source": [
        "import tensorflow as tf\n",
        "from tensorflow import keras\n",
        "\n",
        "tf.__version__\n",
        "#텐서플로우 버전은 2.2.0을 사용합니다"
      ],
      "execution_count": null,
      "outputs": [
        {
          "output_type": "execute_result",
          "data": {
            "application/vnd.google.colaboratory.intrinsic+json": {
              "type": "string"
            },
            "text/plain": [
              "'2.2.0'"
            ]
          },
          "metadata": {
            "tags": []
          },
          "execution_count": 1
        }
      ]
    },
    {
      "cell_type": "code",
      "metadata": {
        "id": "h0VsV7CJcAgZ",
        "colab_type": "code",
        "colab": {
          "base_uri": "https://localhost:8080/",
          "height": 35
        },
        "outputId": "1ee94b7e-b44f-4b68-8327-e7c82ee1165a"
      },
      "source": [
        "keras.__version__\n",
        "# 케라스 버전은 2.3.0버전을 이용합니다."
      ],
      "execution_count": null,
      "outputs": [
        {
          "output_type": "execute_result",
          "data": {
            "application/vnd.google.colaboratory.intrinsic+json": {
              "type": "string"
            },
            "text/plain": [
              "'2.3.0-tf'"
            ]
          },
          "metadata": {
            "tags": []
          },
          "execution_count": 2
        }
      ]
    },
    {
      "cell_type": "code",
      "metadata": {
        "id": "B0t3FYkCcDYz",
        "colab_type": "code",
        "colab": {
          "base_uri": "https://localhost:8080/",
          "height": 161
        },
        "outputId": "573a55d2-7dbf-4895-b702-71ece97a5099"
      },
      "source": [
        "fashion_mnist = keras.datasets.fashion_mnist\n",
        "# 신경망 구현을 위해 데이터셋을 가져옵니다.\n",
        "(X_train_full, y_train_full), (X_test, y_test) = fashion_mnist.load_data()\n",
        "# 훈련데이터와 테스트 데이터를 가져옵니다."
      ],
      "execution_count": null,
      "outputs": [
        {
          "output_type": "stream",
          "text": [
            "Downloading data from https://storage.googleapis.com/tensorflow/tf-keras-datasets/train-labels-idx1-ubyte.gz\n",
            "32768/29515 [=================================] - 0s 0us/step\n",
            "Downloading data from https://storage.googleapis.com/tensorflow/tf-keras-datasets/train-images-idx3-ubyte.gz\n",
            "26427392/26421880 [==============================] - 0s 0us/step\n",
            "Downloading data from https://storage.googleapis.com/tensorflow/tf-keras-datasets/t10k-labels-idx1-ubyte.gz\n",
            "8192/5148 [===============================================] - 0s 0us/step\n",
            "Downloading data from https://storage.googleapis.com/tensorflow/tf-keras-datasets/t10k-images-idx3-ubyte.gz\n",
            "4423680/4422102 [==============================] - 0s 0us/step\n"
          ],
          "name": "stdout"
        }
      ]
    },
    {
      "cell_type": "code",
      "metadata": {
        "id": "2wOaBVOucOQS",
        "colab_type": "code",
        "colab": {
          "base_uri": "https://localhost:8080/",
          "height": 35
        },
        "outputId": "07e27f6b-d6f1-4397-e6cd-bdaf2b1f9f9a"
      },
      "source": [
        "X_train_full.shape\n",
        "# 데이터의 특징을 보니 60000개가 있으며 28*28형태의 이미지인것을 알 수 있습니다."
      ],
      "execution_count": null,
      "outputs": [
        {
          "output_type": "execute_result",
          "data": {
            "text/plain": [
              "(60000, 28, 28)"
            ]
          },
          "metadata": {
            "tags": []
          },
          "execution_count": 4
        }
      ]
    },
    {
      "cell_type": "code",
      "metadata": {
        "id": "UFem-drjcTF3",
        "colab_type": "code",
        "colab": {
          "base_uri": "https://localhost:8080/",
          "height": 35
        },
        "outputId": "939e00f7-af36-468f-ceeb-2f3009d40107"
      },
      "source": [
        "X_train_full.dtype\n",
        "# 데이터 타입을 파악합니다. 정수형이라는 것을 알 수 있습니다."
      ],
      "execution_count": null,
      "outputs": [
        {
          "output_type": "execute_result",
          "data": {
            "text/plain": [
              "dtype('uint8')"
            ]
          },
          "metadata": {
            "tags": []
          },
          "execution_count": 5
        }
      ]
    },
    {
      "cell_type": "code",
      "metadata": {
        "id": "PDVUUdxIcb5A",
        "colab_type": "code",
        "colab": {}
      },
      "source": [
        "X_valid, X_train = X_train_full[:5000] / 255.0, X_train_full[5000:] / 255.0\n",
        "y_valid, y_train = y_train_full[:5000] , y_train_full[5000:]\n",
        "X_test = X_test / 255.0\n",
        "# 훈련데이터 중 Valid 데이터를 판단합니다. 이 데이터는 학습과정에서 잘 학습했는지 파악합니다."
      ],
      "execution_count": null,
      "outputs": []
    },
    {
      "cell_type": "code",
      "metadata": {
        "id": "QWM4Royfcu4q",
        "colab_type": "code",
        "colab": {}
      },
      "source": [
        "class_names = [\"T-shirt/top\", \"Trouser\", \"Pullover\", \"Dress\", \"Coat\",\"Sandal\",\"Shirt\",\"Sneaker\",\"Bag\",\"Ankle boot\"]\n",
        "\n",
        "# 데이터 라벨을 파악합니다. "
      ],
      "execution_count": null,
      "outputs": []
    },
    {
      "cell_type": "code",
      "metadata": {
        "id": "_oZDQ0PWc9WR",
        "colab_type": "code",
        "colab": {
          "base_uri": "https://localhost:8080/",
          "height": 35
        },
        "outputId": "d94e28d5-fb60-4039-b912-8344aa2c72fb"
      },
      "source": [
        "class_names[y_train[0]]"
      ],
      "execution_count": null,
      "outputs": [
        {
          "output_type": "execute_result",
          "data": {
            "application/vnd.google.colaboratory.intrinsic+json": {
              "type": "string"
            },
            "text/plain": [
              "'Coat'"
            ]
          },
          "metadata": {
            "tags": []
          },
          "execution_count": 8
        }
      ]
    },
    {
      "cell_type": "code",
      "metadata": {
        "id": "8sWmjVz4dBBv",
        "colab_type": "code",
        "colab": {}
      },
      "source": [
        "#make model\n",
        "\n",
        "model = keras.models.Sequential()\n",
        "model.add(keras.layers.Flatten(input_shape=[28,28]))\n",
        "model.add(keras.layers.Dense(300,activation=\"relu\"))\n",
        "model.add(keras.layers.Dense(100,activation=\"relu\"))\n",
        "model.add(keras.layers.Dense(10, activation=\"softmax\"))\n",
        "\n",
        "#모델을 만들어봅니다. 케라스에서 models.Sequential을 선언합니다. \n",
        "# Sequential 객체를 통해서 선언합니다.\n",
        "# add 함수를 통해서 층을 쌓습니다.\n",
        "# keras.layers.Flatten() => 현재 데이터는 28*28 이미지이기 때문에 1차원으로 평평하게 층을 만듭니다.\n",
        "# keras.layers.Dense() => 층을 쌓되 개수를 30개로 하고 활성화 함수를 통해 연결합니다.\n",
        "# 마지막에 10개로 한 이유는 class값이 10개이기 때문입니다. "
      ],
      "execution_count": null,
      "outputs": []
    },
    {
      "cell_type": "code",
      "metadata": {
        "id": "mfJ1oirjddgU",
        "colab_type": "code",
        "colab": {
          "base_uri": "https://localhost:8080/",
          "height": 305
        },
        "outputId": "8e58f465-8315-48e0-95d6-43e03d2cedd3"
      },
      "source": [
        "model.summary()\n",
        "#summary 함수를 통해서 모델이 어떻게 되어있는지 볼 수 있습니다."
      ],
      "execution_count": null,
      "outputs": [
        {
          "output_type": "stream",
          "text": [
            "Model: \"sequential\"\n",
            "_________________________________________________________________\n",
            "Layer (type)                 Output Shape              Param #   \n",
            "=================================================================\n",
            "flatten (Flatten)            (None, 784)               0         \n",
            "_________________________________________________________________\n",
            "dense (Dense)                (None, 300)               235500    \n",
            "_________________________________________________________________\n",
            "dense_1 (Dense)              (None, 100)               30100     \n",
            "_________________________________________________________________\n",
            "dense_2 (Dense)              (None, 10)                1010      \n",
            "=================================================================\n",
            "Total params: 266,610\n",
            "Trainable params: 266,610\n",
            "Non-trainable params: 0\n",
            "_________________________________________________________________\n"
          ],
          "name": "stdout"
        }
      ]
    },
    {
      "cell_type": "code",
      "metadata": {
        "id": "aepUeyw0dm5Y",
        "colab_type": "code",
        "colab": {
          "base_uri": "https://localhost:8080/",
          "height": 89
        },
        "outputId": "d309e9fb-e21a-4a3f-e5af-948f83ea71ae"
      },
      "source": [
        "model.layers"
      ],
      "execution_count": null,
      "outputs": [
        {
          "output_type": "execute_result",
          "data": {
            "text/plain": [
              "[<tensorflow.python.keras.layers.core.Flatten at 0x7f3ee20206d8>,\n",
              " <tensorflow.python.keras.layers.core.Dense at 0x7f3ee2020da0>,\n",
              " <tensorflow.python.keras.layers.core.Dense at 0x7f3ee2020dd8>,\n",
              " <tensorflow.python.keras.layers.core.Dense at 0x7f3ee2020f98>]"
            ]
          },
          "metadata": {
            "tags": []
          },
          "execution_count": 11
        }
      ]
    },
    {
      "cell_type": "code",
      "metadata": {
        "id": "0VgMc1PJdoxG",
        "colab_type": "code",
        "colab": {
          "base_uri": "https://localhost:8080/",
          "height": 35
        },
        "outputId": "744d586f-54d1-4ba7-99b9-1c0a89ceb6f3"
      },
      "source": [
        "hidden1 = model.layers[1]\n",
        "hidden1.name"
      ],
      "execution_count": null,
      "outputs": [
        {
          "output_type": "execute_result",
          "data": {
            "application/vnd.google.colaboratory.intrinsic+json": {
              "type": "string"
            },
            "text/plain": [
              "'dense'"
            ]
          },
          "metadata": {
            "tags": []
          },
          "execution_count": 12
        }
      ]
    },
    {
      "cell_type": "code",
      "metadata": {
        "id": "k9SBcnd0dsov",
        "colab_type": "code",
        "colab": {
          "base_uri": "https://localhost:8080/",
          "height": 35
        },
        "outputId": "b22ab4c0-cf82-4084-ae38-dccba6cabc1f"
      },
      "source": [
        "model.get_layer('dense') is hidden1"
      ],
      "execution_count": null,
      "outputs": [
        {
          "output_type": "execute_result",
          "data": {
            "text/plain": [
              "True"
            ]
          },
          "metadata": {
            "tags": []
          },
          "execution_count": 13
        }
      ]
    },
    {
      "cell_type": "code",
      "metadata": {
        "id": "_Yvk5jcXdva4",
        "colab_type": "code",
        "colab": {
          "base_uri": "https://localhost:8080/",
          "height": 251
        },
        "outputId": "fc6dc4cd-b207-4c6f-d41e-27e9394ac6c2"
      },
      "source": [
        "weights, biases = hidden1.get_weights()\n",
        "weights\n",
        "\n",
        "# 각각의 가중치를 알 수 있습니다."
      ],
      "execution_count": null,
      "outputs": [
        {
          "output_type": "execute_result",
          "data": {
            "text/plain": [
              "array([[ 0.0214078 , -0.05323971,  0.01671617, ...,  0.02849425,\n",
              "         0.06062986, -0.01958018],\n",
              "       [ 0.04908957,  0.07139544, -0.06023509, ...,  0.03314953,\n",
              "         0.04798176, -0.07396426],\n",
              "       [ 0.00726209,  0.04231388,  0.03852595, ...,  0.01626602,\n",
              "         0.06533605,  0.01047802],\n",
              "       ...,\n",
              "       [-0.00273291, -0.03578931, -0.0378008 , ...,  0.03389761,\n",
              "         0.03271341, -0.01180291],\n",
              "       [-0.01715135,  0.0116556 ,  0.05854   , ..., -0.07259545,\n",
              "         0.04738913, -0.03933   ],\n",
              "       [ 0.03744747, -0.06096649, -0.05977854, ...,  0.03048259,\n",
              "         0.02913439,  0.05318908]], dtype=float32)"
            ]
          },
          "metadata": {
            "tags": []
          },
          "execution_count": 14
        }
      ]
    },
    {
      "cell_type": "code",
      "metadata": {
        "id": "_EHDtlKEd5pP",
        "colab_type": "code",
        "colab": {
          "base_uri": "https://localhost:8080/",
          "height": 35
        },
        "outputId": "d985a1d3-7d73-407b-9db9-fb3a166a19ac"
      },
      "source": [
        "weights.shape"
      ],
      "execution_count": null,
      "outputs": [
        {
          "output_type": "execute_result",
          "data": {
            "text/plain": [
              "(784, 300)"
            ]
          },
          "metadata": {
            "tags": []
          },
          "execution_count": 15
        }
      ]
    },
    {
      "cell_type": "code",
      "metadata": {
        "id": "JmOmecmHd8jf",
        "colab_type": "code",
        "colab": {
          "base_uri": "https://localhost:8080/",
          "height": 341
        },
        "outputId": "8556264d-99a4-4951-ffa2-c8e36e97664f"
      },
      "source": [
        "biases"
      ],
      "execution_count": null,
      "outputs": [
        {
          "output_type": "execute_result",
          "data": {
            "text/plain": [
              "array([0., 0., 0., 0., 0., 0., 0., 0., 0., 0., 0., 0., 0., 0., 0., 0., 0.,\n",
              "       0., 0., 0., 0., 0., 0., 0., 0., 0., 0., 0., 0., 0., 0., 0., 0., 0.,\n",
              "       0., 0., 0., 0., 0., 0., 0., 0., 0., 0., 0., 0., 0., 0., 0., 0., 0.,\n",
              "       0., 0., 0., 0., 0., 0., 0., 0., 0., 0., 0., 0., 0., 0., 0., 0., 0.,\n",
              "       0., 0., 0., 0., 0., 0., 0., 0., 0., 0., 0., 0., 0., 0., 0., 0., 0.,\n",
              "       0., 0., 0., 0., 0., 0., 0., 0., 0., 0., 0., 0., 0., 0., 0., 0., 0.,\n",
              "       0., 0., 0., 0., 0., 0., 0., 0., 0., 0., 0., 0., 0., 0., 0., 0., 0.,\n",
              "       0., 0., 0., 0., 0., 0., 0., 0., 0., 0., 0., 0., 0., 0., 0., 0., 0.,\n",
              "       0., 0., 0., 0., 0., 0., 0., 0., 0., 0., 0., 0., 0., 0., 0., 0., 0.,\n",
              "       0., 0., 0., 0., 0., 0., 0., 0., 0., 0., 0., 0., 0., 0., 0., 0., 0.,\n",
              "       0., 0., 0., 0., 0., 0., 0., 0., 0., 0., 0., 0., 0., 0., 0., 0., 0.,\n",
              "       0., 0., 0., 0., 0., 0., 0., 0., 0., 0., 0., 0., 0., 0., 0., 0., 0.,\n",
              "       0., 0., 0., 0., 0., 0., 0., 0., 0., 0., 0., 0., 0., 0., 0., 0., 0.,\n",
              "       0., 0., 0., 0., 0., 0., 0., 0., 0., 0., 0., 0., 0., 0., 0., 0., 0.,\n",
              "       0., 0., 0., 0., 0., 0., 0., 0., 0., 0., 0., 0., 0., 0., 0., 0., 0.,\n",
              "       0., 0., 0., 0., 0., 0., 0., 0., 0., 0., 0., 0., 0., 0., 0., 0., 0.,\n",
              "       0., 0., 0., 0., 0., 0., 0., 0., 0., 0., 0., 0., 0., 0., 0., 0., 0.,\n",
              "       0., 0., 0., 0., 0., 0., 0., 0., 0., 0., 0.], dtype=float32)"
            ]
          },
          "metadata": {
            "tags": []
          },
          "execution_count": 16
        }
      ]
    },
    {
      "cell_type": "code",
      "metadata": {
        "id": "LmjR1Ugmd-1p",
        "colab_type": "code",
        "colab": {}
      },
      "source": [
        "model.compile(loss=\"sparse_categorical_crossentropy\",\n",
        "              optimizer=\"sgd\",\n",
        "              metrics=[\"accuracy\"])\n",
        "# 모델을 선언하였으면 컴파일 함수를 통해서 손실함수와 최적화 과정을 선언합니다.\n",
        "# 손실함수는 분류문제이기 때문에 크로스엔트로피 함수와 최적화는 경사하강법을 통해서 모델을 설정합니다."
      ],
      "execution_count": null,
      "outputs": []
    },
    {
      "cell_type": "code",
      "metadata": {
        "id": "Ah69b4oNeH4t",
        "colab_type": "code",
        "colab": {
          "base_uri": "https://localhost:8080/",
          "height": 377
        },
        "outputId": "239b7b38-2b27-4e04-e60e-e22f6e213419"
      },
      "source": [
        "history = model.fit(X_train, y_train, epochs = 10, validation_data=(X_valid,y_valid))\n",
        "#학습을 시작합니다. fit함수를 통해서 훈련을 시작합니다."
      ],
      "execution_count": null,
      "outputs": [
        {
          "output_type": "stream",
          "text": [
            "Epoch 1/10\n",
            "1719/1719 [==============================] - 5s 3ms/step - loss: 0.7205 - accuracy: 0.7639 - val_loss: 0.5170 - val_accuracy: 0.8256\n",
            "Epoch 2/10\n",
            "1719/1719 [==============================] - 5s 3ms/step - loss: 0.4893 - accuracy: 0.8290 - val_loss: 0.4567 - val_accuracy: 0.8422\n",
            "Epoch 3/10\n",
            "1719/1719 [==============================] - 5s 3ms/step - loss: 0.4430 - accuracy: 0.8448 - val_loss: 0.4178 - val_accuracy: 0.8586\n",
            "Epoch 4/10\n",
            "1719/1719 [==============================] - 5s 3ms/step - loss: 0.4157 - accuracy: 0.8524 - val_loss: 0.4091 - val_accuracy: 0.8610\n",
            "Epoch 5/10\n",
            "1719/1719 [==============================] - 5s 3ms/step - loss: 0.3956 - accuracy: 0.8609 - val_loss: 0.3880 - val_accuracy: 0.8666\n",
            "Epoch 6/10\n",
            "1719/1719 [==============================] - 5s 3ms/step - loss: 0.3794 - accuracy: 0.8654 - val_loss: 0.3743 - val_accuracy: 0.8686\n",
            "Epoch 7/10\n",
            "1719/1719 [==============================] - 5s 3ms/step - loss: 0.3659 - accuracy: 0.8702 - val_loss: 0.3613 - val_accuracy: 0.8726\n",
            "Epoch 8/10\n",
            "1719/1719 [==============================] - 5s 3ms/step - loss: 0.3536 - accuracy: 0.8731 - val_loss: 0.3568 - val_accuracy: 0.8746\n",
            "Epoch 9/10\n",
            "1719/1719 [==============================] - 5s 3ms/step - loss: 0.3431 - accuracy: 0.8773 - val_loss: 0.3469 - val_accuracy: 0.8774\n",
            "Epoch 10/10\n",
            "1719/1719 [==============================] - 5s 3ms/step - loss: 0.3336 - accuracy: 0.8798 - val_loss: 0.3451 - val_accuracy: 0.8780\n"
          ],
          "name": "stdout"
        }
      ]
    },
    {
      "cell_type": "code",
      "metadata": {
        "id": "YTmqXtmBegOA",
        "colab_type": "code",
        "colab": {
          "base_uri": "https://localhost:8080/",
          "height": 342
        },
        "outputId": "30c04abb-bc01-44a0-ce7c-34354be788e0"
      },
      "source": [
        "import pandas as pd\n",
        "import matplotlib.pyplot as plt\n",
        "\n",
        "pd.DataFrame(history.history).plot(figsize=(8,5))\n",
        "plt.grid(True)\n",
        "plt.gca().set_ylim(0,1)\n",
        "\n",
        "#데이터 정확성을 시각화합니다."
      ],
      "execution_count": null,
      "outputs": [
        {
          "output_type": "execute_result",
          "data": {
            "text/plain": [
              "(0.0, 1.0)"
            ]
          },
          "metadata": {
            "tags": []
          },
          "execution_count": 19
        },
        {
          "output_type": "display_data",
          "data": {
            "image/png": "[encoded data removed]",
            "text/plain": [
              "<Figure size 576x360 with 1 Axes>"
            ]
          },
          "metadata": {
            "tags": [],
            "needs_background": "light"
          }
        }
      ]
    },
    {
      "cell_type": "code",
      "metadata": {
        "id": "q_v3QrBeew2I",
        "colab_type": "code",
        "colab": {
          "base_uri": "https://localhost:8080/",
          "height": 53
        },
        "outputId": "4fa2c92e-e23d-44fa-9057-1f04a80f8e5e"
      },
      "source": [
        "model.evaluate(X_test, y_test)\n",
        "# 평가를 시작합니다 정확성이 86퍼나 됩니다!!!!!"
      ],
      "execution_count": null,
      "outputs": [
        {
          "output_type": "stream",
          "text": [
            "313/313 [==============================] - 0s 2ms/step - loss: 0.3819 - accuracy: 0.8628\n"
          ],
          "name": "stdout"
        },
        {
          "output_type": "execute_result",
          "data": {
            "text/plain": [
              "[0.3818608820438385, 0.8628000020980835]"
            ]
          },
          "metadata": {
            "tags": []
          },
          "execution_count": 20
        }
      ]
    },
    {
      "cell_type": "code",
      "metadata": {
        "id": "iF2Uddcce0XT",
        "colab_type": "code",
        "colab": {
          "base_uri": "https://localhost:8080/",
          "height": 89
        },
        "outputId": "8ffafcdb-1628-4038-8aa7-8fc493bd2153"
      },
      "source": [
        "X_new = X_test[:3]\n",
        "y_proba = model.predict(X_new)\n",
        "y_proba.round(2)\n",
        "#데이터를 이제 맞나 확인해보도록 하겠습니다"
      ],
      "execution_count": null,
      "outputs": [
        {
          "output_type": "execute_result",
          "data": {
            "text/plain": [
              "array([[0.  , 0.  , 0.  , 0.  , 0.  , 0.06, 0.  , 0.09, 0.01, 0.85],\n",
              "       [0.  , 0.  , 0.99, 0.  , 0.  , 0.  , 0.01, 0.  , 0.  , 0.  ],\n",
              "       [0.  , 1.  , 0.  , 0.  , 0.  , 0.  , 0.  , 0.  , 0.  , 0.  ]],\n",
              "      dtype=float32)"
            ]
          },
          "metadata": {
            "tags": []
          },
          "execution_count": 21
        }
      ]
    },
    {
      "cell_type": "code",
      "metadata": {
        "id": "esQwsQbte-iT",
        "colab_type": "code",
        "colab": {
          "base_uri": "https://localhost:8080/",
          "height": 109
        },
        "outputId": "bced30f7-3449-45cb-9495-7c390aacbc95"
      },
      "source": [
        "y_pred = model.predict_classes(X_new)\n",
        "y_pred\n",
        "# 학습된 모델을 통해서 새로운 데이터의 값을 예측합니다."
      ],
      "execution_count": null,
      "outputs": [
        {
          "output_type": "stream",
          "text": [
            "WARNING:tensorflow:From <ipython-input-22-81ace37e545f>:1: Sequential.predict_classes (from tensorflow.python.keras.engine.sequential) is deprecated and will be removed after 2021-01-01.\n",
            "Instructions for updating:\n",
            "Please use instead:* `np.argmax(model.predict(x), axis=-1)`,   if your model does multi-class classification   (e.g. if it uses a `softmax` last-layer activation).* `(model.predict(x) > 0.5).astype(\"int32\")`,   if your model does binary classification   (e.g. if it uses a `sigmoid` last-layer activation).\n"
          ],
          "name": "stdout"
        },
        {
          "output_type": "execute_result",
          "data": {
            "text/plain": [
              "array([9, 2, 1])"
            ]
          },
          "metadata": {
            "tags": []
          },
          "execution_count": 22
        }
      ]
    },
    {
      "cell_type": "code",
      "metadata": {
        "id": "WHOOUVl3fC5P",
        "colab_type": "code",
        "colab": {
          "base_uri": "https://localhost:8080/",
          "height": 35
        },
        "outputId": "6cb63f7e-6071-4c3f-ab0e-ab7e3ce44389"
      },
      "source": [
        "import numpy as np\n",
        "np.array(class_names)[y_pred]"
      ],
      "execution_count": null,
      "outputs": [
        {
          "output_type": "execute_result",
          "data": {
            "text/plain": [
              "array(['Ankle boot', 'Pullover', 'Trouser'], dtype='<U11')"
            ]
          },
          "metadata": {
            "tags": []
          },
          "execution_count": 23
        }
      ]
    },
    {
      "cell_type": "code",
      "metadata": {
        "id": "LfgWraLhfMr6",
        "colab_type": "code",
        "colab": {
          "base_uri": "https://localhost:8080/",
          "height": 35
        },
        "outputId": "7345d453-f24b-4fc9-c4f2-09be2c3e84fe"
      },
      "source": [
        "y_new = y_test[:3]\n",
        "y_new"
      ],
      "execution_count": null,
      "outputs": [
        {
          "output_type": "execute_result",
          "data": {
            "text/plain": [
              "array([9, 2, 1], dtype=uint8)"
            ]
          },
          "metadata": {
            "tags": []
          },
          "execution_count": 24
        }
      ]
    },
    {
      "cell_type": "code",
      "metadata": {
        "id": "_rzJbntwfW-Y",
        "colab_type": "code",
        "colab": {
          "base_uri": "https://localhost:8080/",
          "height": 35
        },
        "outputId": "8e9e7e8b-61a2-41fa-deef-edbeb580dda6"
      },
      "source": [
        "#perceptron\n",
        "\n",
        "from sklearn.datasets import fetch_california_housing\n",
        "from sklearn.model_selection import train_test_split\n",
        "from sklearn.preprocessing import StandardScaler\n",
        "\n",
        "data = fetch_california_housing()\n",
        "\n",
        "X_train_full, X_test, y_train_full, y_test = train_test_split(data.data, data.target)\n",
        "X_train, X_valid , y_train, y_valid = train_test_split(X_train_full, y_train_full)\n",
        "\n",
        "scaler = StandardScaler()\n",
        "X_train = scaler.fit_transform(X_train)\n",
        "X_valid = scaler.transform(X_valid)\n",
        "X_test = scaler.transform(X_test)\n",
        "\n",
        "# 퍼셉트론 구현\n",
        "# 캘리포니아 데이터 가져오기\n",
        "# 데이터를 정규화 과정 거치기"
      ],
      "execution_count": null,
      "outputs": [
        {
          "output_type": "stream",
          "text": [
            "Downloading Cal. housing from https://ndownloader.figshare.com/files/5976036 to /root/scikit_learn_data\n"
          ],
          "name": "stderr"
        }
      ]
    },
    {
      "cell_type": "code",
      "metadata": {
        "id": "F6aZQ_HRgeVM",
        "colab_type": "code",
        "colab": {}
      },
      "source": [
        "model = keras.models.Sequential([\n",
        "        keras.layers.Dense(30, activation='relu', input_shape=X_train.shape[1:]),\n",
        "        keras.layers.Dense(1)\n",
        "])\n",
        "# 신경망 은닉층은 30이고 하나의 값을 도출 "
      ],
      "execution_count": null,
      "outputs": []
    },
    {
      "cell_type": "code",
      "metadata": {
        "id": "Of2p-l7ahQ-g",
        "colab_type": "code",
        "colab": {}
      },
      "source": [
        "model.compile(loss =\"mean_squared_error\", optimizer='sgd')\n",
        "\n",
        "# 모델을 컴파일을 한다 손실함수는 평균제곱오차 최적화 함수는 sgd라는 것을 이용 "
      ],
      "execution_count": null,
      "outputs": []
    },
    {
      "cell_type": "code",
      "metadata": {
        "id": "EtDWf1ruhTpY",
        "colab_type": "code",
        "colab": {
          "base_uri": "https://localhost:8080/",
          "height": 1000
        },
        "outputId": "e4e39b9f-8c7e-44bb-a093-85ee7afdc043"
      },
      "source": [
        "history = model.fit(X_train,y_train, epochs=35, validation_data=(X_valid,y_valid))\n",
        "# 모델 학습 시작"
      ],
      "execution_count": null,
      "outputs": [
        {
          "output_type": "stream",
          "text": [
            "Epoch 1/35\n",
            "363/363 [==============================] - 1s 2ms/step - loss: 1.3867 - val_loss: 0.6406\n",
            "Epoch 2/35\n",
            "363/363 [==============================] - 1s 1ms/step - loss: 0.5272 - val_loss: 0.4556\n",
            "Epoch 3/35\n",
            "363/363 [==============================] - 1s 1ms/step - loss: 0.4629 - val_loss: 0.3979\n",
            "Epoch 4/35\n",
            "363/363 [==============================] - 1s 2ms/step - loss: 0.4373 - val_loss: 0.3853\n",
            "Epoch 5/35\n",
            "363/363 [==============================] - 1s 1ms/step - loss: 0.4233 - val_loss: 0.3749\n",
            "Epoch 6/35\n",
            "363/363 [==============================] - 1s 1ms/step - loss: 0.4137 - val_loss: 0.3682\n",
            "Epoch 7/35\n",
            "363/363 [==============================] - 1s 1ms/step - loss: 0.4067 - val_loss: 0.3644\n",
            "Epoch 8/35\n",
            "363/363 [==============================] - 1s 1ms/step - loss: 0.4010 - val_loss: 0.3576\n",
            "Epoch 9/35\n",
            "363/363 [==============================] - 1s 1ms/step - loss: 0.3971 - val_loss: 0.3567\n",
            "Epoch 10/35\n",
            "363/363 [==============================] - 1s 2ms/step - loss: 0.3928 - val_loss: 0.3521\n",
            "Epoch 11/35\n",
            "363/363 [==============================] - 1s 1ms/step - loss: 0.3896 - val_loss: 0.3560\n",
            "Epoch 12/35\n",
            "363/363 [==============================] - 1s 1ms/step - loss: 0.3885 - val_loss: 0.3514\n",
            "Epoch 13/35\n",
            "363/363 [==============================] - 1s 1ms/step - loss: 0.3848 - val_loss: 0.3508\n",
            "Epoch 14/35\n",
            "363/363 [==============================] - 1s 1ms/step - loss: 0.3846 - val_loss: 0.3452\n",
            "Epoch 15/35\n",
            "363/363 [==============================] - 1s 1ms/step - loss: 0.3816 - val_loss: 0.3445\n",
            "Epoch 16/35\n",
            "363/363 [==============================] - 1s 1ms/step - loss: 0.3798 - val_loss: 0.3469\n",
            "Epoch 17/35\n",
            "363/363 [==============================] - 1s 1ms/step - loss: 0.3797 - val_loss: 0.3405\n",
            "Epoch 18/35\n",
            "363/363 [==============================] - 1s 1ms/step - loss: 0.3772 - val_loss: 0.3448\n",
            "Epoch 19/35\n",
            "363/363 [==============================] - 1s 2ms/step - loss: 0.3752 - val_loss: 0.3410\n",
            "Epoch 20/35\n",
            "363/363 [==============================] - 1s 1ms/step - loss: 0.3731 - val_loss: 0.3403\n",
            "Epoch 21/35\n",
            "363/363 [==============================] - 1s 1ms/step - loss: 0.3713 - val_loss: 0.3427\n",
            "Epoch 22/35\n",
            "363/363 [==============================] - 1s 1ms/step - loss: 0.3693 - val_loss: 0.3383\n",
            "Epoch 23/35\n",
            "363/363 [==============================] - 1s 2ms/step - loss: 0.3700 - val_loss: 0.3395\n",
            "Epoch 24/35\n",
            "363/363 [==============================] - 1s 1ms/step - loss: 0.3674 - val_loss: 0.3376\n",
            "Epoch 25/35\n",
            "363/363 [==============================] - 1s 1ms/step - loss: 0.3668 - val_loss: 0.3346\n",
            "Epoch 26/35\n",
            "363/363 [==============================] - 1s 1ms/step - loss: 0.3660 - val_loss: 0.3396\n",
            "Epoch 27/35\n",
            "363/363 [==============================] - 1s 2ms/step - loss: 0.3639 - val_loss: 0.3333\n",
            "Epoch 28/35\n",
            "363/363 [==============================] - 1s 1ms/step - loss: 0.3642 - val_loss: 0.3297\n",
            "Epoch 29/35\n",
            "363/363 [==============================] - 1s 1ms/step - loss: 0.3607 - val_loss: 0.3299\n",
            "Epoch 30/35\n",
            "363/363 [==============================] - 1s 1ms/step - loss: 0.3611 - val_loss: 0.3297\n",
            "Epoch 31/35\n",
            "363/363 [==============================] - 1s 1ms/step - loss: 0.3596 - val_loss: 0.3320\n",
            "Epoch 32/35\n",
            "363/363 [==============================] - 1s 1ms/step - loss: 0.3593 - val_loss: 0.3269\n",
            "Epoch 33/35\n",
            "363/363 [==============================] - 1s 1ms/step - loss: 0.3566 - val_loss: 0.3286\n",
            "Epoch 34/35\n",
            "363/363 [==============================] - 1s 1ms/step - loss: 0.3560 - val_loss: 0.3297\n",
            "Epoch 35/35\n",
            "363/363 [==============================] - 1s 1ms/step - loss: 0.3549 - val_loss: 0.3286\n"
          ],
          "name": "stdout"
        }
      ]
    },
    {
      "cell_type": "code",
      "metadata": {
        "id": "fRCIREOYhc0q",
        "colab_type": "code",
        "colab": {
          "base_uri": "https://localhost:8080/",
          "height": 35
        },
        "outputId": "70b9fe60-89f7-4579-d2cc-eda56e280b55"
      },
      "source": [
        "mse_test = model.evaluate(X_test, y_test)\n",
        "#평가 "
      ],
      "execution_count": null,
      "outputs": [
        {
          "output_type": "stream",
          "text": [
            "162/162 [==============================] - 0s 1ms/step - loss: 0.3482\n"
          ],
          "name": "stdout"
        }
      ]
    },
    {
      "cell_type": "code",
      "metadata": {
        "id": "rfjiwQYShgXS",
        "colab_type": "code",
        "colab": {
          "base_uri": "https://localhost:8080/",
          "height": 89
        },
        "outputId": "29170743-0ba8-40e3-88d3-000c28e08510"
      },
      "source": [
        "X_new = X_test[:3]\n",
        "print(y_test[:3])\n",
        "y_pred = model.predict(X_new)\n",
        "y_pred\n",
        "\n",
        "#모델 예측하여 값 도출 "
      ],
      "execution_count": null,
      "outputs": [
        {
          "output_type": "stream",
          "text": [
            "[3.385 1.266 0.531]\n"
          ],
          "name": "stdout"
        },
        {
          "output_type": "execute_result",
          "data": {
            "text/plain": [
              "array([[3.8644638 ],\n",
              "       [1.512855  ],\n",
              "       [0.52250576]], dtype=float32)"
            ]
          },
          "metadata": {
            "tags": []
          },
          "execution_count": 30
        }
      ]
    },
    {
      "cell_type": "code",
      "metadata": {
        "id": "8_lGibsrh-6c",
        "colab_type": "code",
        "colab": {}
      },
      "source": [
        "#Complex model\n",
        "\n",
        "input_ = keras.layers.Input(shape=X_train.shape[1:])\n",
        "hidden1 = keras.layers.Dense(30, activation=\"relu\")(input_)\n",
        "hidden2 = keras.layers.Dense(30, activation=\"relu\")(hidden1)\n",
        "concat = keras.layers.concatenate([input_, hidden2])\n",
        "output = keras.layers.Dense(1)(concat)\n",
        "model = keras.models.Model(inputs=[input_], outputs=[output])\n",
        "\n",
        "# 복합모델 구현\n",
        "# 입력층은 X의 크기 은닉층 2개는 30개의 뉴런으로 이루어진 층, 합치는 과정에서 인력과 hidden을 쳐서\n",
        "# 하나의 결과값을 도출한다. "
      ],
      "execution_count": null,
      "outputs": []
    },
    {
      "cell_type": "code",
      "metadata": {
        "id": "wRIbkmTHwa5E",
        "colab_type": "code",
        "colab": {
          "base_uri": "https://localhost:8080/",
          "height": 359
        },
        "outputId": "ea0e2c6c-34a8-4d36-b7c4-3e0f4c0201fb"
      },
      "source": [
        "model.summary()\n",
        "\n",
        "#모델 요약 "
      ],
      "execution_count": null,
      "outputs": [
        {
          "output_type": "stream",
          "text": [
            "Model: \"model\"\n",
            "__________________________________________________________________________________________________\n",
            "Layer (type)                    Output Shape         Param #     Connected to                     \n",
            "==================================================================================================\n",
            "input_1 (InputLayer)            [(None, 8)]          0                                            \n",
            "__________________________________________________________________________________________________\n",
            "dense_5 (Dense)                 (None, 30)           270         input_1[0][0]                    \n",
            "__________________________________________________________________________________________________\n",
            "dense_6 (Dense)                 (None, 30)           930         dense_5[0][0]                    \n",
            "__________________________________________________________________________________________________\n",
            "concatenate (Concatenate)       (None, 38)           0           input_1[0][0]                    \n",
            "                                                                 dense_6[0][0]                    \n",
            "__________________________________________________________________________________________________\n",
            "dense_7 (Dense)                 (None, 1)            39          concatenate[0][0]                \n",
            "==================================================================================================\n",
            "Total params: 1,239\n",
            "Trainable params: 1,239\n",
            "Non-trainable params: 0\n",
            "__________________________________________________________________________________________________\n"
          ],
          "name": "stdout"
        }
      ]
    },
    {
      "cell_type": "code",
      "metadata": {
        "id": "VgrPEGTewjP6",
        "colab_type": "code",
        "colab": {
          "base_uri": "https://localhost:8080/",
          "height": 755
        },
        "outputId": "d52a3124-ce2e-4515-e078-469321e236ea"
      },
      "source": [
        "model.compile(loss=\"mean_squared_error\", optimizer=keras.optimizers.SGD(lr=1e-3))\n",
        "history = model.fit(X_train, y_train, epochs=20,\n",
        "                    validation_data=(X_valid, y_valid))\n",
        "mse_test = model.evaluate(X_test, y_test)\n",
        "y_pred = model.predict(X_new)\n",
        "\n",
        "# 모델을 학습한다."
      ],
      "execution_count": null,
      "outputs": [
        {
          "output_type": "stream",
          "text": [
            "Epoch 1/20\n",
            "363/363 [==============================] - 1s 2ms/step - loss: 1.7776 - val_loss: 0.5965\n",
            "Epoch 2/20\n",
            "363/363 [==============================] - 1s 1ms/step - loss: 0.6387 - val_loss: 0.5523\n",
            "Epoch 3/20\n",
            "363/363 [==============================] - 1s 1ms/step - loss: 0.6027 - val_loss: 0.5279\n",
            "Epoch 4/20\n",
            "363/363 [==============================] - 1s 1ms/step - loss: 0.5791 - val_loss: 0.5062\n",
            "Epoch 5/20\n",
            "363/363 [==============================] - 1s 1ms/step - loss: 0.5625 - val_loss: 0.4951\n",
            "Epoch 6/20\n",
            "363/363 [==============================] - 1s 1ms/step - loss: 0.5487 - val_loss: 0.4871\n",
            "Epoch 7/20\n",
            "363/363 [==============================] - 1s 1ms/step - loss: 0.5374 - val_loss: 0.4769\n",
            "Epoch 8/20\n",
            "363/363 [==============================] - 1s 1ms/step - loss: 0.5287 - val_loss: 0.4694\n",
            "Epoch 9/20\n",
            "363/363 [==============================] - 1s 1ms/step - loss: 0.5211 - val_loss: 0.4630\n",
            "Epoch 10/20\n",
            "363/363 [==============================] - 1s 1ms/step - loss: 0.5144 - val_loss: 0.4580\n",
            "Epoch 11/20\n",
            "363/363 [==============================] - 1s 1ms/step - loss: 0.5093 - val_loss: 0.4556\n",
            "Epoch 12/20\n",
            "363/363 [==============================] - 1s 1ms/step - loss: 0.5035 - val_loss: 0.4511\n",
            "Epoch 13/20\n",
            "363/363 [==============================] - 1s 1ms/step - loss: 0.5004 - val_loss: 0.4489\n",
            "Epoch 14/20\n",
            "363/363 [==============================] - 1s 2ms/step - loss: 0.4956 - val_loss: 0.4521\n",
            "Epoch 15/20\n",
            "363/363 [==============================] - 1s 2ms/step - loss: 0.4918 - val_loss: 0.4425\n",
            "Epoch 16/20\n",
            "363/363 [==============================] - 1s 1ms/step - loss: 0.4896 - val_loss: 0.4455\n",
            "Epoch 17/20\n",
            "363/363 [==============================] - 1s 1ms/step - loss: 0.4860 - val_loss: 0.4395\n",
            "Epoch 18/20\n",
            "363/363 [==============================] - 1s 1ms/step - loss: 0.4827 - val_loss: 0.4351\n",
            "Epoch 19/20\n",
            "363/363 [==============================] - 1s 1ms/step - loss: 0.4807 - val_loss: 0.4364\n",
            "Epoch 20/20\n",
            "363/363 [==============================] - 1s 1ms/step - loss: 0.4776 - val_loss: 0.4338\n",
            "162/162 [==============================] - 0s 997us/step - loss: 0.4833\n"
          ],
          "name": "stdout"
        }
      ]
    },
    {
      "cell_type": "code",
      "metadata": {
        "id": "vvnRi-bEw67J",
        "colab_type": "code",
        "colab": {}
      },
      "source": [
        "input_A = keras.layers.Input(shape=[5], name=\"wide_input\")\n",
        "input_B = keras.layers.Input(shape=[6], name=\"deep_input\")\n",
        "hidden1 = keras.layers.Dense(30, activation=\"relu\")(input_B)\n",
        "hidden2 = keras.layers.Dense(30, activation=\"relu\")(hidden1)\n",
        "concat = keras.layers.concatenate([input_A, hidden2])\n",
        "output = keras.layers.Dense(1, name=\"output\")(concat)\n",
        "model = keras.models.Model(inputs=[input_A, input_B], outputs=[output])\n",
        "\n",
        "# 입력층 2개를 설정하여 B에 은닉층 2개를 연결하고 A와 B에 연결된 은닉층과 연결 하나의 값으로 출력한다.\n"
      ],
      "execution_count": null,
      "outputs": []
    },
    {
      "cell_type": "code",
      "metadata": {
        "id": "c6CCClU0w8cR",
        "colab_type": "code",
        "colab": {
          "base_uri": "https://localhost:8080/",
          "height": 755
        },
        "outputId": "ef15a852-ab6a-46c6-cbf2-c562dfaaa6c5"
      },
      "source": [
        "model.compile(loss=\"mse\", optimizer=keras.optimizers.SGD(lr=1e-3))\n",
        "\n",
        "X_train_A, X_train_B = X_train[:, :5], X_train[:, 2:]\n",
        "X_valid_A, X_valid_B = X_valid[:, :5], X_valid[:, 2:]\n",
        "X_test_A, X_test_B = X_test[:, :5], X_test[:, 2:]\n",
        "X_new_A, X_new_B = X_test_A[:3], X_test_B[:3]\n",
        "\n",
        "history = model.fit((X_train_A, X_train_B), y_train, epochs=20,\n",
        "                    validation_data=((X_valid_A, X_valid_B), y_valid))\n",
        "mse_test = model.evaluate((X_test_A, X_test_B), y_test)\n",
        "y_pred = model.predict((X_new_A, X_new_B))"
      ],
      "execution_count": null,
      "outputs": [
        {
          "output_type": "stream",
          "text": [
            "Epoch 1/20\n",
            "363/363 [==============================] - 1s 2ms/step - loss: 1.9480 - val_loss: 1.2349\n",
            "Epoch 2/20\n",
            "363/363 [==============================] - 1s 1ms/step - loss: 0.8127 - val_loss: 0.6944\n",
            "Epoch 3/20\n",
            "363/363 [==============================] - 1s 2ms/step - loss: 0.6954 - val_loss: 0.6171\n",
            "Epoch 4/20\n",
            "363/363 [==============================] - 1s 2ms/step - loss: 0.6481 - val_loss: 0.5734\n",
            "Epoch 5/20\n",
            "363/363 [==============================] - 1s 2ms/step - loss: 0.6165 - val_loss: 0.5435\n",
            "Epoch 6/20\n",
            "363/363 [==============================] - 1s 2ms/step - loss: 0.5921 - val_loss: 0.5196\n",
            "Epoch 7/20\n",
            "363/363 [==============================] - 1s 1ms/step - loss: 0.5732 - val_loss: 0.5027\n",
            "Epoch 8/20\n",
            "363/363 [==============================] - 1s 1ms/step - loss: 0.5574 - val_loss: 0.4898\n",
            "Epoch 9/20\n",
            "363/363 [==============================] - 1s 1ms/step - loss: 0.5448 - val_loss: 0.4784\n",
            "Epoch 10/20\n",
            "363/363 [==============================] - 1s 2ms/step - loss: 0.5337 - val_loss: 0.4701\n",
            "Epoch 11/20\n",
            "363/363 [==============================] - 1s 2ms/step - loss: 0.5241 - val_loss: 0.4619\n",
            "Epoch 12/20\n",
            "363/363 [==============================] - 1s 2ms/step - loss: 0.5158 - val_loss: 0.4562\n",
            "Epoch 13/20\n",
            "363/363 [==============================] - 1s 2ms/step - loss: 0.5087 - val_loss: 0.4496\n",
            "Epoch 14/20\n",
            "363/363 [==============================] - 1s 2ms/step - loss: 0.5025 - val_loss: 0.4463\n",
            "Epoch 15/20\n",
            "363/363 [==============================] - 1s 1ms/step - loss: 0.4971 - val_loss: 0.4411\n",
            "Epoch 16/20\n",
            "363/363 [==============================] - 1s 1ms/step - loss: 0.4921 - val_loss: 0.4384\n",
            "Epoch 17/20\n",
            "363/363 [==============================] - 1s 1ms/step - loss: 0.4875 - val_loss: 0.4341\n",
            "Epoch 18/20\n",
            "363/363 [==============================] - 1s 1ms/step - loss: 0.4833 - val_loss: 0.4313\n",
            "Epoch 19/20\n",
            "363/363 [==============================] - 1s 1ms/step - loss: 0.4793 - val_loss: 0.4288\n",
            "Epoch 20/20\n",
            "363/363 [==============================] - 1s 2ms/step - loss: 0.4756 - val_loss: 0.4256\n",
            "162/162 [==============================] - 0s 1ms/step - loss: 0.4777\n"
          ],
          "name": "stdout"
        }
      ]
    },
    {
      "cell_type": "code",
      "metadata": {
        "id": "HRMrfU0fxBop",
        "colab_type": "code",
        "colab": {}
      },
      "source": [
        "input_A = keras.layers.Input(shape=[5], name=\"wide_input\")\n",
        "input_B = keras.layers.Input(shape=[6], name=\"deep_input\")\n",
        "hidden1 = keras.layers.Dense(30, activation=\"relu\")(input_B)\n",
        "hidden2 = keras.layers.Dense(30, activation=\"relu\")(hidden1)\n",
        "concat = keras.layers.concatenate([input_A, hidden2])\n",
        "output = keras.layers.Dense(1, name=\"main_output\")(concat)\n",
        "aux_output = keras.layers.Dense(1, name=\"aux_output\")(hidden2)\n",
        "model = keras.models.Model(inputs=[input_A, input_B],\n",
        "                           outputs=[output, aux_output])\n",
        "\n",
        "# 입력층은 A,B로 하고 B에 연결하여 은닉층을 연결한다. 결과값은 2개이다. 하나는 은닉층을 연결한 값만 나머지는\n",
        "# 은닉층과 A를 합친 값을 출력한다."
      ],
      "execution_count": null,
      "outputs": []
    },
    {
      "cell_type": "code",
      "metadata": {
        "id": "tYqosmjHxGUM",
        "colab_type": "code",
        "colab": {}
      },
      "source": [
        "model.compile(loss=[\"mse\", \"mse\"], loss_weights=[0.9, 0.1], optimizer=keras.optimizers.SGD(lr=1e-3))\n",
        "\n",
        "#출력값이 2개이기 때문에 손실도 2개로 해야한다."
      ],
      "execution_count": null,
      "outputs": []
    },
    {
      "cell_type": "code",
      "metadata": {
        "id": "SmLNr44vxHW_",
        "colab_type": "code",
        "colab": {
          "base_uri": "https://localhost:8080/",
          "height": 737
        },
        "outputId": "b29dfe33-aae0-4b54-bb36-a735496cf6cd"
      },
      "source": [
        "history = model.fit([X_train_A, X_train_B], [y_train, y_train], epochs=20,\n",
        "                    validation_data=([X_valid_A, X_valid_B], [y_valid, y_valid]))\n",
        "\n",
        "# 모델 학습 시작"
      ],
      "execution_count": null,
      "outputs": [
        {
          "output_type": "stream",
          "text": [
            "Epoch 1/20\n",
            "363/363 [==============================] - 1s 2ms/step - loss: 2.2457 - main_output_loss: 1.9175 - aux_output_loss: 5.1988 - val_loss: 1.1649 - val_main_output_loss: 0.8598 - val_aux_output_loss: 3.9107\n",
            "Epoch 2/20\n",
            "363/363 [==============================] - 1s 2ms/step - loss: 1.0031 - main_output_loss: 0.7465 - aux_output_loss: 3.3124 - val_loss: 0.8273 - val_main_output_loss: 0.6387 - val_aux_output_loss: 2.5245\n",
            "Epoch 3/20\n",
            "363/363 [==============================] - 1s 2ms/step - loss: 0.8180 - main_output_loss: 0.6572 - aux_output_loss: 2.2658 - val_loss: 0.7026 - val_main_output_loss: 0.5826 - val_aux_output_loss: 1.7831\n",
            "Epoch 4/20\n",
            "363/363 [==============================] - 1s 2ms/step - loss: 0.7294 - main_output_loss: 0.6205 - aux_output_loss: 1.7096 - val_loss: 0.6376 - val_main_output_loss: 0.5535 - val_aux_output_loss: 1.3946\n",
            "Epoch 5/20\n",
            "363/363 [==============================] - 1s 2ms/step - loss: 0.6775 - main_output_loss: 0.5951 - aux_output_loss: 1.4198 - val_loss: 0.5979 - val_main_output_loss: 0.5312 - val_aux_output_loss: 1.1977\n",
            "Epoch 6/20\n",
            "363/363 [==============================] - 1s 2ms/step - loss: 0.6439 - main_output_loss: 0.5743 - aux_output_loss: 1.2700 - val_loss: 0.5729 - val_main_output_loss: 0.5153 - val_aux_output_loss: 1.0913\n",
            "Epoch 7/20\n",
            "363/363 [==============================] - 1s 2ms/step - loss: 0.6202 - main_output_loss: 0.5574 - aux_output_loss: 1.1850 - val_loss: 0.5523 - val_main_output_loss: 0.4986 - val_aux_output_loss: 1.0362\n",
            "Epoch 8/20\n",
            "363/363 [==============================] - 1s 2ms/step - loss: 0.6023 - main_output_loss: 0.5433 - aux_output_loss: 1.1330 - val_loss: 0.5368 - val_main_output_loss: 0.4856 - val_aux_output_loss: 0.9971\n",
            "Epoch 9/20\n",
            "363/363 [==============================] - 1s 2ms/step - loss: 0.5875 - main_output_loss: 0.5312 - aux_output_loss: 1.0941 - val_loss: 0.5248 - val_main_output_loss: 0.4756 - val_aux_output_loss: 0.9684\n",
            "Epoch 10/20\n",
            "363/363 [==============================] - 1s 2ms/step - loss: 0.5753 - main_output_loss: 0.5210 - aux_output_loss: 1.0640 - val_loss: 0.5146 - val_main_output_loss: 0.4667 - val_aux_output_loss: 0.9459\n",
            "Epoch 11/20\n",
            "363/363 [==============================] - 1s 2ms/step - loss: 0.5648 - main_output_loss: 0.5122 - aux_output_loss: 1.0390 - val_loss: 0.5065 - val_main_output_loss: 0.4600 - val_aux_output_loss: 0.9249\n",
            "Epoch 12/20\n",
            "363/363 [==============================] - 1s 2ms/step - loss: 0.5561 - main_output_loss: 0.5051 - aux_output_loss: 1.0154 - val_loss: 0.4985 - val_main_output_loss: 0.4531 - val_aux_output_loss: 0.9075\n",
            "Epoch 13/20\n",
            "363/363 [==============================] - 1s 2ms/step - loss: 0.5485 - main_output_loss: 0.4988 - aux_output_loss: 0.9955 - val_loss: 0.4932 - val_main_output_loss: 0.4489 - val_aux_output_loss: 0.8918\n",
            "Epoch 14/20\n",
            "363/363 [==============================] - 1s 2ms/step - loss: 0.5418 - main_output_loss: 0.4935 - aux_output_loss: 0.9768 - val_loss: 0.4871 - val_main_output_loss: 0.4437 - val_aux_output_loss: 0.8774\n",
            "Epoch 15/20\n",
            "363/363 [==============================] - 1s 2ms/step - loss: 0.5357 - main_output_loss: 0.4885 - aux_output_loss: 0.9607 - val_loss: 0.4818 - val_main_output_loss: 0.4395 - val_aux_output_loss: 0.8621\n",
            "Epoch 16/20\n",
            "363/363 [==============================] - 1s 2ms/step - loss: 0.5302 - main_output_loss: 0.4843 - aux_output_loss: 0.9435 - val_loss: 0.4786 - val_main_output_loss: 0.4374 - val_aux_output_loss: 0.8493\n",
            "Epoch 17/20\n",
            "363/363 [==============================] - 1s 2ms/step - loss: 0.5254 - main_output_loss: 0.4808 - aux_output_loss: 0.9276 - val_loss: 0.4732 - val_main_output_loss: 0.4327 - val_aux_output_loss: 0.8371\n",
            "Epoch 18/20\n",
            "363/363 [==============================] - 1s 2ms/step - loss: 0.5209 - main_output_loss: 0.4771 - aux_output_loss: 0.9152 - val_loss: 0.4703 - val_main_output_loss: 0.4309 - val_aux_output_loss: 0.8251\n",
            "Epoch 19/20\n",
            "363/363 [==============================] - 1s 2ms/step - loss: 0.5165 - main_output_loss: 0.4738 - aux_output_loss: 0.9014 - val_loss: 0.4669 - val_main_output_loss: 0.4283 - val_aux_output_loss: 0.8144\n",
            "Epoch 20/20\n",
            "363/363 [==============================] - 1s 2ms/step - loss: 0.5127 - main_output_loss: 0.4710 - aux_output_loss: 0.8880 - val_loss: 0.4627 - val_main_output_loss: 0.4247 - val_aux_output_loss: 0.8046\n"
          ],
          "name": "stdout"
        }
      ]
    },
    {
      "cell_type": "code",
      "metadata": {
        "id": "1WZLEB7SxeEC",
        "colab_type": "code",
        "colab": {
          "base_uri": "https://localhost:8080/",
          "height": 35
        },
        "outputId": "0f0b56ec-6942-4954-dce5-e282492d3c20"
      },
      "source": [
        "total_loss, main_loss, aux_loss = model.evaluate(\n",
        "    [X_test_A, X_test_B], [y_test, y_test])\n",
        "y_pred_main, y_pred_aux = model.predict([X_new_A, X_new_B])"
      ],
      "execution_count": null,
      "outputs": [
        {
          "output_type": "stream",
          "text": [
            "162/162 [==============================] - 0s 1ms/step - loss: 0.5144 - main_output_loss: 0.4724 - aux_output_loss: 0.8926\n"
          ],
          "name": "stdout"
        }
      ]
    },
    {
      "cell_type": "code",
      "metadata": {
        "id": "gFR8jL030E6b",
        "colab_type": "code",
        "colab": {
          "base_uri": "https://localhost:8080/",
          "height": 71
        },
        "outputId": "75781760-7d7b-45fd-942a-a2559789c57d"
      },
      "source": [
        "y_pred_main"
      ],
      "execution_count": null,
      "outputs": [
        {
          "output_type": "execute_result",
          "data": {
            "text/plain": [
              "array([[3.268152 ],\n",
              "       [1.7551172],\n",
              "       [0.4096024]], dtype=float32)"
            ]
          },
          "metadata": {
            "tags": []
          },
          "execution_count": 40
        }
      ]
    },
    {
      "cell_type": "code",
      "metadata": {
        "id": "UEceWgYG09Ca",
        "colab_type": "code",
        "colab": {}
      },
      "source": [
        "class WideAndDeepModel(keras.models.Model):\n",
        "    def __init__(self, units=30, activation=\"relu\", **kwargs):\n",
        "        super().__init__(**kwargs)\n",
        "        self.hidden1 = keras.layers.Dense(units, activation=activation)\n",
        "        self.hidden2 = keras.layers.Dense(units, activation=activation)\n",
        "        self.main_output = keras.layers.Dense(1)\n",
        "        self.aux_output = keras.layers.Dense(1)\n",
        "        \n",
        "    def call(self, inputs):\n",
        "        input_A, input_B = inputs\n",
        "        hidden1 = self.hidden1(input_B)\n",
        "        hidden2 = self.hidden2(hidden1)\n",
        "        concat = keras.layers.concatenate([input_A, hidden2])\n",
        "        main_output = self.main_output(concat)\n",
        "        aux_output = self.aux_output(hidden2)\n",
        "        return main_output, aux_output\n",
        "\n",
        "model = WideAndDeepModel(30, activation=\"relu\")\n",
        "\n",
        "# 클래스형 선언 모델한다. "
      ],
      "execution_count": null,
      "outputs": []
    },
    {
      "cell_type": "code",
      "metadata": {
        "id": "KozOre4f0-tx",
        "colab_type": "code",
        "colab": {
          "base_uri": "https://localhost:8080/",
          "height": 395
        },
        "outputId": "be03599d-9134-4707-c5fb-952246ff5e10"
      },
      "source": [
        "\n",
        "model.compile(loss=\"mse\", loss_weights=[0.9, 0.1], optimizer=keras.optimizers.SGD(lr=1e-3))\n",
        "history = model.fit((X_train_A, X_train_B), (y_train, y_train), epochs=10,\n",
        "                    validation_data=((X_valid_A, X_valid_B), (y_valid, y_valid)))\n",
        "total_loss, main_loss, aux_loss = model.evaluate((X_test_A, X_test_B), (y_test, y_test))\n",
        "y_pred_main, y_pred_aux = model.predict((X_new_A, X_new_B))"
      ],
      "execution_count": null,
      "outputs": [
        {
          "output_type": "stream",
          "text": [
            "Epoch 1/10\n",
            "363/363 [==============================] - 1s 2ms/step - loss: 2.7740 - output_1_loss: 2.4008 - output_2_loss: 6.1326 - val_loss: 1.3484 - val_output_1_loss: 0.9234 - val_output_2_loss: 5.1733\n",
            "Epoch 2/10\n",
            "363/363 [==============================] - 1s 2ms/step - loss: 1.2079 - output_1_loss: 0.8464 - output_2_loss: 4.4617 - val_loss: 0.9797 - val_output_1_loss: 0.7008 - val_output_2_loss: 3.4900\n",
            "Epoch 3/10\n",
            "363/363 [==============================] - 1s 2ms/step - loss: 0.9555 - output_1_loss: 0.7151 - output_2_loss: 3.1192 - val_loss: 0.8120 - val_output_1_loss: 0.6265 - val_output_2_loss: 2.4815\n",
            "Epoch 4/10\n",
            "363/363 [==============================] - 1s 2ms/step - loss: 0.8241 - output_1_loss: 0.6589 - output_2_loss: 2.3109 - val_loss: 0.7175 - val_output_1_loss: 0.5847 - val_output_2_loss: 1.9127\n",
            "Epoch 5/10\n",
            "363/363 [==============================] - 1s 2ms/step - loss: 0.7439 - output_1_loss: 0.6216 - output_2_loss: 1.8450 - val_loss: 0.6554 - val_output_1_loss: 0.5522 - val_output_2_loss: 1.5836\n",
            "Epoch 6/10\n",
            "363/363 [==============================] - 1s 2ms/step - loss: 0.6908 - output_1_loss: 0.5925 - output_2_loss: 1.5759 - val_loss: 0.6147 - val_output_1_loss: 0.5269 - val_output_2_loss: 1.4056\n",
            "Epoch 7/10\n",
            "363/363 [==============================] - 1s 2ms/step - loss: 0.6538 - output_1_loss: 0.5685 - output_2_loss: 1.4217 - val_loss: 0.5879 - val_output_1_loss: 0.5085 - val_output_2_loss: 1.3021\n",
            "Epoch 8/10\n",
            "363/363 [==============================] - 1s 2ms/step - loss: 0.6273 - output_1_loss: 0.5492 - output_2_loss: 1.3309 - val_loss: 0.5643 - val_output_1_loss: 0.4920 - val_output_2_loss: 1.2145\n",
            "Epoch 9/10\n",
            "363/363 [==============================] - 1s 2ms/step - loss: 0.6085 - output_1_loss: 0.5355 - output_2_loss: 1.2662 - val_loss: 0.5480 - val_output_1_loss: 0.4800 - val_output_2_loss: 1.1605\n",
            "Epoch 10/10\n",
            "363/363 [==============================] - 1s 2ms/step - loss: 0.5935 - output_1_loss: 0.5241 - output_2_loss: 1.2184 - val_loss: 0.5489 - val_output_1_loss: 0.4835 - val_output_2_loss: 1.1375\n",
            "162/162 [==============================] - 0s 1ms/step - loss: 0.6098 - output_1_loss: 0.5295 - output_2_loss: 1.3327\n"
          ],
          "name": "stdout"
        }
      ]
    },
    {
      "cell_type": "code",
      "metadata": {
        "id": "1tLg5P1H1MU0",
        "colab_type": "code",
        "colab": {
          "base_uri": "https://localhost:8080/",
          "height": 305
        },
        "outputId": "171de293-4fb3-4efc-c4ef-644cf5348c31"
      },
      "source": [
        "model.summary()"
      ],
      "execution_count": null,
      "outputs": [
        {
          "output_type": "stream",
          "text": [
            "Model: \"wide_and_deep_model\"\n",
            "_________________________________________________________________\n",
            "Layer (type)                 Output Shape              Param #   \n",
            "=================================================================\n",
            "dense_12 (Dense)             multiple                  210       \n",
            "_________________________________________________________________\n",
            "dense_13 (Dense)             multiple                  930       \n",
            "_________________________________________________________________\n",
            "dense_14 (Dense)             multiple                  36        \n",
            "_________________________________________________________________\n",
            "dense_15 (Dense)             multiple                  31        \n",
            "=================================================================\n",
            "Total params: 1,207\n",
            "Trainable params: 1,207\n",
            "Non-trainable params: 0\n",
            "_________________________________________________________________\n"
          ],
          "name": "stdout"
        }
      ]
    },
    {
      "cell_type": "code",
      "metadata": {
        "id": "KavKuUlI_bqn",
        "colab_type": "code",
        "colab": {}
      },
      "source": [
        ""
      ],
      "execution_count": null,
      "outputs": []
    }
  ]
}