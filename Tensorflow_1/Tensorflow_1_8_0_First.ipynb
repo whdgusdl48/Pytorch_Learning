{
  "nbformat": 4,
  "nbformat_minor": 0,
  "metadata": {
    "colab": {
      "name": "Tensorflow_1.8.0_FirstLearning",
      "provenance": []
    },
    "kernelspec": {
      "name": "python3",
      "display_name": "Python 3"
    }
  },
  "cells": [
    {
      "cell_type": "code",
      "metadata": {
        "id": "nqEcn6RExfuc",
        "colab_type": "code",
        "colab": {
          "base_uri": "https://localhost:8080/",
          "height": 829
        },
        "outputId": "9becc252-66fa-4f5d-a28b-c668d714ee2e"
      },
      "source": [
        "!pip install tensorflow==1.8.0"
      ],
      "execution_count": 1,
      "outputs": [
        {
          "output_type": "stream",
          "text": [
            "Collecting tensorflow==1.8.0\n",
            "\u001b[?25l  Downloading https://files.pythonhosted.org/packages/22/c6/d08f7c549330c2acc1b18b5c1f0f8d9d2af92f54d56861f331f372731671/tensorflow-1.8.0-cp36-cp36m-manylinux1_x86_64.whl (49.1MB)\n",
            "\u001b[K     |████████████████████████████████| 49.1MB 84kB/s \n",
            "\u001b[?25hRequirement already satisfied: absl-py>=0.1.6 in /usr/local/lib/python3.6/dist-packages (from tensorflow==1.8.0) (0.10.0)\n",
            "Collecting tensorboard<1.9.0,>=1.8.0\n",
            "\u001b[?25l  Downloading https://files.pythonhosted.org/packages/59/a6/0ae6092b7542cfedba6b2a1c9b8dceaf278238c39484f3ba03b03f07803c/tensorboard-1.8.0-py3-none-any.whl (3.1MB)\n",
            "\u001b[K     |████████████████████████████████| 3.1MB 56.7MB/s \n",
            "\u001b[?25hRequirement already satisfied: gast>=0.2.0 in /usr/local/lib/python3.6/dist-packages (from tensorflow==1.8.0) (0.3.3)\n",
            "Requirement already satisfied: protobuf>=3.4.0 in /usr/local/lib/python3.6/dist-packages (from tensorflow==1.8.0) (3.12.4)\n",
            "Requirement already satisfied: grpcio>=1.8.6 in /usr/local/lib/python3.6/dist-packages (from tensorflow==1.8.0) (1.32.0)\n",
            "Requirement already satisfied: termcolor>=1.1.0 in /usr/local/lib/python3.6/dist-packages (from tensorflow==1.8.0) (1.1.0)\n",
            "Requirement already satisfied: six>=1.10.0 in /usr/local/lib/python3.6/dist-packages (from tensorflow==1.8.0) (1.15.0)\n",
            "Requirement already satisfied: numpy>=1.13.3 in /usr/local/lib/python3.6/dist-packages (from tensorflow==1.8.0) (1.18.5)\n",
            "Requirement already satisfied: astor>=0.6.0 in /usr/local/lib/python3.6/dist-packages (from tensorflow==1.8.0) (0.8.1)\n",
            "Requirement already satisfied: wheel>=0.26 in /usr/local/lib/python3.6/dist-packages (from tensorflow==1.8.0) (0.35.1)\n",
            "Collecting bleach==1.5.0\n",
            "  Downloading https://files.pythonhosted.org/packages/33/70/86c5fec937ea4964184d4d6c4f0b9551564f821e1c3575907639036d9b90/bleach-1.5.0-py2.py3-none-any.whl\n",
            "Requirement already satisfied: werkzeug>=0.11.10 in /usr/local/lib/python3.6/dist-packages (from tensorboard<1.9.0,>=1.8.0->tensorflow==1.8.0) (1.0.1)\n",
            "Requirement already satisfied: markdown>=2.6.8 in /usr/local/lib/python3.6/dist-packages (from tensorboard<1.9.0,>=1.8.0->tensorflow==1.8.0) (3.2.2)\n",
            "Collecting html5lib==0.9999999\n",
            "\u001b[?25l  Downloading https://files.pythonhosted.org/packages/ae/ae/bcb60402c60932b32dfaf19bb53870b29eda2cd17551ba5639219fb5ebf9/html5lib-0.9999999.tar.gz (889kB)\n",
            "\u001b[K     |████████████████████████████████| 890kB 43.7MB/s \n",
            "\u001b[?25hRequirement already satisfied: setuptools in /usr/local/lib/python3.6/dist-packages (from protobuf>=3.4.0->tensorflow==1.8.0) (50.3.0)\n",
            "Requirement already satisfied: importlib-metadata; python_version < \"3.8\" in /usr/local/lib/python3.6/dist-packages (from markdown>=2.6.8->tensorboard<1.9.0,>=1.8.0->tensorflow==1.8.0) (1.7.0)\n",
            "Requirement already satisfied: zipp>=0.5 in /usr/local/lib/python3.6/dist-packages (from importlib-metadata; python_version < \"3.8\"->markdown>=2.6.8->tensorboard<1.9.0,>=1.8.0->tensorflow==1.8.0) (3.1.0)\n",
            "Building wheels for collected packages: html5lib\n",
            "  Building wheel for html5lib (setup.py) ... \u001b[?25l\u001b[?25hdone\n",
            "  Created wheel for html5lib: filename=html5lib-0.9999999-cp36-none-any.whl size=107220 sha256=e068b47dd2bda8998180dc9df3fb5cee44b1e48eeef9b93e3cf1abe971a8501c\n",
            "  Stored in directory: /root/.cache/pip/wheels/50/ae/f9/d2b189788efcf61d1ee0e36045476735c838898eef1cad6e29\n",
            "Successfully built html5lib\n",
            "Installing collected packages: html5lib, bleach, tensorboard, tensorflow\n",
            "  Found existing installation: html5lib 1.0.1\n",
            "    Uninstalling html5lib-1.0.1:\n",
            "      Successfully uninstalled html5lib-1.0.1\n",
            "  Found existing installation: bleach 3.1.5\n",
            "    Uninstalling bleach-3.1.5:\n",
            "      Successfully uninstalled bleach-3.1.5\n",
            "  Found existing installation: tensorboard 2.3.0\n",
            "    Uninstalling tensorboard-2.3.0:\n",
            "      Successfully uninstalled tensorboard-2.3.0\n",
            "  Found existing installation: tensorflow 2.3.0\n",
            "    Uninstalling tensorflow-2.3.0:\n",
            "      Successfully uninstalled tensorflow-2.3.0\n",
            "Successfully installed bleach-1.5.0 html5lib-0.9999999 tensorboard-1.8.0 tensorflow-1.8.0\n"
          ],
          "name": "stdout"
        }
      ]
    },
    {
      "cell_type": "code",
      "metadata": {
        "id": "R2pNuwopx0wY",
        "colab_type": "code",
        "colab": {
          "base_uri": "https://localhost:8080/",
          "height": 271
        },
        "outputId": "e33079ac-96f8-47a4-c884-58bca77b96b4"
      },
      "source": [
        "import tensorflow as tf\n",
        "\n",
        "tf.__version__"
      ],
      "execution_count": 1,
      "outputs": [
        {
          "output_type": "stream",
          "text": [
            "/usr/local/lib/python3.6/dist-packages/tensorflow/python/framework/dtypes.py:519: FutureWarning: Passing (type, 1) or '1type' as a synonym of type is deprecated; in a future version of numpy, it will be understood as (type, (1,)) / '(1,)type'.\n",
            "  _np_qint8 = np.dtype([(\"qint8\", np.int8, 1)])\n",
            "/usr/local/lib/python3.6/dist-packages/tensorflow/python/framework/dtypes.py:520: FutureWarning: Passing (type, 1) or '1type' as a synonym of type is deprecated; in a future version of numpy, it will be understood as (type, (1,)) / '(1,)type'.\n",
            "  _np_quint8 = np.dtype([(\"quint8\", np.uint8, 1)])\n",
            "/usr/local/lib/python3.6/dist-packages/tensorflow/python/framework/dtypes.py:521: FutureWarning: Passing (type, 1) or '1type' as a synonym of type is deprecated; in a future version of numpy, it will be understood as (type, (1,)) / '(1,)type'.\n",
            "  _np_qint16 = np.dtype([(\"qint16\", np.int16, 1)])\n",
            "/usr/local/lib/python3.6/dist-packages/tensorflow/python/framework/dtypes.py:522: FutureWarning: Passing (type, 1) or '1type' as a synonym of type is deprecated; in a future version of numpy, it will be understood as (type, (1,)) / '(1,)type'.\n",
            "  _np_quint16 = np.dtype([(\"quint16\", np.uint16, 1)])\n",
            "/usr/local/lib/python3.6/dist-packages/tensorflow/python/framework/dtypes.py:523: FutureWarning: Passing (type, 1) or '1type' as a synonym of type is deprecated; in a future version of numpy, it will be understood as (type, (1,)) / '(1,)type'.\n",
            "  _np_qint32 = np.dtype([(\"qint32\", np.int32, 1)])\n",
            "/usr/local/lib/python3.6/dist-packages/tensorflow/python/framework/dtypes.py:528: FutureWarning: Passing (type, 1) or '1type' as a synonym of type is deprecated; in a future version of numpy, it will be understood as (type, (1,)) / '(1,)type'.\n",
            "  np_resource = np.dtype([(\"resource\", np.ubyte, 1)])\n"
          ],
          "name": "stderr"
        },
        {
          "output_type": "execute_result",
          "data": {
            "application/vnd.google.colaboratory.intrinsic+json": {
              "type": "string"
            },
            "text/plain": [
              "'1.8.0'"
            ]
          },
          "metadata": {
            "tags": []
          },
          "execution_count": 1
        }
      ]
    },
    {
      "cell_type": "code",
      "metadata": {
        "id": "YGuZNboZx48x",
        "colab_type": "code",
        "colab": {
          "base_uri": "https://localhost:8080/",
          "height": 35
        },
        "outputId": "81123152-1e76-4ebb-dc9e-7a0973904f9c"
      },
      "source": [
        "hello = tf.constant('Hello Tensorflow!')\n",
        "print(hello)"
      ],
      "execution_count": 2,
      "outputs": [
        {
          "output_type": "stream",
          "text": [
            "Tensor(\"Const:0\", shape=(), dtype=string)\n"
          ],
          "name": "stdout"
        }
      ]
    },
    {
      "cell_type": "code",
      "metadata": {
        "id": "oM3c75YyyBPm",
        "colab_type": "code",
        "colab": {
          "base_uri": "https://localhost:8080/",
          "height": 35
        },
        "outputId": "c35eba28-a5b0-4c5d-d489-7c1741360289"
      },
      "source": [
        "a = tf.constant(10)\n",
        "b = tf.constant(23)\n",
        "c = tf.add(a, b)\n",
        "print(c)"
      ],
      "execution_count": 3,
      "outputs": [
        {
          "output_type": "stream",
          "text": [
            "Tensor(\"Add:0\", shape=(), dtype=int32)\n"
          ],
          "name": "stdout"
        }
      ]
    },
    {
      "cell_type": "code",
      "metadata": {
        "id": "Kcx8thZuyHd7",
        "colab_type": "code",
        "colab": {
          "base_uri": "https://localhost:8080/",
          "height": 53
        },
        "outputId": "027c86aa-aee8-4888-83ac-8ca3746285da"
      },
      "source": [
        "sess = tf.Session()\n",
        "\n",
        "print(sess.run(hello))\n",
        "print(sess.run([a,b,c]))\n",
        "\n",
        "sess.close()"
      ],
      "execution_count": 6,
      "outputs": [
        {
          "output_type": "stream",
          "text": [
            "b'Hello Tensorflow!'\n",
            "[10, 23, 33]\n"
          ],
          "name": "stdout"
        }
      ]
    },
    {
      "cell_type": "code",
      "metadata": {
        "id": "s7YDdArMyw9p",
        "colab_type": "code",
        "colab": {
          "base_uri": "https://localhost:8080/",
          "height": 35
        },
        "outputId": "fcbac8f7-aaf0-446e-ab0e-cc02caefceb5"
      },
      "source": [
        "X = tf.placeholder(tf.float32,[None,3])\n",
        "print(X)"
      ],
      "execution_count": 7,
      "outputs": [
        {
          "output_type": "stream",
          "text": [
            "Tensor(\"Placeholder:0\", shape=(?, 3), dtype=float32)\n"
          ],
          "name": "stdout"
        }
      ]
    },
    {
      "cell_type": "code",
      "metadata": {
        "id": "H1GnVNI-zYim",
        "colab_type": "code",
        "colab": {}
      },
      "source": [
        "x_data = [[1,2,3],[4,5,6]]"
      ],
      "execution_count": 8,
      "outputs": []
    },
    {
      "cell_type": "code",
      "metadata": {
        "id": "kTr7Q6CGziuu",
        "colab_type": "code",
        "colab": {}
      },
      "source": [
        "W = tf.Variable(tf.random_normal([3,2]))\n",
        "b = tf.Variable(tf.random_normal([2,1]))"
      ],
      "execution_count": 9,
      "outputs": []
    },
    {
      "cell_type": "code",
      "metadata": {
        "id": "MzpoH7n4zu68",
        "colab_type": "code",
        "colab": {}
      },
      "source": [
        "expr = tf.matmul(X,W) + b"
      ],
      "execution_count": 10,
      "outputs": []
    },
    {
      "cell_type": "code",
      "metadata": {
        "id": "iAkDAEYazy_i",
        "colab_type": "code",
        "colab": {
          "base_uri": "https://localhost:8080/",
          "height": 233
        },
        "outputId": "1d546d68-eb94-4007-a228-160b043d5911"
      },
      "source": [
        "sess = tf.Session()\n",
        "\n",
        "sess.run(tf.global_variables_initializer())\n",
        "\n",
        "print(\"=== x_data ===\")\n",
        "print(x_data)\n",
        "print(\"=== W ===\")\n",
        "print(sess.run(W))\n",
        "print(\"=== b ===\")\n",
        "print(sess.run(b))\n",
        "print(\"=== expr ===\")\n",
        "print(sess.run(expr, feed_dict={X: x_data}))\n",
        "sess.close()"
      ],
      "execution_count": 11,
      "outputs": [
        {
          "output_type": "stream",
          "text": [
            "=== x_data ===\n",
            "[[1, 2, 3], [4, 5, 6]]\n",
            "=== W ===\n",
            "[[ 0.13295     0.19532321]\n",
            " [-1.053838    0.6812584 ]\n",
            " [ 0.07066993 -0.74535877]]\n",
            "=== b ===\n",
            "[[-0.8083832]\n",
            " [ 1.6995168]]\n",
            "=== expr ===\n",
            "[[-2.5710995 -1.4866196]\n",
            " [-2.6138535  1.4149489]]\n"
          ],
          "name": "stdout"
        }
      ]
    },
    {
      "cell_type": "code",
      "metadata": {
        "id": "UOHMCrwU1hrj",
        "colab_type": "code",
        "colab": {
          "base_uri": "https://localhost:8080/",
          "height": 53
        },
        "outputId": "052858cd-5b97-444e-ad9a-363853145278"
      },
      "source": [
        "# Simple Linear Regression\n",
        "\n",
        "x_data = [1, 2, 3]\n",
        "y_data = [1, 2, 3]\n",
        "\n",
        "W = tf.Variable(tf.random_uniform([1], -1.0, 1.0))\n",
        "b = tf.Variable(tf.random_uniform([1], -1.0, 1.0))\n",
        "\n",
        "X = tf.placeholder(tf.float32, name=\"X\")\n",
        "Y = tf.placeholder(tf.float32, name=\"Y\")\n",
        "print(X)\n",
        "print(Y)"
      ],
      "execution_count": 12,
      "outputs": [
        {
          "output_type": "stream",
          "text": [
            "Tensor(\"X:0\", dtype=float32)\n",
            "Tensor(\"Y:0\", dtype=float32)\n"
          ],
          "name": "stdout"
        }
      ]
    },
    {
      "cell_type": "code",
      "metadata": {
        "id": "5rdmE5671t7h",
        "colab_type": "code",
        "colab": {}
      },
      "source": [
        "hypothesis = W * X + b"
      ],
      "execution_count": 13,
      "outputs": []
    },
    {
      "cell_type": "code",
      "metadata": {
        "id": "R4ekZy541vNJ",
        "colab_type": "code",
        "colab": {}
      },
      "source": [
        "cost = tf.reduce_mean(tf.square(hypothesis - Y))"
      ],
      "execution_count": 14,
      "outputs": []
    },
    {
      "cell_type": "code",
      "metadata": {
        "id": "EOsL63Bh1w3H",
        "colab_type": "code",
        "colab": {}
      },
      "source": [
        "optimizer = tf.train.GradientDescentOptimizer(learning_rate=0.1)"
      ],
      "execution_count": 15,
      "outputs": []
    },
    {
      "cell_type": "code",
      "metadata": {
        "id": "UwcE5kwC1zOh",
        "colab_type": "code",
        "colab": {}
      },
      "source": [
        "train_op = optimizer.minimize(cost)"
      ],
      "execution_count": 16,
      "outputs": []
    },
    {
      "cell_type": "code",
      "metadata": {
        "id": "PQwgGnQQ10lH",
        "colab_type": "code",
        "colab": {
          "base_uri": "https://localhost:8080/",
          "height": 1000
        },
        "outputId": "530159c9-8b78-43bd-a4f2-e2612eb99a12"
      },
      "source": [
        "with tf.Session() as sess:\n",
        "    sess.run(tf.global_variables_initializer())\n",
        "\n",
        "    for step in range(100):\n",
        "        _, cost_val = sess.run([train_op, cost], feed_dict={X: x_data, Y: y_data})\n",
        "\n",
        "        print(step, cost_val, sess.run(W), sess.run(b))\n",
        "\n",
        "    print(\"\\n=== Test ===\")\n",
        "    print(\"X: 5, Y:\", sess.run(hypothesis, feed_dict={X: 5}))\n",
        "    print(\"X: 2.5, Y:\", sess.run(hypothesis, feed_dict={X: 2.5}))"
      ],
      "execution_count": 18,
      "outputs": [
        {
          "output_type": "stream",
          "text": [
            "0 4.3867874 [1.1890832] [-0.18865547]\n",
            "1 0.05974945 [1.0880677] [-0.22655769]\n",
            "2 0.007713026 [1.0964942] [-0.2164732]\n",
            "3 0.006758963 [1.0930222] [-0.21177626]\n",
            "4 0.006430877 [1.090912] [-0.20662989]\n",
            "5 0.0061253253 [1.0887127] [-0.20166871]\n",
            "6 0.0058343685 [1.0865817] [-0.19682004]\n",
            "7 0.0055572297 [1.0845001] [-0.19208871]\n",
            "8 0.0052932627 [1.0824687] [-0.187471]\n",
            "9 0.005041828 [1.0804863] [-0.1829643]\n",
            "10 0.004802332 [1.0785515] [-0.17856595]\n",
            "11 0.0045742188 [1.0766631] [-0.17427337]\n",
            "12 0.0043569384 [1.0748203] [-0.17008395]\n",
            "13 0.00414998 [1.0730217] [-0.16599527]\n",
            "14 0.00395285 [1.0712662] [-0.16200487]\n",
            "15 0.0037650887 [1.069553] [-0.15811037]\n",
            "16 0.0035862506 [1.067881] [-0.15430951]\n",
            "17 0.0034158928 [1.0662493] [-0.1506]\n",
            "18 0.0032536378 [1.0646566] [-0.1469797]\n",
            "19 0.0030990818 [1.0631024] [-0.1434464]\n",
            "20 0.0029518828 [1.0615854] [-0.13999806]\n",
            "21 0.0028116691 [1.0601048] [-0.13663262]\n",
            "22 0.0026781065 [1.05866] [-0.13334803]\n",
            "23 0.002550897 [1.0572499] [-0.13014245]\n",
            "24 0.0024297235 [1.0558736] [-0.1270139]\n",
            "25 0.0023143126 [1.0545305] [-0.12396058]\n",
            "26 0.0022043793 [1.0532196] [-0.12098066]\n",
            "27 0.0020996693 [1.0519402] [-0.11807235]\n",
            "28 0.0019999358 [1.0506916] [-0.11523396]\n",
            "29 0.0019049369 [1.049473] [-0.11246382]\n",
            "30 0.0018144535 [1.0482837] [-0.10976028]\n",
            "31 0.0017282654 [1.047123] [-0.10712171]\n",
            "32 0.0016461681 [1.0459902] [-0.10454655]\n",
            "33 0.0015679741 [1.0448847] [-0.10203333]\n",
            "34 0.0014934934 [1.0438056] [-0.09958053]\n",
            "35 0.0014225518 [1.0427526] [-0.09718667]\n",
            "36 0.0013549806 [1.0417248] [-0.09485038]\n",
            "37 0.0012906207 [1.0407218] [-0.09257024]\n",
            "38 0.0012293081 [1.039743] [-0.09034489]\n",
            "39 0.0011709194 [1.0387875] [-0.08817309]\n",
            "40 0.001115301 [1.037855] [-0.08605347]\n",
            "41 0.0010623221 [1.0369451] [-0.08398478]\n",
            "42 0.0010118596 [1.0360569] [-0.08196587]\n",
            "43 0.0009637936 [1.0351902] [-0.07999543]\n",
            "44 0.00091801886 [1.0343442] [-0.07807244]\n",
            "45 0.00087440736 [1.0335186] [-0.07619563]\n",
            "46 0.0008328716 [1.0327128] [-0.07436392]\n",
            "47 0.0007933105 [1.0319265] [-0.07257625]\n",
            "48 0.0007556283 [1.0311589] [-0.0708316]\n",
            "49 0.0007197368 [1.0304099] [-0.06912886]\n",
            "50 0.0006855524 [1.0296788] [-0.06746707]\n",
            "51 0.0006529865 [1.0289654] [-0.06584519]\n",
            "52 0.0006219647 [1.0282692] [-0.06426228]\n",
            "53 0.0005924198 [1.0275896] [-0.06271747]\n",
            "54 0.0005642835 [1.0269263] [-0.06120981]\n",
            "55 0.0005374771 [1.026279] [-0.05973835]\n",
            "56 0.00051194715 [1.0256473] [-0.05830226]\n",
            "57 0.00048763314 [1.0250307] [-0.05690074]\n",
            "58 0.00046446882 [1.024429] [-0.05553289]\n",
            "59 0.00044240538 [1.0238417] [-0.0541979]\n",
            "60 0.00042139017 [1.0232686] [-0.05289501]\n",
            "61 0.0004013717 [1.0227093] [-0.05162343]\n",
            "62 0.0003823071 [1.0221634] [-0.05038244]\n",
            "63 0.00036414908 [1.0216305] [-0.04917131]\n",
            "64 0.00034685238 [1.0211105] [-0.04798926]\n",
            "65 0.0003303738 [1.0206031] [-0.04683562]\n",
            "66 0.0003146802 [1.0201079] [-0.04570971]\n",
            "67 0.00029973718 [1.0196244] [-0.04461092]\n",
            "68 0.00028549758 [1.0191526] [-0.04353848]\n",
            "69 0.00027193406 [1.0186923] [-0.04249183]\n",
            "70 0.00025901783 [1.0182428] [-0.04147037]\n",
            "71 0.00024671512 [1.0178044] [-0.04047343]\n",
            "72 0.00023499597 [1.0173763] [-0.03950049]\n",
            "73 0.00022383186 [1.0169586] [-0.03855091]\n",
            "74 0.00021320001 [1.0165509] [-0.03762417]\n",
            "75 0.00020307279 [1.0161531] [-0.03671969]\n",
            "76 0.00019342628 [1.0157647] [-0.03583699]\n",
            "77 0.00018423954 [1.0153857] [-0.03497548]\n",
            "78 0.00017548817 [1.0150158] [-0.03413469]\n",
            "79 0.0001671519 [1.0146549] [-0.03331409]\n",
            "80 0.00015921265 [1.0143026] [-0.03251323]\n",
            "81 0.00015164922 [1.0139588] [-0.03173162]\n",
            "82 0.00014444461 [1.0136232] [-0.03096882]\n",
            "83 0.0001375839 [1.0132958] [-0.03022435]\n",
            "84 0.00013104956 [1.012976] [-0.0294978]\n",
            "85 0.00012482266 [1.0126642] [-0.02878865]\n",
            "86 0.00011889424 [1.0123597] [-0.02809659]\n",
            "87 0.00011324738 [1.0120625] [-0.02742117]\n",
            "88 0.000107867054 [1.0117726] [-0.02676196]\n",
            "89 0.00010274343 [1.0114896] [-0.02611861]\n",
            "90 9.7864075e-05 [1.0112134] [-0.02549075]\n",
            "91 9.321546e-05 [1.0109439] [-0.02487797]\n",
            "92 8.878682e-05 [1.0106808] [-0.02427993]\n",
            "93 8.457099e-05 [1.010424] [-0.02369627]\n",
            "94 8.055221e-05 [1.0101734] [-0.02312662]\n",
            "95 7.67267e-05 [1.0099288] [-0.02257068]\n",
            "96 7.3082476e-05 [1.0096902] [-0.02202809]\n",
            "97 6.9610156e-05 [1.0094572] [-0.02149853]\n",
            "98 6.6304805e-05 [1.0092299] [-0.02098173]\n",
            "99 6.3153995e-05 [1.009008] [-0.02047734]\n",
            "\n",
            "=== Test ===\n",
            "X: 5, Y: [5.024563]\n",
            "X: 2.5, Y: [2.5020428]\n"
          ],
          "name": "stdout"
        }
      ]
    }
  ]
}
