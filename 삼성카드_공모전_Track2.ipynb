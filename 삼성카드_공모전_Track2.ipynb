{
  "nbformat": 4,
  "nbformat_minor": 0,
  "metadata": {
    "colab": {
      "name": "삼성카드 공모전_Track2",
      "provenance": []
    },
    "kernelspec": {
      "name": "python3",
      "display_name": "Python 3"
    }
  },
  "cells": [
    {
      "cell_type": "code",
      "metadata": {
        "id": "R_z9DKHvVm7b",
        "colab_type": "code",
        "colab": {}
      },
      "source": [
        "import pandas as pd\n",
        "import numpy as np\n",
        "import matplotlib.pyplot as plt\n",
        "\n",
        "plt.rc('font', family='NanumBarunGothic') \n",
        "# -*- coding: utf-8 -*-"
      ],
      "execution_count": null,
      "outputs": []
    },
    {
      "cell_type": "code",
      "metadata": {
        "id": "X_Vz-VwKOxsx",
        "colab_type": "code",
        "colab": {
          "base_uri": "https://localhost:8080/",
          "height": 377
        },
        "outputId": "fa8c10ab-141c-4f08-f457-2e70a9dcadc0"
      },
      "source": [
        "!sudo apt-get install -y fonts-nanum\n",
        "!sudo fc-cache -fv\n",
        "!rm ~/.cache/matplotlib -rf"
      ],
      "execution_count": null,
      "outputs": [
        {
          "output_type": "stream",
          "text": [
            "Reading package lists... Done\n",
            "Building dependency tree       \n",
            "Reading state information... Done\n",
            "fonts-nanum is already the newest version (20170925-1).\n",
            "The following package was automatically installed and is no longer required:\n",
            "  libnvidia-common-440\n",
            "Use 'sudo apt autoremove' to remove it.\n",
            "0 upgraded, 0 newly installed, 0 to remove and 39 not upgraded.\n",
            "/usr/share/fonts: caching, new cache contents: 0 fonts, 1 dirs\n",
            "/usr/share/fonts/truetype: caching, new cache contents: 0 fonts, 3 dirs\n",
            "/usr/share/fonts/truetype/humor-sans: caching, new cache contents: 1 fonts, 0 dirs\n",
            "/usr/share/fonts/truetype/liberation: caching, new cache contents: 16 fonts, 0 dirs\n",
            "/usr/share/fonts/truetype/nanum: caching, new cache contents: 10 fonts, 0 dirs\n",
            "/usr/local/share/fonts: caching, new cache contents: 0 fonts, 0 dirs\n",
            "/root/.local/share/fonts: skipping, no such directory\n",
            "/root/.fonts: skipping, no such directory\n",
            "/var/cache/fontconfig: cleaning cache directory\n",
            "/root/.cache/fontconfig: not cleaning non-existent cache directory\n",
            "/root/.fontconfig: not cleaning non-existent cache directory\n",
            "fc-cache: succeeded\n"
          ],
          "name": "stdout"
        }
      ]
    },
    {
      "cell_type": "code",
      "metadata": {
        "id": "yrBsr4n6V0oq",
        "colab_type": "code",
        "colab": {
          "base_uri": "https://localhost:8080/",
          "height": 215
        },
        "outputId": "35794f66-76e4-4853-d9c2-9daac5a0cf61"
      },
      "source": [
        "data = pd.read_csv('data.csv',encoding='CP949')\n",
        "data\n",
        "data['Category'].value_counts()"
      ],
      "execution_count": null,
      "outputs": [
        {
          "output_type": "execute_result",
          "data": {
            "text/plain": [
              "전문몰        126062\n",
              "디저트         89743\n",
              "할인점         84636\n",
              "오픈마켓/소셜     80742\n",
              "뷰티          20453\n",
              "취미          18449\n",
              "종합몰         16119\n",
              "호텔/숙박        8005\n",
              "항공/여행사       5761\n",
              "면세점          2068\n",
              "Name: Category, dtype: int64"
            ]
          },
          "metadata": {
            "tags": []
          },
          "execution_count": 93
        }
      ]
    },
    {
      "cell_type": "code",
      "metadata": {
        "id": "TZz3g0AHWuUT",
        "colab_type": "code",
        "colab": {
          "base_uri": "https://localhost:8080/",
          "height": 323
        },
        "outputId": "5bd773c4-cfad-4e8e-afc0-7e8e2a27dba2"
      },
      "source": [
        "data.info()\n"
      ],
      "execution_count": null,
      "outputs": [
        {
          "output_type": "stream",
          "text": [
            "<class 'pandas.core.frame.DataFrame'>\n",
            "RangeIndex: 452038 entries, 0 to 452037\n",
            "Data columns (total 10 columns):\n",
            " #   Column     Non-Null Count   Dtype \n",
            "---  ------     --------------   ----- \n",
            " 0   YM         452038 non-null  int64 \n",
            " 1   Category   452038 non-null  object\n",
            " 2   성별구분       452038 non-null  int64 \n",
            " 3   연령대        452038 non-null  object\n",
            " 4   기혼스코어      452038 non-null  object\n",
            " 5   유아자녀스코어    452038 non-null  object\n",
            " 6   초등학생자녀스코어  452038 non-null  object\n",
            " 7   중고생자녀스코어   452038 non-null  object\n",
            " 8   대학생자녀스코어   452038 non-null  object\n",
            " 9   전업주부스코어    452038 non-null  object\n",
            "dtypes: int64(2), object(8)\n",
            "memory usage: 34.5+ MB\n"
          ],
          "name": "stdout"
        }
      ]
    },
    {
      "cell_type": "code",
      "metadata": {
        "id": "lhdAZ5YbXynl",
        "colab_type": "code",
        "colab": {
          "base_uri": "https://localhost:8080/",
          "height": 419
        },
        "outputId": "51f13e0d-84cb-4d7c-988a-4d7763f23ddb"
      },
      "source": [
        "data"
      ],
      "execution_count": null,
      "outputs": [
        {
          "output_type": "execute_result",
          "data": {
            "text/html": [
              "<div>\n",
              "<style scoped>\n",
              "    .dataframe tbody tr th:only-of-type {\n",
              "        vertical-align: middle;\n",
              "    }\n",
              "\n",
              "    .dataframe tbody tr th {\n",
              "        vertical-align: top;\n",
              "    }\n",
              "\n",
              "    .dataframe thead th {\n",
              "        text-align: right;\n",
              "    }\n",
              "</style>\n",
              "<table border=\"1\" class=\"dataframe\">\n",
              "  <thead>\n",
              "    <tr style=\"text-align: right;\">\n",
              "      <th></th>\n",
              "      <th>YM</th>\n",
              "      <th>Category</th>\n",
              "      <th>성별구분</th>\n",
              "      <th>연령대</th>\n",
              "      <th>기혼스코어</th>\n",
              "      <th>유아자녀스코어</th>\n",
              "      <th>초등학생자녀스코어</th>\n",
              "      <th>중고생자녀스코어</th>\n",
              "      <th>대학생자녀스코어</th>\n",
              "      <th>전업주부스코어</th>\n",
              "    </tr>\n",
              "  </thead>\n",
              "  <tbody>\n",
              "    <tr>\n",
              "      <th>0</th>\n",
              "      <td>202005</td>\n",
              "      <td>할인점</td>\n",
              "      <td>0</td>\n",
              "      <td>F</td>\n",
              "      <td>high</td>\n",
              "      <td>low</td>\n",
              "      <td>high</td>\n",
              "      <td>mid</td>\n",
              "      <td>low</td>\n",
              "      <td>low</td>\n",
              "    </tr>\n",
              "    <tr>\n",
              "      <th>1</th>\n",
              "      <td>202005</td>\n",
              "      <td>취미</td>\n",
              "      <td>0</td>\n",
              "      <td>B</td>\n",
              "      <td>high</td>\n",
              "      <td>low</td>\n",
              "      <td>mid</td>\n",
              "      <td>mid</td>\n",
              "      <td>low</td>\n",
              "      <td>low</td>\n",
              "    </tr>\n",
              "    <tr>\n",
              "      <th>2</th>\n",
              "      <td>202005</td>\n",
              "      <td>오픈마켓/소셜</td>\n",
              "      <td>1</td>\n",
              "      <td>D</td>\n",
              "      <td>mid</td>\n",
              "      <td>mid</td>\n",
              "      <td>mid</td>\n",
              "      <td>mid</td>\n",
              "      <td>low</td>\n",
              "      <td>mid</td>\n",
              "    </tr>\n",
              "    <tr>\n",
              "      <th>3</th>\n",
              "      <td>202005</td>\n",
              "      <td>뷰티</td>\n",
              "      <td>0</td>\n",
              "      <td>D</td>\n",
              "      <td>mid</td>\n",
              "      <td>mid</td>\n",
              "      <td>mid</td>\n",
              "      <td>mid</td>\n",
              "      <td>low</td>\n",
              "      <td>low</td>\n",
              "    </tr>\n",
              "    <tr>\n",
              "      <th>4</th>\n",
              "      <td>202005</td>\n",
              "      <td>오픈마켓/소셜</td>\n",
              "      <td>0</td>\n",
              "      <td>G</td>\n",
              "      <td>high</td>\n",
              "      <td>low</td>\n",
              "      <td>mid</td>\n",
              "      <td>mid</td>\n",
              "      <td>mid</td>\n",
              "      <td>low</td>\n",
              "    </tr>\n",
              "    <tr>\n",
              "      <th>...</th>\n",
              "      <td>...</td>\n",
              "      <td>...</td>\n",
              "      <td>...</td>\n",
              "      <td>...</td>\n",
              "      <td>...</td>\n",
              "      <td>...</td>\n",
              "      <td>...</td>\n",
              "      <td>...</td>\n",
              "      <td>...</td>\n",
              "      <td>...</td>\n",
              "    </tr>\n",
              "    <tr>\n",
              "      <th>452033</th>\n",
              "      <td>201904</td>\n",
              "      <td>전문몰</td>\n",
              "      <td>0</td>\n",
              "      <td>E</td>\n",
              "      <td>low</td>\n",
              "      <td>mid</td>\n",
              "      <td>low</td>\n",
              "      <td>low</td>\n",
              "      <td>low</td>\n",
              "      <td>low</td>\n",
              "    </tr>\n",
              "    <tr>\n",
              "      <th>452034</th>\n",
              "      <td>201904</td>\n",
              "      <td>할인점</td>\n",
              "      <td>0</td>\n",
              "      <td>H</td>\n",
              "      <td>high</td>\n",
              "      <td>low</td>\n",
              "      <td>low</td>\n",
              "      <td>low</td>\n",
              "      <td>low</td>\n",
              "      <td>low</td>\n",
              "    </tr>\n",
              "    <tr>\n",
              "      <th>452035</th>\n",
              "      <td>201904</td>\n",
              "      <td>할인점</td>\n",
              "      <td>1</td>\n",
              "      <td>H</td>\n",
              "      <td>high</td>\n",
              "      <td>low</td>\n",
              "      <td>low</td>\n",
              "      <td>low</td>\n",
              "      <td>low</td>\n",
              "      <td>low</td>\n",
              "    </tr>\n",
              "    <tr>\n",
              "      <th>452036</th>\n",
              "      <td>201904</td>\n",
              "      <td>할인점</td>\n",
              "      <td>0</td>\n",
              "      <td>H</td>\n",
              "      <td>high</td>\n",
              "      <td>low</td>\n",
              "      <td>low</td>\n",
              "      <td>low</td>\n",
              "      <td>low</td>\n",
              "      <td>low</td>\n",
              "    </tr>\n",
              "    <tr>\n",
              "      <th>452037</th>\n",
              "      <td>201904</td>\n",
              "      <td>할인점</td>\n",
              "      <td>1</td>\n",
              "      <td>B</td>\n",
              "      <td>high</td>\n",
              "      <td>low</td>\n",
              "      <td>mid</td>\n",
              "      <td>mid</td>\n",
              "      <td>low</td>\n",
              "      <td>mid</td>\n",
              "    </tr>\n",
              "  </tbody>\n",
              "</table>\n",
              "<p>452038 rows × 10 columns</p>\n",
              "</div>"
            ],
            "text/plain": [
              "            YM Category  성별구분 연령대  ... 초등학생자녀스코어 중고생자녀스코어 대학생자녀스코어 전업주부스코어\n",
              "0       202005      할인점     0   F  ...      high      mid      low     low\n",
              "1       202005       취미     0   B  ...       mid      mid      low     low\n",
              "2       202005  오픈마켓/소셜     1   D  ...       mid      mid      low     mid\n",
              "3       202005       뷰티     0   D  ...       mid      mid      low     low\n",
              "4       202005  오픈마켓/소셜     0   G  ...       mid      mid      mid     low\n",
              "...        ...      ...   ...  ..  ...       ...      ...      ...     ...\n",
              "452033  201904      전문몰     0   E  ...       low      low      low     low\n",
              "452034  201904      할인점     0   H  ...       low      low      low     low\n",
              "452035  201904      할인점     1   H  ...       low      low      low     low\n",
              "452036  201904      할인점     0   H  ...       low      low      low     low\n",
              "452037  201904      할인점     1   B  ...       mid      mid      low     mid\n",
              "\n",
              "[452038 rows x 10 columns]"
            ]
          },
          "metadata": {
            "tags": []
          },
          "execution_count": 94
        }
      ]
    },
    {
      "cell_type": "code",
      "metadata": {
        "id": "8Ax0tTXlq_3v",
        "colab_type": "code",
        "colab": {
          "base_uri": "https://localhost:8080/",
          "height": 89
        },
        "outputId": "9685111a-de99-4930-acf8-55fcd31f4312"
      },
      "source": [
        "data['전업주부스코어'].value_counts()"
      ],
      "execution_count": null,
      "outputs": [
        {
          "output_type": "execute_result",
          "data": {
            "text/plain": [
              "low     229843\n",
              "mid     200448\n",
              "high     21747\n",
              "Name: 전업주부스코어, dtype: int64"
            ]
          },
          "metadata": {
            "tags": []
          },
          "execution_count": 69
        }
      ]
    },
    {
      "cell_type": "code",
      "metadata": {
        "id": "LkQkPGDmbEgD",
        "colab_type": "code",
        "colab": {
          "base_uri": "https://localhost:8080/",
          "height": 179
        },
        "outputId": "c885145a-467e-46d4-9dc2-d248be44caf1"
      },
      "source": [
        "data['연령대'].value_counts()"
      ],
      "execution_count": null,
      "outputs": [
        {
          "output_type": "execute_result",
          "data": {
            "text/plain": [
              "D    76172\n",
              "A    71640\n",
              "F    70151\n",
              "C    56270\n",
              "E    54574\n",
              "G    51095\n",
              "H    37111\n",
              "B    35025\n",
              "Name: 연령대, dtype: int64"
            ]
          },
          "metadata": {
            "tags": []
          },
          "execution_count": 110
        }
      ]
    },
    {
      "cell_type": "code",
      "metadata": {
        "id": "DWCdP1wgWztf",
        "colab_type": "code",
        "colab": {
          "base_uri": "https://localhost:8080/",
          "height": 215
        },
        "outputId": "90f0c43c-330d-44b8-cde0-edfd4ada2a2a"
      },
      "source": [
        "data[\"Category\"].value_counts()"
      ],
      "execution_count": null,
      "outputs": [
        {
          "output_type": "execute_result",
          "data": {
            "text/plain": [
              "전문몰        126062\n",
              "디저트         89743\n",
              "할인점         84636\n",
              "오픈마켓/소셜     80742\n",
              "뷰티          20453\n",
              "취미          18449\n",
              "종합몰         16119\n",
              "호텔/숙박        8005\n",
              "항공/여행사       5761\n",
              "면세점          2068\n",
              "Name: Category, dtype: int64"
            ]
          },
          "metadata": {
            "tags": []
          },
          "execution_count": 70
        }
      ]
    },
    {
      "cell_type": "code",
      "metadata": {
        "id": "mPi-0GDiXHbp",
        "colab_type": "code",
        "colab": {}
      },
      "source": [
        "data2 = pd.DataFrame(data)"
      ],
      "execution_count": null,
      "outputs": []
    },
    {
      "cell_type": "code",
      "metadata": {
        "id": "rRDLnahpbJHG",
        "colab_type": "code",
        "colab": {}
      },
      "source": [
        ""
      ],
      "execution_count": null,
      "outputs": []
    },
    {
      "cell_type": "code",
      "metadata": {
        "id": "XwfWbD9Pq6KY",
        "colab_type": "code",
        "colab": {
          "base_uri": "https://localhost:8080/",
          "height": 89
        },
        "outputId": "968d98b0-ba6e-4164-ac43-85ee76d154c9"
      },
      "source": [
        "data2['전업주부스코어'].value_counts()"
      ],
      "execution_count": null,
      "outputs": [
        {
          "output_type": "execute_result",
          "data": {
            "text/plain": [
              "low     229843\n",
              "mid     200448\n",
              "high     21747\n",
              "Name: 전업주부스코어, dtype: int64"
            ]
          },
          "metadata": {
            "tags": []
          },
          "execution_count": 72
        }
      ]
    },
    {
      "cell_type": "code",
      "metadata": {
        "id": "Rgw1c6TUXP60",
        "colab_type": "code",
        "colab": {}
      },
      "source": [
        "attributes = ['연령대','Category','기혼스코어','유아자녀스코어','초등학생자녀스코어','중고생자녀스코어','대학생자녀스코어','전업주부스코어']\n",
        "\n",
        "from sklearn.preprocessing import OrdinalEncoder\n",
        "ordinal_encoder = OrdinalEncoder()\n",
        "data_score = ordinal_encoder.fit_transform(data2[attributes])\n",
        "\n",
        "data2[attributes] = data_score"
      ],
      "execution_count": null,
      "outputs": []
    },
    {
      "cell_type": "code",
      "metadata": {
        "id": "vVWBthOrYIbh",
        "colab_type": "code",
        "colab": {
          "base_uri": "https://localhost:8080/",
          "height": 419
        },
        "outputId": "6dedbc5f-1106-47ba-abc2-1b2cfea359fd"
      },
      "source": [
        "data2"
      ],
      "execution_count": null,
      "outputs": [
        {
          "output_type": "execute_result",
          "data": {
            "text/html": [
              "<div>\n",
              "<style scoped>\n",
              "    .dataframe tbody tr th:only-of-type {\n",
              "        vertical-align: middle;\n",
              "    }\n",
              "\n",
              "    .dataframe tbody tr th {\n",
              "        vertical-align: top;\n",
              "    }\n",
              "\n",
              "    .dataframe thead th {\n",
              "        text-align: right;\n",
              "    }\n",
              "</style>\n",
              "<table border=\"1\" class=\"dataframe\">\n",
              "  <thead>\n",
              "    <tr style=\"text-align: right;\">\n",
              "      <th></th>\n",
              "      <th>Category</th>\n",
              "      <th>성별구분</th>\n",
              "      <th>연령대</th>\n",
              "      <th>기혼스코어</th>\n",
              "      <th>유아자녀스코어</th>\n",
              "      <th>초등학생자녀스코어</th>\n",
              "      <th>중고생자녀스코어</th>\n",
              "      <th>대학생자녀스코어</th>\n",
              "      <th>전업주부스코어</th>\n",
              "      <th>Year</th>\n",
              "      <th>Month</th>\n",
              "    </tr>\n",
              "  </thead>\n",
              "  <tbody>\n",
              "    <tr>\n",
              "      <th>0</th>\n",
              "      <td>7.0</td>\n",
              "      <td>0</td>\n",
              "      <td>5.0</td>\n",
              "      <td>0.0</td>\n",
              "      <td>1.0</td>\n",
              "      <td>0.0</td>\n",
              "      <td>2.0</td>\n",
              "      <td>1.0</td>\n",
              "      <td>1.0</td>\n",
              "      <td>2020</td>\n",
              "      <td>5</td>\n",
              "    </tr>\n",
              "    <tr>\n",
              "      <th>1</th>\n",
              "      <td>6.0</td>\n",
              "      <td>0</td>\n",
              "      <td>1.0</td>\n",
              "      <td>0.0</td>\n",
              "      <td>1.0</td>\n",
              "      <td>2.0</td>\n",
              "      <td>2.0</td>\n",
              "      <td>1.0</td>\n",
              "      <td>1.0</td>\n",
              "      <td>2020</td>\n",
              "      <td>5</td>\n",
              "    </tr>\n",
              "    <tr>\n",
              "      <th>2</th>\n",
              "      <td>3.0</td>\n",
              "      <td>1</td>\n",
              "      <td>3.0</td>\n",
              "      <td>2.0</td>\n",
              "      <td>2.0</td>\n",
              "      <td>2.0</td>\n",
              "      <td>2.0</td>\n",
              "      <td>1.0</td>\n",
              "      <td>2.0</td>\n",
              "      <td>2020</td>\n",
              "      <td>5</td>\n",
              "    </tr>\n",
              "    <tr>\n",
              "      <th>3</th>\n",
              "      <td>2.0</td>\n",
              "      <td>0</td>\n",
              "      <td>3.0</td>\n",
              "      <td>2.0</td>\n",
              "      <td>2.0</td>\n",
              "      <td>2.0</td>\n",
              "      <td>2.0</td>\n",
              "      <td>1.0</td>\n",
              "      <td>1.0</td>\n",
              "      <td>2020</td>\n",
              "      <td>5</td>\n",
              "    </tr>\n",
              "    <tr>\n",
              "      <th>4</th>\n",
              "      <td>3.0</td>\n",
              "      <td>0</td>\n",
              "      <td>6.0</td>\n",
              "      <td>0.0</td>\n",
              "      <td>1.0</td>\n",
              "      <td>2.0</td>\n",
              "      <td>2.0</td>\n",
              "      <td>2.0</td>\n",
              "      <td>1.0</td>\n",
              "      <td>2020</td>\n",
              "      <td>5</td>\n",
              "    </tr>\n",
              "    <tr>\n",
              "      <th>...</th>\n",
              "      <td>...</td>\n",
              "      <td>...</td>\n",
              "      <td>...</td>\n",
              "      <td>...</td>\n",
              "      <td>...</td>\n",
              "      <td>...</td>\n",
              "      <td>...</td>\n",
              "      <td>...</td>\n",
              "      <td>...</td>\n",
              "      <td>...</td>\n",
              "      <td>...</td>\n",
              "    </tr>\n",
              "    <tr>\n",
              "      <th>452033</th>\n",
              "      <td>4.0</td>\n",
              "      <td>0</td>\n",
              "      <td>4.0</td>\n",
              "      <td>1.0</td>\n",
              "      <td>2.0</td>\n",
              "      <td>1.0</td>\n",
              "      <td>1.0</td>\n",
              "      <td>1.0</td>\n",
              "      <td>1.0</td>\n",
              "      <td>2019</td>\n",
              "      <td>4</td>\n",
              "    </tr>\n",
              "    <tr>\n",
              "      <th>452034</th>\n",
              "      <td>7.0</td>\n",
              "      <td>0</td>\n",
              "      <td>7.0</td>\n",
              "      <td>0.0</td>\n",
              "      <td>1.0</td>\n",
              "      <td>1.0</td>\n",
              "      <td>1.0</td>\n",
              "      <td>1.0</td>\n",
              "      <td>1.0</td>\n",
              "      <td>2019</td>\n",
              "      <td>4</td>\n",
              "    </tr>\n",
              "    <tr>\n",
              "      <th>452035</th>\n",
              "      <td>7.0</td>\n",
              "      <td>1</td>\n",
              "      <td>7.0</td>\n",
              "      <td>0.0</td>\n",
              "      <td>1.0</td>\n",
              "      <td>1.0</td>\n",
              "      <td>1.0</td>\n",
              "      <td>1.0</td>\n",
              "      <td>1.0</td>\n",
              "      <td>2019</td>\n",
              "      <td>4</td>\n",
              "    </tr>\n",
              "    <tr>\n",
              "      <th>452036</th>\n",
              "      <td>7.0</td>\n",
              "      <td>0</td>\n",
              "      <td>7.0</td>\n",
              "      <td>0.0</td>\n",
              "      <td>1.0</td>\n",
              "      <td>1.0</td>\n",
              "      <td>1.0</td>\n",
              "      <td>1.0</td>\n",
              "      <td>1.0</td>\n",
              "      <td>2019</td>\n",
              "      <td>4</td>\n",
              "    </tr>\n",
              "    <tr>\n",
              "      <th>452037</th>\n",
              "      <td>7.0</td>\n",
              "      <td>1</td>\n",
              "      <td>1.0</td>\n",
              "      <td>0.0</td>\n",
              "      <td>1.0</td>\n",
              "      <td>2.0</td>\n",
              "      <td>2.0</td>\n",
              "      <td>1.0</td>\n",
              "      <td>2.0</td>\n",
              "      <td>2019</td>\n",
              "      <td>4</td>\n",
              "    </tr>\n",
              "  </tbody>\n",
              "</table>\n",
              "<p>452038 rows × 11 columns</p>\n",
              "</div>"
            ],
            "text/plain": [
              "        Category  성별구분  연령대  기혼스코어  ...  대학생자녀스코어  전업주부스코어  Year  Month\n",
              "0            7.0     0  5.0    0.0  ...       1.0      1.0  2020      5\n",
              "1            6.0     0  1.0    0.0  ...       1.0      1.0  2020      5\n",
              "2            3.0     1  3.0    2.0  ...       1.0      2.0  2020      5\n",
              "3            2.0     0  3.0    2.0  ...       1.0      1.0  2020      5\n",
              "4            3.0     0  6.0    0.0  ...       2.0      1.0  2020      5\n",
              "...          ...   ...  ...    ...  ...       ...      ...   ...    ...\n",
              "452033       4.0     0  4.0    1.0  ...       1.0      1.0  2019      4\n",
              "452034       7.0     0  7.0    0.0  ...       1.0      1.0  2019      4\n",
              "452035       7.0     1  7.0    0.0  ...       1.0      1.0  2019      4\n",
              "452036       7.0     0  7.0    0.0  ...       1.0      1.0  2019      4\n",
              "452037       7.0     1  1.0    0.0  ...       1.0      2.0  2019      4\n",
              "\n",
              "[452038 rows x 11 columns]"
            ]
          },
          "metadata": {
            "tags": []
          },
          "execution_count": 85
        }
      ]
    },
    {
      "cell_type": "code",
      "metadata": {
        "id": "y1WHscG1X2MX",
        "colab_type": "code",
        "colab": {
          "base_uri": "https://localhost:8080/",
          "height": 215
        },
        "outputId": "f0b01460-c542-4809-d794-5f8d1797a21f"
      },
      "source": [
        "data2['Category'].value_counts()"
      ],
      "execution_count": null,
      "outputs": [
        {
          "output_type": "execute_result",
          "data": {
            "text/plain": [
              "4.0    126062\n",
              "0.0     89743\n",
              "7.0     84636\n",
              "3.0     80742\n",
              "2.0     20453\n",
              "6.0     18449\n",
              "5.0     16119\n",
              "9.0      8005\n",
              "8.0      5761\n",
              "1.0      2068\n",
              "Name: Category, dtype: int64"
            ]
          },
          "metadata": {
            "tags": []
          },
          "execution_count": 95
        }
      ]
    },
    {
      "cell_type": "code",
      "metadata": {
        "id": "Z254Z1BmbKoQ",
        "colab_type": "code",
        "colab": {
          "base_uri": "https://localhost:8080/",
          "height": 179
        },
        "outputId": "65649798-560b-4d7a-e067-4f58b63035ef"
      },
      "source": [
        "data2['연령대'].value_counts()"
      ],
      "execution_count": null,
      "outputs": [
        {
          "output_type": "execute_result",
          "data": {
            "text/plain": [
              "3.0    76172\n",
              "0.0    71640\n",
              "5.0    70151\n",
              "2.0    56270\n",
              "4.0    54574\n",
              "6.0    51095\n",
              "7.0    37111\n",
              "1.0    35025\n",
              "Name: 연령대, dtype: int64"
            ]
          },
          "metadata": {
            "tags": []
          },
          "execution_count": 111
        }
      ]
    },
    {
      "cell_type": "code",
      "metadata": {
        "id": "sYoePUxOiToB",
        "colab_type": "code",
        "colab": {}
      },
      "source": [
        "data2['YM'] = data2['YM'].apply(str)"
      ],
      "execution_count": null,
      "outputs": []
    },
    {
      "cell_type": "code",
      "metadata": {
        "id": "jcUNRZBckMu4",
        "colab_type": "code",
        "colab": {
          "base_uri": "https://localhost:8080/",
          "height": 107
        },
        "outputId": "3172a43d-7340-4f59-bc6e-a7a67b33ae82"
      },
      "source": [
        "data2['YM'].value_counts()"
      ],
      "execution_count": null,
      "outputs": [
        {
          "output_type": "execute_result",
          "data": {
            "text/plain": [
              "201905    121451\n",
              "201904    120119\n",
              "202005    109094\n",
              "202004    101374\n",
              "Name: YM, dtype: int64"
            ]
          },
          "metadata": {
            "tags": []
          },
          "execution_count": 77
        }
      ]
    },
    {
      "cell_type": "code",
      "metadata": {
        "id": "BMbFScHbjMvT",
        "colab_type": "code",
        "colab": {
          "base_uri": "https://localhost:8080/",
          "height": 323
        },
        "outputId": "18ef5831-98ad-44df-ebb7-ce5dd72a7dfd"
      },
      "source": [
        "data2.info()"
      ],
      "execution_count": null,
      "outputs": [
        {
          "output_type": "stream",
          "text": [
            "<class 'pandas.core.frame.DataFrame'>\n",
            "RangeIndex: 452038 entries, 0 to 452037\n",
            "Data columns (total 10 columns):\n",
            " #   Column     Non-Null Count   Dtype  \n",
            "---  ------     --------------   -----  \n",
            " 0   YM         452038 non-null  object \n",
            " 1   Category   452038 non-null  float64\n",
            " 2   성별구분       452038 non-null  int64  \n",
            " 3   연령대        452038 non-null  object \n",
            " 4   기혼스코어      452038 non-null  float64\n",
            " 5   유아자녀스코어    452038 non-null  float64\n",
            " 6   초등학생자녀스코어  452038 non-null  float64\n",
            " 7   중고생자녀스코어   452038 non-null  float64\n",
            " 8   대학생자녀스코어   452038 non-null  float64\n",
            " 9   전업주부스코어    452038 non-null  float64\n",
            "dtypes: float64(7), int64(1), object(2)\n",
            "memory usage: 34.5+ MB\n"
          ],
          "name": "stdout"
        }
      ]
    },
    {
      "cell_type": "code",
      "metadata": {
        "id": "cJ2zXV6SjhCn",
        "colab_type": "code",
        "colab": {
          "base_uri": "https://localhost:8080/",
          "height": 71
        },
        "outputId": "0fc544cc-f762-41d9-edd7-74a70b0bda73"
      },
      "source": [
        "data2.columns"
      ],
      "execution_count": null,
      "outputs": [
        {
          "output_type": "execute_result",
          "data": {
            "text/plain": [
              "Index(['Category', '성별구분', '연령대', '기혼스코어', '유아자녀스코어', '초등학생자녀스코어', '중고생자녀스코어',\n",
              "       '대학생자녀스코어', '전업주부스코어', 'Year', 'Month'],\n",
              "      dtype='object')"
            ]
          },
          "metadata": {
            "tags": []
          },
          "execution_count": 145
        }
      ]
    },
    {
      "cell_type": "code",
      "metadata": {
        "id": "D0QhuP09jAKj",
        "colab_type": "code",
        "colab": {}
      },
      "source": [
        "data2['YM'] = pd.to_datetime(data2['YM'],format='%Y%m',errors='raise')"
      ],
      "execution_count": null,
      "outputs": []
    },
    {
      "cell_type": "code",
      "metadata": {
        "id": "uRlwZQLVisYT",
        "colab_type": "code",
        "colab": {}
      },
      "source": [
        "data2['Year'] = data2['YM'].dt.year\n",
        "data2['Month'] = data2['YM'].dt.month"
      ],
      "execution_count": null,
      "outputs": []
    },
    {
      "cell_type": "code",
      "metadata": {
        "id": "M43t1uY1i45i",
        "colab_type": "code",
        "colab": {
          "base_uri": "https://localhost:8080/",
          "height": 419
        },
        "outputId": "7049501a-129f-4c6a-d554-b10399542cc6"
      },
      "source": [
        "data2"
      ],
      "execution_count": null,
      "outputs": [
        {
          "output_type": "execute_result",
          "data": {
            "text/html": [
              "<div>\n",
              "<style scoped>\n",
              "    .dataframe tbody tr th:only-of-type {\n",
              "        vertical-align: middle;\n",
              "    }\n",
              "\n",
              "    .dataframe tbody tr th {\n",
              "        vertical-align: top;\n",
              "    }\n",
              "\n",
              "    .dataframe thead th {\n",
              "        text-align: right;\n",
              "    }\n",
              "</style>\n",
              "<table border=\"1\" class=\"dataframe\">\n",
              "  <thead>\n",
              "    <tr style=\"text-align: right;\">\n",
              "      <th></th>\n",
              "      <th>YM</th>\n",
              "      <th>Category</th>\n",
              "      <th>성별구분</th>\n",
              "      <th>연령대</th>\n",
              "      <th>기혼스코어</th>\n",
              "      <th>유아자녀스코어</th>\n",
              "      <th>초등학생자녀스코어</th>\n",
              "      <th>중고생자녀스코어</th>\n",
              "      <th>대학생자녀스코어</th>\n",
              "      <th>전업주부스코어</th>\n",
              "      <th>Year</th>\n",
              "      <th>Month</th>\n",
              "    </tr>\n",
              "  </thead>\n",
              "  <tbody>\n",
              "    <tr>\n",
              "      <th>0</th>\n",
              "      <td>2020-05-01</td>\n",
              "      <td>7.0</td>\n",
              "      <td>0</td>\n",
              "      <td>F</td>\n",
              "      <td>0.0</td>\n",
              "      <td>1.0</td>\n",
              "      <td>0.0</td>\n",
              "      <td>2.0</td>\n",
              "      <td>1.0</td>\n",
              "      <td>1.0</td>\n",
              "      <td>2020</td>\n",
              "      <td>5</td>\n",
              "    </tr>\n",
              "    <tr>\n",
              "      <th>1</th>\n",
              "      <td>2020-05-01</td>\n",
              "      <td>6.0</td>\n",
              "      <td>0</td>\n",
              "      <td>B</td>\n",
              "      <td>0.0</td>\n",
              "      <td>1.0</td>\n",
              "      <td>2.0</td>\n",
              "      <td>2.0</td>\n",
              "      <td>1.0</td>\n",
              "      <td>1.0</td>\n",
              "      <td>2020</td>\n",
              "      <td>5</td>\n",
              "    </tr>\n",
              "    <tr>\n",
              "      <th>2</th>\n",
              "      <td>2020-05-01</td>\n",
              "      <td>3.0</td>\n",
              "      <td>1</td>\n",
              "      <td>D</td>\n",
              "      <td>2.0</td>\n",
              "      <td>2.0</td>\n",
              "      <td>2.0</td>\n",
              "      <td>2.0</td>\n",
              "      <td>1.0</td>\n",
              "      <td>2.0</td>\n",
              "      <td>2020</td>\n",
              "      <td>5</td>\n",
              "    </tr>\n",
              "    <tr>\n",
              "      <th>3</th>\n",
              "      <td>2020-05-01</td>\n",
              "      <td>2.0</td>\n",
              "      <td>0</td>\n",
              "      <td>D</td>\n",
              "      <td>2.0</td>\n",
              "      <td>2.0</td>\n",
              "      <td>2.0</td>\n",
              "      <td>2.0</td>\n",
              "      <td>1.0</td>\n",
              "      <td>1.0</td>\n",
              "      <td>2020</td>\n",
              "      <td>5</td>\n",
              "    </tr>\n",
              "    <tr>\n",
              "      <th>4</th>\n",
              "      <td>2020-05-01</td>\n",
              "      <td>3.0</td>\n",
              "      <td>0</td>\n",
              "      <td>G</td>\n",
              "      <td>0.0</td>\n",
              "      <td>1.0</td>\n",
              "      <td>2.0</td>\n",
              "      <td>2.0</td>\n",
              "      <td>2.0</td>\n",
              "      <td>1.0</td>\n",
              "      <td>2020</td>\n",
              "      <td>5</td>\n",
              "    </tr>\n",
              "    <tr>\n",
              "      <th>...</th>\n",
              "      <td>...</td>\n",
              "      <td>...</td>\n",
              "      <td>...</td>\n",
              "      <td>...</td>\n",
              "      <td>...</td>\n",
              "      <td>...</td>\n",
              "      <td>...</td>\n",
              "      <td>...</td>\n",
              "      <td>...</td>\n",
              "      <td>...</td>\n",
              "      <td>...</td>\n",
              "      <td>...</td>\n",
              "    </tr>\n",
              "    <tr>\n",
              "      <th>452033</th>\n",
              "      <td>2019-04-01</td>\n",
              "      <td>4.0</td>\n",
              "      <td>0</td>\n",
              "      <td>E</td>\n",
              "      <td>1.0</td>\n",
              "      <td>2.0</td>\n",
              "      <td>1.0</td>\n",
              "      <td>1.0</td>\n",
              "      <td>1.0</td>\n",
              "      <td>1.0</td>\n",
              "      <td>2019</td>\n",
              "      <td>4</td>\n",
              "    </tr>\n",
              "    <tr>\n",
              "      <th>452034</th>\n",
              "      <td>2019-04-01</td>\n",
              "      <td>7.0</td>\n",
              "      <td>0</td>\n",
              "      <td>H</td>\n",
              "      <td>0.0</td>\n",
              "      <td>1.0</td>\n",
              "      <td>1.0</td>\n",
              "      <td>1.0</td>\n",
              "      <td>1.0</td>\n",
              "      <td>1.0</td>\n",
              "      <td>2019</td>\n",
              "      <td>4</td>\n",
              "    </tr>\n",
              "    <tr>\n",
              "      <th>452035</th>\n",
              "      <td>2019-04-01</td>\n",
              "      <td>7.0</td>\n",
              "      <td>1</td>\n",
              "      <td>H</td>\n",
              "      <td>0.0</td>\n",
              "      <td>1.0</td>\n",
              "      <td>1.0</td>\n",
              "      <td>1.0</td>\n",
              "      <td>1.0</td>\n",
              "      <td>1.0</td>\n",
              "      <td>2019</td>\n",
              "      <td>4</td>\n",
              "    </tr>\n",
              "    <tr>\n",
              "      <th>452036</th>\n",
              "      <td>2019-04-01</td>\n",
              "      <td>7.0</td>\n",
              "      <td>0</td>\n",
              "      <td>H</td>\n",
              "      <td>0.0</td>\n",
              "      <td>1.0</td>\n",
              "      <td>1.0</td>\n",
              "      <td>1.0</td>\n",
              "      <td>1.0</td>\n",
              "      <td>1.0</td>\n",
              "      <td>2019</td>\n",
              "      <td>4</td>\n",
              "    </tr>\n",
              "    <tr>\n",
              "      <th>452037</th>\n",
              "      <td>2019-04-01</td>\n",
              "      <td>7.0</td>\n",
              "      <td>1</td>\n",
              "      <td>B</td>\n",
              "      <td>0.0</td>\n",
              "      <td>1.0</td>\n",
              "      <td>2.0</td>\n",
              "      <td>2.0</td>\n",
              "      <td>1.0</td>\n",
              "      <td>2.0</td>\n",
              "      <td>2019</td>\n",
              "      <td>4</td>\n",
              "    </tr>\n",
              "  </tbody>\n",
              "</table>\n",
              "<p>452038 rows × 12 columns</p>\n",
              "</div>"
            ],
            "text/plain": [
              "               YM  Category  성별구분 연령대  ...  대학생자녀스코어  전업주부스코어  Year  Month\n",
              "0      2020-05-01       7.0     0   F  ...       1.0      1.0  2020      5\n",
              "1      2020-05-01       6.0     0   B  ...       1.0      1.0  2020      5\n",
              "2      2020-05-01       3.0     1   D  ...       1.0      2.0  2020      5\n",
              "3      2020-05-01       2.0     0   D  ...       1.0      1.0  2020      5\n",
              "4      2020-05-01       3.0     0   G  ...       2.0      1.0  2020      5\n",
              "...           ...       ...   ...  ..  ...       ...      ...   ...    ...\n",
              "452033 2019-04-01       4.0     0   E  ...       1.0      1.0  2019      4\n",
              "452034 2019-04-01       7.0     0   H  ...       1.0      1.0  2019      4\n",
              "452035 2019-04-01       7.0     1   H  ...       1.0      1.0  2019      4\n",
              "452036 2019-04-01       7.0     0   H  ...       1.0      1.0  2019      4\n",
              "452037 2019-04-01       7.0     1   B  ...       1.0      2.0  2019      4\n",
              "\n",
              "[452038 rows x 12 columns]"
            ]
          },
          "metadata": {
            "tags": []
          },
          "execution_count": 81
        }
      ]
    },
    {
      "cell_type": "code",
      "metadata": {
        "id": "uaxBNRW7lSxS",
        "colab_type": "code",
        "colab": {}
      },
      "source": [
        "del data2['YM']"
      ],
      "execution_count": null,
      "outputs": []
    },
    {
      "cell_type": "code",
      "metadata": {
        "id": "Yt3ye7YzYYBd",
        "colab_type": "code",
        "colab": {
          "base_uri": "https://localhost:8080/",
          "height": 341
        },
        "outputId": "2ff62dd2-de3d-4112-ac72-30e3af5dabfa"
      },
      "source": [
        "data2.info()"
      ],
      "execution_count": null,
      "outputs": [
        {
          "output_type": "stream",
          "text": [
            "<class 'pandas.core.frame.DataFrame'>\n",
            "RangeIndex: 452038 entries, 0 to 452037\n",
            "Data columns (total 11 columns):\n",
            " #   Column     Non-Null Count   Dtype  \n",
            "---  ------     --------------   -----  \n",
            " 0   Category   452038 non-null  float64\n",
            " 1   성별구분       452038 non-null  int64  \n",
            " 2   연령대        452038 non-null  float64\n",
            " 3   기혼스코어      452038 non-null  float64\n",
            " 4   유아자녀스코어    452038 non-null  float64\n",
            " 5   초등학생자녀스코어  452038 non-null  float64\n",
            " 6   중고생자녀스코어   452038 non-null  float64\n",
            " 7   대학생자녀스코어   452038 non-null  float64\n",
            " 8   전업주부스코어    452038 non-null  float64\n",
            " 9   Year       452038 non-null  int64  \n",
            " 10  Month      452038 non-null  int64  \n",
            "dtypes: float64(8), int64(3)\n",
            "memory usage: 37.9 MB\n"
          ],
          "name": "stdout"
        }
      ]
    },
    {
      "cell_type": "code",
      "metadata": {
        "id": "1xYQRvZbYa2X",
        "colab_type": "code",
        "colab": {}
      },
      "source": [
        "from sklearn.preprocessing import OneHotEncoder\n",
        "\n",
        "o_h_encoder = OneHotEncoder()\n",
        "data_one_hot = o_h_encoder.fit_transform(data2[['연령대']])\n",
        "data_one_hot = data_one_hot.toarray()"
      ],
      "execution_count": null,
      "outputs": []
    },
    {
      "cell_type": "code",
      "metadata": {
        "id": "pUzsY20rZWDM",
        "colab_type": "code",
        "colab": {}
      },
      "source": [
        "data_one_hot = pd.DataFrame(data_one_hot)"
      ],
      "execution_count": null,
      "outputs": []
    },
    {
      "cell_type": "code",
      "metadata": {
        "id": "akMrpOrjZulw",
        "colab_type": "code",
        "colab": {}
      },
      "source": [
        "data2 = pd.concat([data2,data_one_hot],axis=1)\n"
      ],
      "execution_count": null,
      "outputs": []
    },
    {
      "cell_type": "code",
      "metadata": {
        "id": "nTqK_49vaTlk",
        "colab_type": "code",
        "colab": {}
      },
      "source": [
        "data2['연령대_A'] = data2[0]\n",
        "data2['연령대_B'] = data2[1]\n",
        "data2['연령대_C'] = data2[2]\n",
        "data2['연령대_D'] = data2[3]\n",
        "data2['연령대_E'] = data2[4]\n",
        "data2['연령대_F'] = data2[5]\n",
        "data2['연령대_G'] = data2[6]\n",
        "data2['연령대_H'] = data2[7]"
      ],
      "execution_count": null,
      "outputs": []
    },
    {
      "cell_type": "code",
      "metadata": {
        "id": "Bxoz7lL-cpOA",
        "colab_type": "code",
        "colab": {}
      },
      "source": [
        "del data2[0]\n",
        "del data2[1]\n",
        "del data2[2]\n",
        "del data2[3]\n",
        "del data2[4]\n",
        "del data2[5]\n",
        "del data2[6]\n",
        "del data2[7]\n"
      ],
      "execution_count": null,
      "outputs": []
    },
    {
      "cell_type": "code",
      "metadata": {
        "id": "DNW3NphlcwU_",
        "colab_type": "code",
        "colab": {
          "base_uri": "https://localhost:8080/",
          "height": 419
        },
        "outputId": "500998db-dae2-4f3b-8bdc-7e29a4888fad"
      },
      "source": [
        "data2"
      ],
      "execution_count": null,
      "outputs": [
        {
          "output_type": "execute_result",
          "data": {
            "text/html": [
              "<div>\n",
              "<style scoped>\n",
              "    .dataframe tbody tr th:only-of-type {\n",
              "        vertical-align: middle;\n",
              "    }\n",
              "\n",
              "    .dataframe tbody tr th {\n",
              "        vertical-align: top;\n",
              "    }\n",
              "\n",
              "    .dataframe thead th {\n",
              "        text-align: right;\n",
              "    }\n",
              "</style>\n",
              "<table border=\"1\" class=\"dataframe\">\n",
              "  <thead>\n",
              "    <tr style=\"text-align: right;\">\n",
              "      <th></th>\n",
              "      <th>Category</th>\n",
              "      <th>성별구분</th>\n",
              "      <th>연령대</th>\n",
              "      <th>기혼스코어</th>\n",
              "      <th>유아자녀스코어</th>\n",
              "      <th>초등학생자녀스코어</th>\n",
              "      <th>중고생자녀스코어</th>\n",
              "      <th>대학생자녀스코어</th>\n",
              "      <th>전업주부스코어</th>\n",
              "      <th>Year</th>\n",
              "      <th>Month</th>\n",
              "    </tr>\n",
              "  </thead>\n",
              "  <tbody>\n",
              "    <tr>\n",
              "      <th>0</th>\n",
              "      <td>7.0</td>\n",
              "      <td>0</td>\n",
              "      <td>5.0</td>\n",
              "      <td>0.0</td>\n",
              "      <td>1.0</td>\n",
              "      <td>0.0</td>\n",
              "      <td>2.0</td>\n",
              "      <td>1.0</td>\n",
              "      <td>1.0</td>\n",
              "      <td>2020</td>\n",
              "      <td>5</td>\n",
              "    </tr>\n",
              "    <tr>\n",
              "      <th>1</th>\n",
              "      <td>6.0</td>\n",
              "      <td>0</td>\n",
              "      <td>1.0</td>\n",
              "      <td>0.0</td>\n",
              "      <td>1.0</td>\n",
              "      <td>2.0</td>\n",
              "      <td>2.0</td>\n",
              "      <td>1.0</td>\n",
              "      <td>1.0</td>\n",
              "      <td>2020</td>\n",
              "      <td>5</td>\n",
              "    </tr>\n",
              "    <tr>\n",
              "      <th>2</th>\n",
              "      <td>3.0</td>\n",
              "      <td>1</td>\n",
              "      <td>3.0</td>\n",
              "      <td>2.0</td>\n",
              "      <td>2.0</td>\n",
              "      <td>2.0</td>\n",
              "      <td>2.0</td>\n",
              "      <td>1.0</td>\n",
              "      <td>2.0</td>\n",
              "      <td>2020</td>\n",
              "      <td>5</td>\n",
              "    </tr>\n",
              "    <tr>\n",
              "      <th>3</th>\n",
              "      <td>2.0</td>\n",
              "      <td>0</td>\n",
              "      <td>3.0</td>\n",
              "      <td>2.0</td>\n",
              "      <td>2.0</td>\n",
              "      <td>2.0</td>\n",
              "      <td>2.0</td>\n",
              "      <td>1.0</td>\n",
              "      <td>1.0</td>\n",
              "      <td>2020</td>\n",
              "      <td>5</td>\n",
              "    </tr>\n",
              "    <tr>\n",
              "      <th>4</th>\n",
              "      <td>3.0</td>\n",
              "      <td>0</td>\n",
              "      <td>6.0</td>\n",
              "      <td>0.0</td>\n",
              "      <td>1.0</td>\n",
              "      <td>2.0</td>\n",
              "      <td>2.0</td>\n",
              "      <td>2.0</td>\n",
              "      <td>1.0</td>\n",
              "      <td>2020</td>\n",
              "      <td>5</td>\n",
              "    </tr>\n",
              "    <tr>\n",
              "      <th>...</th>\n",
              "      <td>...</td>\n",
              "      <td>...</td>\n",
              "      <td>...</td>\n",
              "      <td>...</td>\n",
              "      <td>...</td>\n",
              "      <td>...</td>\n",
              "      <td>...</td>\n",
              "      <td>...</td>\n",
              "      <td>...</td>\n",
              "      <td>...</td>\n",
              "      <td>...</td>\n",
              "    </tr>\n",
              "    <tr>\n",
              "      <th>452033</th>\n",
              "      <td>4.0</td>\n",
              "      <td>0</td>\n",
              "      <td>4.0</td>\n",
              "      <td>1.0</td>\n",
              "      <td>2.0</td>\n",
              "      <td>1.0</td>\n",
              "      <td>1.0</td>\n",
              "      <td>1.0</td>\n",
              "      <td>1.0</td>\n",
              "      <td>2019</td>\n",
              "      <td>4</td>\n",
              "    </tr>\n",
              "    <tr>\n",
              "      <th>452034</th>\n",
              "      <td>7.0</td>\n",
              "      <td>0</td>\n",
              "      <td>7.0</td>\n",
              "      <td>0.0</td>\n",
              "      <td>1.0</td>\n",
              "      <td>1.0</td>\n",
              "      <td>1.0</td>\n",
              "      <td>1.0</td>\n",
              "      <td>1.0</td>\n",
              "      <td>2019</td>\n",
              "      <td>4</td>\n",
              "    </tr>\n",
              "    <tr>\n",
              "      <th>452035</th>\n",
              "      <td>7.0</td>\n",
              "      <td>1</td>\n",
              "      <td>7.0</td>\n",
              "      <td>0.0</td>\n",
              "      <td>1.0</td>\n",
              "      <td>1.0</td>\n",
              "      <td>1.0</td>\n",
              "      <td>1.0</td>\n",
              "      <td>1.0</td>\n",
              "      <td>2019</td>\n",
              "      <td>4</td>\n",
              "    </tr>\n",
              "    <tr>\n",
              "      <th>452036</th>\n",
              "      <td>7.0</td>\n",
              "      <td>0</td>\n",
              "      <td>7.0</td>\n",
              "      <td>0.0</td>\n",
              "      <td>1.0</td>\n",
              "      <td>1.0</td>\n",
              "      <td>1.0</td>\n",
              "      <td>1.0</td>\n",
              "      <td>1.0</td>\n",
              "      <td>2019</td>\n",
              "      <td>4</td>\n",
              "    </tr>\n",
              "    <tr>\n",
              "      <th>452037</th>\n",
              "      <td>7.0</td>\n",
              "      <td>1</td>\n",
              "      <td>1.0</td>\n",
              "      <td>0.0</td>\n",
              "      <td>1.0</td>\n",
              "      <td>2.0</td>\n",
              "      <td>2.0</td>\n",
              "      <td>1.0</td>\n",
              "      <td>2.0</td>\n",
              "      <td>2019</td>\n",
              "      <td>4</td>\n",
              "    </tr>\n",
              "  </tbody>\n",
              "</table>\n",
              "<p>452038 rows × 11 columns</p>\n",
              "</div>"
            ],
            "text/plain": [
              "        Category  성별구분  연령대  기혼스코어  ...  대학생자녀스코어  전업주부스코어  Year  Month\n",
              "0            7.0     0  5.0    0.0  ...       1.0      1.0  2020      5\n",
              "1            6.0     0  1.0    0.0  ...       1.0      1.0  2020      5\n",
              "2            3.0     1  3.0    2.0  ...       1.0      2.0  2020      5\n",
              "3            2.0     0  3.0    2.0  ...       1.0      1.0  2020      5\n",
              "4            3.0     0  6.0    0.0  ...       2.0      1.0  2020      5\n",
              "...          ...   ...  ...    ...  ...       ...      ...   ...    ...\n",
              "452033       4.0     0  4.0    1.0  ...       1.0      1.0  2019      4\n",
              "452034       7.0     0  7.0    0.0  ...       1.0      1.0  2019      4\n",
              "452035       7.0     1  7.0    0.0  ...       1.0      1.0  2019      4\n",
              "452036       7.0     0  7.0    0.0  ...       1.0      1.0  2019      4\n",
              "452037       7.0     1  1.0    0.0  ...       1.0      2.0  2019      4\n",
              "\n",
              "[452038 rows x 11 columns]"
            ]
          },
          "metadata": {
            "tags": []
          },
          "execution_count": 87
        }
      ]
    },
    {
      "cell_type": "code",
      "metadata": {
        "id": "gi5uCHXucyog",
        "colab_type": "code",
        "colab": {}
      },
      "source": [
        "del data2['연령대']"
      ],
      "execution_count": null,
      "outputs": []
    },
    {
      "cell_type": "code",
      "metadata": {
        "id": "V8YnERVZc1FH",
        "colab_type": "code",
        "colab": {
          "base_uri": "https://localhost:8080/",
          "height": 470
        },
        "outputId": "d0758869-d818-430f-9113-397ec696785f"
      },
      "source": [
        "data2"
      ],
      "execution_count": null,
      "outputs": [
        {
          "output_type": "execute_result",
          "data": {
            "text/html": [
              "<div>\n",
              "<style scoped>\n",
              "    .dataframe tbody tr th:only-of-type {\n",
              "        vertical-align: middle;\n",
              "    }\n",
              "\n",
              "    .dataframe tbody tr th {\n",
              "        vertical-align: top;\n",
              "    }\n",
              "\n",
              "    .dataframe thead th {\n",
              "        text-align: right;\n",
              "    }\n",
              "</style>\n",
              "<table border=\"1\" class=\"dataframe\">\n",
              "  <thead>\n",
              "    <tr style=\"text-align: right;\">\n",
              "      <th></th>\n",
              "      <th>Category</th>\n",
              "      <th>성별구분</th>\n",
              "      <th>기혼스코어</th>\n",
              "      <th>유아자녀스코어</th>\n",
              "      <th>초등학생자녀스코어</th>\n",
              "      <th>중고생자녀스코어</th>\n",
              "      <th>대학생자녀스코어</th>\n",
              "      <th>전업주부스코어</th>\n",
              "      <th>Year</th>\n",
              "      <th>Month</th>\n",
              "      <th>연령대_A</th>\n",
              "      <th>연령대_B</th>\n",
              "      <th>연령대_C</th>\n",
              "      <th>연령대_D</th>\n",
              "      <th>연령대_E</th>\n",
              "      <th>연령대_F</th>\n",
              "      <th>연령대_G</th>\n",
              "      <th>연령대_H</th>\n",
              "    </tr>\n",
              "  </thead>\n",
              "  <tbody>\n",
              "    <tr>\n",
              "      <th>0</th>\n",
              "      <td>할인점</td>\n",
              "      <td>0</td>\n",
              "      <td>0.0</td>\n",
              "      <td>1.0</td>\n",
              "      <td>0.0</td>\n",
              "      <td>2.0</td>\n",
              "      <td>1.0</td>\n",
              "      <td>1.0</td>\n",
              "      <td>2020</td>\n",
              "      <td>5</td>\n",
              "      <td>0.0</td>\n",
              "      <td>0.0</td>\n",
              "      <td>0.0</td>\n",
              "      <td>0.0</td>\n",
              "      <td>0.0</td>\n",
              "      <td>1.0</td>\n",
              "      <td>0.0</td>\n",
              "      <td>0.0</td>\n",
              "    </tr>\n",
              "    <tr>\n",
              "      <th>1</th>\n",
              "      <td>취미</td>\n",
              "      <td>0</td>\n",
              "      <td>0.0</td>\n",
              "      <td>1.0</td>\n",
              "      <td>2.0</td>\n",
              "      <td>2.0</td>\n",
              "      <td>1.0</td>\n",
              "      <td>1.0</td>\n",
              "      <td>2020</td>\n",
              "      <td>5</td>\n",
              "      <td>0.0</td>\n",
              "      <td>1.0</td>\n",
              "      <td>0.0</td>\n",
              "      <td>0.0</td>\n",
              "      <td>0.0</td>\n",
              "      <td>0.0</td>\n",
              "      <td>0.0</td>\n",
              "      <td>0.0</td>\n",
              "    </tr>\n",
              "    <tr>\n",
              "      <th>2</th>\n",
              "      <td>오픈마켓/소셜</td>\n",
              "      <td>1</td>\n",
              "      <td>2.0</td>\n",
              "      <td>2.0</td>\n",
              "      <td>2.0</td>\n",
              "      <td>2.0</td>\n",
              "      <td>1.0</td>\n",
              "      <td>2.0</td>\n",
              "      <td>2020</td>\n",
              "      <td>5</td>\n",
              "      <td>0.0</td>\n",
              "      <td>0.0</td>\n",
              "      <td>0.0</td>\n",
              "      <td>1.0</td>\n",
              "      <td>0.0</td>\n",
              "      <td>0.0</td>\n",
              "      <td>0.0</td>\n",
              "      <td>0.0</td>\n",
              "    </tr>\n",
              "    <tr>\n",
              "      <th>3</th>\n",
              "      <td>뷰티</td>\n",
              "      <td>0</td>\n",
              "      <td>2.0</td>\n",
              "      <td>2.0</td>\n",
              "      <td>2.0</td>\n",
              "      <td>2.0</td>\n",
              "      <td>1.0</td>\n",
              "      <td>1.0</td>\n",
              "      <td>2020</td>\n",
              "      <td>5</td>\n",
              "      <td>0.0</td>\n",
              "      <td>0.0</td>\n",
              "      <td>0.0</td>\n",
              "      <td>1.0</td>\n",
              "      <td>0.0</td>\n",
              "      <td>0.0</td>\n",
              "      <td>0.0</td>\n",
              "      <td>0.0</td>\n",
              "    </tr>\n",
              "    <tr>\n",
              "      <th>4</th>\n",
              "      <td>오픈마켓/소셜</td>\n",
              "      <td>0</td>\n",
              "      <td>0.0</td>\n",
              "      <td>1.0</td>\n",
              "      <td>2.0</td>\n",
              "      <td>2.0</td>\n",
              "      <td>2.0</td>\n",
              "      <td>1.0</td>\n",
              "      <td>2020</td>\n",
              "      <td>5</td>\n",
              "      <td>0.0</td>\n",
              "      <td>0.0</td>\n",
              "      <td>0.0</td>\n",
              "      <td>0.0</td>\n",
              "      <td>0.0</td>\n",
              "      <td>0.0</td>\n",
              "      <td>1.0</td>\n",
              "      <td>0.0</td>\n",
              "    </tr>\n",
              "    <tr>\n",
              "      <th>...</th>\n",
              "      <td>...</td>\n",
              "      <td>...</td>\n",
              "      <td>...</td>\n",
              "      <td>...</td>\n",
              "      <td>...</td>\n",
              "      <td>...</td>\n",
              "      <td>...</td>\n",
              "      <td>...</td>\n",
              "      <td>...</td>\n",
              "      <td>...</td>\n",
              "      <td>...</td>\n",
              "      <td>...</td>\n",
              "      <td>...</td>\n",
              "      <td>...</td>\n",
              "      <td>...</td>\n",
              "      <td>...</td>\n",
              "      <td>...</td>\n",
              "      <td>...</td>\n",
              "    </tr>\n",
              "    <tr>\n",
              "      <th>452033</th>\n",
              "      <td>전문몰</td>\n",
              "      <td>0</td>\n",
              "      <td>1.0</td>\n",
              "      <td>2.0</td>\n",
              "      <td>1.0</td>\n",
              "      <td>1.0</td>\n",
              "      <td>1.0</td>\n",
              "      <td>1.0</td>\n",
              "      <td>2019</td>\n",
              "      <td>4</td>\n",
              "      <td>0.0</td>\n",
              "      <td>0.0</td>\n",
              "      <td>0.0</td>\n",
              "      <td>0.0</td>\n",
              "      <td>1.0</td>\n",
              "      <td>0.0</td>\n",
              "      <td>0.0</td>\n",
              "      <td>0.0</td>\n",
              "    </tr>\n",
              "    <tr>\n",
              "      <th>452034</th>\n",
              "      <td>할인점</td>\n",
              "      <td>0</td>\n",
              "      <td>0.0</td>\n",
              "      <td>1.0</td>\n",
              "      <td>1.0</td>\n",
              "      <td>1.0</td>\n",
              "      <td>1.0</td>\n",
              "      <td>1.0</td>\n",
              "      <td>2019</td>\n",
              "      <td>4</td>\n",
              "      <td>0.0</td>\n",
              "      <td>0.0</td>\n",
              "      <td>0.0</td>\n",
              "      <td>0.0</td>\n",
              "      <td>0.0</td>\n",
              "      <td>0.0</td>\n",
              "      <td>0.0</td>\n",
              "      <td>1.0</td>\n",
              "    </tr>\n",
              "    <tr>\n",
              "      <th>452035</th>\n",
              "      <td>할인점</td>\n",
              "      <td>1</td>\n",
              "      <td>0.0</td>\n",
              "      <td>1.0</td>\n",
              "      <td>1.0</td>\n",
              "      <td>1.0</td>\n",
              "      <td>1.0</td>\n",
              "      <td>1.0</td>\n",
              "      <td>2019</td>\n",
              "      <td>4</td>\n",
              "      <td>0.0</td>\n",
              "      <td>0.0</td>\n",
              "      <td>0.0</td>\n",
              "      <td>0.0</td>\n",
              "      <td>0.0</td>\n",
              "      <td>0.0</td>\n",
              "      <td>0.0</td>\n",
              "      <td>1.0</td>\n",
              "    </tr>\n",
              "    <tr>\n",
              "      <th>452036</th>\n",
              "      <td>할인점</td>\n",
              "      <td>0</td>\n",
              "      <td>0.0</td>\n",
              "      <td>1.0</td>\n",
              "      <td>1.0</td>\n",
              "      <td>1.0</td>\n",
              "      <td>1.0</td>\n",
              "      <td>1.0</td>\n",
              "      <td>2019</td>\n",
              "      <td>4</td>\n",
              "      <td>0.0</td>\n",
              "      <td>0.0</td>\n",
              "      <td>0.0</td>\n",
              "      <td>0.0</td>\n",
              "      <td>0.0</td>\n",
              "      <td>0.0</td>\n",
              "      <td>0.0</td>\n",
              "      <td>1.0</td>\n",
              "    </tr>\n",
              "    <tr>\n",
              "      <th>452037</th>\n",
              "      <td>할인점</td>\n",
              "      <td>1</td>\n",
              "      <td>0.0</td>\n",
              "      <td>1.0</td>\n",
              "      <td>2.0</td>\n",
              "      <td>2.0</td>\n",
              "      <td>1.0</td>\n",
              "      <td>2.0</td>\n",
              "      <td>2019</td>\n",
              "      <td>4</td>\n",
              "      <td>0.0</td>\n",
              "      <td>1.0</td>\n",
              "      <td>0.0</td>\n",
              "      <td>0.0</td>\n",
              "      <td>0.0</td>\n",
              "      <td>0.0</td>\n",
              "      <td>0.0</td>\n",
              "      <td>0.0</td>\n",
              "    </tr>\n",
              "  </tbody>\n",
              "</table>\n",
              "<p>452038 rows × 18 columns</p>\n",
              "</div>"
            ],
            "text/plain": [
              "       Category  성별구분  기혼스코어  유아자녀스코어  ...  연령대_E  연령대_F  연령대_G  연령대_H\n",
              "0           할인점     0    0.0      1.0  ...    0.0    1.0    0.0    0.0\n",
              "1            취미     0    0.0      1.0  ...    0.0    0.0    0.0    0.0\n",
              "2       오픈마켓/소셜     1    2.0      2.0  ...    0.0    0.0    0.0    0.0\n",
              "3            뷰티     0    2.0      2.0  ...    0.0    0.0    0.0    0.0\n",
              "4       오픈마켓/소셜     0    0.0      1.0  ...    0.0    0.0    1.0    0.0\n",
              "...         ...   ...    ...      ...  ...    ...    ...    ...    ...\n",
              "452033      전문몰     0    1.0      2.0  ...    1.0    0.0    0.0    0.0\n",
              "452034      할인점     0    0.0      1.0  ...    0.0    0.0    0.0    1.0\n",
              "452035      할인점     1    0.0      1.0  ...    0.0    0.0    0.0    1.0\n",
              "452036      할인점     0    0.0      1.0  ...    0.0    0.0    0.0    1.0\n",
              "452037      할인점     1    0.0      1.0  ...    0.0    0.0    0.0    0.0\n",
              "\n",
              "[452038 rows x 18 columns]"
            ]
          },
          "metadata": {
            "tags": []
          },
          "execution_count": 26
        }
      ]
    },
    {
      "cell_type": "code",
      "metadata": {
        "id": "b_o1tAcMdNtv",
        "colab_type": "code",
        "colab": {
          "base_uri": "https://localhost:8080/",
          "height": 251
        },
        "outputId": "8c0d865a-b19c-4f9d-aedd-38f6587b8137"
      },
      "source": [
        "data3 = np.array(data2)\n",
        "data3"
      ],
      "execution_count": null,
      "outputs": [
        {
          "output_type": "execute_result",
          "data": {
            "text/plain": [
              "array([[7.000e+00, 0.000e+00, 5.000e+00, ..., 1.000e+00, 2.020e+03,\n",
              "        5.000e+00],\n",
              "       [6.000e+00, 0.000e+00, 1.000e+00, ..., 1.000e+00, 2.020e+03,\n",
              "        5.000e+00],\n",
              "       [3.000e+00, 1.000e+00, 3.000e+00, ..., 2.000e+00, 2.020e+03,\n",
              "        5.000e+00],\n",
              "       ...,\n",
              "       [7.000e+00, 1.000e+00, 7.000e+00, ..., 1.000e+00, 2.019e+03,\n",
              "        4.000e+00],\n",
              "       [7.000e+00, 0.000e+00, 7.000e+00, ..., 1.000e+00, 2.019e+03,\n",
              "        4.000e+00],\n",
              "       [7.000e+00, 1.000e+00, 1.000e+00, ..., 2.000e+00, 2.019e+03,\n",
              "        4.000e+00]])"
            ]
          },
          "metadata": {
            "tags": []
          },
          "execution_count": 88
        }
      ]
    },
    {
      "cell_type": "code",
      "metadata": {
        "id": "E14h-g4IdV5V",
        "colab_type": "code",
        "colab": {
          "base_uri": "https://localhost:8080/",
          "height": 359
        },
        "outputId": "819eeccd-7d63-4673-947c-714ab76a3e4e"
      },
      "source": [
        "data2.loc[0]"
      ],
      "execution_count": null,
      "outputs": [
        {
          "output_type": "execute_result",
          "data": {
            "text/plain": [
              "Category      할인점\n",
              "성별구분            0\n",
              "기혼스코어           0\n",
              "유아자녀스코어         1\n",
              "초등학생자녀스코어       0\n",
              "중고생자녀스코어        2\n",
              "대학생자녀스코어        1\n",
              "전업주부스코어         1\n",
              "Year         2020\n",
              "Month           5\n",
              "연령대_A           0\n",
              "연령대_B           0\n",
              "연령대_C           0\n",
              "연령대_D           0\n",
              "연령대_E           0\n",
              "연령대_F           1\n",
              "연령대_G           0\n",
              "연령대_H           0\n",
              "Name: 0, dtype: object"
            ]
          },
          "metadata": {
            "tags": []
          },
          "execution_count": 28
        }
      ]
    },
    {
      "cell_type": "code",
      "metadata": {
        "id": "HUMMIm2jPIsv",
        "colab_type": "code",
        "colab": {
          "base_uri": "https://localhost:8080/",
          "height": 390
        },
        "outputId": "c20e91f5-52a4-4821-8d69-a6d347f76f34"
      },
      "source": [
        "data_corr = data2.corr()\n",
        "data_corr"
      ],
      "execution_count": null,
      "outputs": [
        {
          "output_type": "execute_result",
          "data": {
            "text/html": [
              "<div>\n",
              "<style scoped>\n",
              "    .dataframe tbody tr th:only-of-type {\n",
              "        vertical-align: middle;\n",
              "    }\n",
              "\n",
              "    .dataframe tbody tr th {\n",
              "        vertical-align: top;\n",
              "    }\n",
              "\n",
              "    .dataframe thead th {\n",
              "        text-align: right;\n",
              "    }\n",
              "</style>\n",
              "<table border=\"1\" class=\"dataframe\">\n",
              "  <thead>\n",
              "    <tr style=\"text-align: right;\">\n",
              "      <th></th>\n",
              "      <th>Category</th>\n",
              "      <th>성별구분</th>\n",
              "      <th>연령대</th>\n",
              "      <th>기혼스코어</th>\n",
              "      <th>유아자녀스코어</th>\n",
              "      <th>초등학생자녀스코어</th>\n",
              "      <th>중고생자녀스코어</th>\n",
              "      <th>대학생자녀스코어</th>\n",
              "      <th>전업주부스코어</th>\n",
              "      <th>Year</th>\n",
              "      <th>Month</th>\n",
              "    </tr>\n",
              "  </thead>\n",
              "  <tbody>\n",
              "    <tr>\n",
              "      <th>Category</th>\n",
              "      <td>1.000000</td>\n",
              "      <td>-0.039424</td>\n",
              "      <td>0.030510</td>\n",
              "      <td>-0.049510</td>\n",
              "      <td>-0.028217</td>\n",
              "      <td>-0.018719</td>\n",
              "      <td>0.023950</td>\n",
              "      <td>-0.002766</td>\n",
              "      <td>-0.030367</td>\n",
              "      <td>-0.064184</td>\n",
              "      <td>-0.008383</td>\n",
              "    </tr>\n",
              "    <tr>\n",
              "      <th>성별구분</th>\n",
              "      <td>-0.039424</td>\n",
              "      <td>1.000000</td>\n",
              "      <td>0.001616</td>\n",
              "      <td>0.020603</td>\n",
              "      <td>-0.090693</td>\n",
              "      <td>-0.018639</td>\n",
              "      <td>-0.026477</td>\n",
              "      <td>0.059789</td>\n",
              "      <td>0.640788</td>\n",
              "      <td>-0.003119</td>\n",
              "      <td>-0.006273</td>\n",
              "    </tr>\n",
              "    <tr>\n",
              "      <th>연령대</th>\n",
              "      <td>0.030510</td>\n",
              "      <td>0.001616</td>\n",
              "      <td>1.000000</td>\n",
              "      <td>-0.121559</td>\n",
              "      <td>-0.283201</td>\n",
              "      <td>0.023777</td>\n",
              "      <td>-0.092467</td>\n",
              "      <td>0.160456</td>\n",
              "      <td>0.032818</td>\n",
              "      <td>0.003928</td>\n",
              "      <td>-0.000464</td>\n",
              "    </tr>\n",
              "    <tr>\n",
              "      <th>기혼스코어</th>\n",
              "      <td>-0.049510</td>\n",
              "      <td>0.020603</td>\n",
              "      <td>-0.121559</td>\n",
              "      <td>1.000000</td>\n",
              "      <td>0.343154</td>\n",
              "      <td>0.046630</td>\n",
              "      <td>-0.221269</td>\n",
              "      <td>-0.315335</td>\n",
              "      <td>0.046899</td>\n",
              "      <td>-0.005453</td>\n",
              "      <td>-0.000329</td>\n",
              "    </tr>\n",
              "    <tr>\n",
              "      <th>유아자녀스코어</th>\n",
              "      <td>-0.028217</td>\n",
              "      <td>-0.090693</td>\n",
              "      <td>-0.283201</td>\n",
              "      <td>0.343154</td>\n",
              "      <td>1.000000</td>\n",
              "      <td>0.013275</td>\n",
              "      <td>-0.058939</td>\n",
              "      <td>-0.173302</td>\n",
              "      <td>-0.044938</td>\n",
              "      <td>0.008617</td>\n",
              "      <td>0.000254</td>\n",
              "    </tr>\n",
              "    <tr>\n",
              "      <th>초등학생자녀스코어</th>\n",
              "      <td>-0.018719</td>\n",
              "      <td>-0.018639</td>\n",
              "      <td>0.023777</td>\n",
              "      <td>0.046630</td>\n",
              "      <td>0.013275</td>\n",
              "      <td>1.000000</td>\n",
              "      <td>0.065219</td>\n",
              "      <td>-0.006006</td>\n",
              "      <td>-0.010498</td>\n",
              "      <td>0.172160</td>\n",
              "      <td>0.152826</td>\n",
              "    </tr>\n",
              "    <tr>\n",
              "      <th>중고생자녀스코어</th>\n",
              "      <td>0.023950</td>\n",
              "      <td>-0.026477</td>\n",
              "      <td>-0.092467</td>\n",
              "      <td>-0.221269</td>\n",
              "      <td>-0.058939</td>\n",
              "      <td>0.065219</td>\n",
              "      <td>1.000000</td>\n",
              "      <td>0.090681</td>\n",
              "      <td>-0.024419</td>\n",
              "      <td>0.017804</td>\n",
              "      <td>0.001640</td>\n",
              "    </tr>\n",
              "    <tr>\n",
              "      <th>대학생자녀스코어</th>\n",
              "      <td>-0.002766</td>\n",
              "      <td>0.059789</td>\n",
              "      <td>0.160456</td>\n",
              "      <td>-0.315335</td>\n",
              "      <td>-0.173302</td>\n",
              "      <td>-0.006006</td>\n",
              "      <td>0.090681</td>\n",
              "      <td>1.000000</td>\n",
              "      <td>0.038316</td>\n",
              "      <td>0.020415</td>\n",
              "      <td>0.001178</td>\n",
              "    </tr>\n",
              "    <tr>\n",
              "      <th>전업주부스코어</th>\n",
              "      <td>-0.030367</td>\n",
              "      <td>0.640788</td>\n",
              "      <td>0.032818</td>\n",
              "      <td>0.046899</td>\n",
              "      <td>-0.044938</td>\n",
              "      <td>-0.010498</td>\n",
              "      <td>-0.024419</td>\n",
              "      <td>0.038316</td>\n",
              "      <td>1.000000</td>\n",
              "      <td>0.009698</td>\n",
              "      <td>-0.003368</td>\n",
              "    </tr>\n",
              "    <tr>\n",
              "      <th>Year</th>\n",
              "      <td>-0.064184</td>\n",
              "      <td>-0.003119</td>\n",
              "      <td>0.003928</td>\n",
              "      <td>-0.005453</td>\n",
              "      <td>0.008617</td>\n",
              "      <td>0.172160</td>\n",
              "      <td>0.017804</td>\n",
              "      <td>0.020415</td>\n",
              "      <td>0.009698</td>\n",
              "      <td>1.000000</td>\n",
              "      <td>0.015549</td>\n",
              "    </tr>\n",
              "    <tr>\n",
              "      <th>Month</th>\n",
              "      <td>-0.008383</td>\n",
              "      <td>-0.006273</td>\n",
              "      <td>-0.000464</td>\n",
              "      <td>-0.000329</td>\n",
              "      <td>0.000254</td>\n",
              "      <td>0.152826</td>\n",
              "      <td>0.001640</td>\n",
              "      <td>0.001178</td>\n",
              "      <td>-0.003368</td>\n",
              "      <td>0.015549</td>\n",
              "      <td>1.000000</td>\n",
              "    </tr>\n",
              "  </tbody>\n",
              "</table>\n",
              "</div>"
            ],
            "text/plain": [
              "           Category      성별구분       연령대  ...   전업주부스코어      Year     Month\n",
              "Category   1.000000 -0.039424  0.030510  ... -0.030367 -0.064184 -0.008383\n",
              "성별구분      -0.039424  1.000000  0.001616  ...  0.640788 -0.003119 -0.006273\n",
              "연령대        0.030510  0.001616  1.000000  ...  0.032818  0.003928 -0.000464\n",
              "기혼스코어     -0.049510  0.020603 -0.121559  ...  0.046899 -0.005453 -0.000329\n",
              "유아자녀스코어   -0.028217 -0.090693 -0.283201  ... -0.044938  0.008617  0.000254\n",
              "초등학생자녀스코어 -0.018719 -0.018639  0.023777  ... -0.010498  0.172160  0.152826\n",
              "중고생자녀스코어   0.023950 -0.026477 -0.092467  ... -0.024419  0.017804  0.001640\n",
              "대학생자녀스코어  -0.002766  0.059789  0.160456  ...  0.038316  0.020415  0.001178\n",
              "전업주부스코어   -0.030367  0.640788  0.032818  ...  1.000000  0.009698 -0.003368\n",
              "Year      -0.064184 -0.003119  0.003928  ...  0.009698  1.000000  0.015549\n",
              "Month     -0.008383 -0.006273 -0.000464  ... -0.003368  0.015549  1.000000\n",
              "\n",
              "[11 rows x 11 columns]"
            ]
          },
          "metadata": {
            "tags": []
          },
          "execution_count": 89
        }
      ]
    },
    {
      "cell_type": "code",
      "metadata": {
        "id": "_BuGuF69QP55",
        "colab_type": "code",
        "colab": {}
      },
      "source": [
        "import os\n",
        "PROJECT_ROOT_DIR = \".\"\n",
        "CHAPTER_ID = \"training_linear_models\"\n",
        "IMAGES_PATH = os.path.join(PROJECT_ROOT_DIR, \"images\", CHAPTER_ID)\n",
        "os.makedirs(IMAGES_PATH, exist_ok=True)\n",
        "\n",
        "def save_fig(fig_id, tight_layout=True, fig_extension=\"png\", resolution=300):\n",
        "    path = os.path.join(IMAGES_PATH, fig_id + \".\" + fig_extension)\n",
        "    print(\"그림 저장:\", fig_id)\n",
        "    if tight_layout:\n",
        "        plt.tight_layout()\n",
        "    plt.savefig(path, format=fig_extension, dpi=resolution)"
      ],
      "execution_count": null,
      "outputs": []
    },
    {
      "cell_type": "markdown",
      "metadata": {
        "id": "9lux6EeKT2rB",
        "colab_type": "text"
      },
      "source": [
        ""
      ]
    },
    {
      "cell_type": "code",
      "metadata": {
        "id": "2F54J7IRRH7h",
        "colab_type": "code",
        "colab": {
          "base_uri": "https://localhost:8080/",
          "height": 1000
        },
        "outputId": "dcdf6491-2ef3-47c1-b8fb-78ab59820ca5"
      },
      "source": [
        "import seaborn as sns\n",
        "a = data2[data2['Year'] == 2020]\n",
        "b = data2[data2['Year'] == 2019]\n",
        "attributes = ['Category', '성별구분', '연령대', '기혼스코어', '유아자녀스코어', '초등학생자녀스코어', '중고생자녀스코어',\n",
        "       '대학생자녀스코어', '전업주부스코어', 'Year', 'Month']\n",
        "# 4.0    전문몰\n",
        "# 0.0    디저트\n",
        "# 7.0    할인점\n",
        "# 3.0    오픈마켓\n",
        "# 2.0    뷰티\n",
        "# 6.0    취미\n",
        "# 5.0    종합몰\n",
        "# 9.0    호텔/숙박\n",
        "# 8.0    항공/여행사\n",
        "# 1.0    면세점\n",
        "\n",
        "# 3.0   D\n",
        "# 0.0   A\n",
        "# 5.0   F\n",
        "# 2.0   C\n",
        "# 4.0   E \n",
        "# 6.0   G\n",
        "# 7.0   H \n",
        "# 1.0   B\n",
        "fig = plt.figure(figsize=[25,25])\n",
        "for i in range(1, 9):\n",
        "    plt.subplot(2, 4, i)\n",
        "    ax1 = sns.countplot(x =attributes[i] ,data=a[a['Month'] == 4])\n",
        "save_fig('2020 4월 ')    \n",
        "plt.show()\n",
        "fig = plt.figure(figsize=[25,25])\n",
        "for i in range(1, 9):\n",
        "    plt.subplot(2, 4, i)\n",
        "    ax1 = sns.countplot(x =attributes[i] ,data=a[a['Month'] == 5])\n",
        "save_fig('2020 5월 ')    \n",
        "plt.show()\n",
        "fig = plt.figure(figsize=[25,25])\n",
        "for i in range(1, 9):\n",
        "    plt.subplot(2, 4, i)\n",
        "    ax1 = sns.countplot(x =attributes[i] ,data=b[b['Month'] == 4])\n",
        "save_fig('2019 4월 ')    \n",
        "plt.show()\n",
        "fig = plt.figure(figsize=[25,25])\n",
        "for i in range(1, 9):\n",
        "    plt.subplot(2, 4, i)\n",
        "    ax1 = sns.countplot(x =attributes[i] ,data=b[b['Month'] == 5])\n",
        "save_fig('2019 5월 ')    \n",
        "plt.show()\n",
        "\n"
      ],
      "execution_count": null,
      "outputs": [
        {
          "output_type": "stream",
          "text": [
            "그림 저장: 2020 4월 \n"
          ],
          "name": "stdout"
        },
        {
          "output_type": "display_data",
          "data": {
            "image/png": "[encoded data removed]",
            "text/plain": [
              "<Figure size 1800x1800 with 8 Axes>"
            ]
          },
          "metadata": {
            "tags": [],
            "needs_background": "light"
          }
        },
        {
          "output_type": "stream",
          "text": [
            "그림 저장: 2020 5월 \n"
          ],
          "name": "stdout"
        },
        {
          "output_type": "display_data",
          "data": {
            "image/png": "[encoded data removed]",
            "text/plain": [
              "<Figure size 1800x1800 with 8 Axes>"
            ]
          },
          "metadata": {
            "tags": [],
            "needs_background": "light"
          }
        },
        {
          "output_type": "stream",
          "text": [
            "그림 저장: 2019 4월 \n"
          ],
          "name": "stdout"
        },
        {
          "output_type": "display_data",
          "data": {
            "image/png": "[encoded data removed]",
            "text/plain": [
              "<Figure size 1800x1800 with 8 Axes>"
            ]
          },
          "metadata": {
            "tags": [],
            "needs_background": "light"
          }
        },
        {
          "output_type": "stream",
          "text": [
            "그림 저장: 2019 5월 \n"
          ],
          "name": "stdout"
        },
        {
          "output_type": "display_data",
          "data": {
            "image/png": "[encoded data removed]",
            "text/plain": [
              "<Figure size 1800x1800 with 8 Axes>"
            ]
          },
          "metadata": {
            "tags": [],
            "needs_background": "light"
          }
        }
      ]
    },
    {
      "cell_type": "code",
      "metadata": {
        "id": "6Z8xrEiPhmPb",
        "colab_type": "code",
        "colab": {
          "base_uri": "https://localhost:8080/",
          "height": 390
        },
        "outputId": "1d6da911-ab21-47b9-a0f2-1015a82f562d"
      },
      "source": [
        "b.corr()"
      ],
      "execution_count": null,
      "outputs": [
        {
          "output_type": "execute_result",
          "data": {
            "text/html": [
              "<div>\n",
              "<style scoped>\n",
              "    .dataframe tbody tr th:only-of-type {\n",
              "        vertical-align: middle;\n",
              "    }\n",
              "\n",
              "    .dataframe tbody tr th {\n",
              "        vertical-align: top;\n",
              "    }\n",
              "\n",
              "    .dataframe thead th {\n",
              "        text-align: right;\n",
              "    }\n",
              "</style>\n",
              "<table border=\"1\" class=\"dataframe\">\n",
              "  <thead>\n",
              "    <tr style=\"text-align: right;\">\n",
              "      <th></th>\n",
              "      <th>Category</th>\n",
              "      <th>성별구분</th>\n",
              "      <th>연령대</th>\n",
              "      <th>기혼스코어</th>\n",
              "      <th>유아자녀스코어</th>\n",
              "      <th>초등학생자녀스코어</th>\n",
              "      <th>중고생자녀스코어</th>\n",
              "      <th>대학생자녀스코어</th>\n",
              "      <th>전업주부스코어</th>\n",
              "      <th>Year</th>\n",
              "      <th>Month</th>\n",
              "    </tr>\n",
              "  </thead>\n",
              "  <tbody>\n",
              "    <tr>\n",
              "      <th>Category</th>\n",
              "      <td>1.000000</td>\n",
              "      <td>-0.043070</td>\n",
              "      <td>0.031986</td>\n",
              "      <td>-0.055779</td>\n",
              "      <td>-0.034604</td>\n",
              "      <td>0.002004</td>\n",
              "      <td>0.033160</td>\n",
              "      <td>-0.001905</td>\n",
              "      <td>-0.033217</td>\n",
              "      <td>NaN</td>\n",
              "      <td>-0.013334</td>\n",
              "    </tr>\n",
              "    <tr>\n",
              "      <th>성별구분</th>\n",
              "      <td>-0.043070</td>\n",
              "      <td>1.000000</td>\n",
              "      <td>0.003871</td>\n",
              "      <td>0.016061</td>\n",
              "      <td>-0.080794</td>\n",
              "      <td>-0.014542</td>\n",
              "      <td>-0.025923</td>\n",
              "      <td>0.050157</td>\n",
              "      <td>0.623456</td>\n",
              "      <td>NaN</td>\n",
              "      <td>0.001700</td>\n",
              "    </tr>\n",
              "    <tr>\n",
              "      <th>연령대</th>\n",
              "      <td>0.031986</td>\n",
              "      <td>0.003871</td>\n",
              "      <td>1.000000</td>\n",
              "      <td>-0.116456</td>\n",
              "      <td>-0.271569</td>\n",
              "      <td>0.076306</td>\n",
              "      <td>-0.090154</td>\n",
              "      <td>0.148104</td>\n",
              "      <td>0.037214</td>\n",
              "      <td>NaN</td>\n",
              "      <td>-0.001023</td>\n",
              "    </tr>\n",
              "    <tr>\n",
              "      <th>기혼스코어</th>\n",
              "      <td>-0.055779</td>\n",
              "      <td>0.016061</td>\n",
              "      <td>-0.116456</td>\n",
              "      <td>1.000000</td>\n",
              "      <td>0.334143</td>\n",
              "      <td>0.050627</td>\n",
              "      <td>-0.214905</td>\n",
              "      <td>-0.310101</td>\n",
              "      <td>0.044323</td>\n",
              "      <td>NaN</td>\n",
              "      <td>0.000895</td>\n",
              "    </tr>\n",
              "    <tr>\n",
              "      <th>유아자녀스코어</th>\n",
              "      <td>-0.034604</td>\n",
              "      <td>-0.080794</td>\n",
              "      <td>-0.271569</td>\n",
              "      <td>0.334143</td>\n",
              "      <td>1.000000</td>\n",
              "      <td>-0.036071</td>\n",
              "      <td>-0.054130</td>\n",
              "      <td>-0.162003</td>\n",
              "      <td>-0.039684</td>\n",
              "      <td>NaN</td>\n",
              "      <td>0.000767</td>\n",
              "    </tr>\n",
              "    <tr>\n",
              "      <th>초등학생자녀스코어</th>\n",
              "      <td>0.002004</td>\n",
              "      <td>-0.014542</td>\n",
              "      <td>0.076306</td>\n",
              "      <td>0.050627</td>\n",
              "      <td>-0.036071</td>\n",
              "      <td>1.000000</td>\n",
              "      <td>0.043269</td>\n",
              "      <td>0.001349</td>\n",
              "      <td>0.000931</td>\n",
              "      <td>NaN</td>\n",
              "      <td>0.271878</td>\n",
              "    </tr>\n",
              "    <tr>\n",
              "      <th>중고생자녀스코어</th>\n",
              "      <td>0.033160</td>\n",
              "      <td>-0.025923</td>\n",
              "      <td>-0.090154</td>\n",
              "      <td>-0.214905</td>\n",
              "      <td>-0.054130</td>\n",
              "      <td>0.043269</td>\n",
              "      <td>1.000000</td>\n",
              "      <td>0.081482</td>\n",
              "      <td>-0.022202</td>\n",
              "      <td>NaN</td>\n",
              "      <td>-0.001752</td>\n",
              "    </tr>\n",
              "    <tr>\n",
              "      <th>대학생자녀스코어</th>\n",
              "      <td>-0.001905</td>\n",
              "      <td>0.050157</td>\n",
              "      <td>0.148104</td>\n",
              "      <td>-0.310101</td>\n",
              "      <td>-0.162003</td>\n",
              "      <td>0.001349</td>\n",
              "      <td>0.081482</td>\n",
              "      <td>1.000000</td>\n",
              "      <td>0.032043</td>\n",
              "      <td>NaN</td>\n",
              "      <td>0.002452</td>\n",
              "    </tr>\n",
              "    <tr>\n",
              "      <th>전업주부스코어</th>\n",
              "      <td>-0.033217</td>\n",
              "      <td>0.623456</td>\n",
              "      <td>0.037214</td>\n",
              "      <td>0.044323</td>\n",
              "      <td>-0.039684</td>\n",
              "      <td>0.000931</td>\n",
              "      <td>-0.022202</td>\n",
              "      <td>0.032043</td>\n",
              "      <td>1.000000</td>\n",
              "      <td>NaN</td>\n",
              "      <td>0.001261</td>\n",
              "    </tr>\n",
              "    <tr>\n",
              "      <th>Year</th>\n",
              "      <td>NaN</td>\n",
              "      <td>NaN</td>\n",
              "      <td>NaN</td>\n",
              "      <td>NaN</td>\n",
              "      <td>NaN</td>\n",
              "      <td>NaN</td>\n",
              "      <td>NaN</td>\n",
              "      <td>NaN</td>\n",
              "      <td>NaN</td>\n",
              "      <td>NaN</td>\n",
              "      <td>NaN</td>\n",
              "    </tr>\n",
              "    <tr>\n",
              "      <th>Month</th>\n",
              "      <td>-0.013334</td>\n",
              "      <td>0.001700</td>\n",
              "      <td>-0.001023</td>\n",
              "      <td>0.000895</td>\n",
              "      <td>0.000767</td>\n",
              "      <td>0.271878</td>\n",
              "      <td>-0.001752</td>\n",
              "      <td>0.002452</td>\n",
              "      <td>0.001261</td>\n",
              "      <td>NaN</td>\n",
              "      <td>1.000000</td>\n",
              "    </tr>\n",
              "  </tbody>\n",
              "</table>\n",
              "</div>"
            ],
            "text/plain": [
              "           Category      성별구분       연령대  ...   전업주부스코어  Year     Month\n",
              "Category   1.000000 -0.043070  0.031986  ... -0.033217   NaN -0.013334\n",
              "성별구분      -0.043070  1.000000  0.003871  ...  0.623456   NaN  0.001700\n",
              "연령대        0.031986  0.003871  1.000000  ...  0.037214   NaN -0.001023\n",
              "기혼스코어     -0.055779  0.016061 -0.116456  ...  0.044323   NaN  0.000895\n",
              "유아자녀스코어   -0.034604 -0.080794 -0.271569  ... -0.039684   NaN  0.000767\n",
              "초등학생자녀스코어  0.002004 -0.014542  0.076306  ...  0.000931   NaN  0.271878\n",
              "중고생자녀스코어   0.033160 -0.025923 -0.090154  ... -0.022202   NaN -0.001752\n",
              "대학생자녀스코어  -0.001905  0.050157  0.148104  ...  0.032043   NaN  0.002452\n",
              "전업주부스코어   -0.033217  0.623456  0.037214  ...  1.000000   NaN  0.001261\n",
              "Year            NaN       NaN       NaN  ...       NaN   NaN       NaN\n",
              "Month     -0.013334  0.001700 -0.001023  ...  0.001261   NaN  1.000000\n",
              "\n",
              "[11 rows x 11 columns]"
            ]
          },
          "metadata": {
            "tags": []
          },
          "execution_count": 140
        }
      ]
    },
    {
      "cell_type": "code",
      "metadata": {
        "id": "r76l7qYvf1yJ",
        "colab_type": "code",
        "colab": {
          "base_uri": "https://localhost:8080/",
          "height": 582
        },
        "outputId": "c71642b1-8964-4395-f220-cfdfcff1cbfa"
      },
      "source": [
        "from pandas.plotting import scatter_matrix\n",
        "\n",
        "attribute = [\"Category\",\"연령대\"]\n",
        "scatter_matrix(a[attribute], figsize=(12,8))"
      ],
      "execution_count": null,
      "outputs": [
        {
          "output_type": "execute_result",
          "data": {
            "text/plain": [
              "array([[<matplotlib.axes._subplots.AxesSubplot object at 0x7fcf87006be0>,\n",
              "        <matplotlib.axes._subplots.AxesSubplot object at 0x7fcf87b487f0>],\n",
              "       [<matplotlib.axes._subplots.AxesSubplot object at 0x7fcf8853a400>,\n",
              "        <matplotlib.axes._subplots.AxesSubplot object at 0x7fcf88e32780>]],\n",
              "      dtype=object)"
            ]
          },
          "metadata": {
            "tags": []
          },
          "execution_count": 134
        },
        {
          "output_type": "display_data",
          "data": {
            "image/png": "[encoded data removed]",
            "text/plain": [
              "<Figure size 864x576 with 4 Axes>"
            ]
          },
          "metadata": {
            "tags": [],
            "needs_background": "light"
          }
        }
      ]
    },
    {
      "cell_type": "code",
      "metadata": {
        "id": "ceHcZJoNZWxt",
        "colab_type": "code",
        "colab": {
          "base_uri": "https://localhost:8080/",
          "height": 297
        },
        "outputId": "fc33131e-e6ac-4c0d-bf8f-5c01c8363350"
      },
      "source": [
        "sns.barplot(x = '기혼스코어',y='연령대',data=a)"
      ],
      "execution_count": null,
      "outputs": [
        {
          "output_type": "execute_result",
          "data": {
            "text/plain": [
              "<matplotlib.axes._subplots.AxesSubplot at 0x7fcf87da3320>"
            ]
          },
          "metadata": {
            "tags": []
          },
          "execution_count": 98
        },
        {
          "output_type": "display_data",
          "data": {
            "image/png": "[encoded data removed]",
            "text/plain": [
              "<Figure size 432x288 with 1 Axes>"
            ]
          },
          "metadata": {
            "tags": [],
            "needs_background": "light"
          }
        }
      ]
    },
    {
      "cell_type": "code",
      "metadata": {
        "id": "o1LG2STFYvHl",
        "colab_type": "code",
        "colab": {
          "base_uri": "https://localhost:8080/",
          "height": 613
        },
        "outputId": "4c170686-1c98-4fa5-c9f7-6a8836296687"
      },
      "source": [
        "sns.barplot(x = 'Category',y='연령대',data=a)\n",
        "save_fig('연도별 연령대 2020')\n",
        "plt.show()\n",
        "sns.barplot(x = 'Category',y='연령대',data=b)\n",
        "save_fig('연도별 연령대 2019')\n",
        "plt.show()"
      ],
      "execution_count": null,
      "outputs": [
        {
          "output_type": "stream",
          "text": [
            "그림 저장: 연도별 연령대 2020\n"
          ],
          "name": "stdout"
        },
        {
          "output_type": "display_data",
          "data": {
            "image/png": "[encoded data removed]",
            "text/plain": [
              "<Figure size 432x288 with 1 Axes>"
            ]
          },
          "metadata": {
            "tags": [],
            "needs_background": "light"
          }
        },
        {
          "output_type": "stream",
          "text": [
            "그림 저장: 연도별 연령대 2019\n"
          ],
          "name": "stdout"
        },
        {
          "output_type": "display_data",
          "data": {
            "image/png": "[encoded data removed]",
            "text/plain": [
              "<Figure size 432x288 with 1 Axes>"
            ]
          },
          "metadata": {
            "tags": [],
            "needs_background": "light"
          }
        }
      ]
    }
  ]
}