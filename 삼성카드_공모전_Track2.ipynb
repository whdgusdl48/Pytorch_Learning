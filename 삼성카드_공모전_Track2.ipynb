{
  "nbformat": 4,
  "nbformat_minor": 0,
  "metadata": {
    "colab": {
      "name": "삼성카드 공모전_Track2",
      "provenance": []
    },
    "kernelspec": {
      "name": "python3",
      "display_name": "Python 3"
    }
  },
  "cells": [
    {
      "cell_type": "code",
      "metadata": {
        "id": "R_z9DKHvVm7b",
        "colab_type": "code",
        "colab": {}
      },
      "source": [
        "import pandas as pd\n",
        "import numpy as np\n",
        "import matplotlib.pyplot as plt\n",
        "\n",
        "plt.rc('font', family='NanumBarunGothic') \n",
        "# -*- coding: utf-8 -*-"
      ],
      "execution_count": null,
      "outputs": []
    },
    {
      "cell_type": "code",
      "metadata": {
        "id": "X_Vz-VwKOxsx",
        "colab_type": "code",
        "colab": {
          "base_uri": "https://localhost:8080/",
          "height": 377
        },
        "outputId": "69beb84d-e90c-4521-9c8a-b8639d857246"
      },
      "source": [
        "!sudo apt-get install -y fonts-nanum\n",
        "!sudo fc-cache -fv\n",
        "!rm ~/.cache/matplotlib -rf"
      ],
      "execution_count": null,
      "outputs": [
        {
          "output_type": "stream",
          "text": [
            "Reading package lists... Done\n",
            "Building dependency tree       \n",
            "Reading state information... Done\n",
            "fonts-nanum is already the newest version (20170925-1).\n",
            "The following package was automatically installed and is no longer required:\n",
            "  libnvidia-common-440\n",
            "Use 'sudo apt autoremove' to remove it.\n",
            "0 upgraded, 0 newly installed, 0 to remove and 39 not upgraded.\n",
            "/usr/share/fonts: caching, new cache contents: 0 fonts, 1 dirs\n",
            "/usr/share/fonts/truetype: caching, new cache contents: 0 fonts, 3 dirs\n",
            "/usr/share/fonts/truetype/humor-sans: caching, new cache contents: 1 fonts, 0 dirs\n",
            "/usr/share/fonts/truetype/liberation: caching, new cache contents: 16 fonts, 0 dirs\n",
            "/usr/share/fonts/truetype/nanum: caching, new cache contents: 10 fonts, 0 dirs\n",
            "/usr/local/share/fonts: caching, new cache contents: 0 fonts, 0 dirs\n",
            "/root/.local/share/fonts: skipping, no such directory\n",
            "/root/.fonts: skipping, no such directory\n",
            "/var/cache/fontconfig: cleaning cache directory\n",
            "/root/.cache/fontconfig: not cleaning non-existent cache directory\n",
            "/root/.fontconfig: not cleaning non-existent cache directory\n",
            "fc-cache: succeeded\n"
          ],
          "name": "stdout"
        }
      ]
    },
    {
      "cell_type": "code",
      "metadata": {
        "id": "yrBsr4n6V0oq",
        "colab_type": "code",
        "colab": {
          "base_uri": "https://localhost:8080/",
          "height": 215
        },
        "outputId": "3c6a701d-8ce6-4e25-91dd-97e36062ebc7"
      },
      "source": [
        "data = pd.read_csv('data.csv',encoding='CP949')\n",
        "data\n",
        "data['Category'].value_counts()"
      ],
      "execution_count": null,
      "outputs": [
        {
          "output_type": "execute_result",
          "data": {
            "text/plain": [
              "전문몰        126062\n",
              "디저트         89743\n",
              "할인점         84636\n",
              "오픈마켓/소셜     80742\n",
              "뷰티          20453\n",
              "취미          18449\n",
              "종합몰         16119\n",
              "호텔/숙박        8005\n",
              "항공/여행사       5761\n",
              "면세점          2068\n",
              "Name: Category, dtype: int64"
            ]
          },
          "metadata": {
            "tags": []
          },
          "execution_count": 3
        }
      ]
    },
    {
      "cell_type": "code",
      "metadata": {
        "id": "TZz3g0AHWuUT",
        "colab_type": "code",
        "colab": {
          "base_uri": "https://localhost:8080/",
          "height": 323
        },
        "outputId": "bd9f56a4-19a6-46d6-a3b6-46a4e7d40cd4"
      },
      "source": [
        "data.info()\n"
      ],
      "execution_count": null,
      "outputs": [
        {
          "output_type": "stream",
          "text": [
            "<class 'pandas.core.frame.DataFrame'>\n",
            "RangeIndex: 452038 entries, 0 to 452037\n",
            "Data columns (total 10 columns):\n",
            " #   Column     Non-Null Count   Dtype \n",
            "---  ------     --------------   ----- \n",
            " 0   YM         452038 non-null  int64 \n",
            " 1   Category   452038 non-null  object\n",
            " 2   성별구분       452038 non-null  int64 \n",
            " 3   연령대        452038 non-null  object\n",
            " 4   기혼스코어      452038 non-null  object\n",
            " 5   유아자녀스코어    452038 non-null  object\n",
            " 6   초등학생자녀스코어  452038 non-null  object\n",
            " 7   중고생자녀스코어   452038 non-null  object\n",
            " 8   대학생자녀스코어   452038 non-null  object\n",
            " 9   전업주부스코어    452038 non-null  object\n",
            "dtypes: int64(2), object(8)\n",
            "memory usage: 34.5+ MB\n"
          ],
          "name": "stdout"
        }
      ]
    },
    {
      "cell_type": "code",
      "metadata": {
        "id": "lhdAZ5YbXynl",
        "colab_type": "code",
        "colab": {
          "base_uri": "https://localhost:8080/",
          "height": 419
        },
        "outputId": "160a036d-56ae-4110-d30a-e37dfe6d8dca"
      },
      "source": [
        "data"
      ],
      "execution_count": null,
      "outputs": [
        {
          "output_type": "execute_result",
          "data": {
            "text/html": [
              "<div>\n",
              "<style scoped>\n",
              "    .dataframe tbody tr th:only-of-type {\n",
              "        vertical-align: middle;\n",
              "    }\n",
              "\n",
              "    .dataframe tbody tr th {\n",
              "        vertical-align: top;\n",
              "    }\n",
              "\n",
              "    .dataframe thead th {\n",
              "        text-align: right;\n",
              "    }\n",
              "</style>\n",
              "<table border=\"1\" class=\"dataframe\">\n",
              "  <thead>\n",
              "    <tr style=\"text-align: right;\">\n",
              "      <th></th>\n",
              "      <th>YM</th>\n",
              "      <th>Category</th>\n",
              "      <th>성별구분</th>\n",
              "      <th>연령대</th>\n",
              "      <th>기혼스코어</th>\n",
              "      <th>유아자녀스코어</th>\n",
              "      <th>초등학생자녀스코어</th>\n",
              "      <th>중고생자녀스코어</th>\n",
              "      <th>대학생자녀스코어</th>\n",
              "      <th>전업주부스코어</th>\n",
              "    </tr>\n",
              "  </thead>\n",
              "  <tbody>\n",
              "    <tr>\n",
              "      <th>0</th>\n",
              "      <td>202005</td>\n",
              "      <td>할인점</td>\n",
              "      <td>0</td>\n",
              "      <td>F</td>\n",
              "      <td>high</td>\n",
              "      <td>low</td>\n",
              "      <td>high</td>\n",
              "      <td>mid</td>\n",
              "      <td>low</td>\n",
              "      <td>low</td>\n",
              "    </tr>\n",
              "    <tr>\n",
              "      <th>1</th>\n",
              "      <td>202005</td>\n",
              "      <td>취미</td>\n",
              "      <td>0</td>\n",
              "      <td>B</td>\n",
              "      <td>high</td>\n",
              "      <td>low</td>\n",
              "      <td>mid</td>\n",
              "      <td>mid</td>\n",
              "      <td>low</td>\n",
              "      <td>low</td>\n",
              "    </tr>\n",
              "    <tr>\n",
              "      <th>2</th>\n",
              "      <td>202005</td>\n",
              "      <td>오픈마켓/소셜</td>\n",
              "      <td>1</td>\n",
              "      <td>D</td>\n",
              "      <td>mid</td>\n",
              "      <td>mid</td>\n",
              "      <td>mid</td>\n",
              "      <td>mid</td>\n",
              "      <td>low</td>\n",
              "      <td>mid</td>\n",
              "    </tr>\n",
              "    <tr>\n",
              "      <th>3</th>\n",
              "      <td>202005</td>\n",
              "      <td>뷰티</td>\n",
              "      <td>0</td>\n",
              "      <td>D</td>\n",
              "      <td>mid</td>\n",
              "      <td>mid</td>\n",
              "      <td>mid</td>\n",
              "      <td>mid</td>\n",
              "      <td>low</td>\n",
              "      <td>low</td>\n",
              "    </tr>\n",
              "    <tr>\n",
              "      <th>4</th>\n",
              "      <td>202005</td>\n",
              "      <td>오픈마켓/소셜</td>\n",
              "      <td>0</td>\n",
              "      <td>G</td>\n",
              "      <td>high</td>\n",
              "      <td>low</td>\n",
              "      <td>mid</td>\n",
              "      <td>mid</td>\n",
              "      <td>mid</td>\n",
              "      <td>low</td>\n",
              "    </tr>\n",
              "    <tr>\n",
              "      <th>...</th>\n",
              "      <td>...</td>\n",
              "      <td>...</td>\n",
              "      <td>...</td>\n",
              "      <td>...</td>\n",
              "      <td>...</td>\n",
              "      <td>...</td>\n",
              "      <td>...</td>\n",
              "      <td>...</td>\n",
              "      <td>...</td>\n",
              "      <td>...</td>\n",
              "    </tr>\n",
              "    <tr>\n",
              "      <th>452033</th>\n",
              "      <td>201904</td>\n",
              "      <td>전문몰</td>\n",
              "      <td>0</td>\n",
              "      <td>E</td>\n",
              "      <td>low</td>\n",
              "      <td>mid</td>\n",
              "      <td>low</td>\n",
              "      <td>low</td>\n",
              "      <td>low</td>\n",
              "      <td>low</td>\n",
              "    </tr>\n",
              "    <tr>\n",
              "      <th>452034</th>\n",
              "      <td>201904</td>\n",
              "      <td>할인점</td>\n",
              "      <td>0</td>\n",
              "      <td>H</td>\n",
              "      <td>high</td>\n",
              "      <td>low</td>\n",
              "      <td>low</td>\n",
              "      <td>low</td>\n",
              "      <td>low</td>\n",
              "      <td>low</td>\n",
              "    </tr>\n",
              "    <tr>\n",
              "      <th>452035</th>\n",
              "      <td>201904</td>\n",
              "      <td>할인점</td>\n",
              "      <td>1</td>\n",
              "      <td>H</td>\n",
              "      <td>high</td>\n",
              "      <td>low</td>\n",
              "      <td>low</td>\n",
              "      <td>low</td>\n",
              "      <td>low</td>\n",
              "      <td>low</td>\n",
              "    </tr>\n",
              "    <tr>\n",
              "      <th>452036</th>\n",
              "      <td>201904</td>\n",
              "      <td>할인점</td>\n",
              "      <td>0</td>\n",
              "      <td>H</td>\n",
              "      <td>high</td>\n",
              "      <td>low</td>\n",
              "      <td>low</td>\n",
              "      <td>low</td>\n",
              "      <td>low</td>\n",
              "      <td>low</td>\n",
              "    </tr>\n",
              "    <tr>\n",
              "      <th>452037</th>\n",
              "      <td>201904</td>\n",
              "      <td>할인점</td>\n",
              "      <td>1</td>\n",
              "      <td>B</td>\n",
              "      <td>high</td>\n",
              "      <td>low</td>\n",
              "      <td>mid</td>\n",
              "      <td>mid</td>\n",
              "      <td>low</td>\n",
              "      <td>mid</td>\n",
              "    </tr>\n",
              "  </tbody>\n",
              "</table>\n",
              "<p>452038 rows × 10 columns</p>\n",
              "</div>"
            ],
            "text/plain": [
              "            YM Category  성별구분 연령대  ... 초등학생자녀스코어 중고생자녀스코어 대학생자녀스코어 전업주부스코어\n",
              "0       202005      할인점     0   F  ...      high      mid      low     low\n",
              "1       202005       취미     0   B  ...       mid      mid      low     low\n",
              "2       202005  오픈마켓/소셜     1   D  ...       mid      mid      low     mid\n",
              "3       202005       뷰티     0   D  ...       mid      mid      low     low\n",
              "4       202005  오픈마켓/소셜     0   G  ...       mid      mid      mid     low\n",
              "...        ...      ...   ...  ..  ...       ...      ...      ...     ...\n",
              "452033  201904      전문몰     0   E  ...       low      low      low     low\n",
              "452034  201904      할인점     0   H  ...       low      low      low     low\n",
              "452035  201904      할인점     1   H  ...       low      low      low     low\n",
              "452036  201904      할인점     0   H  ...       low      low      low     low\n",
              "452037  201904      할인점     1   B  ...       mid      mid      low     mid\n",
              "\n",
              "[452038 rows x 10 columns]"
            ]
          },
          "metadata": {
            "tags": []
          },
          "execution_count": 5
        }
      ]
    },
    {
      "cell_type": "code",
      "metadata": {
        "id": "8Ax0tTXlq_3v",
        "colab_type": "code",
        "colab": {
          "base_uri": "https://localhost:8080/",
          "height": 89
        },
        "outputId": "dd06b23f-a529-4530-dc30-2608629cfc43"
      },
      "source": [
        "data['전업주부스코어'].value_counts()"
      ],
      "execution_count": null,
      "outputs": [
        {
          "output_type": "execute_result",
          "data": {
            "text/plain": [
              "low     229843\n",
              "mid     200448\n",
              "high     21747\n",
              "Name: 전업주부스코어, dtype: int64"
            ]
          },
          "metadata": {
            "tags": []
          },
          "execution_count": 6
        }
      ]
    },
    {
      "cell_type": "code",
      "metadata": {
        "id": "LkQkPGDmbEgD",
        "colab_type": "code",
        "colab": {
          "base_uri": "https://localhost:8080/",
          "height": 179
        },
        "outputId": "070c58f6-3279-4ef6-af1d-e2aae03c3488"
      },
      "source": [
        "data['연령대'].value_counts()"
      ],
      "execution_count": null,
      "outputs": [
        {
          "output_type": "execute_result",
          "data": {
            "text/plain": [
              "D    76172\n",
              "A    71640\n",
              "F    70151\n",
              "C    56270\n",
              "E    54574\n",
              "G    51095\n",
              "H    37111\n",
              "B    35025\n",
              "Name: 연령대, dtype: int64"
            ]
          },
          "metadata": {
            "tags": []
          },
          "execution_count": 7
        }
      ]
    },
    {
      "cell_type": "code",
      "metadata": {
        "id": "DWCdP1wgWztf",
        "colab_type": "code",
        "colab": {
          "base_uri": "https://localhost:8080/",
          "height": 215
        },
        "outputId": "857534c7-15ed-4449-abdf-aec82ff53d7e"
      },
      "source": [
        "data[\"Category\"].value_counts()"
      ],
      "execution_count": null,
      "outputs": [
        {
          "output_type": "execute_result",
          "data": {
            "text/plain": [
              "전문몰        126062\n",
              "디저트         89743\n",
              "할인점         84636\n",
              "오픈마켓/소셜     80742\n",
              "뷰티          20453\n",
              "취미          18449\n",
              "종합몰         16119\n",
              "호텔/숙박        8005\n",
              "항공/여행사       5761\n",
              "면세점          2068\n",
              "Name: Category, dtype: int64"
            ]
          },
          "metadata": {
            "tags": []
          },
          "execution_count": 8
        }
      ]
    },
    {
      "cell_type": "code",
      "metadata": {
        "id": "mPi-0GDiXHbp",
        "colab_type": "code",
        "colab": {}
      },
      "source": [
        "data2 = pd.DataFrame(data)"
      ],
      "execution_count": null,
      "outputs": []
    },
    {
      "cell_type": "code",
      "metadata": {
        "id": "XwfWbD9Pq6KY",
        "colab_type": "code",
        "colab": {
          "base_uri": "https://localhost:8080/",
          "height": 89
        },
        "outputId": "fd5e1ecb-2d9f-40d7-c449-324b5a61e627"
      },
      "source": [
        "data2['전업주부스코어'].value_counts()"
      ],
      "execution_count": null,
      "outputs": [
        {
          "output_type": "execute_result",
          "data": {
            "text/plain": [
              "low     229843\n",
              "mid     200448\n",
              "high     21747\n",
              "Name: 전업주부스코어, dtype: int64"
            ]
          },
          "metadata": {
            "tags": []
          },
          "execution_count": 10
        }
      ]
    },
    {
      "cell_type": "code",
      "metadata": {
        "id": "Rgw1c6TUXP60",
        "colab_type": "code",
        "colab": {}
      },
      "source": [
        "attributes = ['연령대','Category','기혼스코어','유아자녀스코어','초등학생자녀스코어','중고생자녀스코어','대학생자녀스코어','전업주부스코어']\n",
        "\n",
        "from sklearn.preprocessing import OrdinalEncoder\n",
        "ordinal_encoder = OrdinalEncoder()\n",
        "data_score = ordinal_encoder.fit_transform(data2[attributes])\n",
        "\n",
        "data2[attributes] = data_score"
      ],
      "execution_count": null,
      "outputs": []
    },
    {
      "cell_type": "code",
      "metadata": {
        "id": "vVWBthOrYIbh",
        "colab_type": "code",
        "colab": {
          "base_uri": "https://localhost:8080/",
          "height": 419
        },
        "outputId": "432158d1-6644-4c3c-9c79-800d61aa7d6d"
      },
      "source": [
        "data2"
      ],
      "execution_count": null,
      "outputs": [
        {
          "output_type": "execute_result",
          "data": {
            "text/html": [
              "<div>\n",
              "<style scoped>\n",
              "    .dataframe tbody tr th:only-of-type {\n",
              "        vertical-align: middle;\n",
              "    }\n",
              "\n",
              "    .dataframe tbody tr th {\n",
              "        vertical-align: top;\n",
              "    }\n",
              "\n",
              "    .dataframe thead th {\n",
              "        text-align: right;\n",
              "    }\n",
              "</style>\n",
              "<table border=\"1\" class=\"dataframe\">\n",
              "  <thead>\n",
              "    <tr style=\"text-align: right;\">\n",
              "      <th></th>\n",
              "      <th>YM</th>\n",
              "      <th>Category</th>\n",
              "      <th>성별구분</th>\n",
              "      <th>연령대</th>\n",
              "      <th>기혼스코어</th>\n",
              "      <th>유아자녀스코어</th>\n",
              "      <th>초등학생자녀스코어</th>\n",
              "      <th>중고생자녀스코어</th>\n",
              "      <th>대학생자녀스코어</th>\n",
              "      <th>전업주부스코어</th>\n",
              "    </tr>\n",
              "  </thead>\n",
              "  <tbody>\n",
              "    <tr>\n",
              "      <th>0</th>\n",
              "      <td>202005</td>\n",
              "      <td>7.0</td>\n",
              "      <td>0</td>\n",
              "      <td>5.0</td>\n",
              "      <td>0.0</td>\n",
              "      <td>1.0</td>\n",
              "      <td>0.0</td>\n",
              "      <td>2.0</td>\n",
              "      <td>1.0</td>\n",
              "      <td>1.0</td>\n",
              "    </tr>\n",
              "    <tr>\n",
              "      <th>1</th>\n",
              "      <td>202005</td>\n",
              "      <td>6.0</td>\n",
              "      <td>0</td>\n",
              "      <td>1.0</td>\n",
              "      <td>0.0</td>\n",
              "      <td>1.0</td>\n",
              "      <td>2.0</td>\n",
              "      <td>2.0</td>\n",
              "      <td>1.0</td>\n",
              "      <td>1.0</td>\n",
              "    </tr>\n",
              "    <tr>\n",
              "      <th>2</th>\n",
              "      <td>202005</td>\n",
              "      <td>3.0</td>\n",
              "      <td>1</td>\n",
              "      <td>3.0</td>\n",
              "      <td>2.0</td>\n",
              "      <td>2.0</td>\n",
              "      <td>2.0</td>\n",
              "      <td>2.0</td>\n",
              "      <td>1.0</td>\n",
              "      <td>2.0</td>\n",
              "    </tr>\n",
              "    <tr>\n",
              "      <th>3</th>\n",
              "      <td>202005</td>\n",
              "      <td>2.0</td>\n",
              "      <td>0</td>\n",
              "      <td>3.0</td>\n",
              "      <td>2.0</td>\n",
              "      <td>2.0</td>\n",
              "      <td>2.0</td>\n",
              "      <td>2.0</td>\n",
              "      <td>1.0</td>\n",
              "      <td>1.0</td>\n",
              "    </tr>\n",
              "    <tr>\n",
              "      <th>4</th>\n",
              "      <td>202005</td>\n",
              "      <td>3.0</td>\n",
              "      <td>0</td>\n",
              "      <td>6.0</td>\n",
              "      <td>0.0</td>\n",
              "      <td>1.0</td>\n",
              "      <td>2.0</td>\n",
              "      <td>2.0</td>\n",
              "      <td>2.0</td>\n",
              "      <td>1.0</td>\n",
              "    </tr>\n",
              "    <tr>\n",
              "      <th>...</th>\n",
              "      <td>...</td>\n",
              "      <td>...</td>\n",
              "      <td>...</td>\n",
              "      <td>...</td>\n",
              "      <td>...</td>\n",
              "      <td>...</td>\n",
              "      <td>...</td>\n",
              "      <td>...</td>\n",
              "      <td>...</td>\n",
              "      <td>...</td>\n",
              "    </tr>\n",
              "    <tr>\n",
              "      <th>452033</th>\n",
              "      <td>201904</td>\n",
              "      <td>4.0</td>\n",
              "      <td>0</td>\n",
              "      <td>4.0</td>\n",
              "      <td>1.0</td>\n",
              "      <td>2.0</td>\n",
              "      <td>1.0</td>\n",
              "      <td>1.0</td>\n",
              "      <td>1.0</td>\n",
              "      <td>1.0</td>\n",
              "    </tr>\n",
              "    <tr>\n",
              "      <th>452034</th>\n",
              "      <td>201904</td>\n",
              "      <td>7.0</td>\n",
              "      <td>0</td>\n",
              "      <td>7.0</td>\n",
              "      <td>0.0</td>\n",
              "      <td>1.0</td>\n",
              "      <td>1.0</td>\n",
              "      <td>1.0</td>\n",
              "      <td>1.0</td>\n",
              "      <td>1.0</td>\n",
              "    </tr>\n",
              "    <tr>\n",
              "      <th>452035</th>\n",
              "      <td>201904</td>\n",
              "      <td>7.0</td>\n",
              "      <td>1</td>\n",
              "      <td>7.0</td>\n",
              "      <td>0.0</td>\n",
              "      <td>1.0</td>\n",
              "      <td>1.0</td>\n",
              "      <td>1.0</td>\n",
              "      <td>1.0</td>\n",
              "      <td>1.0</td>\n",
              "    </tr>\n",
              "    <tr>\n",
              "      <th>452036</th>\n",
              "      <td>201904</td>\n",
              "      <td>7.0</td>\n",
              "      <td>0</td>\n",
              "      <td>7.0</td>\n",
              "      <td>0.0</td>\n",
              "      <td>1.0</td>\n",
              "      <td>1.0</td>\n",
              "      <td>1.0</td>\n",
              "      <td>1.0</td>\n",
              "      <td>1.0</td>\n",
              "    </tr>\n",
              "    <tr>\n",
              "      <th>452037</th>\n",
              "      <td>201904</td>\n",
              "      <td>7.0</td>\n",
              "      <td>1</td>\n",
              "      <td>1.0</td>\n",
              "      <td>0.0</td>\n",
              "      <td>1.0</td>\n",
              "      <td>2.0</td>\n",
              "      <td>2.0</td>\n",
              "      <td>1.0</td>\n",
              "      <td>2.0</td>\n",
              "    </tr>\n",
              "  </tbody>\n",
              "</table>\n",
              "<p>452038 rows × 10 columns</p>\n",
              "</div>"
            ],
            "text/plain": [
              "            YM  Category  성별구분  연령대  ...  초등학생자녀스코어  중고생자녀스코어  대학생자녀스코어  전업주부스코어\n",
              "0       202005       7.0     0  5.0  ...        0.0       2.0       1.0      1.0\n",
              "1       202005       6.0     0  1.0  ...        2.0       2.0       1.0      1.0\n",
              "2       202005       3.0     1  3.0  ...        2.0       2.0       1.0      2.0\n",
              "3       202005       2.0     0  3.0  ...        2.0       2.0       1.0      1.0\n",
              "4       202005       3.0     0  6.0  ...        2.0       2.0       2.0      1.0\n",
              "...        ...       ...   ...  ...  ...        ...       ...       ...      ...\n",
              "452033  201904       4.0     0  4.0  ...        1.0       1.0       1.0      1.0\n",
              "452034  201904       7.0     0  7.0  ...        1.0       1.0       1.0      1.0\n",
              "452035  201904       7.0     1  7.0  ...        1.0       1.0       1.0      1.0\n",
              "452036  201904       7.0     0  7.0  ...        1.0       1.0       1.0      1.0\n",
              "452037  201904       7.0     1  1.0  ...        2.0       2.0       1.0      2.0\n",
              "\n",
              "[452038 rows x 10 columns]"
            ]
          },
          "metadata": {
            "tags": []
          },
          "execution_count": 12
        }
      ]
    },
    {
      "cell_type": "code",
      "metadata": {
        "id": "y1WHscG1X2MX",
        "colab_type": "code",
        "colab": {
          "base_uri": "https://localhost:8080/",
          "height": 215
        },
        "outputId": "e367808f-fef5-4677-db4d-664b506ae311"
      },
      "source": [
        "data2['Category'].value_counts()"
      ],
      "execution_count": null,
      "outputs": [
        {
          "output_type": "execute_result",
          "data": {
            "text/plain": [
              "4.0    126062\n",
              "0.0     89743\n",
              "7.0     84636\n",
              "3.0     80742\n",
              "2.0     20453\n",
              "6.0     18449\n",
              "5.0     16119\n",
              "9.0      8005\n",
              "8.0      5761\n",
              "1.0      2068\n",
              "Name: Category, dtype: int64"
            ]
          },
          "metadata": {
            "tags": []
          },
          "execution_count": 13
        }
      ]
    },
    {
      "cell_type": "code",
      "metadata": {
        "id": "Z254Z1BmbKoQ",
        "colab_type": "code",
        "colab": {
          "base_uri": "https://localhost:8080/",
          "height": 179
        },
        "outputId": "ce72f925-e44c-492e-acbd-cbe14408bb76"
      },
      "source": [
        "data2['연령대'].value_counts()"
      ],
      "execution_count": null,
      "outputs": [
        {
          "output_type": "execute_result",
          "data": {
            "text/plain": [
              "3.0    76172\n",
              "0.0    71640\n",
              "5.0    70151\n",
              "2.0    56270\n",
              "4.0    54574\n",
              "6.0    51095\n",
              "7.0    37111\n",
              "1.0    35025\n",
              "Name: 연령대, dtype: int64"
            ]
          },
          "metadata": {
            "tags": []
          },
          "execution_count": 14
        }
      ]
    },
    {
      "cell_type": "code",
      "metadata": {
        "id": "sYoePUxOiToB",
        "colab_type": "code",
        "colab": {}
      },
      "source": [
        "data2['YM'] = data2['YM'].apply(str)"
      ],
      "execution_count": null,
      "outputs": []
    },
    {
      "cell_type": "code",
      "metadata": {
        "id": "jcUNRZBckMu4",
        "colab_type": "code",
        "colab": {
          "base_uri": "https://localhost:8080/",
          "height": 107
        },
        "outputId": "d63e4e7d-07ac-48bf-b5cc-d1a8d162f099"
      },
      "source": [
        "data2['YM'].value_counts()"
      ],
      "execution_count": null,
      "outputs": [
        {
          "output_type": "execute_result",
          "data": {
            "text/plain": [
              "201905    121451\n",
              "201904    120119\n",
              "202005    109094\n",
              "202004    101374\n",
              "Name: YM, dtype: int64"
            ]
          },
          "metadata": {
            "tags": []
          },
          "execution_count": 16
        }
      ]
    },
    {
      "cell_type": "code",
      "metadata": {
        "id": "BMbFScHbjMvT",
        "colab_type": "code",
        "colab": {
          "base_uri": "https://localhost:8080/",
          "height": 323
        },
        "outputId": "d51f8347-b655-43e0-c1bf-79c4edc74939"
      },
      "source": [
        "data2.info()"
      ],
      "execution_count": null,
      "outputs": [
        {
          "output_type": "stream",
          "text": [
            "<class 'pandas.core.frame.DataFrame'>\n",
            "RangeIndex: 452038 entries, 0 to 452037\n",
            "Data columns (total 10 columns):\n",
            " #   Column     Non-Null Count   Dtype  \n",
            "---  ------     --------------   -----  \n",
            " 0   YM         452038 non-null  object \n",
            " 1   Category   452038 non-null  float64\n",
            " 2   성별구분       452038 non-null  int64  \n",
            " 3   연령대        452038 non-null  float64\n",
            " 4   기혼스코어      452038 non-null  float64\n",
            " 5   유아자녀스코어    452038 non-null  float64\n",
            " 6   초등학생자녀스코어  452038 non-null  float64\n",
            " 7   중고생자녀스코어   452038 non-null  float64\n",
            " 8   대학생자녀스코어   452038 non-null  float64\n",
            " 9   전업주부스코어    452038 non-null  float64\n",
            "dtypes: float64(8), int64(1), object(1)\n",
            "memory usage: 34.5+ MB\n"
          ],
          "name": "stdout"
        }
      ]
    },
    {
      "cell_type": "code",
      "metadata": {
        "id": "cJ2zXV6SjhCn",
        "colab_type": "code",
        "colab": {
          "base_uri": "https://localhost:8080/",
          "height": 71
        },
        "outputId": "66dd8594-2063-4044-d0b9-b97113ebb259"
      },
      "source": [
        "data2.columns"
      ],
      "execution_count": null,
      "outputs": [
        {
          "output_type": "execute_result",
          "data": {
            "text/plain": [
              "Index(['YM', 'Category', '성별구분', '연령대', '기혼스코어', '유아자녀스코어', '초등학생자녀스코어',\n",
              "       '중고생자녀스코어', '대학생자녀스코어', '전업주부스코어'],\n",
              "      dtype='object')"
            ]
          },
          "metadata": {
            "tags": []
          },
          "execution_count": 18
        }
      ]
    },
    {
      "cell_type": "code",
      "metadata": {
        "id": "D0QhuP09jAKj",
        "colab_type": "code",
        "colab": {}
      },
      "source": [
        "data2['YM'] = pd.to_datetime(data2['YM'],format='%Y%m',errors='raise')"
      ],
      "execution_count": null,
      "outputs": []
    },
    {
      "cell_type": "code",
      "metadata": {
        "id": "uRlwZQLVisYT",
        "colab_type": "code",
        "colab": {}
      },
      "source": [
        "data2['Year'] = data2['YM'].dt.year\n",
        "data2['Month'] = data2['YM'].dt.month"
      ],
      "execution_count": null,
      "outputs": []
    },
    {
      "cell_type": "code",
      "metadata": {
        "id": "M43t1uY1i45i",
        "colab_type": "code",
        "colab": {
          "base_uri": "https://localhost:8080/",
          "height": 419
        },
        "outputId": "8fa81011-f3fb-42d4-876d-f6fb60ed762b"
      },
      "source": [
        "data2"
      ],
      "execution_count": null,
      "outputs": [
        {
          "output_type": "execute_result",
          "data": {
            "text/html": [
              "<div>\n",
              "<style scoped>\n",
              "    .dataframe tbody tr th:only-of-type {\n",
              "        vertical-align: middle;\n",
              "    }\n",
              "\n",
              "    .dataframe tbody tr th {\n",
              "        vertical-align: top;\n",
              "    }\n",
              "\n",
              "    .dataframe thead th {\n",
              "        text-align: right;\n",
              "    }\n",
              "</style>\n",
              "<table border=\"1\" class=\"dataframe\">\n",
              "  <thead>\n",
              "    <tr style=\"text-align: right;\">\n",
              "      <th></th>\n",
              "      <th>YM</th>\n",
              "      <th>Category</th>\n",
              "      <th>성별구분</th>\n",
              "      <th>연령대</th>\n",
              "      <th>기혼스코어</th>\n",
              "      <th>유아자녀스코어</th>\n",
              "      <th>초등학생자녀스코어</th>\n",
              "      <th>중고생자녀스코어</th>\n",
              "      <th>대학생자녀스코어</th>\n",
              "      <th>전업주부스코어</th>\n",
              "      <th>Year</th>\n",
              "      <th>Month</th>\n",
              "    </tr>\n",
              "  </thead>\n",
              "  <tbody>\n",
              "    <tr>\n",
              "      <th>0</th>\n",
              "      <td>2020-05-01</td>\n",
              "      <td>7.0</td>\n",
              "      <td>0</td>\n",
              "      <td>5.0</td>\n",
              "      <td>0.0</td>\n",
              "      <td>1.0</td>\n",
              "      <td>0.0</td>\n",
              "      <td>2.0</td>\n",
              "      <td>1.0</td>\n",
              "      <td>1.0</td>\n",
              "      <td>2020</td>\n",
              "      <td>5</td>\n",
              "    </tr>\n",
              "    <tr>\n",
              "      <th>1</th>\n",
              "      <td>2020-05-01</td>\n",
              "      <td>6.0</td>\n",
              "      <td>0</td>\n",
              "      <td>1.0</td>\n",
              "      <td>0.0</td>\n",
              "      <td>1.0</td>\n",
              "      <td>2.0</td>\n",
              "      <td>2.0</td>\n",
              "      <td>1.0</td>\n",
              "      <td>1.0</td>\n",
              "      <td>2020</td>\n",
              "      <td>5</td>\n",
              "    </tr>\n",
              "    <tr>\n",
              "      <th>2</th>\n",
              "      <td>2020-05-01</td>\n",
              "      <td>3.0</td>\n",
              "      <td>1</td>\n",
              "      <td>3.0</td>\n",
              "      <td>2.0</td>\n",
              "      <td>2.0</td>\n",
              "      <td>2.0</td>\n",
              "      <td>2.0</td>\n",
              "      <td>1.0</td>\n",
              "      <td>2.0</td>\n",
              "      <td>2020</td>\n",
              "      <td>5</td>\n",
              "    </tr>\n",
              "    <tr>\n",
              "      <th>3</th>\n",
              "      <td>2020-05-01</td>\n",
              "      <td>2.0</td>\n",
              "      <td>0</td>\n",
              "      <td>3.0</td>\n",
              "      <td>2.0</td>\n",
              "      <td>2.0</td>\n",
              "      <td>2.0</td>\n",
              "      <td>2.0</td>\n",
              "      <td>1.0</td>\n",
              "      <td>1.0</td>\n",
              "      <td>2020</td>\n",
              "      <td>5</td>\n",
              "    </tr>\n",
              "    <tr>\n",
              "      <th>4</th>\n",
              "      <td>2020-05-01</td>\n",
              "      <td>3.0</td>\n",
              "      <td>0</td>\n",
              "      <td>6.0</td>\n",
              "      <td>0.0</td>\n",
              "      <td>1.0</td>\n",
              "      <td>2.0</td>\n",
              "      <td>2.0</td>\n",
              "      <td>2.0</td>\n",
              "      <td>1.0</td>\n",
              "      <td>2020</td>\n",
              "      <td>5</td>\n",
              "    </tr>\n",
              "    <tr>\n",
              "      <th>...</th>\n",
              "      <td>...</td>\n",
              "      <td>...</td>\n",
              "      <td>...</td>\n",
              "      <td>...</td>\n",
              "      <td>...</td>\n",
              "      <td>...</td>\n",
              "      <td>...</td>\n",
              "      <td>...</td>\n",
              "      <td>...</td>\n",
              "      <td>...</td>\n",
              "      <td>...</td>\n",
              "      <td>...</td>\n",
              "    </tr>\n",
              "    <tr>\n",
              "      <th>452033</th>\n",
              "      <td>2019-04-01</td>\n",
              "      <td>4.0</td>\n",
              "      <td>0</td>\n",
              "      <td>4.0</td>\n",
              "      <td>1.0</td>\n",
              "      <td>2.0</td>\n",
              "      <td>1.0</td>\n",
              "      <td>1.0</td>\n",
              "      <td>1.0</td>\n",
              "      <td>1.0</td>\n",
              "      <td>2019</td>\n",
              "      <td>4</td>\n",
              "    </tr>\n",
              "    <tr>\n",
              "      <th>452034</th>\n",
              "      <td>2019-04-01</td>\n",
              "      <td>7.0</td>\n",
              "      <td>0</td>\n",
              "      <td>7.0</td>\n",
              "      <td>0.0</td>\n",
              "      <td>1.0</td>\n",
              "      <td>1.0</td>\n",
              "      <td>1.0</td>\n",
              "      <td>1.0</td>\n",
              "      <td>1.0</td>\n",
              "      <td>2019</td>\n",
              "      <td>4</td>\n",
              "    </tr>\n",
              "    <tr>\n",
              "      <th>452035</th>\n",
              "      <td>2019-04-01</td>\n",
              "      <td>7.0</td>\n",
              "      <td>1</td>\n",
              "      <td>7.0</td>\n",
              "      <td>0.0</td>\n",
              "      <td>1.0</td>\n",
              "      <td>1.0</td>\n",
              "      <td>1.0</td>\n",
              "      <td>1.0</td>\n",
              "      <td>1.0</td>\n",
              "      <td>2019</td>\n",
              "      <td>4</td>\n",
              "    </tr>\n",
              "    <tr>\n",
              "      <th>452036</th>\n",
              "      <td>2019-04-01</td>\n",
              "      <td>7.0</td>\n",
              "      <td>0</td>\n",
              "      <td>7.0</td>\n",
              "      <td>0.0</td>\n",
              "      <td>1.0</td>\n",
              "      <td>1.0</td>\n",
              "      <td>1.0</td>\n",
              "      <td>1.0</td>\n",
              "      <td>1.0</td>\n",
              "      <td>2019</td>\n",
              "      <td>4</td>\n",
              "    </tr>\n",
              "    <tr>\n",
              "      <th>452037</th>\n",
              "      <td>2019-04-01</td>\n",
              "      <td>7.0</td>\n",
              "      <td>1</td>\n",
              "      <td>1.0</td>\n",
              "      <td>0.0</td>\n",
              "      <td>1.0</td>\n",
              "      <td>2.0</td>\n",
              "      <td>2.0</td>\n",
              "      <td>1.0</td>\n",
              "      <td>2.0</td>\n",
              "      <td>2019</td>\n",
              "      <td>4</td>\n",
              "    </tr>\n",
              "  </tbody>\n",
              "</table>\n",
              "<p>452038 rows × 12 columns</p>\n",
              "</div>"
            ],
            "text/plain": [
              "               YM  Category  성별구분  연령대  ...  대학생자녀스코어  전업주부스코어  Year  Month\n",
              "0      2020-05-01       7.0     0  5.0  ...       1.0      1.0  2020      5\n",
              "1      2020-05-01       6.0     0  1.0  ...       1.0      1.0  2020      5\n",
              "2      2020-05-01       3.0     1  3.0  ...       1.0      2.0  2020      5\n",
              "3      2020-05-01       2.0     0  3.0  ...       1.0      1.0  2020      5\n",
              "4      2020-05-01       3.0     0  6.0  ...       2.0      1.0  2020      5\n",
              "...           ...       ...   ...  ...  ...       ...      ...   ...    ...\n",
              "452033 2019-04-01       4.0     0  4.0  ...       1.0      1.0  2019      4\n",
              "452034 2019-04-01       7.0     0  7.0  ...       1.0      1.0  2019      4\n",
              "452035 2019-04-01       7.0     1  7.0  ...       1.0      1.0  2019      4\n",
              "452036 2019-04-01       7.0     0  7.0  ...       1.0      1.0  2019      4\n",
              "452037 2019-04-01       7.0     1  1.0  ...       1.0      2.0  2019      4\n",
              "\n",
              "[452038 rows x 12 columns]"
            ]
          },
          "metadata": {
            "tags": []
          },
          "execution_count": 21
        }
      ]
    },
    {
      "cell_type": "code",
      "metadata": {
        "id": "uaxBNRW7lSxS",
        "colab_type": "code",
        "colab": {}
      },
      "source": [
        "del data2['YM']"
      ],
      "execution_count": null,
      "outputs": []
    },
    {
      "cell_type": "code",
      "metadata": {
        "id": "Yt3ye7YzYYBd",
        "colab_type": "code",
        "colab": {
          "base_uri": "https://localhost:8080/",
          "height": 341
        },
        "outputId": "907a83a6-d9a7-4685-ecb9-e3f7896a162c"
      },
      "source": [
        "data2.info()"
      ],
      "execution_count": null,
      "outputs": [
        {
          "output_type": "stream",
          "text": [
            "<class 'pandas.core.frame.DataFrame'>\n",
            "RangeIndex: 452038 entries, 0 to 452037\n",
            "Data columns (total 11 columns):\n",
            " #   Column     Non-Null Count   Dtype  \n",
            "---  ------     --------------   -----  \n",
            " 0   Category   452038 non-null  float64\n",
            " 1   성별구분       452038 non-null  int64  \n",
            " 2   연령대        452038 non-null  float64\n",
            " 3   기혼스코어      452038 non-null  float64\n",
            " 4   유아자녀스코어    452038 non-null  float64\n",
            " 5   초등학생자녀스코어  452038 non-null  float64\n",
            " 6   중고생자녀스코어   452038 non-null  float64\n",
            " 7   대학생자녀스코어   452038 non-null  float64\n",
            " 8   전업주부스코어    452038 non-null  float64\n",
            " 9   Year       452038 non-null  int64  \n",
            " 10  Month      452038 non-null  int64  \n",
            "dtypes: float64(8), int64(3)\n",
            "memory usage: 37.9 MB\n"
          ],
          "name": "stdout"
        }
      ]
    },
    {
      "cell_type": "code",
      "metadata": {
        "id": "DNW3NphlcwU_",
        "colab_type": "code",
        "colab": {
          "base_uri": "https://localhost:8080/",
          "height": 419
        },
        "outputId": "7cd545b6-4d85-4370-942b-8ce81d07e074"
      },
      "source": [
        "data2"
      ],
      "execution_count": null,
      "outputs": [
        {
          "output_type": "execute_result",
          "data": {
            "text/html": [
              "<div>\n",
              "<style scoped>\n",
              "    .dataframe tbody tr th:only-of-type {\n",
              "        vertical-align: middle;\n",
              "    }\n",
              "\n",
              "    .dataframe tbody tr th {\n",
              "        vertical-align: top;\n",
              "    }\n",
              "\n",
              "    .dataframe thead th {\n",
              "        text-align: right;\n",
              "    }\n",
              "</style>\n",
              "<table border=\"1\" class=\"dataframe\">\n",
              "  <thead>\n",
              "    <tr style=\"text-align: right;\">\n",
              "      <th></th>\n",
              "      <th>Category</th>\n",
              "      <th>성별구분</th>\n",
              "      <th>연령대</th>\n",
              "      <th>기혼스코어</th>\n",
              "      <th>유아자녀스코어</th>\n",
              "      <th>초등학생자녀스코어</th>\n",
              "      <th>중고생자녀스코어</th>\n",
              "      <th>대학생자녀스코어</th>\n",
              "      <th>전업주부스코어</th>\n",
              "      <th>Year</th>\n",
              "      <th>Month</th>\n",
              "    </tr>\n",
              "  </thead>\n",
              "  <tbody>\n",
              "    <tr>\n",
              "      <th>0</th>\n",
              "      <td>7.0</td>\n",
              "      <td>0</td>\n",
              "      <td>5.0</td>\n",
              "      <td>0.0</td>\n",
              "      <td>1.0</td>\n",
              "      <td>0.0</td>\n",
              "      <td>2.0</td>\n",
              "      <td>1.0</td>\n",
              "      <td>1.0</td>\n",
              "      <td>2020</td>\n",
              "      <td>5</td>\n",
              "    </tr>\n",
              "    <tr>\n",
              "      <th>1</th>\n",
              "      <td>6.0</td>\n",
              "      <td>0</td>\n",
              "      <td>1.0</td>\n",
              "      <td>0.0</td>\n",
              "      <td>1.0</td>\n",
              "      <td>2.0</td>\n",
              "      <td>2.0</td>\n",
              "      <td>1.0</td>\n",
              "      <td>1.0</td>\n",
              "      <td>2020</td>\n",
              "      <td>5</td>\n",
              "    </tr>\n",
              "    <tr>\n",
              "      <th>2</th>\n",
              "      <td>3.0</td>\n",
              "      <td>1</td>\n",
              "      <td>3.0</td>\n",
              "      <td>2.0</td>\n",
              "      <td>2.0</td>\n",
              "      <td>2.0</td>\n",
              "      <td>2.0</td>\n",
              "      <td>1.0</td>\n",
              "      <td>2.0</td>\n",
              "      <td>2020</td>\n",
              "      <td>5</td>\n",
              "    </tr>\n",
              "    <tr>\n",
              "      <th>3</th>\n",
              "      <td>2.0</td>\n",
              "      <td>0</td>\n",
              "      <td>3.0</td>\n",
              "      <td>2.0</td>\n",
              "      <td>2.0</td>\n",
              "      <td>2.0</td>\n",
              "      <td>2.0</td>\n",
              "      <td>1.0</td>\n",
              "      <td>1.0</td>\n",
              "      <td>2020</td>\n",
              "      <td>5</td>\n",
              "    </tr>\n",
              "    <tr>\n",
              "      <th>4</th>\n",
              "      <td>3.0</td>\n",
              "      <td>0</td>\n",
              "      <td>6.0</td>\n",
              "      <td>0.0</td>\n",
              "      <td>1.0</td>\n",
              "      <td>2.0</td>\n",
              "      <td>2.0</td>\n",
              "      <td>2.0</td>\n",
              "      <td>1.0</td>\n",
              "      <td>2020</td>\n",
              "      <td>5</td>\n",
              "    </tr>\n",
              "    <tr>\n",
              "      <th>...</th>\n",
              "      <td>...</td>\n",
              "      <td>...</td>\n",
              "      <td>...</td>\n",
              "      <td>...</td>\n",
              "      <td>...</td>\n",
              "      <td>...</td>\n",
              "      <td>...</td>\n",
              "      <td>...</td>\n",
              "      <td>...</td>\n",
              "      <td>...</td>\n",
              "      <td>...</td>\n",
              "    </tr>\n",
              "    <tr>\n",
              "      <th>452033</th>\n",
              "      <td>4.0</td>\n",
              "      <td>0</td>\n",
              "      <td>4.0</td>\n",
              "      <td>1.0</td>\n",
              "      <td>2.0</td>\n",
              "      <td>1.0</td>\n",
              "      <td>1.0</td>\n",
              "      <td>1.0</td>\n",
              "      <td>1.0</td>\n",
              "      <td>2019</td>\n",
              "      <td>4</td>\n",
              "    </tr>\n",
              "    <tr>\n",
              "      <th>452034</th>\n",
              "      <td>7.0</td>\n",
              "      <td>0</td>\n",
              "      <td>7.0</td>\n",
              "      <td>0.0</td>\n",
              "      <td>1.0</td>\n",
              "      <td>1.0</td>\n",
              "      <td>1.0</td>\n",
              "      <td>1.0</td>\n",
              "      <td>1.0</td>\n",
              "      <td>2019</td>\n",
              "      <td>4</td>\n",
              "    </tr>\n",
              "    <tr>\n",
              "      <th>452035</th>\n",
              "      <td>7.0</td>\n",
              "      <td>1</td>\n",
              "      <td>7.0</td>\n",
              "      <td>0.0</td>\n",
              "      <td>1.0</td>\n",
              "      <td>1.0</td>\n",
              "      <td>1.0</td>\n",
              "      <td>1.0</td>\n",
              "      <td>1.0</td>\n",
              "      <td>2019</td>\n",
              "      <td>4</td>\n",
              "    </tr>\n",
              "    <tr>\n",
              "      <th>452036</th>\n",
              "      <td>7.0</td>\n",
              "      <td>0</td>\n",
              "      <td>7.0</td>\n",
              "      <td>0.0</td>\n",
              "      <td>1.0</td>\n",
              "      <td>1.0</td>\n",
              "      <td>1.0</td>\n",
              "      <td>1.0</td>\n",
              "      <td>1.0</td>\n",
              "      <td>2019</td>\n",
              "      <td>4</td>\n",
              "    </tr>\n",
              "    <tr>\n",
              "      <th>452037</th>\n",
              "      <td>7.0</td>\n",
              "      <td>1</td>\n",
              "      <td>1.0</td>\n",
              "      <td>0.0</td>\n",
              "      <td>1.0</td>\n",
              "      <td>2.0</td>\n",
              "      <td>2.0</td>\n",
              "      <td>1.0</td>\n",
              "      <td>2.0</td>\n",
              "      <td>2019</td>\n",
              "      <td>4</td>\n",
              "    </tr>\n",
              "  </tbody>\n",
              "</table>\n",
              "<p>452038 rows × 11 columns</p>\n",
              "</div>"
            ],
            "text/plain": [
              "        Category  성별구분  연령대  기혼스코어  ...  대학생자녀스코어  전업주부스코어  Year  Month\n",
              "0            7.0     0  5.0    0.0  ...       1.0      1.0  2020      5\n",
              "1            6.0     0  1.0    0.0  ...       1.0      1.0  2020      5\n",
              "2            3.0     1  3.0    2.0  ...       1.0      2.0  2020      5\n",
              "3            2.0     0  3.0    2.0  ...       1.0      1.0  2020      5\n",
              "4            3.0     0  6.0    0.0  ...       2.0      1.0  2020      5\n",
              "...          ...   ...  ...    ...  ...       ...      ...   ...    ...\n",
              "452033       4.0     0  4.0    1.0  ...       1.0      1.0  2019      4\n",
              "452034       7.0     0  7.0    0.0  ...       1.0      1.0  2019      4\n",
              "452035       7.0     1  7.0    0.0  ...       1.0      1.0  2019      4\n",
              "452036       7.0     0  7.0    0.0  ...       1.0      1.0  2019      4\n",
              "452037       7.0     1  1.0    0.0  ...       1.0      2.0  2019      4\n",
              "\n",
              "[452038 rows x 11 columns]"
            ]
          },
          "metadata": {
            "tags": []
          },
          "execution_count": 24
        }
      ]
    },
    {
      "cell_type": "code",
      "metadata": {
        "id": "V8YnERVZc1FH",
        "colab_type": "code",
        "colab": {
          "base_uri": "https://localhost:8080/",
          "height": 419
        },
        "outputId": "d2e7caac-4e60-4e32-b547-39660ad0072c"
      },
      "source": [
        "data2"
      ],
      "execution_count": null,
      "outputs": [
        {
          "output_type": "execute_result",
          "data": {
            "text/html": [
              "<div>\n",
              "<style scoped>\n",
              "    .dataframe tbody tr th:only-of-type {\n",
              "        vertical-align: middle;\n",
              "    }\n",
              "\n",
              "    .dataframe tbody tr th {\n",
              "        vertical-align: top;\n",
              "    }\n",
              "\n",
              "    .dataframe thead th {\n",
              "        text-align: right;\n",
              "    }\n",
              "</style>\n",
              "<table border=\"1\" class=\"dataframe\">\n",
              "  <thead>\n",
              "    <tr style=\"text-align: right;\">\n",
              "      <th></th>\n",
              "      <th>Category</th>\n",
              "      <th>성별구분</th>\n",
              "      <th>연령대</th>\n",
              "      <th>기혼스코어</th>\n",
              "      <th>유아자녀스코어</th>\n",
              "      <th>초등학생자녀스코어</th>\n",
              "      <th>중고생자녀스코어</th>\n",
              "      <th>대학생자녀스코어</th>\n",
              "      <th>전업주부스코어</th>\n",
              "      <th>Year</th>\n",
              "      <th>Month</th>\n",
              "    </tr>\n",
              "  </thead>\n",
              "  <tbody>\n",
              "    <tr>\n",
              "      <th>0</th>\n",
              "      <td>7.0</td>\n",
              "      <td>0</td>\n",
              "      <td>5.0</td>\n",
              "      <td>0.0</td>\n",
              "      <td>1.0</td>\n",
              "      <td>0.0</td>\n",
              "      <td>2.0</td>\n",
              "      <td>1.0</td>\n",
              "      <td>1.0</td>\n",
              "      <td>2020</td>\n",
              "      <td>5</td>\n",
              "    </tr>\n",
              "    <tr>\n",
              "      <th>1</th>\n",
              "      <td>6.0</td>\n",
              "      <td>0</td>\n",
              "      <td>1.0</td>\n",
              "      <td>0.0</td>\n",
              "      <td>1.0</td>\n",
              "      <td>2.0</td>\n",
              "      <td>2.0</td>\n",
              "      <td>1.0</td>\n",
              "      <td>1.0</td>\n",
              "      <td>2020</td>\n",
              "      <td>5</td>\n",
              "    </tr>\n",
              "    <tr>\n",
              "      <th>2</th>\n",
              "      <td>3.0</td>\n",
              "      <td>1</td>\n",
              "      <td>3.0</td>\n",
              "      <td>2.0</td>\n",
              "      <td>2.0</td>\n",
              "      <td>2.0</td>\n",
              "      <td>2.0</td>\n",
              "      <td>1.0</td>\n",
              "      <td>2.0</td>\n",
              "      <td>2020</td>\n",
              "      <td>5</td>\n",
              "    </tr>\n",
              "    <tr>\n",
              "      <th>3</th>\n",
              "      <td>2.0</td>\n",
              "      <td>0</td>\n",
              "      <td>3.0</td>\n",
              "      <td>2.0</td>\n",
              "      <td>2.0</td>\n",
              "      <td>2.0</td>\n",
              "      <td>2.0</td>\n",
              "      <td>1.0</td>\n",
              "      <td>1.0</td>\n",
              "      <td>2020</td>\n",
              "      <td>5</td>\n",
              "    </tr>\n",
              "    <tr>\n",
              "      <th>4</th>\n",
              "      <td>3.0</td>\n",
              "      <td>0</td>\n",
              "      <td>6.0</td>\n",
              "      <td>0.0</td>\n",
              "      <td>1.0</td>\n",
              "      <td>2.0</td>\n",
              "      <td>2.0</td>\n",
              "      <td>2.0</td>\n",
              "      <td>1.0</td>\n",
              "      <td>2020</td>\n",
              "      <td>5</td>\n",
              "    </tr>\n",
              "    <tr>\n",
              "      <th>...</th>\n",
              "      <td>...</td>\n",
              "      <td>...</td>\n",
              "      <td>...</td>\n",
              "      <td>...</td>\n",
              "      <td>...</td>\n",
              "      <td>...</td>\n",
              "      <td>...</td>\n",
              "      <td>...</td>\n",
              "      <td>...</td>\n",
              "      <td>...</td>\n",
              "      <td>...</td>\n",
              "    </tr>\n",
              "    <tr>\n",
              "      <th>452033</th>\n",
              "      <td>4.0</td>\n",
              "      <td>0</td>\n",
              "      <td>4.0</td>\n",
              "      <td>1.0</td>\n",
              "      <td>2.0</td>\n",
              "      <td>1.0</td>\n",
              "      <td>1.0</td>\n",
              "      <td>1.0</td>\n",
              "      <td>1.0</td>\n",
              "      <td>2019</td>\n",
              "      <td>4</td>\n",
              "    </tr>\n",
              "    <tr>\n",
              "      <th>452034</th>\n",
              "      <td>7.0</td>\n",
              "      <td>0</td>\n",
              "      <td>7.0</td>\n",
              "      <td>0.0</td>\n",
              "      <td>1.0</td>\n",
              "      <td>1.0</td>\n",
              "      <td>1.0</td>\n",
              "      <td>1.0</td>\n",
              "      <td>1.0</td>\n",
              "      <td>2019</td>\n",
              "      <td>4</td>\n",
              "    </tr>\n",
              "    <tr>\n",
              "      <th>452035</th>\n",
              "      <td>7.0</td>\n",
              "      <td>1</td>\n",
              "      <td>7.0</td>\n",
              "      <td>0.0</td>\n",
              "      <td>1.0</td>\n",
              "      <td>1.0</td>\n",
              "      <td>1.0</td>\n",
              "      <td>1.0</td>\n",
              "      <td>1.0</td>\n",
              "      <td>2019</td>\n",
              "      <td>4</td>\n",
              "    </tr>\n",
              "    <tr>\n",
              "      <th>452036</th>\n",
              "      <td>7.0</td>\n",
              "      <td>0</td>\n",
              "      <td>7.0</td>\n",
              "      <td>0.0</td>\n",
              "      <td>1.0</td>\n",
              "      <td>1.0</td>\n",
              "      <td>1.0</td>\n",
              "      <td>1.0</td>\n",
              "      <td>1.0</td>\n",
              "      <td>2019</td>\n",
              "      <td>4</td>\n",
              "    </tr>\n",
              "    <tr>\n",
              "      <th>452037</th>\n",
              "      <td>7.0</td>\n",
              "      <td>1</td>\n",
              "      <td>1.0</td>\n",
              "      <td>0.0</td>\n",
              "      <td>1.0</td>\n",
              "      <td>2.0</td>\n",
              "      <td>2.0</td>\n",
              "      <td>1.0</td>\n",
              "      <td>2.0</td>\n",
              "      <td>2019</td>\n",
              "      <td>4</td>\n",
              "    </tr>\n",
              "  </tbody>\n",
              "</table>\n",
              "<p>452038 rows × 11 columns</p>\n",
              "</div>"
            ],
            "text/plain": [
              "        Category  성별구분  연령대  기혼스코어  ...  대학생자녀스코어  전업주부스코어  Year  Month\n",
              "0            7.0     0  5.0    0.0  ...       1.0      1.0  2020      5\n",
              "1            6.0     0  1.0    0.0  ...       1.0      1.0  2020      5\n",
              "2            3.0     1  3.0    2.0  ...       1.0      2.0  2020      5\n",
              "3            2.0     0  3.0    2.0  ...       1.0      1.0  2020      5\n",
              "4            3.0     0  6.0    0.0  ...       2.0      1.0  2020      5\n",
              "...          ...   ...  ...    ...  ...       ...      ...   ...    ...\n",
              "452033       4.0     0  4.0    1.0  ...       1.0      1.0  2019      4\n",
              "452034       7.0     0  7.0    0.0  ...       1.0      1.0  2019      4\n",
              "452035       7.0     1  7.0    0.0  ...       1.0      1.0  2019      4\n",
              "452036       7.0     0  7.0    0.0  ...       1.0      1.0  2019      4\n",
              "452037       7.0     1  1.0    0.0  ...       1.0      2.0  2019      4\n",
              "\n",
              "[452038 rows x 11 columns]"
            ]
          },
          "metadata": {
            "tags": []
          },
          "execution_count": 25
        }
      ]
    },
    {
      "cell_type": "code",
      "metadata": {
        "id": "_BuGuF69QP55",
        "colab_type": "code",
        "colab": {}
      },
      "source": [
        "import os\n",
        "PROJECT_ROOT_DIR = \".\"\n",
        "CHAPTER_ID = \"training_linear_models\"\n",
        "IMAGES_PATH = os.path.join(PROJECT_ROOT_DIR, \"images\", CHAPTER_ID)\n",
        "os.makedirs(IMAGES_PATH, exist_ok=True)\n",
        "\n",
        "def save_fig(fig_id, tight_layout=True, fig_extension=\"png\", resolution=300):\n",
        "    path = os.path.join(IMAGES_PATH, fig_id + \".\" + fig_extension)\n",
        "    print(\"그림 저장:\", fig_id)\n",
        "    if tight_layout:\n",
        "        plt.tight_layout()\n",
        "    plt.savefig(path, format=fig_extension, dpi=resolution)"
      ],
      "execution_count": null,
      "outputs": []
    },
    {
      "cell_type": "markdown",
      "metadata": {
        "id": "9lux6EeKT2rB",
        "colab_type": "text"
      },
      "source": [
        ""
      ]
    },
    {
      "cell_type": "code",
      "metadata": {
        "id": "6Z8xrEiPhmPb",
        "colab_type": "code",
        "colab": {
          "base_uri": "https://localhost:8080/",
          "height": 1000
        },
        "outputId": "18263858-55af-4162-dea1-95ce94c200e3"
      },
      "source": [
        "import seaborn as sns\n",
        "a = data2[data2['Year'] == 2020]\n",
        "b = data2[data2['Year'] == 2019]\n",
        "c = a[a['Month'] == 4]\n",
        "d = a[a['Month'] == 5]\n",
        "e = b[b['Month'] == 4]\n",
        "f = b[b['Month'] == 5]\n",
        "attributes = ['성별구분', 'Category', '기혼스코어', '유아자녀스코어', '초등학생자녀스코어', '중고생자녀스코어',\n",
        "       '대학생자녀스코어', '전업주부스코어']\n",
        "\n",
        "print(e[e['Category'] == 0.0]['초등학생자녀스코어'].value_counts())\n",
        "# 4.0    전문몰\n",
        "# 0.0    디저트\n",
        "# 7.0    할인점\n",
        "# 3.0    오픈마켓\n",
        "# 2.0    뷰티\n",
        "# 6.0    취미\n",
        "# 5.0    종합몰\n",
        "# 9.0    호텔/숙박\n",
        "# 8.0    항공/여행사\n",
        "# 1.0    면세점\n",
        "# ------------------------------------------\n",
        "# 3.0   D\n",
        "# 0.0   A\n",
        "# 5.0   F\n",
        "# 2.0   C\n",
        "# 4.0   E \n",
        "# 6.0   G\n",
        "# 7.0   H \n",
        "# 1.0   B\n",
        "# fig = plt.figure(figsize=[25,25])\n",
        "# for i in range(0, 8):\n",
        "#     plt.subplot(2, 4, i + 1)\n",
        "#     ax1 = sns.countplot(x = 'Category' ,data=c[c['연령대'] == i ])\n",
        "# fig = plt.figure(figsize=[25,25])\n",
        "# for i in range(0, 8):\n",
        "#     plt.subplot(2, 4, i + 1)\n",
        "#     ax1 = sns.countplot(x = attributes[i] ,data=c[c['연령대'] == 7.0 ])\n",
        "# save_fig('2020년 4월 연령대 H')\n",
        "# plt.show()\n",
        "fig = plt.figure(figsize=[25,25])\n",
        "for i in range(0, 8):\n",
        "    plt.subplot(2, 4, i + 1)\n",
        "    ax1 = sns.countplot(x =attributes[i] ,data=d[d['연령대'] == 4.0 ])\n",
        "save_fig('2020년 5월 연령대 E')\n",
        "# plt.show()\n",
        "# fig = plt.figure(figsize=[25,25])\n",
        "# for i in range(0,8):\n",
        "#     plt.subplot(2, 4, i + 1)\n",
        "#     ax1 = sns.countplot(x =attributes[i] ,data=e[e['연령대'] == 7.0 ])\n",
        "# save_fig('2019년 4월 연령대 H') \n",
        "# plt.show()\n",
        "# fig = plt.figure(figsize=[25,25])\n",
        "# for i in range(0,8):\n",
        "#     plt.subplot(2, 4, i + 1)\n",
        "#     ax1 = sns.countplot(x =attributes[i] ,data=f[f['연령대'] == 7.0 ])\n",
        "# save_fig('2019년 5월 연령대 H')\n",
        "# plt.show()\n"
      ],
      "execution_count": null,
      "outputs": [
        {
          "output_type": "stream",
          "text": [
            "0.0    11635\n",
            "1.0     5709\n",
            "2.0     5574\n",
            "Name: 초등학생자녀스코어, dtype: int64\n",
            "그림 저장: 2020년 5월 연령대 E\n"
          ],
          "name": "stdout"
        },
        {
          "output_type": "display_data",
          "data": {
            "image/png": "[encoded data removed]",
            "text/plain": [
              "<Figure size 1800x1800 with 8 Axes>"
            ]
          },
          "metadata": {
            "tags": [],
            "needs_background": "light"
          }
        }
      ]
    },
    {
      "cell_type": "code",
      "metadata": {
        "id": "r76l7qYvf1yJ",
        "colab_type": "code",
        "colab": {
          "base_uri": "https://localhost:8080/",
          "height": 582
        },
        "outputId": "8cb725a4-8fc1-4879-eba7-19549087c647"
      },
      "source": [
        "from pandas.plotting import scatter_matrix\n",
        "\n",
        "attribute = [\"Category\",\"연령대\"]\n",
        "scatter_matrix(a[attribute], figsize=(12,8))"
      ],
      "execution_count": null,
      "outputs": [
        {
          "output_type": "execute_result",
          "data": {
            "text/plain": [
              "array([[<matplotlib.axes._subplots.AxesSubplot object at 0x7f379c2fd7b8>,\n",
              "        <matplotlib.axes._subplots.AxesSubplot object at 0x7f379c201b00>],\n",
              "       [<matplotlib.axes._subplots.AxesSubplot object at 0x7f379c231d68>,\n",
              "        <matplotlib.axes._subplots.AxesSubplot object at 0x7f379c1e7fd0>]],\n",
              "      dtype=object)"
            ]
          },
          "metadata": {
            "tags": []
          },
          "execution_count": 28
        },
        {
          "output_type": "display_data",
          "data": {
            "image/png": "[encoded data removed]",
            "text/plain": [
              "<Figure size 864x576 with 4 Axes>"
            ]
          },
          "metadata": {
            "tags": [],
            "needs_background": "light"
          }
        }
      ]
    },
    {
      "cell_type": "code",
      "metadata": {
        "id": "jLugF2W5Br3W",
        "colab_type": "code",
        "colab": {}
      },
      "source": [
        "from google.colab import drive\n",
        "drive.mount('/content/drive')"
      ],
      "execution_count": null,
      "outputs": []
    }
  ]
}